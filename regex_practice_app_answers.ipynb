{
 "cells": [
  {
   "attachments": {},
   "cell_type": "markdown",
   "metadata": {},
   "source": [
    "9: Match 'to' or 'an' anywhere in the given string"
   ]
  },
  {
   "cell_type": "code",
   "execution_count": 1,
   "metadata": {},
   "outputs": [],
   "source": [
    "import re\n",
    "import regex"
   ]
  },
  {
   "cell_type": "code",
   "execution_count": 2,
   "metadata": {},
   "outputs": [
    {
     "name": "stdout",
     "output_type": "stream",
     "text": [
      "['to']\n",
      "['to']\n",
      "['an', 'to']\n",
      "['an']\n"
     ]
    }
   ],
   "source": [
    "pattern = re.compile('(to|an)')\n",
    "texts   = ['collaborator', 'tool', 'transistor', 'androids']\n",
    "for text in texts:\n",
    "\tprint(pattern.findall(text))"
   ]
  },
  {
   "attachments": {},
   "cell_type": "markdown",
   "metadata": {},
   "source": [
    "10: Match Strings that start with Den or end With Ly"
   ]
  },
  {
   "cell_type": "code",
   "execution_count": 28,
   "metadata": {},
   "outputs": [
    {
     "name": "stdout",
     "output_type": "stream",
     "text": [
      "['ly']\n",
      "['ly']\n",
      "['den']\n",
      "['ly']\n",
      "[]\n"
     ]
    }
   ],
   "source": [
    "pattern = re.compile('(^den|ly$)')\n",
    "texts = ['lovely', '2 lonely', 'dent', 'fly', 'eden']\n",
    "for text in texts:\n",
    "\tprint(pattern.findall(text))"
   ]
  },
  {
   "cell_type": "markdown",
   "metadata": {},
   "source": [
    "Q11: Match (9-2) * 5 anywhere in the given input stirngs"
   ]
  },
  {
   "cell_type": "code",
   "execution_count": 29,
   "metadata": {},
   "outputs": [
    {
     "name": "stdout",
     "output_type": "stream",
     "text": [
      "['(9-2)*5']\n",
      "['(9-2)*5']\n",
      "['(9-2)*5']\n",
      "[]\n"
     ]
    }
   ],
   "source": [
    "pattern = re.compile(r'\\(9-2\\)\\*5')\n",
    "texts = ['(9-2)*5+qty/3', \n",
    "'(qty+4)/2-(9-2)*5+pq/4',\n",
    "'3*(9-2)*55', '9-25']\n",
    "for text in texts:\n",
    "\tprint(pattern.findall(text))"
   ]
  },
  {
   "attachments": {},
   "cell_type": "markdown",
   "metadata": {},
   "source": [
    "Q12: Match (4)\\| only at the start or end of a given input strings (not finished)"
   ]
  },
  {
   "cell_type": "code",
   "execution_count": 30,
   "metadata": {},
   "outputs": [
    {
     "name": "stdout",
     "output_type": "stream",
     "text": [
      "['', '', '', '(4)\\\\', '', '']\n",
      "['', '', '', '', '', '', '', '', '', '', '(4)\\\\', '', '']\n",
      "['(4)\\\\', '', '', '', '', '', '', '', '(4)\\\\', '', '', '']\n",
      "['(4)\\\\', '', '', '', '', '', '', '', '', '', '', '', '', '', '']\n",
      "['', '', '', '', '', '', '', '(4)\\\\', '', '', '', '', '', '']\n",
      "['', '', '', '(4)\\\\', '', '', '']\n"
     ]
    }
   ],
   "source": [
    "# pattern = re.compile('\\(4\\)\\\\\\|')\n",
    "# pattern = re.compile('(^\\(4\\)\\\\\\|\\(4\\)\\\\\\|$)')\n",
    "pattern = re.compile('(^\\(4\\)\\\\\\||\\(4\\)\\\\\\|$)')\n",
    "texts   = ['2+(4)\\|', 'good\\n5,3-(4)\\|', '(4)\\|42 - (4)\\|3',\n",
    " '(4)\\| - 3\\nnot bad', 'one - (4)\\|\\ntwo', '2+(4)\\|a']\n",
    "for text in texts:\n",
    "\tprint(pattern.findall(text))"
   ]
  },
  {
   "cell_type": "markdown",
   "metadata": {},
   "source": [
    "Q13: Construct a minimal pattern that satisifes the given sample strings"
   ]
  },
  {
   "cell_type": "code",
   "execution_count": 31,
   "metadata": {},
   "outputs": [
    {
     "name": "stdout",
     "output_type": "stream",
     "text": [
      "[('so ', '')]\n",
      "[('the ', '')]\n",
      "[('', '2+gh*t-10')]\n",
      "[]\n",
      "[]\n",
      "[]\n"
     ]
    }
   ],
   "source": [
    "pattern = re.compile('(\\w+\\s)+|(.+10$)')\n",
    "texts = ['that\\'s so good', 'hit the mark', '2+gh*t-10', 'it', 'he', '2+gt-h1']\n",
    "for text in texts:\n",
    "\tprint(pattern.findall(text))"
   ]
  },
  {
   "cell_type": "markdown",
   "metadata": {},
   "source": [
    "14: For the given single line strings, remove everything from the first occurance to the end of the string"
   ]
  },
  {
   "cell_type": "code",
   "execution_count": 32,
   "metadata": {},
   "outputs": [
    {
     "name": "stdout",
     "output_type": "stream",
     "text": [
      "remove the spec\n",
      "characters wh\n",
      " \n"
     ]
    }
   ],
   "source": [
    "pattern = re.compile(r'i.*')\n",
    "texts = ['remove the special meaning of such', 'characters while constructing', ' input output']\n",
    "for text in texts:\n",
    "\tprint(re.sub(pattern, r'', text))\n",
    "\n"
   ]
  },
  {
   "attachments": {},
   "cell_type": "markdown",
   "metadata": {},
   "source": [
    "15: For the given single line strings, replace everything form first occurance 'test' (irrespective of case) till end of hte string with 'X', proivded test isn't at the end of your string"
   ]
  },
  {
   "cell_type": "code",
   "execution_count": 33,
   "metadata": {},
   "outputs": [
    {
     "name": "stdout",
     "output_type": "stream",
     "text": [
      "this is a Test\n",
      "always X\n",
      "a X\n"
     ]
    }
   ],
   "source": [
    "pattern = re.compile('test.+$', flags = re.IGNORECASE)\n",
    "texts = ['this is a Test', 'always test your RE for corner cases ','a TEST of skill tests?']\n",
    "for text in texts:\n",
    "\tprint(re.sub(pattern, 'X', text))"
   ]
  },
  {
   "attachments": {},
   "cell_type": "markdown",
   "metadata": {},
   "source": [
    "Q16: Split the given input strings to get the corresponding output as shown below"
   ]
  },
  {
   "cell_type": "code",
   "execution_count": 34,
   "metadata": {},
   "outputs": [
    {
     "name": "stdout",
     "output_type": "stream",
     "text": [
      "a+4-c\n",
      "['a+4', '-c']\n",
      "pressure*3+4-14256\n",
      "['pressure*3+4', '-14256']\n",
      "r*42-5/3+42///5-43+a\n",
      "['r*42-5/3+42///5-4', '3+a']\n"
     ]
    }
   ],
   "source": [
    "pattern = re.compile('2/{1,2}5')\n",
    "# pattern = re.compile('2/')\n",
    "texts   = ['a+42//5-c', 'pressure*3+42/5-14256', 'r*42-5/3+42///5-42/53+a']\n",
    "for text in texts:\n",
    "\tprint(re.sub(pattern, '', text))\n",
    "\tprint(re.split(pattern, text))\n"
   ]
  },
  {
   "cell_type": "markdown",
   "metadata": {},
   "source": [
    "Q17: Match removed or reed or received or refused"
   ]
  },
  {
   "cell_type": "code",
   "execution_count": 35,
   "metadata": {},
   "outputs": [
    {
     "name": "stdout",
     "output_type": "stream",
     "text": [
      "['reed']\n",
      "['removed']\n",
      "['received']\n",
      "['refused']\n",
      "['reed']\n",
      "['refused']\n",
      "[]\n",
      "[]\n",
      "[]\n"
     ]
    }
   ],
   "source": [
    "pattern = re.compile('(removed|reed|received|refused)')\n",
    "texts = ['creed', 'removed', 'received', \n",
    "'refused', 'reedy', 'they refused', 'redo', 'apple', 'roceived']\n",
    "for text in texts:\n",
    "\tprint(pattern.findall(text))"
   ]
  },
  {
   "cell_type": "markdown",
   "metadata": {},
   "source": [
    "Q18: match whole words 'late' or 'later' or 'slated'"
   ]
  },
  {
   "cell_type": "code",
   "execution_count": 36,
   "metadata": {},
   "outputs": [
    {
     "name": "stdout",
     "output_type": "stream",
     "text": [
      "['late']\n",
      "['later']\n",
      "['slated']\n",
      "['late']\n",
      "['later']\n",
      "['slated']\n",
      "[]\n",
      "[]\n",
      "[]\n",
      "[]\n"
     ]
    }
   ],
   "source": [
    "pattern = re.compile(r'(\\blate\\b|\\blater\\b|\\bslated\\b)')\n",
    "texts   = ['don\\'t be late', 'see you later today', \n",
    "'slated for tomorrow', '\\%late.', 'plate (later)', 'slated', 'slate', 'liter', 'latent', 'equilateral']\n",
    "for text in texts:\n",
    "\tprint(pattern.findall(text))"
   ]
  },
  {
   "cell_type": "markdown",
   "metadata": {},
   "source": [
    "Question 19: match strings starting with 'hand' and followed immeidately by at most one more character or 'le'"
   ]
  },
  {
   "cell_type": "code",
   "execution_count": 37,
   "metadata": {},
   "outputs": [
    {
     "name": "stdout",
     "output_type": "stream",
     "text": [
      "['hand']\n",
      "['handy']\n",
      "['hands']\n",
      "['handle']\n",
      "[]\n",
      "[]\n",
      "[]\n",
      "[]\n"
     ]
    }
   ],
   "source": [
    "pattern = re.compile('^hand(?:\\w{,1}|le)$')\n",
    "texts = ['hand', 'handy', 'hands', 'handle', 'unhand', 'handled', 'handed', 'no hands']\n",
    "for text in texts:\n",
    "\tprint(pattern.findall(text))"
   ]
  },
  {
   "cell_type": "markdown",
   "metadata": {},
   "source": [
    "Question 20: Match Strings starting with 's' and containing 'e' and 't' in any order"
   ]
  },
  {
   "cell_type": "code",
   "execution_count": 38,
   "metadata": {},
   "outputs": [
    {
     "name": "stdout",
     "output_type": "stream",
     "text": [
      "['s']\n",
      "['s']\n",
      "['s']\n",
      "['s']\n",
      "[]\n",
      "[]\n",
      "[]\n"
     ]
    }
   ],
   "source": [
    "# pattern = re.compile('^s.*(e.*t|t.*e)')\n",
    "pattern = re.compile('^s(?=.*e)(?=.*t)')\n",
    "texts   = ['subtle', 'sets', 'site', 'so this matches', 'sequoia', 'exhibits', 'stop']\n",
    "for text in texts:\n",
    "\tprint(pattern.findall(text))"
   ]
  },
  {
   "cell_type": "markdown",
   "metadata": {},
   "source": [
    "Question 21: Match strings conataining at least 6 characters"
   ]
  },
  {
   "cell_type": "code",
   "execution_count": 39,
   "metadata": {},
   "outputs": [
    {
     "name": "stdout",
     "output_type": "stream",
     "text": [
      "['sequoia']\n",
      "['subtle']\n",
      "['exhibit']\n",
      "['matches']\n",
      "[]\n",
      "[]\n",
      "[]\n",
      "[]\n",
      "[]\n",
      "[]\n"
     ]
    }
   ],
   "source": [
    "# pattern = re.compile('.{6}', re.DOTALL)\n",
    "pattern = re.compile('\\w{6,}(?=[\\S\\s]*)')\n",
    "texts = ['sequoia', 'subtle', 'exhibit', 'so this matches', '12\\n345', 'tests', 'set', 'site', 'on', 'do to']\n",
    "\n",
    "for text in texts:\n",
    "\tprint(pattern.findall(text))"
   ]
  },
  {
   "attachments": {},
   "cell_type": "markdown",
   "metadata": {},
   "source": [
    "Question 22: Remove the first occurence of 'hat' to last occurence of 'it' for the give strings. Match these markers case insenssitively. (NOT FINISHED)"
   ]
  },
  {
   "cell_type": "code",
   "execution_count": 40,
   "metadata": {},
   "outputs": [
    {
     "name": "stdout",
     "output_type": "stream",
     "text": [
      "But Cool Te \n",
      "\n",
      "it this  \n",
      "\n"
     ]
    }
   ],
   "source": [
    "# pattern = re.compile('(.hat.(?!it))', flags = re.IGNORECASE)\n",
    "pattern = re.compile(r'hat.*it', flags = re.IGNORECASE| re.S)\n",
    "repl    = r''\n",
    "texts = ['But Cool THAT\\nsee What ok\\nwow quite', 'it this hat is sliced HIT']\n",
    "for text in texts:\n",
    "\tprint(re.sub(pattern, repl, text), '\\n')\n",
    "\t"
   ]
  },
  {
   "attachments": {},
   "cell_type": "markdown",
   "metadata": {},
   "source": [
    "Question 23: Delete from 'start' if it is at the beginning of a line up to the next occurance of 'end'  if it is at the end of a line. Match these markers case insensitively."
   ]
  },
  {
   "cell_type": "code",
   "execution_count": 41,
   "metadata": {},
   "outputs": [
    {
     "name": "stdout",
     "output_type": "stream",
     "text": [
      "good start \n",
      "\n",
      "hi there \n",
      "\n",
      "42\n",
      "\n",
      "bye\n"
     ]
    }
   ],
   "source": [
    "# pattern = re.compile(r'(?ims)^start.*?end$') # ims is different way of inputting flags in raw string\n",
    "pattern = re.compile(r'^start.*?end$', flags = re.IGNORECASE| re.S|re.M)\n",
    "repl = ''\n",
    "texts = ['good start \\nstart working on that\\nproject you always wanted\\nto, do not let it end', 'hi there \\nstart and end the end\\n42', 'start and try to finish the end\\nbye' ]\n",
    "for text in texts:\n",
    "\tprint(re.sub(pattern, repl, text))\n",
    "\t# print(pattern.findall(text))"
   ]
  },
  {
   "attachments": {},
   "cell_type": "markdown",
   "metadata": {},
   "source": [
    "Q24: Construct a pattern that splits the given input strings to get the Output as below.\n"
   ]
  },
  {
   "cell_type": "code",
   "execution_count": 42,
   "metadata": {},
   "outputs": [
    {
     "name": "stdout",
     "output_type": "stream",
     "text": [
      "['go there', '\"this', 'that\"']\n",
      "['a//b', 'c//d e//f', '4//5']\n",
      "['42// hi//bye//see', 'carefully']\n"
     ]
    }
   ],
   "source": [
    "pattern = re.compile('\\s//\\s')\n",
    "texts = ['go there // \\\"this // that\\\"', 'a//b // c//d e//f // 4//5', '42// hi//bye//see // carefully']\n",
    "for text in texts:\n",
    "\t# print(pattern.findall(text))\n",
    "\tprint(re.split(pattern, text))"
   ]
  },
  {
   "cell_type": "markdown",
   "metadata": {},
   "source": [
    "Q25: Extract all occurences of '<' up to the next occurence of '>', provided their is one character in between '<' and '>'"
   ]
  },
  {
   "cell_type": "code",
   "execution_count": 43,
   "metadata": {},
   "outputs": [
    {
     "name": "stdout",
     "output_type": "stream",
     "text": [
      "['<ap\\nple>', '<> b<bye>']\n"
     ]
    }
   ],
   "source": [
    "pattern = re.compile('(<.+?>)', flags = re.S)\n",
    "texts = ['a<ap\\nple>\\nl<> b<bye> 2<>']\n",
    "for text in texts:\n",
    "\tprint(pattern.findall(text))\n",
    "\t"
   ]
  },
  {
   "cell_type": "markdown",
   "metadata": {},
   "source": [
    "Q26: Match all strings containing 'e' or 'i followed by 'l' or 'n'"
   ]
  },
  {
   "cell_type": "code",
   "execution_count": 44,
   "metadata": {},
   "outputs": [
    {
     "name": "stdout",
     "output_type": "stream",
     "text": [
      "[('e', 'e', 'n')]\n",
      "[('icor', 'i', 'n')]\n",
      "[('ee', 'e', 'l')]\n",
      "[('i', 'i', 'l')]\n",
      "[('is is \\ncoo', 'i', 'l')]\n",
      "[]\n",
      "[]\n",
      "[]\n",
      "[]\n",
      "[]\n"
     ]
    }
   ],
   "source": [
    "pattern = re.compile('((e|i).*(?=(l|n)))', flags = re.S)\n",
    "texts = ['don\\'t surrender', 'unicorn', 'eel', 'silk', 'this is \\ncool',\n",
    "'this is\\nbad', 'door', 'empty', 'list', 'never give up']\n",
    "for text in texts:\n",
    "\tprint(pattern.findall(text))"
   ]
  },
  {
   "cell_type": "markdown",
   "metadata": {},
   "source": [
    "Q28: Change whole words starting with 'hand' and ending 's' or 'y' or 'le' to X"
   ]
  },
  {
   "cell_type": "code",
   "execution_count": 45,
   "metadata": {},
   "outputs": [
    {
     "name": "stdout",
     "output_type": "stream",
     "text": [
      "handsy hand (X)\n",
      "unhand X X\n",
      "handa hand2 handled\n"
     ]
    }
   ],
   "source": [
    "pattern = re.compile('\\\\bhand([sy]|le)\\\\b')\n",
    "texts   = ['handsy hand (handy)', 'unhand hands handle', 'handa hand2 handled']\n",
    "for text in texts:\n",
    "\tprint(re.sub(pattern, 'X', text))\n",
    "\t# print(pattern.findall(text))"
   ]
  },
  {
   "attachments": {},
   "cell_type": "markdown",
   "metadata": {},
   "source": [
    "Q29: Delete from '(' to the next occurence of ')' unless they contain parentheses characters in between... Not Done"
   ]
  },
  {
   "cell_type": "code",
   "execution_count": 46,
   "metadata": {},
   "outputs": [
    {
     "name": "stdout",
     "output_type": "stream",
     "text": [
      "def factorial()\n",
      "c%d\n",
      "Hi there\n"
     ]
    }
   ],
   "source": [
    "undesired = '(\\(.+\\))'\n",
    "pattern   = re.compile('\\('+ undesired + '\\)')\n",
    "texts     = ['def factorial()', 'c%d(#modulo) - (e+(j/k - 3)*4(x)', 'Hi there(bye). Nice day(a(b)']\n",
    "for text in texts:\n",
    "\tprint(re.sub(undesired, '', text))\n",
    "\t# print(undesired.findall(text))\n",
    "\t# print(pattern.findall(text))"
   ]
  },
  {
   "cell_type": "markdown",
   "metadata": {},
   "source": [
    "Q30: Match strings not starting with 'e' or 'p' or 'u'"
   ]
  },
  {
   "cell_type": "code",
   "execution_count": 47,
   "metadata": {},
   "outputs": [
    {
     "name": "stdout",
     "output_type": "stream",
     "text": [
      "[]\n",
      "[]\n",
      "[]\n",
      "['P']\n",
      "['e']\n",
      "['p']\n",
      "['u']\n"
     ]
    }
   ],
   "source": [
    "pattern = re.compile('^(e|u|p)', re.IGNORECASE)\n",
    "texts = ['surrender unicorn new _b', 'door empty 2good eel', '_end', 'Pest',\n",
    "'early', 'present', 'unit: m']\n",
    "for text in texts:\n",
    "\tprint(pattern.findall(text))"
   ]
  },
  {
   "cell_type": "markdown",
   "metadata": {},
   "source": [
    "Q31: Match strings containing 'u' or 'w' or 'ee' or '-'"
   ]
  },
  {
   "cell_type": "code",
   "execution_count": 48,
   "metadata": {},
   "outputs": [
    {
     "name": "stdout",
     "output_type": "stream",
     "text": [
      "['-']\n",
      "['u']\n",
      "['ee']\n",
      "['w']\n",
      "[]\n",
      "[]\n",
      "[]\n"
     ]
    }
   ],
   "source": [
    "pattern = re.compile('(u|w|ee|-)')\n",
    "texts = ['p-t', 'thank you', 'heel', 'owe', 'tea', 'ear', 'hello there']\n",
    "for text in texts:\n",
    "\tprint(pattern.findall(text))"
   ]
  },
  {
   "cell_type": "code",
   "execution_count": 49,
   "metadata": {},
   "outputs": [
    {
     "name": "stdout",
     "output_type": "stream",
     "text": [
      "['subtle', 'thr33']\n",
      "['sets']\n",
      "['site', 're_do']\n"
     ]
    }
   ],
   "source": [
    "pattern = re.compile(r'(\\b[rst]\\w{,5}\\b)')\n",
    "texts = [r'sequoia subtle-exhibit thr33', r'asset%sets pr', 'site present re_do']\n",
    "for text in texts:\n",
    "\t# print(re.sub(pattern, ',', re))\n",
    "\tprint(pattern.findall(text))"
   ]
  },
  {
   "attachments": {},
   "cell_type": "markdown",
   "metadata": {},
   "source": [
    "Q34: Split the given strings based on consecutive sequences of digit or whitespace characters"
   ]
  },
  {
   "cell_type": "code",
   "execution_count": 50,
   "metadata": {},
   "outputs": [
    {
     "name": "stdout",
     "output_type": "stream",
     "text": [
      "['lion', 'Ink', 'onion', 'Nice']\n",
      "['**', '', '', '', '', 'star', '', '', '', '', '**', 'formfeed']\n"
     ]
    }
   ],
   "source": [
    "pattern = re.compile(r'\\d+|\\s+')\n",
    "texts = ['lion    Ink32onion Nice', '**1    2\\n3star 7 77   **\\nformfeed']\n",
    "for text in texts:\n",
    "\tprint(re.split(pattern, text))"
   ]
  },
  {
   "cell_type": "markdown",
   "metadata": {},
   "source": [
    "Q35: construct a pattern that splits the given input strings to get the output as shown below"
   ]
  },
  {
   "cell_type": "code",
   "execution_count": 51,
   "metadata": {},
   "outputs": [
    {
     "name": "stdout",
     "output_type": "stream",
     "text": [
      "['food:good']\n",
      "['food:good-cool']\n",
      "['food', 'cool;', 'tool']\n",
      "['42', 'op;', '10', 'tr:u-ck;', 'SQ1']\n"
     ]
    }
   ],
   "source": [
    "pattern = re.compile(':[^-]+-(.*?;)')\n",
    "texts = ['food:good', 'food:good-cool', 'food:good-cool;tool', \n",
    "'42:no-op;10:car-tr:u-ck;SQ1']\n",
    "for text in texts:\n",
    "\tprint(re.split(pattern, text))\n",
    "\t# print(pattern.findall(text))"
   ]
  },
  {
   "cell_type": "markdown",
   "metadata": {},
   "source": [
    "Q37: Match Strings whose first non-whitespace character is not a character. An made of only whitespace characters should not be matched. "
   ]
  },
  {
   "cell_type": "code",
   "execution_count": 52,
   "metadata": {},
   "outputs": [
    {
     "name": "stdout",
     "output_type": "stream",
     "text": [
      "['s']\n",
      "['a']\n",
      "['n']\n",
      "[]\n",
      "[]\n",
      "[]\n"
     ]
    }
   ],
   "source": [
    "# Pattern works because regex is greedy so it'll keep going until that condition is not true in the brackets\n",
    "\n",
    "pattern = re.compile(r'\\A\\s*[^#\\s]')\n",
    "texts = ['sure', 'apple #42', 'no#1', '#oops', '  ', \n",
    "'   #comment']\n",
    "for text in texts:\n",
    "\tprint(pattern.findall(text))"
   ]
  },
  {
   "cell_type": "markdown",
   "metadata": {},
   "source": [
    "Q38: Extract all numbers greater than or equal to '100'. Numbers can have leading well"
   ]
  },
  {
   "cell_type": "code",
   "execution_count": 53,
   "metadata": {},
   "outputs": [
    {
     "name": "stdout",
     "output_type": "stream",
     "text": [
      "['0501', '154', '98234']\n",
      "['000100', '4567']\n"
     ]
    }
   ],
   "source": [
    "pattern  = re.compile(r'\\b0*[1-9]\\d{2,}\\b')\n",
    "texts    = ['0501 035 154 12 26 98234', '099 000100 4567']\n",
    "\n",
    "for text in texts:\n",
    "\tprint(pattern.findall(text))"
   ]
  },
  {
   "attachments": {},
   "cell_type": "markdown",
   "metadata": {},
   "source": [
    "Q39: Replace the space character that occurs after a word ending with 'a' or 'r' with a newline character."
   ]
  },
  {
   "cell_type": "code",
   "execution_count": 54,
   "metadata": {},
   "outputs": [
    {
     "name": "stdout",
     "output_type": "stream",
     "text": [
      "area\n",
      "not a\n",
      "_a2_ roar\n",
      "took 22\n"
     ]
    }
   ],
   "source": [
    "pattern = re.compile(r'(?<=[ar])\\b\\s')\n",
    "texts = ['area not a _a2_ roar took 22']\n",
    "for text in texts:\n",
    "\tprint(re.sub(pattern, '\\n', text))"
   ]
  },
  {
   "cell_type": "markdown",
   "metadata": {},
   "source": [
    "Q40: Swap Words That Are Separated by a comma "
   ]
  },
  {
   "cell_type": "code",
   "execution_count": 55,
   "metadata": {},
   "outputs": [
    {
     "name": "stdout",
     "output_type": "stream",
     "text": [
      "\u0002, \u0001 (\u0002, \u0001)\n",
      "\u0002, \u0001\n"
     ]
    }
   ],
   "source": [
    "pattern = re.compile(r'(\\w*),\\s*(\\w*)')\n",
    "texts = ['good, bad (42, 24)', 'report_log,power_report']\n",
    "for text in texts:\n",
    "\tprint(pattern.sub('\\2, \\1', text))\n",
    "\t# print(pattern.findall(text))"
   ]
  },
  {
   "attachments": {},
   "cell_type": "markdown",
   "metadata": {},
   "source": [
    "41`: Add '[]' around words starting with 's' and containing 'e' and 't' in any order"
   ]
  },
  {
   "cell_type": "code",
   "execution_count": 56,
   "metadata": {},
   "outputs": [
    {
     "name": "stdout",
     "output_type": "stream",
     "text": [
      "sequoia [subtle] exhibit\n",
      "asset [sets2] tests [si_te]\n"
     ]
    }
   ],
   "source": [
    "pattern = re.compile(r'\\bs\\w*(?=(e\\w*?t|t\\w*?e))\\w*')\n",
    "texts   = ['sequoia subtle exhibit', 'asset sets2 tests si_te']\n",
    "for text in texts:\n",
    "\tprint(re.sub(pattern, r'[\\g<0>]', text))\n",
    "\t# print(re.sub(pattern, '\\1', text))\n",
    "\t# Original Pattern\n",
    "\n",
    "# NOTES FOR WHY IT WORKS\n",
    "# Inside the '[' and ']' of a character class, all numeric escapes are treated as characters. (\\1 in this case)"
   ]
  },
  {
   "attachments": {},
   "cell_type": "markdown",
   "metadata": {},
   "source": [
    "42. Change '[digits]' to '(digits0)'. For example, '[10]' should be changed to ''(100)'."
   ]
  },
  {
   "cell_type": "code",
   "execution_count": 57,
   "metadata": {},
   "outputs": [
    {
     "name": "stdout",
     "output_type": "stream",
     "text": [
      "['5', '0']\n",
      "[apple] [(5)] [ball] [(0)]\n",
      "['20']\n",
      "[(20)] pens and (3) pencils\n"
     ]
    }
   ],
   "source": [
    "# pattern = re.compile(r'\\s\\[\\d*\\]\\s')\n",
    "# pattern = re.compile(r'(?=\\s)(?<=\\s)(\\d*)')\n",
    "pattern   = re.compile(r'(?<=\\[)(\\d+)(?=\\])')\n",
    "texts     = ['[apple] [5] [ball] [0]', '[20] pens and (3) pencils']\n",
    "for text in texts:\n",
    "\tprint(pattern.findall(text))\n",
    "\tprint(re.sub(pattern, '(\\g<0>)',text))\n"
   ]
  },
  {
   "cell_type": "markdown",
   "metadata": {},
   "source": [
    "Q43: Replace all whole words with 'X' that start and end with the same word character, irrespective of case. Single character word should get replaced with 'X' too, as satisfies the condition. "
   ]
  },
  {
   "cell_type": "code",
   "execution_count": 58,
   "metadata": {},
   "outputs": [
    {
     "name": "stdout",
     "output_type": "stream",
     "text": [
      "[('oreo', 'o'), ('a', ''), ('_a2_', '_'), ('Roar', 'R'), ('22', '2')]\n",
      "X not X X X took X\n"
     ]
    }
   ],
   "source": [
    "# pattern = re.compile(r'\\b([a-z]|\\d).*?\\1\\b', flags = re.IGNORECASE)\n",
    "pattern = re.compile(r'\\b(\\w|(\\w)\\w*\\2)\\b', flags = re.I)\n",
    "texts = ['oreo not a _a2_ Roar took 22']\n",
    "for text in texts:\n",
    "\tprint(pattern.findall(text))\n",
    "\tprint(re.sub(pattern, 'X', text))"
   ]
  },
  {
   "cell_type": "markdown",
   "metadata": {},
   "source": [
    "Q44: convert the given markdown anchors to hyperlinks as shown below"
   ]
  },
  {
   "cell_type": "code",
   "execution_count": 59,
   "metadata": {},
   "outputs": [
    {
     "name": "stdout",
     "output_type": "stream",
     "text": [
      "[Regex] (#regex)\n",
      "[Tip 1] (#tip-1)\n"
     ]
    }
   ],
   "source": [
    "# pattern = re.compile(r'(?<=name=\\\")(.+?)\\\">.*>(\\w.*)')\n",
    "pattern = re.compile(r'^.*name=\\\"(.+?)\\\">.*>(\\w.*)')\n",
    "texts = [r'# <a name=\"regex\"><\\a>Regex', r'## <a name=\"tip-1\"></a>Tip 1']\n",
    "for text in texts:\n",
    "\t# print(pattern.findall(text))\n",
    "\tprint(re.sub(pattern, r'[\\2] (#\\1)', text))\n"
   ]
  },
  {
   "cell_type": "markdown",
   "metadata": {},
   "source": [
    "Q45: Duplicate first field and add it as the last field. Consider the comma as the field separator and fields other than the first field could be empty too"
   ]
  },
  {
   "cell_type": "code",
   "execution_count": 60,
   "metadata": {},
   "outputs": [
    {
     "name": "stdout",
     "output_type": "stream",
     "text": [
      "[('f', 'ork, 42, nice, 3.14')]\n",
      "fork, 42, nice, 3.14 f\n",
      "[('g', 'ood, food')]\n",
      "good, food g\n",
      "[('2', '')]\n",
      "2 2\n",
      "[('(', 'a^b),#hi#,,')]\n",
      "(a^b),#hi#,, (\n"
     ]
    }
   ],
   "source": [
    "# pattern = re.compile(r'(^.+|^\\d+),*(?=[,?]*).*')\n",
    "pattern = re.compile(r'(^.+?|^\\d+),*(.*)')\n",
    "\n",
    "texts = ['fork, 42, nice, 3.14', 'good, food', '2', '(a^b),#hi#,,']\n",
    "for text in texts:\n",
    "\tprint(pattern.findall(text))\n",
    "\tprint(re.sub(pattern, r'\\1\\2 \\1' , text)) "
   ]
  },
  {
   "cell_type": "markdown",
   "metadata": {},
   "source": [
    "Q46: Match strings with words that have at least two occurences of consecutive reword characters. For example, words like 'stillness' and 'Committe' should mat not works like 'root' or 'readable' or 'rotational'"
   ]
  },
  {
   "cell_type": "code",
   "execution_count": 61,
   "metadata": {},
   "outputs": [
    {
     "name": "stdout",
     "output_type": "stream",
     "text": [
      "[('p', 's'), ('c', 'm')]\n",
      "oed abandon aodation\n",
      "[('m', 't'), ('n', 'e')]\n",
      "coed apparition iper\n",
      "[('c', 'l')]\n",
      "oy afforded\n",
      "[('c', 'l')]\n",
      "depended suy succeeded\n",
      "[]\n",
      "abandonded building\n",
      "[]\n",
      "horror apparition\n",
      "[]\n",
      "afforded luxury\n",
      "[]\n",
      "cleanliness\n"
     ]
    }
   ],
   "source": [
    "pattern = re.compile(r'(\\w)\\1\\w+(\\w)\\2')\n",
    "texts = ['oppressed abandon accommodation', 'committed apparition innkeeper', 'occasionally afforded', 'depended successfully succeeded', 'abandonded building', 'horror apparition', 'afforded luxury', 'cleanliness']\n",
    "\n",
    "for text in texts:\n",
    "\tprint(pattern.findall(text))\n",
    "\tprint(re.sub(pattern, '', text))"
   ]
  },
  {
   "cell_type": "markdown",
   "metadata": {},
   "source": [
    "Q47: Replace all consecutive occurrences of duplicate words with a single copy. Consider the words to be separated by a single space character only."
   ]
  },
  {
   "cell_type": "code",
   "execution_count": 62,
   "metadata": {},
   "outputs": [
    {
     "name": "stdout",
     "output_type": "stream",
     "text": [
      "['a', 'f_1']\n",
      "aa a a 42 f_1 f_13.14 a\n"
     ]
    }
   ],
   "source": [
    "pattern = re.compile(r'\\b(\\w+)\\b\\s\\1')\n",
    "texts   = ['aa a a a 42 f_1 f_1 f_13.14 a']\n",
    "\n",
    "for text in texts:\n",
    "\tprint(pattern.findall(text))\n",
    "\tprint(re.sub(pattern, r'\\1', text))"
   ]
  },
  {
   "cell_type": "markdown",
   "metadata": {},
   "source": [
    " Q48: \"For the given input strings, replace all occurrences of digit sequences with only the unique non-repeating sequence. For example, `232323` should be changed to `23` and `897897` should be changed to `897`. If there no repeats (for example `1234`) or if the repeats end prematurely (for example `12121`), it should not be changed.\""
   ]
  },
  {
   "cell_type": "code",
   "execution_count": 63,
   "metadata": {},
   "outputs": [
    {
     "name": "stdout",
     "output_type": "stream",
     "text": [
      "['23', '4535']\n",
      "1234 23 4535\n",
      "[]\n",
      "9339 11 60260260\n"
     ]
    }
   ],
   "source": [
    "pattern = re.compile(r'\\b(?P<digits>\\d{2,})\\1+\\b')\n",
    "texts = ['1234 2323 453545354535', '9339 11 60260260']\n",
    "for text in texts:\n",
    "\tprint(pattern.findall(text))\n",
    "\tprint(re.sub(pattern, '\\g<digits>', text))"
   ]
  },
  {
   "cell_type": "markdown",
   "metadata": {},
   "source": [
    "Q49: \"Replace sequences made up of words separated by `:` or `.` by the first word of the sequence. Such sequences will end when `:` or `.` is not followed by a word character.\""
   ]
  },
  {
   "cell_type": "code",
   "execution_count": 64,
   "metadata": {},
   "outputs": [
    {
     "name": "stdout",
     "output_type": "stream",
     "text": [
      "[':five']\n",
      "wow hi-2\n",
      "['.water']\n",
      "bye kite.\n"
     ]
    }
   ],
   "source": [
    "# pattern = re.compile('[:.].*[:.]')\n",
    "pattern = re.compile('([:.]\\w+)+')\n",
    "texts = ['wow:Good:2_two:five hi-2', 'bye kite.777.water.']\n",
    "for text in texts:\n",
    "\tprint(pattern.findall(text))\n",
    "\tprint(re.sub(pattern, '', text))"
   ]
  },
  {
   "attachments": {},
   "cell_type": "markdown",
   "metadata": {},
   "source": [
    "Q50: Replace sequences made up of words separated by ':' and '.' by the last word of the sequence. Such sequences will end when ':' or '.' is not followed by a word character"
   ]
  },
  {
   "cell_type": "code",
   "execution_count": 65,
   "metadata": {},
   "outputs": [
    {
     "name": "stdout",
     "output_type": "stream",
     "text": [
      "[('five:', 'five')]\n",
      "five hi-2\n",
      "[('water.', 'water')]\n",
      "bye water\n"
     ]
    }
   ],
   "source": [
    "# pattern = re.compile('(?P<match>\\w+[:.])+')\n",
    "pattern   = re.compile('((\\w+)[:.])+')\n",
    "texts     = ['wow:Good:2_two:five: hi-2', 'bye kite.777.water.']\n",
    "for text in texts:\n",
    "\tprint(pattern.findall(text))\n",
    "\tprint(re.sub(pattern, r'\\2', text))\n",
    "\t"
   ]
  },
  {
   "cell_type": "markdown",
   "metadata": {},
   "source": [
    "Q51: Split the given input string on one or more repeated sequence of 'cat' "
   ]
  },
  {
   "cell_type": "code",
   "execution_count": 66,
   "metadata": {},
   "outputs": [
    {
     "name": "stdout",
     "output_type": "stream",
     "text": [
      "['cat', 'catcat', 'catcat']\n",
      "['fire', 'lion', 'bear', 'parrot']\n"
     ]
    }
   ],
   "source": [
    "pattern  = re.compile('(?:cat)+')\n",
    "texts    = ['firecatlioncatcatbearcatcatparrot']\n",
    "for text in texts:\n",
    "\tprint(pattern.findall(text))\n",
    "\tprint(re.split(pattern, text))\n"
   ]
  },
  {
   "attachments": {},
   "cell_type": "markdown",
   "metadata": {},
   "source": [
    "Q52: Surround all whole words with '()'. Additionally, if the whole word is 'imp' or ant delete them"
   ]
  },
  {
   "cell_type": "code",
   "execution_count": 67,
   "metadata": {},
   "outputs": [
    {
     "name": "stdout",
     "output_type": "stream",
     "text": [
      "['Tiger', '', 'goat', 'ANT']\n",
      "(Tiger)-() (goat) (ANT)\n",
      "['2_eagle', '', 'important']\n",
      "(2_eagle) () (important)\n"
     ]
    }
   ],
   "source": [
    "# pattern    = re.compile(r'(imp\\b|\\bant\\b)')\n",
    "# pattern    = re.compile(r'(?!\\bant\\b)(?!imp\\b)(\\b\\w+\\b)')\n",
    "\n",
    "pattern      = re.compile(r'\\b(?:imp|ant|(\\w+))\\b')\n",
    "texts        = ['Tiger-imp goat ANT', '2_eagle ant important']\n",
    "for text in texts:\n",
    "\tprint(pattern.findall(text))\n",
    "\tprint(re.sub(pattern, r'(\\1)', text))"
   ]
  },
  {
   "cell_type": "markdown",
   "metadata": {},
   "source": [
    "Q53: Match entire strings that is made up of a sequence of lowercase alphabets followed by `-` followed by digits. They can be optionally surrounded by both `{{` and `}}`."
   ]
  },
  {
   "cell_type": "code",
   "execution_count": 68,
   "metadata": {},
   "outputs": [
    {
     "name": "stdout",
     "output_type": "stream",
     "text": [
      "[('', 'apple-150', '')]\n",
      "{{\u0002}}\n",
      "[('', 'grape-87', '')]\n",
      "\u0002\n",
      "[('', 'i-5', '')]\n",
      "{{\u0002}}\n",
      "[('', 'fig-42', '')]\n",
      "\u0002\n",
      "[('', 'mango-100', '')]\n",
      "{{\u0002}} 2\n",
      "[]\n",
      "{{Apple-150}}\n",
      "[('', 'cerry-100', '')]\n",
      "{{\u0002\n",
      "[]\n",
      "2-42\n"
     ]
    }
   ],
   "source": [
    "pattern = re.compile(r'\\b(\\{)*([a-z]+-\\d+)(\\})*\\b')\n",
    "texts = ['{{apple-150}}', 'grape-87', '{{i-5}}', 'fig-42',\n",
    " '{{mango-100}} 2', '{{Apple-150}}', '{{cerry-100', '2-42']\n",
    " \n",
    "for text in texts:\n",
    "\tprint(pattern.findall(text))\n",
    "\tprint(re.sub(pattern, '\\2', text))"
   ]
  },
  {
   "cell_type": "markdown",
   "metadata": {},
   "source": [
    "Q54: replace all whole words with 'X' unless it is preceeded by '(' character. "
   ]
  },
  {
   "cell_type": "code",
   "execution_count": 69,
   "metadata": {},
   "outputs": [
    {
     "name": "stdout",
     "output_type": "stream",
     "text": [
      "['(apple) guava ']\n",
      "xberry\n",
      "['(mango) ']\n",
      "apple x(grape\n"
     ]
    }
   ],
   "source": [
    "# pattern = re.compile(r'(?=(\\({1}.+?\\b))')\n",
    "pattern = re.compile(r'(?=\\()(.+\\s){1}')\n",
    "\n",
    "texts   = ['(apple) guava berry', 'apple (mango) (grape']\n",
    "for text in texts:\n",
    "\tprint(pattern.findall(text))\n",
    "\tprint(re.sub(pattern, 'x', text))\n",
    "\t"
   ]
  },
  {
   "attachments": {},
   "cell_type": "markdown",
   "metadata": {},
   "source": [
    "Q55: Replace all whole words with 'X' unless it is followed by ')' character"
   ]
  },
  {
   "cell_type": "code",
   "execution_count": 70,
   "metadata": {},
   "outputs": [
    {
     "name": "stdout",
     "output_type": "stream",
     "text": [
      "['']\n",
      "['']\n",
      "['']\n",
      "['']\n"
     ]
    }
   ],
   "source": [
    "pattern = re.compile('')\n",
    "texts = ['', '', '', '']\n",
    "for text in texts:\n",
    "\tprint(pattern.findall(text))"
   ]
  },
  {
   "cell_type": "code",
   "execution_count": null,
   "metadata": {},
   "outputs": [],
   "source": []
  },
  {
   "attachments": {},
   "cell_type": "markdown",
   "metadata": {},
   "source": [
    "Q57: extract all whole word that do not end with 'e' or 'n'"
   ]
  },
  {
   "cell_type": "code",
   "execution_count": 71,
   "metadata": {},
   "outputs": [
    {
     "name": "stdout",
     "output_type": "stream",
     "text": [
      "['a_t', 'Row', 'on', 'urn']\n",
      "['noted', 'dust']\n",
      "['a2', 'i', '0', 'i']\n",
      "['cool', 'tool', 'sunny']\n"
     ]
    }
   ],
   "source": [
    "# pattern = re.compile(r'\\w+^[en]\\b')\n",
    "# pattern = re.compile(r'\\w+\\b')\n",
    "pattern = re.compile(r'(?![en]\\b)\\w+')\n",
    "texts   = ['a_t Row on urn e', 'noted dust n', 'a2-e.i)0|i', '* cool tool. sunny']\n",
    "for text in texts:\n",
    "\tprint(pattern.findall(text))\n",
    "\t# print(re.sub(pattern, 'X', text))"
   ]
  },
  {
   "cell_type": "markdown",
   "metadata": {},
   "source": [
    "Q58: Extract all whole words that do not start with 'a' or 'd' or 'n'"
   ]
  },
  {
   "cell_type": "code",
   "execution_count": 72,
   "metadata": {},
   "outputs": [
    {
     "name": "stdout",
     "output_type": "stream",
     "text": [
      "['row2', 'on', 'urn', '_']\n",
      "['e', 'Note']\n"
     ]
    }
   ],
   "source": [
    "# pattern = re.compile(r'\\b([^adn]\\w+)\\b', flags = re.I)\n",
    "pattern = re.compile(r'(?![adn])\\b\\w+')\n",
    "texts   = ['at row2 on urn _', 'e Note dust n']\n",
    "for text in texts:\n",
    "\tprint(pattern.findall(text))"
   ]
  },
  {
   "cell_type": "markdown",
   "metadata": {},
   "source": [
    "Q59: Extract all whole words only if they are followed by ':' or ',' or '-'."
   ]
  },
  {
   "cell_type": "code",
   "execution_count": 73,
   "metadata": {},
   "outputs": [
    {
     "name": "stdout",
     "output_type": "stream",
     "text": [
      "['Poke', 'so']\n",
      "['ever2']\n"
     ]
    }
   ],
   "source": [
    "pattern = re.compile('(\\w+)[:,-]')\n",
    "texts = ['Poke, on=-=so:ink.', 'to/is(vast)ever2-sit']\n",
    "for text in texts:\n",
    "\tprint(pattern.findall(text))"
   ]
  },
  {
   "cell_type": "markdown",
   "metadata": {},
   "source": [
    "Q60: Extract all whole words only if they are preceeded by '=' or '/' or '-'"
   ]
  },
  {
   "cell_type": "code",
   "execution_count": 74,
   "metadata": {},
   "outputs": [
    {
     "name": "stdout",
     "output_type": "stream",
     "text": [
      "['so']\n",
      "['is', 'sit']\n"
     ]
    }
   ],
   "source": [
    "pattern = re.compile('[=/-](\\w+)')\n",
    "texts = ['Poke, on=-=so:ink.', 'to/is(vast)ever2-sit']\n",
    "for text in texts:\n",
    "\tprint(pattern.findall(text))"
   ]
  },
  {
   "cell_type": "markdown",
   "metadata": {},
   "source": [
    "Q61: Extract all whole words only if they are preceded by `=` or `:` and followed by `:` or `.`."
   ]
  },
  {
   "cell_type": "code",
   "execution_count": 75,
   "metadata": {},
   "outputs": [
    {
     "name": "stdout",
     "output_type": "stream",
     "text": [
      "['so', 'ink']\n",
      "[]\n"
     ]
    }
   ],
   "source": [
    "# pattern = re.compile(r'[=:](\\w+)[:\\.]')\n",
    "pattern = re.compile(r'(?<=[=:])\\w+(?=[:.])')\n",
    "texts  = ['Poke, on=-=so:ink.at=to', 'to/is(vast)ever2-sit']\n",
    "for text in texts:\n",
    "\tprint(pattern.findall(text))"
   ]
  },
  {
   "cell_type": "markdown",
   "metadata": {},
   "source": [
    "Q62: Extract all whole words only if they are preceeded by '=' or ':' or '.' or '(' and not followed by '.' or '/'"
   ]
  },
  {
   "cell_type": "code",
   "execution_count": 76,
   "metadata": {},
   "outputs": [
    {
     "name": "stdout",
     "output_type": "stream",
     "text": [
      "['so', 'at', 'to']\n",
      "['vast', 'ant']\n"
     ]
    }
   ],
   "source": [
    "pattern = re.compile(r'(?<=[=:.(])\\b\\w+\\b(?![./])')\n",
    "texts = ['Poke(on/-=so:ink.at=to,', 'to/is(vast)ever2-sit:ant']\n",
    "for text in texts:\n",
    "\tprint(pattern.findall(text))"
   ]
  },
  {
   "cell_type": "markdown",
   "metadata": {},
   "source": [
    "Q63:Remove leading and trailing whitespaces from all the individual fields where `,` is the field separator."
   ]
  },
  {
   "cell_type": "code",
   "execution_count": 77,
   "metadata": {},
   "outputs": [
    {
     "name": "stdout",
     "output_type": "stream",
     "text": [
      "[]\n",
      "hi ,bye ,cool\n",
      "[',']\n",
      "hello,nice  ice  , 42,2\n",
      "[]\n",
      "1, ,  stall  small\n"
     ]
    }
   ],
   "source": [
    "# pattern = re.compile(r'\\w+\\s+,')\n",
    "pattern = re.compile(r'(?<=\\w)(,{1})\\s+(?=\\b)')\n",
    "texts   = ['hi ,bye ,cool', 'hello,nice  ice  , 42, 2', '1, ,  stall  small']\n",
    "for text in texts:\n",
    "\tprint(pattern.findall(text))\n",
    "\tprint(re.sub(pattern, r'\\1', text))"
   ]
  },
  {
   "cell_type": "markdown",
   "metadata": {},
   "source": [
    "Q64: Replace all occurrences of `par` with `X` as long as whole word `par` isn't present later in the string."
   ]
  },
  {
   "cell_type": "code",
   "execution_count": 78,
   "metadata": {},
   "outputs": [
    {
     "name": "stdout",
     "output_type": "stream",
     "text": [
      "['par', 'par']\n",
      "aXtment Xking spot\n",
      "['par', 'par']\n",
      "parse and X and sXse\n",
      "['par']\n",
      "par not but this X\n",
      "['par', 'par', 'par', 'par']\n",
      "_X2 sXk XX_\n"
     ]
    }
   ],
   "source": [
    "# Lookahead starts looking right at the location you specify, so if your pattern doesn't indicate it can look beyond your base pattern and it ends a few letters later, it wont detect the pattern furhter in the string\n",
    "pattern = re.compile(r'par(?!.*\\bpar\\b)') \n",
    "texts   = ['apartment parking spot', 'parse and par and sparse', 'par not but this par', '_par2 spark parpar_']\n",
    "for text in texts:\n",
    "\tprint(pattern.findall(text))\n",
    "\tprint(re.sub(pattern, 'X', text))"
   ]
  },
  {
   "attachments": {},
   "cell_type": "markdown",
   "metadata": {},
   "source": [
    "Q65: Replace all occurences of 'par' with 'X' as long as 'par' is present later in the string"
   ]
  },
  {
   "cell_type": "code",
   "execution_count": 79,
   "metadata": {},
   "outputs": [
    {
     "name": "stdout",
     "output_type": "stream",
     "text": [
      "['par']\n",
      "aXtment parking spot\n",
      "['par', 'par']\n",
      "Xse and X and sparse\n",
      "['par']\n",
      "X not but this par\n",
      "['par', 'par', 'par']\n",
      "_X2 sXk Xpar_\n"
     ]
    }
   ],
   "source": [
    "pattern = re.compile(r'par(?=.*par)') \n",
    "texts   = ['apartment parking spot', 'parse and par and sparse', 'par not but this par', '_par2 spark parpar_']\n",
    "for text in texts:\n",
    "\tprint(pattern.findall(text))\n",
    "\tprint(re.sub(pattern, 'X', text))"
   ]
  },
  {
   "cell_type": "markdown",
   "metadata": {},
   "source": [
    "Q66: Match Strings that satisfy all of these rules:\n",
    "* at least two alphabets\n",
    "* at least 3 digits\n",
    "* doesn't end with a whitespace character"
   ]
  },
  {
   "cell_type": "code",
   "execution_count": 80,
   "metadata": {},
   "outputs": [
    {
     "name": "stdout",
     "output_type": "stream",
     "text": [
      "['F2H3u']\n",
      "['A $B C', '1234']\n",
      "['xyz', '123']\n",
      "['1a2b3c4d5']\n",
      "['hunter']\n",
      "['X3Yz', '3.14']\n",
      "['321']\n",
      "['r2_d2_hi']\n"
     ]
    }
   ],
   "source": [
    "# pattern = re.compile(r'(?=[a-z]{2,})\\d{3,}(?!.*\\s\\b)', flags = re.I)\n",
    "pattern  = re.compile(r'([a-z].*[a-z]|\\d.*\\d.*\\d)', flags = re.I)\n",
    "texts    = ['F2H3u%9', 'A $B C1234', 'xyz123', '_1a2b3c4d5_', 'hunter2', '*X3Yz3.14', '321a(#)', 'r2_d2_hi']\n",
    "for text in texts:\n",
    "\tprint(pattern.findall(text))"
   ]
  },
  {
   "cell_type": "markdown",
   "metadata": {},
   "source": [
    "Q67: For the given strings, surround all whole words with `{}` except for whole words `par` and `cat` and `apple`."
   ]
  },
  {
   "cell_type": "code",
   "execution_count": 81,
   "metadata": {},
   "outputs": [
    {
     "name": "stdout",
     "output_type": "stream",
     "text": [
      "['part', 'super']\n",
      "{part}; cat {{super}}\n",
      "['rest_42', 'scatter']\n",
      "{rest_42} par {scatter}\n",
      "['spar']\n",
      "apple {spar}\n"
     ]
    }
   ],
   "source": [
    "pattern = re.compile(r'(?!cat|\\bpar\\b|apple)(\\b\\w+\\b)')\n",
    "texts   = ['part; cat {super}', 'rest_42 par scatter', 'apple spar']\n",
    "for text in texts:\n",
    "\tprint(pattern.findall(text))\n",
    "\tprint(re.sub(pattern, r'{\\1}', text))"
   ]
  },
  {
   "cell_type": "markdown",
   "metadata": {},
   "source": [
    "Q68: Extract integer portion of floating-point numbers for the given string. Integers and numbers ending with `.` but no further digits should not be considered."
   ]
  },
  {
   "cell_type": "code",
   "execution_count": 82,
   "metadata": {},
   "outputs": [
    {
     "name": "stdout",
     "output_type": "stream",
     "text": [
      "['32', '2', '46']\n"
     ]
    }
   ],
   "source": [
    "pattern = re.compile(r'(\\d+)\\.')\n",
    "texts = ['12 ab32.4 go 5 2. 46.42 5']\n",
    "for text in texts:\n",
    "\tprint(pattern.findall(text))"
   ]
  },
  {
   "cell_type": "markdown",
   "metadata": {},
   "source": [
    "Q69: Convert the given input strings to the corresponding output as shown below."
   ]
  },
  {
   "cell_type": "code",
   "execution_count": 83,
   "metadata": {},
   "outputs": [
    {
     "name": "stdout",
     "output_type": "stream",
     "text": [
      "['a']\n",
      "ca\n",
      "at\n",
      "['.', '2', '-', '3', ':']\n",
      "1.\n",
      ".2\n",
      "2-\n",
      "-3\n",
      "3:\n",
      ":4\n"
     ]
    }
   ],
   "source": [
    "pattern   = re.compile(r'.(?=(.).)')\n",
    "texts     = ['cat', '1.2-3:4']\n",
    "for text in texts:\n",
    "\tprint(pattern.findall(text))\n",
    "\tprint(re.sub(pattern, r'\\g<0>\\1\\n', text))"
   ]
  },
  {
   "cell_type": "markdown",
   "metadata": {},
   "source": [
    "Q70: The given input strings contain fields separated by ':' character. Delete ':' last field if there is a digit character anywhere before the last field"
   ]
  },
  {
   "cell_type": "code",
   "execution_count": 84,
   "metadata": {},
   "outputs": [
    {
     "name": "stdout",
     "output_type": "stream",
     "text": [
      "['cat']\n",
      "42\n",
      "['a2b']\n",
      "twelve\n",
      "['bother']\n",
      "we:be:he:0:a:b\n"
     ]
    }
   ],
   "source": [
    "# pattern = re.compile(r'(?=\\d.+:\\w+$)\\w+')\n",
    "pattern = re.compile(r':(?!.*:)(\\w+)')\n",
    "texts   = ['42:cat', 'twelve:a2b', 'we:be:he:0:a:b:bother']\n",
    "for text in texts:\n",
    "\tprint(pattern.findall(text))\n",
    "\tprint(re.sub(pattern, r'', text))"
   ]
  },
  {
   "cell_type": "markdown",
   "metadata": {},
   "source": [
    "Q71: Extract all whole words unless they are preceded by `:` or `<=>` or `----` or `#`."
   ]
  },
  {
   "cell_type": "code",
   "execution_count": 85,
   "metadata": {},
   "outputs": [
    {
     "name": "stdout",
     "output_type": "stream",
     "text": [
      "['at', 'in', 'a_b']\n",
      "['lion']\n"
     ]
    }
   ],
   "source": [
    "pattern = re.compile(r'(?<![:#])(?<!----)(?<!<=>)\\b\\w+\\b')\n",
    "texts   = ['::very--at<=>row|in.a_b', '#b2c=>lion----east']\n",
    "for text in texts:\n",
    "\tprint(pattern.findall(text))"
   ]
  },
  {
   "attachments": {},
   "cell_type": "markdown",
   "metadata": {},
   "source": [
    "Q72: Match strings if it contains `qty` followed by `price` but not if there is whitespace or the string `error` between them."
   ]
  },
  {
   "cell_type": "code",
   "execution_count": 86,
   "metadata": {},
   "outputs": [
    {
     "name": "stdout",
     "output_type": "stream",
     "text": [
      "['qty,price']\n",
      "['qty-6,apple-56,price']\n",
      "['qtyprice']\n",
      "[]\n",
      "['qty,6,errors,9,price']\n",
      "[]\n"
     ]
    }
   ],
   "source": [
    "# pattern  = re.compile('qty(?!error)(?=price)')\n",
    "pattern    = re.compile('qty(?!error)(?!\\s).*price', re.DOTALL)\n",
    "texts      = ['23,qty,price, 42', '42\\nqty-6,apple-56,price-234,error', '(qtyprice) (hi-there)', 'qty price,oh', '3.14,\\nqty,6,errors,9,price,3', '4,price,3.14,qty,4']\n",
    "for text in texts:\n",
    "\tprint(pattern.findall(text))"
   ]
  },
  {
   "attachments": {},
   "cell_type": "markdown",
   "metadata": {},
   "source": [
    "Q73) For the given input strings, match all of these three patterns: \n",
    "* 'This' case sensitively\n",
    "* 'nice' and 'cool' case insensitively"
   ]
  },
  {
   "cell_type": "code",
   "execution_count": 87,
   "metadata": {},
   "outputs": [
    {
     "name": "stdout",
     "output_type": "stream",
     "text": [
      "['This', 'nice', 'Cool']\n",
      "['nice', 'cool', 'This']\n",
      "['nice', 'cool', 'This']\n",
      "['Nice', 'cool']\n",
      "['This', 'cool']\n",
      "['nice']\n"
     ]
    }
   ],
   "source": [
    "pattern   = re.compile('(This|[nN]ice|[cC]ool)')\n",
    "texts     = ['This is nice and Cool', 'nice,cool,This', 'so nice and cool This', 'Nice and not cool this', 'This is not cool', 'not nice']\n",
    "for text in texts:\n",
    "\tprint(pattern.findall(text))"
   ]
  },
  {
   "cell_type": "markdown",
   "metadata": {},
   "source": [
    "Q74: For the given input strings, match if the string begins with 'Th' and also contains a line that starts with 'There'"
   ]
  },
  {
   "cell_type": "code",
   "execution_count": 88,
   "metadata": {},
   "outputs": [
    {
     "name": "stdout",
     "output_type": "stream",
     "text": [
      "['There']\n",
      "['This']\n",
      "[]\n",
      "['This']\n"
     ]
    }
   ],
   "source": [
    "# pattern = re.compile(r'(?=.*^There)^Th', re.DOTALL)\n",
    "pattern = re.compile(r'(?=.*There)^Th\\w+\\b', re.DOTALL)\n",
    "texts   = ['There there\\nHave a cookie', 'This is a mess\\nYeah?\\nThereeeee', 'Oh\\nThere goes the fun', 'This is not\\ngood\\nno There']\n",
    "for text in texts:\n",
    "\tprint(pattern.findall(text))"
   ]
  },
  {
   "cell_type": "markdown",
   "metadata": {},
   "source": [
    "Q75: Extract all consecutive word characters made of ASCII characters only."
   ]
  },
  {
   "cell_type": "code",
   "execution_count": 89,
   "metadata": {},
   "outputs": [
    {
     "name": "stdout",
     "output_type": "stream",
     "text": [
      "2fox:αλε_eagle_πού:good fοοd０１\n",
      "['2fox', '_eagle_', 'good', 'f', 'd']\n",
      "happy learning!\n",
      "['happy', 'learning']\n"
     ]
    }
   ],
   "source": [
    "pattern = re.compile('(\\w+)+', flags = re.A)\n",
    "texts   = ['2fox:\\u03b1\\u03bb\\u03b5_eagle_\\u03c0\\u03bf\\u03cd:good f\\u03bf\\u03bfd\\uff10\\uff11', 'happy learning!']\n",
    "for text in texts:\n",
    "\tprint(text)\n",
    "\tprint(pattern.findall(text))"
   ]
  },
  {
   "cell_type": "markdown",
   "metadata": {},
   "source": [
    "#Lookarounds\n",
    "https://learnbyexample.github.io/py_regular_expressions/lookarounds.html\n"
   ]
  },
  {
   "attachments": {},
   "cell_type": "markdown",
   "metadata": {},
   "source": [
    "a) Replace all whole words with X unless it is preceded by a ( character."
   ]
  },
  {
   "cell_type": "code",
   "execution_count": 90,
   "metadata": {},
   "outputs": [
    {
     "name": "stdout",
     "output_type": "stream",
     "text": [
      "['guava', 'berry', 'apple']\n",
      "(apple) X X) X (mango) (grape\n"
     ]
    }
   ],
   "source": [
    "pattern = re.compile(r'(?<!\\()\\b\\w+')\n",
    "texts   = ['(apple) guava berry) apple (mango) (grape']\n",
    "for text in texts:\n",
    "\tprint(pattern.findall(text))\n",
    "\tprint(re.sub(pattern, 'X', text))"
   ]
  },
  {
   "cell_type": "markdown",
   "metadata": {},
   "source": [
    "b) Replace all whole words with X unless it is followed by a ) character."
   ]
  },
  {
   "cell_type": "code",
   "execution_count": 91,
   "metadata": {},
   "outputs": [
    {
     "name": "stdout",
     "output_type": "stream",
     "text": [
      "['guava', 'apple', 'grape']\n",
      "(apple) X berry) X (mango) (X\n"
     ]
    }
   ],
   "source": [
    "pattern = re.compile(r'\\b\\w+\\b(?!\\))')\n",
    "texts   = ['(apple) guava berry) apple (mango) (grape']\n",
    "for text in texts:\n",
    "\tprint(pattern.findall(text))\n",
    "\tprint(re.sub(pattern, 'X', text))"
   ]
  },
  {
   "cell_type": "markdown",
   "metadata": {},
   "source": [
    "c) Replace all whole words with X unless it is preceded by ( or followed by ) characters.\n",
    "\n"
   ]
  },
  {
   "cell_type": "code",
   "execution_count": 92,
   "metadata": {},
   "outputs": [
    {
     "name": "stdout",
     "output_type": "stream",
     "text": [
      "['guava', 'apple']\n",
      "(apple) X berry) X (mango) (grape\n"
     ]
    }
   ],
   "source": [
    "pattern = re.compile(r'(?<!\\()(\\b\\w+\\b(?!\\)))')\n",
    "texts   = ['(apple) guava berry) apple (mango) (grape']\n",
    "for text in texts:\n",
    "\tprint(pattern.findall(text))\n",
    "\tprint(re.sub(pattern, 'X', text))"
   ]
  },
  {
   "cell_type": "markdown",
   "metadata": {},
   "source": [
    "d) Extract all whole words that do not end with e or n."
   ]
  },
  {
   "cell_type": "code",
   "execution_count": 93,
   "metadata": {},
   "outputs": [
    {
     "name": "stdout",
     "output_type": "stream",
     "text": [
      "['a_t', 'row', 'Dust', 'a2', 'u']\n"
     ]
    }
   ],
   "source": [
    "pattern = re.compile(r'\\b(?!\\w+[en]|[en])\\w+\\b')\n",
    "texts   = ['a_t row on Urn e note Dust n end a2-e|u']\n",
    "for text in texts:\n",
    "\tprint(pattern.findall(text))"
   ]
  },
  {
   "cell_type": "markdown",
   "metadata": {},
   "source": [
    "e) Extract all whole words that do not start with a or d or n."
   ]
  },
  {
   "cell_type": "code",
   "execution_count": 94,
   "metadata": {},
   "outputs": [
    {
     "name": "stdout",
     "output_type": "stream",
     "text": [
      "['row', 'on', 'Urn', 'e', 'end', 'e', 'u']\n"
     ]
    }
   ],
   "source": [
    "pattern = re.compile(r'(?=[^adn])\\b\\w+\\b',flags =re.I)\n",
    "texts   = ['a_t row on Urn e note Dust n end a2-e|u']\n",
    "for text in texts:\n",
    "\tprint(pattern.findall(text))"
   ]
  },
  {
   "attachments": {},
   "cell_type": "markdown",
   "metadata": {},
   "source": [
    "f) Extract all whole words only if they are followed by : or , or -."
   ]
  },
  {
   "cell_type": "code",
   "execution_count": 95,
   "metadata": {},
   "outputs": [
    {
     "name": "stdout",
     "output_type": "stream",
     "text": [
      "['Poke', 'so_good', 'ever2']\n"
     ]
    }
   ],
   "source": [
    "pattern = re.compile(r'\\b\\w+\\b(?=[:,-])',flags =re.I)\n",
    "texts   = ['Poke,on=-=so_good:ink.to/is(vast)ever2-sit']\n",
    "for text in texts:\n",
    "\tprint(pattern.findall(text))"
   ]
  },
  {
   "cell_type": "markdown",
   "metadata": {},
   "source": [
    "g) Extract all whole words only if they are preceded by = or / or -."
   ]
  },
  {
   "cell_type": "code",
   "execution_count": 96,
   "metadata": {},
   "outputs": [
    {
     "name": "stdout",
     "output_type": "stream",
     "text": [
      "['so_good', 'is', 'sit']\n"
     ]
    }
   ],
   "source": [
    "pattern = re.compile(r'(?<=[=/-])\\b\\w+\\b')\n",
    "texts   = ['Poke,on=-=so_good:ink.to/is(vast)ever2-sit']\n",
    "for text in texts:\n",
    "\tprint(pattern.findall(text))"
   ]
  },
  {
   "cell_type": "markdown",
   "metadata": {},
   "source": [
    "j) Remove the leading and trailing whitespaces from all the individual fields where , is the field separator."
   ]
  },
  {
   "cell_type": "code",
   "execution_count": 102,
   "metadata": {},
   "outputs": [
    {
     "name": "stdout",
     "output_type": "stream",
     "text": [
      "good bad,nice  ice  ,42 , ,   stall   small\n",
      "comma  ,separated ,values \t\n"
     ]
    }
   ],
   "source": [
    "pattern = re.compile(r'(?<=,)\\s+(?=.+,)')\n",
    "texts   = ['good bad,nice  ice  , 42 , ,   stall   small', 'comma  ,separated ,values \\t\\r']\n",
    "for text in texts:\n",
    "\tprint(re.sub(pattern, '', text))\n"
   ]
  },
  {
   "cell_type": "markdown",
   "metadata": {},
   "source": [
    "# Learn by Example"
   ]
  },
  {
   "attachments": {},
   "cell_type": "markdown",
   "metadata": {},
   "source": [
    "**Groupings and Backreferences**"
   ]
  },
  {
   "cell_type": "markdown",
   "metadata": {},
   "source": [
    "b: add [] around words starting with s and containing e and t in any order"
   ]
  },
  {
   "cell_type": "code",
   "execution_count": 22,
   "metadata": {},
   "outputs": [
    {
     "name": "stdout",
     "output_type": "stream",
     "text": [
      "[('subtle', 'tle'), ('sets2', 'et'), ('si_te', 'te')]\n",
      "sequoia [subtle] exhibit asset [sets2] tests [si_te]\n"
     ]
    }
   ],
   "source": [
    "pattern  = re.compile(r'\\b(s\\w*(e\\w*t|t\\w*e)\\w*)\\b')\n",
    "# pattern  = re.compile()\n",
    "texts    = ['sequoia subtle exhibit asset sets2 tests si_te']\n",
    "for text in texts:\n",
    "\tprint(pattern.findall(text))\n",
    "\tprint(re.sub(pattern, r'[\\1]', text))\n"
   ]
  },
  {
   "cell_type": "markdown",
   "metadata": {},
   "source": [
    "c) Replace all whole words with X that start and end with the same word character (irrespective of case). Single character word should get replaced with X too, as it satisfies the stated condition."
   ]
  },
  {
   "cell_type": "code",
   "execution_count": 28,
   "metadata": {},
   "outputs": [
    {
     "name": "stdout",
     "output_type": "stream",
     "text": [
      "[('o', ''), ('', 'a'), ('_', ''), ('R', ''), ('2', '')]\n",
      "X not X X X took X\n"
     ]
    }
   ],
   "source": [
    "pattern = re.compile(r'\\b(\\w)\\w*\\1\\b|\\b(\\w)\\b',re.I)\n",
    "texts   = ['oreo not a _a2_ Roar took 22']\n",
    "for text in texts:\n",
    "\tprint(pattern.findall(text))\n",
    "\tprint(re.sub(pattern, 'X', text))"
   ]
  },
  {
   "cell_type": "markdown",
   "metadata": {},
   "source": [
    "d) Convert the given markdown headers to corresponding anchor tags. Consider the input to start with one or more # characters followed by space and word characters. The name attribute is constructed by converting the header to lowercase and replacing spaces with hyphens. Can you do it without using a capture group?"
   ]
  },
  {
   "cell_type": "code",
   "execution_count": 57,
   "metadata": {},
   "outputs": [
    {
     "name": "stdout",
     "output_type": "stream",
     "text": [
      "# <a name=\"Regular Expressions\"></a>Regular Expressions\n",
      "## <a name=\"Compiling regular expressions\"></a>Compiling regular expressions\n"
     ]
    }
   ],
   "source": [
    "pattern = re.compile(r'(\\b\\w.*\\b)')\n",
    "# pattern = re.compile(r'(\\b\\w+\\b)')\n",
    "texts   = ['# Regular Expressions', '## Compiling regular expressions']\n",
    "for text in texts:\n",
    "\tprint(re.sub(pattern, r'<a name=\"\\1\"></a>\\1', text))"
   ]
  },
  {
   "cell_type": "markdown",
   "metadata": {},
   "source": [
    "h) Replace sequences made up of words separated by : or . by the first word of the sequence. Such sequences will end when : or . is not followed by a word character."
   ]
  },
  {
   "cell_type": "code",
   "execution_count": null,
   "metadata": {},
   "outputs": [],
   "source": [
    "pattern = re.compile('')\n",
    "texts = ['wow:Good:2_two.five: hi-2 bye kite.777:water.']\n",
    "for text in texts:\n",
    "\tprint(pattern.findall(text))"
   ]
  },
  {
   "cell_type": "markdown",
   "metadata": {},
   "source": [
    "i) Replace sequences made up of words separated by : or . by the last word of the sequence. Such sequences will end when : or . is not followed by a word character."
   ]
  },
  {
   "cell_type": "code",
   "execution_count": 121,
   "metadata": {},
   "outputs": [
    {
     "name": "stdout",
     "output_type": "stream",
     "text": [
      "wow hi-2 bye kite\n"
     ]
    }
   ],
   "source": [
    "# pattern  = re.compile(r'[:.](\\w+\\s+)+[.:]')\n",
    "# pattern  = regex.compile(r'[:.](\\w+)[.:]')\n",
    "pattern = regex.compile(r'(\\w+)[:.](\\w+[:.])+')\n",
    "texts    = ['wow:Good:2_two.five: hi-2 bye kite.777:water.']\n",
    "for text in texts:\n",
    "\t# print(pattern.findall(text))\n",
    "\tprint(regex.sub(pattern, r'\\1', text))"
   ]
  },
  {
   "cell_type": "markdown",
   "metadata": {},
   "source": [
    "j) Split the given input string on one or more repeated sequence of cat."
   ]
  },
  {
   "cell_type": "code",
   "execution_count": 142,
   "metadata": {},
   "outputs": [
    {
     "name": "stdout",
     "output_type": "stream",
     "text": [
      "['cat', 'catcatcat', 'catcat']\n",
      "['fire', 'lion', 'bear', 'parrot']\n"
     ]
    }
   ],
   "source": [
    "pattern   = re.compile(r'(?:cat)+')\n",
    "texts     = ['firecatlioncatcatcatbearcatcatparrot']\n",
    "for text in texts:\n",
    "\tprint(pattern.findall(text))\n",
    "\tprint(re.split(pattern, text))"
   ]
  },
  {
   "cell_type": "code",
   "execution_count": 221,
   "metadata": {},
   "outputs": [
    {
     "name": "stdout",
     "output_type": "stream",
     "text": [
      "['23', '4535', '1']\n"
     ]
    }
   ],
   "source": [
    "# pattern = re.compile(r'\\b(\\w+)\\1+\\b')\n",
    "pattern   = re.compile(r'\\b(\\w+)\\1+\\b')\n",
    "# pattern   = re.compile(r'\\b(\\w+)(?:\\1+)\\b')\n",
    "texts     = ['1234 2323 453545354535 9339 11 60260260']\n",
    "\n",
    "for text in texts:\n",
    "\tprint(pattern.findall(text))\n"
   ]
  },
  {
   "cell_type": "markdown",
   "metadata": {},
   "source": [
    "k) For the given input string, find all occurrences of digit sequences with at least one repeating sequence. For example, 232323 and 897897. If the repeats end prematurely, for example 12121, it should not be matched."
   ]
  },
  {
   "cell_type": "code",
   "execution_count": 19,
   "metadata": {},
   "outputs": [
    {
     "name": "stdout",
     "output_type": "stream",
     "text": [
      "1234 2323 453545354535 9339 11 60260260\n",
      "['23', '4535', '1']\n",
      "1234   9339  60260260\n"
     ]
    }
   ],
   "source": [
    "pattern  = re.compile(r'\\b(\\d{1,})\\1+\\b')\n",
    "texts    = ['1234 2323 453545354535 9339 11 60260260']\n",
    "for text in texts:\n",
    "\tprint(text)\n",
    "\tprint(pattern.findall(text))\n",
    "\tprint(re.sub(pattern, '', text))"
   ]
  },
  {
   "cell_type": "markdown",
   "metadata": {},
   "source": [
    "l) Convert the comma separated strings to corresponding dict objects as shown below. The keys are name, maths and phy for the three fields in the input strings."
   ]
  },
  {
   "cell_type": "code",
   "execution_count": 27,
   "metadata": {},
   "outputs": [
    {
     "name": "stdout",
     "output_type": "stream",
     "text": [
      "rose\n",
      "88\n",
      "92\n",
      "rohan\n",
      "75\n",
      "89\n"
     ]
    },
    {
     "data": {
      "text/plain": [
       "{'Name': 'rohan', 'Maths': '75', 'Phy': '89'}"
      ]
     },
     "execution_count": 27,
     "metadata": {},
     "output_type": "execute_result"
    }
   ],
   "source": [
    "pattern  = re.compile('(?<=,)\\w+|\\w+(?=,)')\n",
    "texts    = ['rose,88,92', 'rohan,75,89']\n",
    "list_new = ['Name', 'Maths', 'Phy']\n",
    "dict_new = {}\n",
    "\n",
    "for text in texts:\n",
    "\tcounter = 0\n",
    "\tfor iter in pattern.findall(text):\n",
    "\t\tprint(iter)\n",
    "\n",
    "\t\tdict_new[list_new[counter]] = iter\n",
    "\t\tcounter += 1\n",
    "dict_new"
   ]
  },
  {
   "cell_type": "markdown",
   "metadata": {},
   "source": [
    "n) Filter all elements that contain a sequence of lowercase alphabets followed by - followed by digits. They can be optionally surrounded by {{ and }}. Any partial match shouldn't be part of the output."
   ]
  },
  {
   "cell_type": "code",
   "execution_count": 48,
   "metadata": {},
   "outputs": [
    {
     "name": "stdout",
     "output_type": "stream",
     "text": [
      "['apple-150']\n",
      "[]\n",
      "['cherry-200']\n",
      "['grape-87']\n"
     ]
    }
   ],
   "source": [
    "# pattern  = re.compile(r'{{[a-z]+-\\d+}}')\n",
    "pattern  = regex.compile(r'(?<=.*|{{)[a-z]+-\\d+(?=.*|}})')\n",
    "texts    = ['{{apple-150}}', '{{mango2-100}}', '{{cherry-200', 'grape-87']\n",
    "for text in texts:\n",
    "\tprint(pattern.findall(text))"
   ]
  },
  {
   "cell_type": "markdown",
   "metadata": {},
   "source": [
    "6: Match '42' only if it is surrounded by word characters."
   ]
  },
  {
   "cell_type": "code",
   "execution_count": 2,
   "metadata": {},
   "outputs": [],
   "source": [
    "import re, regex"
   ]
  },
  {
   "cell_type": "code",
   "execution_count": 4,
   "metadata": {},
   "outputs": [
    {
     "name": "stdout",
     "output_type": "stream",
     "text": [
      "['hi42bye']\n",
      "['nice1423']\n",
      "['cool_42a']\n",
      "['_42_']\n",
      "[]\n",
      "[]\n"
     ]
    }
   ],
   "source": [
    "pattern  = re.compile(r'\\w+42\\w+')\n",
    "texts    = ['hi42bye', 'nice1423', 'cool_42a', '_42_', 'bad42', '42cool']\n",
    "for text in texts:\n",
    "\tprint(pattern.findall(text))"
   ]
  },
  {
   "cell_type": "code",
   "execution_count": 5,
   "metadata": {},
   "outputs": [
    {
     "name": "stdout",
     "output_type": "stream",
     "text": [
      "['handle']\n",
      "['handy']\n",
      "['handed']\n",
      "['hands']\n",
      "[]\n",
      "[]\n",
      "[]\n"
     ]
    }
   ],
   "source": [
    "pattern  = re.compile(r'\\bhand\\w+')\n",
    "texts    = ['handle', 'this is handy', 'un-handed', 'over:hands', 'hand', 'unhanded', 'hand-2']\n",
    "for text in texts:\n",
    "\tprint(pattern.findall(text))"
   ]
  },
  {
   "cell_type": "markdown",
   "metadata": {},
   "source": [
    "Q9: Match 'to' or 'an' anywhere in the given input strings."
   ]
  },
  {
   "cell_type": "code",
   "execution_count": 6,
   "metadata": {},
   "outputs": [
    {
     "name": "stdout",
     "output_type": "stream",
     "text": [
      "['to']\n",
      "['to']\n",
      "['an', 'to']\n",
      "['an']\n",
      "[]\n",
      "[]\n",
      "[]\n"
     ]
    }
   ],
   "source": [
    "pattern  = re.compile(r'to|an')\n",
    "texts    = ['collaborator', 'tool', 'transistor', 'androids', 'tea', 'past', 'about']\n",
    "for text in texts:\n",
    "\tprint(pattern.findall(text))"
   ]
  },
  {
   "cell_type": "markdown",
   "metadata": {},
   "source": [
    "Q10: Match Strings that start with 'den' or end with 'ly'"
   ]
  },
  {
   "cell_type": "code",
   "execution_count": 8,
   "metadata": {},
   "outputs": [
    {
     "name": "stdout",
     "output_type": "stream",
     "text": [
      "['ly']\n",
      "['ly']\n",
      "['den']\n",
      "[]\n",
      "[]\n",
      "['ly']\n"
     ]
    }
   ],
   "source": [
    "pattern  = re.compile(r'^den|ly$')\n",
    "texts    = ['lovely', '2 lonely', 'dent', '1\\ndentist', 'eden', 'fly']\n",
    "for text in texts:\n",
    "\tprint(pattern.findall(text))"
   ]
  },
  {
   "cell_type": "markdown",
   "metadata": {},
   "source": [
    "Q12: Match '(4)\\|' only at the start or end of given input strings."
   ]
  },
  {
   "cell_type": "code",
   "execution_count": 10,
   "metadata": {},
   "outputs": [
    {
     "name": "stdout",
     "output_type": "stream",
     "text": [
      "['(4)\\\\|']\n",
      "['(4)\\\\|']\n",
      "['(4)\\\\|']\n",
      "[]\n",
      "[]\n"
     ]
    }
   ],
   "source": [
    "pattern  = re.compile(r'^\\(4\\)\\\\\\||\\(4\\)\\\\\\|$')\n",
    "texts    = ['2+(4)\\|', 'good\\n5.3-(4)\\|', '(4)\\|42 - (4)\\|3', 'one - (4)\\|\\ntwo', 'oops\\n(4)\\|42']\n",
    "for text in texts:\n",
    "\tprint(pattern.findall(text))"
   ]
  },
  {
   "attachments": {},
   "cell_type": "markdown",
   "metadata": {},
   "source": [
    "Q13: Construct A Minimal Pattern That Satisfies The Given Input Strings"
   ]
  },
  {
   "cell_type": "code",
   "execution_count": 20,
   "metadata": {},
   "outputs": [
    {
     "name": "stdout",
     "output_type": "stream",
     "text": [
      "['that', \"'s so good\"]\n",
      "['hit', ' the mark']\n",
      "['2+gh*t-10']\n",
      "[]\n",
      "[]\n",
      "['2+gt-h1']\n"
     ]
    }
   ],
   "source": [
    "# pattern  = re.compile(r'(?!\\b.*\\d{1}\\b)(?)\\w+')\n",
    "# pattern  = re.compile(r'\\w+(?!\\b.*\\d{1}\\b)')\n",
    "pattern = re.compile('\\w{3,}|.{3,})')\n",
    "texts    = ['that\\'s so good', 'hit the mark', '2+gh*t-10', 'it', 'he', '2+gt-h1']\n",
    "for text in texts:\n",
    "\tprint(pattern.findall(text))"
   ]
  },
  {
   "cell_type": "code",
   "execution_count": null,
   "metadata": {},
   "outputs": [],
   "source": []
  },
  {
   "cell_type": "code",
   "execution_count": null,
   "metadata": {},
   "outputs": [],
   "source": []
  },
  {
   "cell_type": "code",
   "execution_count": null,
   "metadata": {},
   "outputs": [],
   "source": []
  },
  {
   "cell_type": "code",
   "execution_count": null,
   "metadata": {},
   "outputs": [],
   "source": []
  },
  {
   "cell_type": "code",
   "execution_count": 29,
   "metadata": {},
   "outputs": [
    {
     "name": "stdout",
     "output_type": "stream",
     "text": [
      "['', '', '', '', '', '', '', '', '', '', '', '', '', '', '', '', '', '', '', '', '', '']\n",
      "['', '', '', '', '', '', '', '', '', '', '', '', '', '', '', '', '', '', '', '', '', '', '', '', '', '', '', '', '', '', '', '', '']\n"
     ]
    }
   ],
   "source": [
    "pattern  = re.compile('')\n",
    "texts    = ['', '', '', '']\n",
    "for text in texts:\n",
    "\tprint(pattern.findall(text))"
   ]
  },
  {
   "cell_type": "code",
   "execution_count": null,
   "metadata": {},
   "outputs": [],
   "source": [
    "pattern = re.compile('')\n",
    "texts = ['', '', '', '']\n",
    "for text in texts:\n",
    "\tprint(pattern.findall(text))"
   ]
  }
 ],
 "metadata": {
  "kernelspec": {
   "display_name": "Python 3",
   "language": "python",
   "name": "python3"
  },
  "language_info": {
   "codemirror_mode": {
    "name": "ipython",
    "version": 3
   },
   "file_extension": ".py",
   "mimetype": "text/x-python",
   "name": "python",
   "nbconvert_exporter": "python",
   "pygments_lexer": "ipython3",
   "version": "3.9.7"
  },
  "orig_nbformat": 4,
  "vscode": {
   "interpreter": {
    "hash": "397704579725e15f5c7cb49fe5f0341eb7531c82d19f2c29d197e8b64ab5776b"
   }
  }
 },
 "nbformat": 4,
 "nbformat_minor": 2
}
