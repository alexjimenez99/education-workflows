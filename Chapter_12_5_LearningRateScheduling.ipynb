{
  "cells": [
    {
      "cell_type": "code",
      "execution_count": 36,
      "metadata": {
        "id": "WlBLgMZ4QEjA"
      },
      "outputs": [],
      "source": [
        "import torch.nn as nn\n",
        "import torch\n",
        "import torch.nn.functional as F\n",
        "\n",
        "import numpy as np\n",
        "from torch.optim import lr_scheduler\n",
        "from torch.optim.lr_scheduler import LRScheduler\n",
        "\n",
        "import pandas as pd\n",
        "import matplotlib.pyplot as plt\n",
        "import seaborn as sns\n",
        "import re\n",
        "import math\n",
        "\n",
        "from sklearn.model_selection import train_test_split\n",
        "from sklearn.metrics         import mean_absolute_error, mean_squared_error, accuracy_score\n",
        "\n",
        "from zipfile import ZipFile"
      ]
    },
    {
      "cell_type": "code",
      "source": [
        "!pip install kaggle"
      ],
      "metadata": {
        "id": "L7LPvHITWsqN"
      },
      "execution_count": 2,
      "outputs": []
    },
    {
      "cell_type": "code",
      "source": [
        "!kaggle datasets download -d vijayadityads/income-evaluation"
      ],
      "metadata": {
        "id": "pPUruEGKYY5i"
      },
      "execution_count": null,
      "outputs": []
    },
    {
      "cell_type": "code",
      "execution_count": 4,
      "metadata": {
        "id": "0zOLU9XNQEjE"
      },
      "outputs": [],
      "source": [
        "with ZipFile('income-evaluation.zip') as zip_file:\n",
        "  data = pd.read_csv(zip_file.open(zip_file.namelist()[0]))"
      ]
    },
    {
      "cell_type": "code",
      "execution_count": 5,
      "metadata": {
        "id": "91Pm1uGgQEjG"
      },
      "outputs": [],
      "source": [
        "def convert_non_numerical(data):\n",
        "\t'''\n",
        "\tConverts variables with non numerical data into numerical variables\n",
        "\t-----------------------------------------------------\n",
        "\t-----------------------------------------------------\n",
        "\tParameters:\n",
        "\t\tData: Dataset loaded\n",
        "\n",
        "\tReturns:\n",
        "\t\tData: Factorized Dataset\n",
        "\n",
        "\t'''\n",
        "\tnon_numerical = ['workclass',\n",
        "\t\t\t\t\t'fnlwgt',\n",
        "\t\t\t\t\t'education',\n",
        "\t\t\t\t\t'marital-status',\n",
        "\t\t\t\t\t'occupation',\n",
        "\t\t\t\t\t'relationship',\n",
        "\t\t\t\t\t'race',\n",
        "\t\t\t\t\t'sex',\n",
        "\t\t\t\t\t'native-country',\n",
        "\t\t\t\t\t'income']\n",
        "\n",
        "\tlabels        = {}\n",
        "\tfor col in data:\n",
        "\t\tcleaned_column = col.strip()\n",
        "\t\tif cleaned_column in non_numerical:\n",
        "\n",
        "\t\t\tlabels[col] = pd.factorize(data[col])[1]\n",
        "\t\t\tdata[col]   = pd.factorize(data[col])[0]\n",
        "\n",
        "\treturn data, labels\n",
        "\n",
        "\n",
        "data, factorized_labels = convert_non_numerical(data)"
      ]
    },
    {
      "cell_type": "code",
      "execution_count": 6,
      "metadata": {
        "id": "lebZGcAhQEjH"
      },
      "outputs": [],
      "source": [
        "TEST_SIZE    = 0.2\n",
        "RANDOM_STATE = 42\n",
        "x_data       = data[[col for col in data.columns if col != ' income']]\n",
        "targets      = data[' income']\n",
        "x_data       = torch.tensor(x_data.values, dtype = torch.float32)\n",
        "targets      = torch.tensor(targets.values,  dtype = torch.float32)\n",
        "\n",
        "x_train, x_test, y_train, y_test = train_test_split(x_data,\n",
        "\t\t\t\t\t\t\t\t\t\t\t\t\ttargets,\n",
        "\t\t\t\t\t\t\t\t\t\t\t\t\ttest_size   = TEST_SIZE,\n",
        "\t\t\t\t\t\t\t\t\t\t\t\t\trandom_state = RANDOM_STATE)\n",
        "\n",
        "x_test, x_val, y_test, y_val = train_test_split(x_test, y_test, test_size = 0.5, random_state = RANDOM_STATE)"
      ]
    },
    {
      "cell_type": "code",
      "source": [
        "class MyCustomScheduler(LRScheduler):\n",
        "    def __init__(self, optimizer, last_epoch=-1):\n",
        "        # super().__init__(optimizer, last_epoch)\n",
        "        super().__init__(optimizer, last_epoch)\n",
        "\n",
        "        self.last_epoch = last_epoch\n",
        "\n",
        "    def get_lr(self):\n",
        "\n",
        "        '''\n",
        "        This method is called with every epoch\n",
        "        '''\n",
        "\n",
        "        # self.last_epoch stores epoch number\n",
        "        if self.last_epoch % 5 == 0 and self.last_epoch != 0:\n",
        "          self.base_lrs = [base_lr * 0.5 for base_lr in self.base_lrs]\n",
        "\n",
        "        else:\n",
        "          self.base_lrs = self.base_lrs\n",
        "\n",
        "        return self.base_lrs\n",
        "\n",
        "\n"
      ],
      "metadata": {
        "id": "XmtHY2oHZPxM"
      },
      "execution_count": 68,
      "outputs": []
    },
    {
      "cell_type": "code",
      "execution_count": null,
      "metadata": {
        "id": "6dqwKHxmQEjI"
      },
      "outputs": [],
      "source": [
        "class BasicClassification(nn.Module):\n",
        "\n",
        "\tdef __init__(self,\n",
        "\t\t\t  \tinput_size = len(x_train[0, :]),\n",
        "\t\t\t\tfc1_out    = 64,\n",
        "\t\t\t\tfc2_out    = 64,\n",
        "\t\t\t\tfc3_out    = 32):\n",
        "\n",
        "\t\tsuper().__init__()\n",
        "\n",
        "\t\tself.fc1    = nn.Linear(input_size, fc1_out)\n",
        "\t\tself.fc2    = nn.Linear(fc1_out, fc2_out)\n",
        "\t\tself.fc3    = nn.Linear(fc2_out, fc3_out)\n",
        "\t\tself.output = nn.Linear(fc3_out, 1)\n",
        "\n",
        "\tdef forward(self, x):\n",
        "\n",
        "\t\tx      = F.relu(self.fc1(x))\n",
        "\t\tx      = F.relu(self.fc2(x))\n",
        "\t\tx      = F.relu(self.fc3(x))\n",
        "\t\toutput = F.sigmoid(self.output(x))\n",
        "\n",
        "\t\treturn output\n",
        "\n",
        "\n",
        "def train_model(model, epochs = 20, base_lr = 0.001, batch_size = 64):\n",
        "\n",
        "\t'''\n",
        "\tTraining Loop for the main model\n",
        "\n",
        "\tParameters:\n",
        "\t- Model:\n",
        "\n",
        "\n",
        "\tReturns:\n",
        "\t-\n",
        "\n",
        "\n",
        "\t'''\n",
        "\n",
        "\n",
        "\toptimizer  = torch.optim.Adam(lr = base_lr, params = model.parameters())\n",
        "\tloss_fn    = nn.BCELoss()\n",
        "\t# scheduler  = lr_scheduler.ReduceLROnPlateau(optimizer,  mode='max', factor=0.1,\n",
        "\t# \t\t\t\t\t\t\t\t\t\t\t  patience=4, threshold=0.0001,\n",
        "\t# \t\t\t\t\t\t\t\t\t\t\t  threshold_mode='rel', cooldown=0,\n",
        "\t# \t\t\t\t\t\t\t\t\t\t\t  min_lr=0, eps=1e-08, verbose=False)\n",
        "\n",
        "\n",
        "\t# scheduler    = lr_scheduler.ExponentialLR(optimizer, gamma = 0.8)\n",
        "\tscheduler  = MyCustomScheduler(optimizer)\n",
        "\n",
        "\tlosses     = []\n",
        "\tbatches    = math.floor(x_train.shape[0] / batch_size)\n",
        "\tfor epoch in range(EPOCHS):\n",
        "\n",
        "\t\tintermediate_losses = []\n",
        "\t\tfor batch in range(1, batches + 1):\n",
        "\n",
        "\t\t\ttrain_batch    = x_train[(batch - 1)*batch_size:batch*batch_size]\n",
        "\t\t\ttargets        = y_train[(batch - 1)*batch_size:batch*batch_size]\n",
        "\t\t\ty_pred         = model.forward(train_batch)\n",
        "\t\t\ty_pred         = y_pred.squeeze(1)\n",
        "\t\t\tloss           = loss_fn(y_pred, targets.float())\n",
        "\t\t\tintermediate_losses.append(loss.detach().numpy())\n",
        "\t\t\toptimizer.zero_grad()\n",
        "\t\t\tloss.backward()\n",
        "\t\t\toptimizer.step()\n",
        "\n",
        "\t\tscheduler.step()\n",
        "\n",
        "\t\tlosses.append(np.average(intermediate_losses))\n",
        "\t\tprint('Epoch: {}  | Loss: {} | Current LR {}'.format(epoch, np.average(intermediate_losses), scheduler.get_last_lr()))\n",
        "\n",
        "\n",
        "\treturn model, losses\n",
        "\n",
        "EPOCHS     = 20\n",
        "model      = BasicClassification()\n",
        "\n",
        "model, losses = train_model(model, epochs = EPOCHS)"
      ]
    },
    {
      "cell_type": "code",
      "execution_count": 81,
      "metadata": {
        "id": "o9tu2YboQEjJ",
        "outputId": "48fcaf3c-7fbe-49bf-a32d-e953fae59884",
        "colab": {
          "base_uri": "https://localhost:8080/",
          "height": 466
        }
      },
      "outputs": [
        {
          "output_type": "stream",
          "name": "stdout",
          "text": [
            "Model Accuracy 0.7641277641277642\n"
          ]
        },
        {
          "output_type": "display_data",
          "data": {
            "text/plain": [
              "<Figure size 640x480 with 1 Axes>"
            ],
            "image/png": "[encoded data removed]"
          },
          "metadata": {}
        }
      ],
      "source": [
        "def evaluate_model(x_test, y_test, plot = True):\n",
        "\tpredictions = model(x_test.float())\n",
        "\tpredictions = predictions.detach().numpy()\n",
        "\tpredictions = predictions.astype(int)\n",
        "\n",
        "\ty_test      = y_test.detach().numpy()\n",
        "\taccuracy    = accuracy_score(predictions, y_test)\n",
        "\tprint('Model Accuracy', accuracy)\n",
        "\n",
        "\tif plot:\n",
        "\t\tplt.plot(range(1, EPOCHS + 1), losses)\n",
        "\t\tplt.xlabel('Epochs')\n",
        "\t\tplt.ylabel('Training Loss')\n",
        "\n",
        "\n",
        "\treturn\n",
        "\n",
        "evaluate_model(x_test, y_test)\n",
        "\n"
      ]
    }
  ],
  "metadata": {
    "kernelspec": {
      "display_name": "Python 3",
      "language": "python",
      "name": "python3"
    },
    "language_info": {
      "codemirror_mode": {
        "name": "ipython",
        "version": 3
      },
      "file_extension": ".py",
      "mimetype": "text/x-python",
      "name": "python",
      "nbconvert_exporter": "python",
      "pygments_lexer": "ipython3",
      "version": "3.9.7"
    },
    "orig_nbformat": 4,
    "colab": {
      "provenance": []
    }
  },
  "nbformat": 4,
  "nbformat_minor": 0
}