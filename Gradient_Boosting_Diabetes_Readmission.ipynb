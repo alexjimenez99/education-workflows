{
  "cells": [
    {
      "cell_type": "markdown",
      "metadata": {
        "id": "eZE3RYhtql1T"
      },
      "source": [
        "**Package Imports**"
      ]
    },
    {
      "cell_type": "code",
      "execution_count": null,
      "metadata": {
        "id": "AjT2ZK7dLRVA"
      },
      "outputs": [],
      "source": [
        "# !pip install bayesian-optimization"
      ]
    },
    {
      "cell_type": "code",
      "execution_count": null,
      "metadata": {
        "id": "hPBSUeeQmNSm",
        "outputId": "c95ba67e-128d-41ae-d944-de19fadcdca7"
      },
      "outputs": [
        {
          "name": "stderr",
          "output_type": "stream",
          "text": [
            "2023-08-20 18:03:34.996108: I tensorflow/core/platform/cpu_feature_guard.cc:193] This TensorFlow binary is optimized with oneAPI Deep Neural Network Library (oneDNN) to use the following CPU instructions in performance-critical operations:  AVX2 FMA\n",
            "To enable them in other operations, rebuild TensorFlow with the appropriate compiler flags.\n"
          ]
        }
      ],
      "source": [
        "import numpy      as np\n",
        "import pandas     as pd\n",
        "import matplotlib.pyplot as plt\n",
        "import seaborn    as sns\n",
        "from   zipfile    import ZipFile\n",
        "from   datetime   import datetime\n",
        "import random\n",
        "import re\n",
        "import time\n",
        "\n",
        "from sklearn.ensemble        import RandomForestClassifier\n",
        "from sklearn.model_selection import train_test_split\n",
        "from sklearn.metrics         import accuracy_score\n",
        "from sklearn.decomposition   import PCA\n",
        "\n",
        "from bayes_opt               import BayesianOptimization\n",
        "from sklearn.model_selection import cross_val_score, StratifiedKFold\n",
        "from sklearn.metrics         import accuracy_score, make_scorer, roc_auc_score, log_loss\n",
        "from sklearn.utils           import class_weight\n",
        "from xgboost                 import XGBClassifier\n",
        "\n",
        "# import xgboost as xgb\n",
        "import tensorflow as tf\n",
        "from boruta import BorutaPy"
      ]
    },
    {
      "cell_type": "markdown",
      "metadata": {
        "id": "WeLMwtw_MWlM"
      },
      "source": [
        "**Google Drive Code**"
      ]
    },
    {
      "cell_type": "code",
      "execution_count": null,
      "metadata": {
        "id": "4SyvbuBDmSIL"
      },
      "outputs": [],
      "source": [
        "# ! pip install -q kaggle\n",
        "# from google.colab import files\n",
        "# files = files.upload()\n",
        "\n",
        "# ! mkdir ~/.kaggle          # Making New File Directory\n",
        "# !cp kaggle.json ~/.kaggle/ # New File Path\n",
        "# ! chmod 600 ~/.kaggle/kaggle.json  ## Permission\n",
        "\n",
        "# !kaggle datasets download -d brandao/diabetes"
      ]
    },
    {
      "cell_type": "markdown",
      "metadata": {
        "id": "D5sq4WGgqOlg"
      },
      "source": [
        "**Diabetes File Load**"
      ]
    },
    {
      "cell_type": "code",
      "execution_count": null,
      "metadata": {
        "colab": {
          "base_uri": "https://localhost:8080/"
        },
        "id": "-w4dBYzMmdoT",
        "outputId": "c4af9729-afcc-4ee5-ee9a-f61d87387be0"
      },
      "outputs": [
        {
          "name": "stdout",
          "output_type": "stream",
          "text": [
            "['description.pdf', 'diabetic_data.csv']\n"
          ]
        }
      ],
      "source": [
        "def load_datasets():\n",
        "  with ZipFile('diabetes.zip') as zip:\n",
        "    print(zip.namelist())\n",
        "    with zip.open(zip.namelist()[1]) as csv:\n",
        "      data = pd.read_csv(csv)\n",
        "\n",
        "  targets = data['readmitted']\n",
        "  x_data  = data[data.columns[2:len(data.columns)-1]]\n",
        "\n",
        "  return targets, x_data\n",
        "\n",
        "targets, x_data = load_datasets()\n",
        "\n",
        "# data = data.drop(columns = ['index'])\n",
        "# data['Patient Id'] = pd.factorize(data['Patient Id'])[0]"
      ]
    },
    {
      "cell_type": "code",
      "execution_count": null,
      "metadata": {
        "id": "TsWK3H-lMWlP"
      },
      "outputs": [],
      "source": [
        "# Understand How Many Values Are Missing\n",
        "# For each category -- Possible drop candidates\n",
        "def get_missing_counts():\n",
        "\n",
        "\tmissing_columns = []\n",
        "\tprint('Dataset Full Length: ', len(x_data.index))\n",
        "\tfor col in x_data.columns:\n",
        "\t\tcount = x_data[col].value_counts().get('?', 0) # get() returns 0 if '?' is not found\n",
        "\t\tprint(f\"Column {col} has {count} '?' values\")\n",
        "\n",
        "\t\tif float(count) > 0:\n",
        "\t\t\tmissing_columns.append(col)\n",
        "\n",
        "\treturn missing_columns\n",
        "\n",
        "missing_columns = get_missing_counts()"
      ]
    },
    {
      "cell_type": "code",
      "execution_count": null,
      "metadata": {
        "id": "7Ca-knGVMWlQ"
      },
      "outputs": [],
      "source": [
        "# Drop Columns Based on Missing Values...\n",
        "# if 1/3rd of dataset is missing values drop\n",
        "# Pointless to impute that many values\n",
        "\n",
        "def missing_drop(x_data):\n",
        "\n",
        "\t# A1Cresult has \"None\" ~ ? for most values\n",
        "\tcol_drops = ['weight', 'medical_specialty', 'payer_code', 'A1Cresult']\n",
        "\tx_data = x_data.drop(columns = col_drops)\n",
        "\n",
        "\treturn x_data\n",
        "\n",
        "x_data = missing_drop(x_data)"
      ]
    },
    {
      "cell_type": "code",
      "execution_count": null,
      "metadata": {
        "id": "k7UjYRGvMWlQ",
        "outputId": "2119909a-00ae-4388-a5b7-c9745674e683"
      },
      "outputs": [
        {
          "name": "stdout",
          "output_type": "stream",
          "text": [
            "['race', 'diag_1', 'diag_2', 'diag_3']\n"
          ]
        },
        {
          "name": "stderr",
          "output_type": "stream",
          "text": [
            "/var/folders/ht/6l5r0flj7cz0trk5ctm_h1v80000gn/T/ipykernel_35136/1140767665.py:9: SettingWithCopyWarning: \n",
            "A value is trying to be set on a copy of a slice from a DataFrame\n",
            "\n",
            "See the caveats in the documentation: https://pandas.pydata.org/pandas-docs/stable/user_guide/indexing.html#returning-a-view-versus-a-copy\n",
            "  x_data[missing_columns].replace('?', np.nan, inplace = True)\n"
          ]
        }
      ],
      "source": [
        "# Fill in missing values for columns that\n",
        "# Were not dropped in missing_drop()\n",
        "\n",
        "from sklearn.impute import SimpleImputer\n",
        "\n",
        "def fill_missing(x_data, missing_columns):\n",
        "\n",
        "\tmissing_columns = [col for col in missing_columns if col in x_data]\n",
        "\tx_data[missing_columns].replace('?', np.nan, inplace = True)\n",
        "\tprint(missing_columns)\n",
        "\tfor col in missing_columns:\n",
        "\t\timputer = SimpleImputer(missing_values = np.nan, strategy = 'most_frequent')\n",
        "\t\tx_data[col] = imputer.fit_transform(np.array(x_data[col]).reshape(-1, 1))\n",
        "\n",
        "\n",
        "\treturn x_data\n",
        "\n",
        "x_data = fill_missing(x_data, missing_columns)"
      ]
    },
    {
      "cell_type": "markdown",
      "metadata": {
        "id": "UJvzlR2IgyD7"
      },
      "source": [
        "**Changing Diagnoses Columns**\n",
        "1. ICD9 defines ranges of codes, so let's reduce the amount of variables in these columns\n",
        "2. https://en.wikipedia.org/wiki/List_of_ICD-9_codes"
      ]
    },
    {
      "cell_type": "code",
      "execution_count": null,
      "metadata": {
        "id": "_qoNb8IJyYuQ"
      },
      "outputs": [],
      "source": [
        "[print(x_data[col].value_counts()) for col in x_data]"
      ]
    },
    {
      "cell_type": "code",
      "execution_count": null,
      "metadata": {
        "id": "Ty3wKTrmgx33"
      },
      "outputs": [],
      "source": [
        "infectious          = range(0, 140)\n",
        "neoplasms           = range(140, 240)\n",
        "endo_mental_blood   = range(240, 320)\n",
        "nervous_system      = range(320, 390)\n",
        "circulatory         = range(390, 460)\n",
        "respiratory         = range(460, 520)\n",
        "digestive           = range(520, 580)\n",
        "gentinory_pregnancy = range(580, 680)\n",
        "skin                = range(680, 710)\n",
        "musculoskeletal     = range(710, 740)\n",
        "congenital          = range(740, 760)\n",
        "perinatal_undef     = range(760, 800)\n",
        "injury              = range(800, 1000)\n",
        "\n",
        "\n",
        "def categorize_diagnosis(data):\n",
        "\n",
        "  value      = None\n",
        "\n",
        "  new_values = []\n",
        "  for entry in data:\n",
        "    try:\n",
        "      entry    = float(entry)\n",
        "      entry    = round(entry, 0)\n",
        "      entry    = int(entry)\n",
        "    except ValueError:\n",
        "      value    = 13\n",
        "\n",
        "    if entry in infectious:\n",
        "      value  = 0\n",
        "    elif entry in neoplasms:\n",
        "      value  = 1\n",
        "    elif entry in endo_mental_blood:\n",
        "      value  = 2\n",
        "    elif entry in nervous_system:\n",
        "      value  = 3\n",
        "    elif entry in circulatory:\n",
        "      value  = 4\n",
        "    elif entry in respiratory:\n",
        "      value = 5\n",
        "    elif entry in digestive:\n",
        "      value = 6\n",
        "    elif entry in gentinory_pregnancy:\n",
        "      value = 7\n",
        "    elif entry in skin:\n",
        "      value = 8\n",
        "    elif entry in musculoskeletal:\n",
        "      value = 9\n",
        "    elif entry in congenital:\n",
        "      value = 10\n",
        "    elif entry in perinatal_undef:\n",
        "      value = 11\n",
        "    elif entry in injury:\n",
        "      value = 12\n",
        "\n",
        "    new_values.append(value)\n",
        "\n",
        "  return new_values\n",
        "# Define the bins and their labels\n",
        "# bins   = [0, 139, 279, 419, 559, 699, 800]\n",
        "# labels = ['Infectious Diseases', 'Another Category', 'Third Category', 'Fourth Category', 'Fifth Category', 'Other']\n",
        "\n",
        "# # Create a new column in the DataFrame with the category\n",
        "# dataset['category'] = pd.cut(dataset['column_name'], bins=bins, labels=labels, right=True, include_lowest=True)\n",
        "\n",
        "\n",
        "new_diag1            = categorize_diagnosis(x_data['diag_1'])\n",
        "new_diag2            = categorize_diagnosis(x_data['diag_2'])\n",
        "new_diag3            = categorize_diagnosis(x_data['diag_3'])\n",
        "\n",
        "x_data['diag_1']     = new_diag1\n",
        "x_data['diag_2']     = new_diag2\n",
        "x_data['diag_3']     = new_diag3\n",
        "\n",
        "\n",
        "def create_risk(x_data, drop = True):\n",
        "    x_data['Patient Risk'] = x_data['time_in_hospital'] + x_data['num_lab_procedures']\\\n",
        "                    + x_data['num_procedures']\n",
        "\n",
        "    if drop:\n",
        "      x_data = x_data.drop(columns = ['time_in_hospital', 'num_lab_procedures', 'num_procedures'])\n",
        "\n",
        "    return x_data\n",
        "\n",
        "\n",
        "x_data = create_risk(x_data, drop = True)"
      ]
    },
    {
      "cell_type": "code",
      "execution_count": null,
      "metadata": {
        "id": "e5heoOaIMWlT"
      },
      "outputs": [],
      "source": [
        "def create_utilization(x_data, drop = True):\n",
        "\n",
        "\tutilization_columns = ['number_inpatient', 'number_emergency', 'number_outpatient']\n",
        "\tx_data['Patient Utilization'] = x_data['number_inpatient'] + x_data['number_emergency'] + x_data['number_outpatient']\n",
        "\n",
        "\tif drop:\n",
        "\t\tx_data = x_data.drop(columns = utilization_columns)\n",
        "\n",
        "\treturn x_data\n",
        "\n",
        "\n",
        "x_data = create_utilization(x_data, drop = True)"
      ]
    },
    {
      "cell_type": "code",
      "execution_count": null,
      "metadata": {
        "id": "jBzqqWBR4kKR"
      },
      "outputs": [],
      "source": [
        "def simplify_admission_id(data):\n",
        "\n",
        "  data['admission_source_id'] = data['admission_source_id'].map(lambda x: 0 if x in [0, 1] else 1)\n",
        "\n",
        "  return data\n",
        "\n",
        "x_data = simplify_admission_id(x_data)"
      ]
    },
    {
      "cell_type": "code",
      "execution_count": null,
      "metadata": {
        "id": "6KA2Hn85sBcK"
      },
      "outputs": [],
      "source": [
        "# no users or almost no users so dropping these\n",
        "# Drop parameter determines whether drop happens\n",
        "# Features are chosen later with variance threshold\n",
        "\n",
        "def drop_low_use(x_data, drop = False):\n",
        "\n",
        "  if drop:\n",
        "    low_use_medicines = ['metformin-rosiglitazone', 'glimepiride-pioglitazone',\n",
        "                        'glipizide-metformin', 'tolazamide', 'examide',\n",
        "                        'miglitol', 'glimepiride']\n",
        "\n",
        "    x_data            = x_data.drop(columns = low_use_medicines)\n",
        "\n",
        "  return x_data\n",
        "\n",
        "# x_data = drop_low_use(x_data)\n"
      ]
    },
    {
      "cell_type": "markdown",
      "metadata": {
        "id": "qfmkmNRIqKJt"
      },
      "source": [
        "**Targets**"
      ]
    },
    {
      "cell_type": "code",
      "execution_count": null,
      "metadata": {
        "id": "jAPsWyIYpiW8"
      },
      "outputs": [],
      "source": [
        "# Spit the datasets into the x_data and into Training Sets\n",
        "\n",
        "def create_datasets(binary_targets, encoding_scheme = 'Kaggle'):\n",
        "\n",
        "  experimental_length = len(x_data.index)\n",
        "  x_training          = x_data\n",
        "\n",
        "  target_factorized   = pd.factorize(targets[:experimental_length])[0]\n",
        "  target_label        = pd.factorize(targets[:experimental_length])[1]\n",
        "\n",
        "  if encoding_scheme == 'Kaggle':\n",
        "     removal_value    = 1 # Represents > 30 days readmission\n",
        "  else:\n",
        "     removal_value    = 2  # Represents < 30 days readmission\n",
        "\n",
        "  if binary_targets and removal_value == 2:\n",
        "    target_factorized = np.array([item if item != removal_value else 1 for item in target_factorized])\n",
        "\n",
        "  elif binary_targets and removal_value == 1:\n",
        "    target_factorized  = np.array([item if item != removal_value else 0 for item in target_factorized])\n",
        "    target_factorized  = pd.Series(target_factorized)\n",
        "    target_factorized  = target_factorized.apply(lambda x: 0 if x == 0 else 1)\n",
        "    target_factorized  = np.array(target_factorized)\n",
        "\n",
        "  else:\n",
        "     pass\n",
        "\n",
        "  x_factorized        = [pd.factorize(x_training[col])[0] for col in list(x_training.columns)]\n",
        "  x_labels            = [pd.factorize(x_training[col])[1] for col in list(x_training.columns)]\n",
        "\n",
        "  for col in range(len(x_training.columns)):\n",
        "      x_training[x_training.columns[col]]    = x_factorized[col]\n",
        "      x_training                             = x_training[:experimental_length]\n",
        "\n",
        "\n",
        "  return target_factorized, x_training\n",
        "\n",
        "\n",
        "binary_targets      = True             # Readmitted vs Non readmitted (ignoring period of readmission)\n",
        "target_factorized, x_training = create_datasets(binary_targets)"
      ]
    },
    {
      "cell_type": "markdown",
      "metadata": {
        "id": "haVqPIuN_YrR"
      },
      "source": [
        "**Removing Features**"
      ]
    },
    {
      "cell_type": "code",
      "execution_count": null,
      "metadata": {
        "id": "hLhnpou0aiVr"
      },
      "outputs": [],
      "source": [
        "from sklearn.feature_selection import VarianceThreshold\n",
        "from sklearn.feature_selection import SelectKBest, chi2\n",
        "from sklearn.preprocessing import KBinsDiscretizer\n",
        "import math\n",
        "\n",
        "# Resetting the value of X to make it non-categorical\n",
        "# X = array[:, 0:8]\n",
        "\n",
        "class FeatureSelection:\n",
        "\n",
        "    def __init__(self, x_training, target_factorized, selection_method = 'kbest'):\n",
        "\n",
        "      self.x_training        = x_training\n",
        "      self.target_factorized = target_factorized\n",
        "      self.selection_method  = selection_method\n",
        "\n",
        "\n",
        "    def feature_select(self, x_training, target_factorized, min_features = 2, max_features = 20, selection_method = 'kbest'):\n",
        "\n",
        "      if selection_method == 'kbest':\n",
        "        x_trainings = []\n",
        "\n",
        "        for feature in range(min_features, max_features):\n",
        "          k_best_features = SelectKBest(chi2, k=feature)\n",
        "          x_train_thresh = k_best_features.fit_transform(x_training, target_factorized)\n",
        "\n",
        "          x_train_thresh = pd.DataFrame(x_train_thresh)\n",
        "\n",
        "\n",
        "          column_names   = []\n",
        "\n",
        "          index_columns = k_best_features.get_support(indices=True)\n",
        "          for index in index_columns:\n",
        "            column_names.append(x_training.columns[index])\n",
        "\n",
        "          x_train_thresh.columns = column_names\n",
        "          x_trainings.append(x_train_thresh)\n",
        "\n",
        "        return x_trainings\n",
        "\n",
        "      # return normal data if BorutaPy\n",
        "      # Coding will be done outside of this class\n",
        "      elif selection_method == 'boruta':\n",
        "\n",
        "        return x_training\n",
        "      # elif selection_method = 'boruta':\n",
        "\n",
        "\n",
        "\n",
        "    def feature_selector(self):\n",
        "      x_train_thresh    = self.feature_select(self.x_training, self.target_factorized, selection_method = self.selection_method)\n",
        "\n",
        "      option            = ['kbest', 'mutual_class_info']\n",
        "      choice            = option[0]\n",
        "      if choice == option[0]:\n",
        "        x_feature_selected = x_train_thresh\n",
        "      elif choice == option[1]:\n",
        "        features_selected = ['number_inpatient', 'diabetesMed', 'number_emergency',\n",
        "                            'change', 'gender', 'discharge_disposition_id']\n",
        "        x_feature_selected = x_training[features_selected]\n",
        "\n",
        "      x_trains  = []\n",
        "      x_tests   = []\n",
        "      y_trains  = []\n",
        "      y_tests    = []\n",
        "\n",
        "      if isinstance(x_feature_selected, list):\n",
        "        for training_data in x_feature_selected:\n",
        "          x_train, x_test, y_train, y_test = train_test_split(training_data, target_factorized, test_size = 0.2, shuffle = True, random_state = 42)\n",
        "\n",
        "          x_trains.append(x_train)\n",
        "          x_tests.append(x_test)\n",
        "          y_trains.append(y_train)\n",
        "          y_tests.append(y_test)\n",
        "\n",
        "        return x_trains, x_tests, y_trains, y_tests\n",
        "\n",
        "      else:\n",
        "        x_train, x_test, y_train, y_test = train_test_split(x_feature_selected, target_factorized, test_size = 0.2, shuffle = True, random_state = 42)\n",
        "\n",
        "        return x_train, x_test, y_train, y_test\n",
        "\n",
        "      # x_train, x_val, y_train, y_val   = train_test_split(x_train, y_train, test_size = 0.15, shuffle = True)\n",
        "\n",
        "\n",
        "\n",
        "    def basic_dataset(self):\n",
        "\n",
        "      x_train, x_test, y_train, y_test = train_test_split(self.x_training, self.target_factorized, test_size = 0.2, shuffle = True, random_state = 42)\n",
        "\n",
        "      return x_train, x_test, y_train, y_test\n",
        "\n",
        "\n",
        "x_train, x_test, y_train, y_test = FeatureSelection(x_training, target_factorized).basic_dataset()\n",
        "    # x_train_thresh = feature_select(x_training)\n",
        "\n",
        "# For Looking at Different Conditions\n",
        "# Given X condition, how many people were readmitted in X days (for example)\n",
        "# join_data = pd.concat([x_train_thresh, pd.DataFrame(target_factorized, columns= ['readmission'])], axis = 1)"
      ]
    },
    {
      "cell_type": "markdown",
      "metadata": {
        "id": "NQq07T3RzKdH"
      },
      "source": [
        "**Discretize in Bins**"
      ]
    },
    {
      "cell_type": "code",
      "execution_count": null,
      "metadata": {
        "id": "NHcfrM0t2BL3"
      },
      "outputs": [],
      "source": [
        "# def investigate_conditions(value_1, col1, value_2,  col2 = 'readmission'):\n",
        "\n",
        "#   print('Total Dataset Length: ', len(join_data.index))\n",
        "#   print('Readmission Total >30 days: ', len(join_data[join_data[col2] == value_2]))\n",
        "#   print('Readmission None: ', len(join_data[join_data[col2] == 0]))\n",
        "#   condition = join_data[(join_data[col1] != value_1) & (join_data[col2] == value_2)]\n",
        "\n",
        "#   return condition\n",
        "\n",
        "# investigate_conditions(0, 'number_outpatient', 1)\n",
        "\n",
        "# def descritize_data(x_train_thresh):\n",
        "\n",
        "#   time_in_hosp        = 5\n",
        "#   bin_size            = 10\n",
        "#   descritized_columns = ['num_lab_procedures', 'num_procedures', 'time_in_hospital']\n",
        "\n",
        "#   for col in descritized_columns:\n",
        "#     if col != 'time_in_hospital':\n",
        "#       for index in x_train_thresh.index:\n",
        "#         x_train_thresh.loc[index, col] = math.floor(x_train_thresh.loc[index, col] / bin_size) * bin_size\n",
        "#     else:\n",
        "#       for index in x_train_thresh.index:\n",
        "#         x_train_thresh.loc[index, col] = math.floor(x_train_thresh.loc[index, col] / time_in_hosp) * time_in_hosp\n",
        "\n",
        "\n",
        "#     return x_train_thresh\n",
        "\n",
        "# x_train_thresh = descritize_data(x_train_thresh)\n",
        "\n",
        "\n",
        "# def map_data(col_name, boundary = 1):\n",
        "\n",
        "#   x_train_thresh[col_name] = x_train_thresh[col_name].apply(lambda x: 1 if x > boundary else 0)\n",
        "\n",
        "#   return x_train_thresh\n",
        "\n",
        "# x_train_thresh = map_data('number_outpatient')\n",
        "# x_train_thresh = map_data('number_emergency')\n",
        "\n",
        "# from sklearn.preprocessing import OneHotEncoder\n",
        "\n",
        "# def one_hot_encode_targets(target_factorized):\n",
        "#   encoder = OneHotEncoder()\n",
        "#   encoded = encoder.fit_transform(target_factorized.reshape(1, -1))\n",
        "\n",
        "#   return encoded.toarray()\n",
        "\n",
        "# Check This Not Sure why Encodings are off\n",
        "# encoded = one_hot_encode_targets(target_factorized)"
      ]
    },
    {
      "cell_type": "markdown",
      "metadata": {
        "id": "1wvIIGgJMWlX"
      },
      "source": [
        "**Feature Combination Brianstorm**"
      ]
    },
    {
      "cell_type": "markdown",
      "metadata": {
        "id": "RZ2IhEy4kR5Q"
      },
      "source": [
        "# Exploratory Data Analysis"
      ]
    },
    {
      "cell_type": "markdown",
      "metadata": {
        "id": "IEnEE2mV3Ilk"
      },
      "source": [
        "**Targets Distribution**\n",
        "1. 0 = No readmission\n",
        "2. 1 = Admission > 30 days\n",
        "3. 2 = admission < 30 days"
      ]
    },
    {
      "cell_type": "code",
      "execution_count": null,
      "metadata": {
        "colab": {
          "base_uri": "https://localhost:8080/",
          "height": 466
        },
        "id": "9DdZwNdixuPH",
        "outputId": "a45fc648-1422-4119-f274-8b0bb72fa633"
      },
      "outputs": [
        {
          "data": {
            "text/plain": [
              "<AxesSubplot: xlabel='readmission', ylabel='Count'>"
            ]
          },
          "execution_count": 37,
          "metadata": {},
          "output_type": "execute_result"
        },
        {
          "data": {
            "image/png": "[encoded data removed]",
            "text/plain": [
              "<Figure size 432x288 with 1 Axes>"
            ]
          },
          "metadata": {
            "needs_background": "light"
          },
          "output_type": "display_data"
        }
      ],
      "source": [
        "sns.histplot(join_data['readmission'])"
      ]
    },
    {
      "cell_type": "code",
      "execution_count": null,
      "metadata": {
        "id": "xKruKg6_dlp0"
      },
      "outputs": [],
      "source": [
        "pca_model          = PCA(n_components = 2)\n",
        "x_pca              = pca_model.fit_transform(x_feature_selected)\n",
        "explained_variance = pca_model.explained_variance_ratio_ # ~ 80 % by PCA 1 and 2"
      ]
    },
    {
      "cell_type": "markdown",
      "metadata": {
        "id": "-Mz7jPwgk6AT"
      },
      "source": [
        "**PCA Plots**\n",
        "1. No Visual Separation with 2 PC's\n",
        "2. Tried Dropping Diagnostics and w/ Diagnostics\n",
        "3. Running PCA on a reduced dataset is pointless --> PCA pretty much does the reduction and the plot looks the same because removed variables have very low weights in the PC's\n"
      ]
    },
    {
      "cell_type": "code",
      "execution_count": null,
      "metadata": {
        "colab": {
          "base_uri": "https://localhost:8080/",
          "height": 482
        },
        "id": "NZaEacXafiL_",
        "outputId": "b556fe33-a534-4481-d752-f70528d36212"
      },
      "outputs": [
        {
          "data": {
            "text/plain": [
              "Text(0.5, 0, 'PC1 (61.51%)')"
            ]
          },
          "execution_count": 40,
          "metadata": {},
          "output_type": "execute_result"
        },
        {
          "data": {
            "image/png": "[encoded data removed]",
            "text/plain": [
              "<Figure size 576x360 with 1 Axes>"
            ]
          },
          "metadata": {
            "needs_background": "light"
          },
          "output_type": "display_data"
        }
      ],
      "source": [
        "fig           = plt.figure(0, figsize = (8,5))\n",
        "# ymax      = 50\n",
        "# xmax      = 100\n",
        "\n",
        "# Legend Won't Show Without Loop\n",
        "target_classes = np.unique(target_factorized)\n",
        "for label in target_classes:\n",
        "  plt.scatter(x_pca[target_factorized==label, 0], \\\n",
        "              x_pca[target_factorized==label, 1], label = label)\n",
        "\n",
        "admission_titles = ['NO Readmission', 'Readmission > 30 Days', 'Readmission < 30 Days']\n",
        "plt.legend(admission_titles)\n",
        "plt.ylabel('PC2 ({}%)'.format(round(explained_variance[1] * 100, 2)))\n",
        "plt.xlabel('PC1 ({}%)'.format(round(explained_variance[0] * 100, 2)))"
      ]
    },
    {
      "cell_type": "markdown",
      "metadata": {
        "id": "ohjA5_chtNnM"
      },
      "source": [
        "**Plotting Seperately**"
      ]
    },
    {
      "cell_type": "code",
      "execution_count": null,
      "metadata": {
        "colab": {
          "base_uri": "https://localhost:8080/",
          "height": 447
        },
        "id": "SN13z1u0lIpd",
        "outputId": "ec12bb40-5810-45b1-88e4-72a69ff324cf"
      },
      "outputs": [
        {
          "data": {
            "text/plain": [
              "<matplotlib.collections.PathCollection at 0x7feee52a71c0>"
            ]
          },
          "execution_count": 20,
          "metadata": {},
          "output_type": "execute_result"
        },
        {
          "data": {
            "image/png": "[encoded data removed]",
            "text/plain": [
              "<Figure size 432x288 with 3 Axes>"
            ]
          },
          "metadata": {
            "needs_background": "light"
          },
          "output_type": "display_data"
        }
      ],
      "source": [
        "fig, ax = plt.subplots(3, sharey = True, sharex = True)\n",
        "\n",
        "ax[0].scatter(x_pca[target_factorized == target_classes[0],0], \\\n",
        "              x_pca[target_factorized == target_classes[0], 1], \\\n",
        "              label = target_classes[0], color = ['blue'])\n",
        "\n",
        "ax[1].scatter(x_pca[target_factorized == target_classes[1], 0], \\\n",
        "              x_pca[target_factorized == target_classes[1], 1], \\\n",
        "              label = target_classes[1], color = ['orange'])\n",
        "\n",
        "ax[2].scatter(x_pca[target_factorized == target_classes[2], 0], \\\n",
        "              x_pca[target_factorized == target_classes[2], 1],\\\n",
        "              label = target_classes[1], color = ['green'])\n"
      ]
    },
    {
      "cell_type": "markdown",
      "metadata": {
        "id": "WGzh32Tq0lIN"
      },
      "source": [
        "**Feature Selection**"
      ]
    },
    {
      "cell_type": "code",
      "execution_count": null,
      "metadata": {
        "colab": {
          "base_uri": "https://localhost:8080/",
          "height": 559
        },
        "id": "5TQhjk5fdHQM",
        "outputId": "3c3ed889-d35c-461d-d8e0-07da1e9923ad"
      },
      "outputs": [
        {
          "data": {
            "image/png": "[encoded data removed]",
            "text/plain": [
              "<Figure size 792x504 with 1 Axes>"
            ]
          },
          "metadata": {
            "needs_background": "light"
          },
          "output_type": "display_data"
        }
      ],
      "source": [
        "from   sklearn.feature_selection import mutual_info_classif\n",
        "import matplotlib.pyplot as plt\n",
        "\n",
        "fig              = plt.figure(figsize = (11, 7))\n",
        "importances      = mutual_info_classif(x_training, target_factorized)\n",
        "feat_importances = pd.Series(importances, x_training.columns[:len(x_training.columns)])\n",
        "feat_importances.plot(kind='barh', color = 'teal')\n",
        "plt.yticks(rotation = 30)\n",
        "plt.show()"
      ]
    },
    {
      "cell_type": "markdown",
      "metadata": {
        "id": "_s86gV9Z6yXD"
      },
      "source": [
        "**Variables That Seem To Be Important from Mutual Class Info Test**\n",
        "1. Number of Inpatient (visits to hospital)\n",
        "2. Diabetes Medication (Taking Meds Yes or No)\n",
        "3. Number of Emergency\n",
        "4. Change\n",
        "5. Gender\n",
        "6. Discharge Disposition ID\n"
      ]
    },
    {
      "cell_type": "markdown",
      "metadata": {
        "id": "ba73G3UD4P9u"
      },
      "source": [
        "**Pearson's Correlation Coefficient**"
      ]
    },
    {
      "cell_type": "code",
      "execution_count": null,
      "metadata": {
        "id": "JM68cZy-4KYq"
      },
      "outputs": [],
      "source": [
        "hmap_figure = plt.figure(figsize = (11, 7))\n",
        "sns.heatmap(x_training.corr())"
      ]
    },
    {
      "cell_type": "markdown",
      "metadata": {
        "id": "D0JX_nqbWBbm"
      },
      "source": [
        "**Fischer's Score**"
      ]
    },
    {
      "cell_type": "code",
      "execution_count": null,
      "metadata": {
        "id": "x2GL-73fWNUw"
      },
      "outputs": [],
      "source": [
        "!pip install skfeature-chappers"
      ]
    },
    {
      "cell_type": "code",
      "execution_count": null,
      "metadata": {
        "id": "9Cs4xyzbWBMu"
      },
      "outputs": [],
      "source": [
        "from skfeature.function.similarity_based import fisher_score\n",
        "import matplotlib.pyplot as plt\n",
        "\n",
        "# Calculating scores\n",
        "ranks            = fisher_score.fisher_score(x_training, target_factorized) # plot the ranks\n",
        "feat_importances = pd.Series(ranks, x_training.columns)\n",
        "feat_importances.plot(kind='barh', color = 'teal')\n",
        "plt.show()"
      ]
    },
    {
      "cell_type": "markdown",
      "metadata": {
        "id": "cVc_DQW4ajGj"
      },
      "source": [
        "**Checking High Variance Variables before Discretization**\n",
        "1. Variance Threshold = 1 produces ~ 58% accuracy\n",
        "2. All Features produces ~ 55%\n",
        "3. Variance Treshold  = 2 produces ~ 56% accuracy\n",
        "4. Variance Threshold = 3 produces ~ 55% accuracy\n",
        "5. Variance Threshold = 0.5 produces ~ 59% accuracy\n",
        "6. Variance Threshold = 0 produces ~ 59% accuracy"
      ]
    },
    {
      "cell_type": "markdown",
      "metadata": {
        "id": "5iEVHOBY0Dul"
      },
      "source": [
        "**Variables That Could Be Descritized**\n",
        "1. Discharge Disposition ID(Depending on meaning) (30 max)\n",
        "2. Time in hospital (15 max)\n",
        "3. Num Lab Procedures (130 max)\n",
        "4. Num Medications (80 max)\n",
        "5. Number outpateints and inpatinet"
      ]
    },
    {
      "cell_type": "code",
      "execution_count": null,
      "metadata": {
        "id": "D6Mn4hCrz0N6"
      },
      "outputs": [],
      "source": [
        "unique_variables = [len(x_data[col].unique()) for col in x_data.columns]\n",
        "plt.hist(unique_variables, range = (0,80), bins = 10)\n",
        "plt.ylabel('Number of Variables')\n",
        "plt.xlabel('Unique Values')"
      ]
    },
    {
      "cell_type": "code",
      "execution_count": null,
      "metadata": {
        "id": "OD3bPn95B5Bh"
      },
      "outputs": [],
      "source": [
        "[x_training[col].unique() for col in x_training]"
      ]
    },
    {
      "cell_type": "markdown",
      "metadata": {
        "id": "mXux1AoRrGK8"
      },
      "source": [
        "**Random Forest Classifier**"
      ]
    },
    {
      "cell_type": "code",
      "execution_count": null,
      "metadata": {
        "id": "70sX6IVHqgbP",
        "outputId": "4c2b22bd-7dd6-440a-bd40-a431f7c2795e"
      },
      "outputs": [
        {
          "name": "stderr",
          "output_type": "stream",
          "text": [
            "[Parallel(n_jobs=1)]: Using backend SequentialBackend with 1 concurrent workers.\n",
            "[Parallel(n_jobs=1)]: Done 100 out of 100 | elapsed:    9.0s finished\n",
            "[Parallel(n_jobs=1)]: Using backend SequentialBackend with 1 concurrent workers.\n",
            "[Parallel(n_jobs=1)]: Done 100 out of 100 | elapsed:    0.6s finished\n"
          ]
        },
        {
          "data": {
            "text/plain": [
              "0.5714847204480692"
            ]
          },
          "execution_count": 22,
          "metadata": {},
          "output_type": "execute_result"
        }
      ],
      "source": [
        "random_forest = RandomForestClassifier(n_estimators = 100, verbose = True)\n",
        "random_forest.fit(x_train, y_train)\n",
        "\n",
        "predictions = random_forest.predict(x_test)\n",
        "accuracy_score(predictions, y_test)"
      ]
    },
    {
      "cell_type": "markdown",
      "metadata": {
        "id": "F6aj6Wp7DYWC"
      },
      "source": [
        "# Section XX: XGBoost Model\n",
        "Regularization (overfitting prevention) Parameters:\n",
        "1. Sub Sample (0.1-1)\n",
        "2. Cal Sample by Level (0.1-1)\n",
        "3. Cal Sample by Tree (0.1-1)\n",
        "4. Min-childweight\n",
        "5. lambda-yalp"
      ]
    },
    {
      "cell_type": "code",
      "execution_count": null,
      "metadata": {
        "id": "y-7raeIl6Laj",
        "outputId": "df5e9050-6281-4244-90cc-b775288a7e63"
      },
      "outputs": [
        {
          "ename": "NameError",
          "evalue": "name 'xgb' is not defined",
          "output_type": "error",
          "traceback": [
            "\u001b[0;31m---------------------------------------------------------------------------\u001b[0m",
            "\u001b[0;31mNameError\u001b[0m                                 Traceback (most recent call last)",
            "\u001b[1;32m/Users/alexjimenez/Desktop/Current Desktop/Desktop/Code/Resume Code (GoogleDrive)/Diabetes Dataset/Diabetes_Random_Forest_and_XGBoost_Algorithm.ipynb Cell 47\u001b[0m in \u001b[0;36m<cell line: 7>\u001b[0;34m()\u001b[0m\n\u001b[1;32m      <a href='vscode-notebook-cell:/Users/alexjimenez/Desktop/Current%20Desktop/Desktop/Code/Resume%20Code%20%28GoogleDrive%29/Diabetes%20Dataset/Diabetes_Random_Forest_and_XGBoost_Algorithm.ipynb#X66sZmlsZQ%3D%3D?line=2'>3</a>\u001b[0m \u001b[39melse\u001b[39;00m:\n\u001b[1;32m      <a href='vscode-notebook-cell:/Users/alexjimenez/Desktop/Current%20Desktop/Desktop/Code/Resume%20Code%20%28GoogleDrive%29/Diabetes%20Dataset/Diabetes_Random_Forest_and_XGBoost_Algorithm.ipynb#X66sZmlsZQ%3D%3D?line=3'>4</a>\u001b[0m   objective \u001b[39m=\u001b[39m \u001b[39m'\u001b[39m\u001b[39mmulti:softmax\u001b[39m\u001b[39m'\u001b[39m\n\u001b[0;32m----> <a href='vscode-notebook-cell:/Users/alexjimenez/Desktop/Current%20Desktop/Desktop/Code/Resume%20Code%20%28GoogleDrive%29/Diabetes%20Dataset/Diabetes_Random_Forest_and_XGBoost_Algorithm.ipynb#X66sZmlsZQ%3D%3D?line=6'>7</a>\u001b[0m xgb_model         \u001b[39m=\u001b[39m xgb\u001b[39m.\u001b[39mXGBClassifier(n_estimators \u001b[39m=\u001b[39m \u001b[39m50\u001b[39m, learning_rate \u001b[39m=\u001b[39m \u001b[39m0.1\u001b[39m,\n\u001b[1;32m      <a href='vscode-notebook-cell:/Users/alexjimenez/Desktop/Current%20Desktop/Desktop/Code/Resume%20Code%20%28GoogleDrive%29/Diabetes%20Dataset/Diabetes_Random_Forest_and_XGBoost_Algorithm.ipynb#X66sZmlsZQ%3D%3D?line=7'>8</a>\u001b[0m                               objective   \u001b[39m=\u001b[39m objective,\n\u001b[1;32m      <a href='vscode-notebook-cell:/Users/alexjimenez/Desktop/Current%20Desktop/Desktop/Code/Resume%20Code%20%28GoogleDrive%29/Diabetes%20Dataset/Diabetes_Random_Forest_and_XGBoost_Algorithm.ipynb#X66sZmlsZQ%3D%3D?line=8'>9</a>\u001b[0m                               min_child_weight \u001b[39m=\u001b[39m \u001b[39m0\u001b[39m, reg_alpha \u001b[39m=\u001b[39m \u001b[39m20\u001b[39m, reg_lambda \u001b[39m=\u001b[39m \u001b[39m35\u001b[39m)\n\u001b[1;32m     <a href='vscode-notebook-cell:/Users/alexjimenez/Desktop/Current%20Desktop/Desktop/Code/Resume%20Code%20%28GoogleDrive%29/Diabetes%20Dataset/Diabetes_Random_Forest_and_XGBoost_Algorithm.ipynb#X66sZmlsZQ%3D%3D?line=10'>11</a>\u001b[0m model_fits        \u001b[39m=\u001b[39m xgb_model\u001b[39m.\u001b[39mfit(x_train, y_train,\n\u001b[1;32m     <a href='vscode-notebook-cell:/Users/alexjimenez/Desktop/Current%20Desktop/Desktop/Code/Resume%20Code%20%28GoogleDrive%29/Diabetes%20Dataset/Diabetes_Random_Forest_and_XGBoost_Algorithm.ipynb#X66sZmlsZQ%3D%3D?line=11'>12</a>\u001b[0m                     eval_set \u001b[39m=\u001b[39m [(x_train, y_train),(x_val, y_val)],\n\u001b[1;32m     <a href='vscode-notebook-cell:/Users/alexjimenez/Desktop/Current%20Desktop/Desktop/Code/Resume%20Code%20%28GoogleDrive%29/Diabetes%20Dataset/Diabetes_Random_Forest_and_XGBoost_Algorithm.ipynb#X66sZmlsZQ%3D%3D?line=12'>13</a>\u001b[0m                     verbose \u001b[39m=\u001b[39m \u001b[39mFalse\u001b[39;00m)\n\u001b[1;32m     <a href='vscode-notebook-cell:/Users/alexjimenez/Desktop/Current%20Desktop/Desktop/Code/Resume%20Code%20%28GoogleDrive%29/Diabetes%20Dataset/Diabetes_Random_Forest_and_XGBoost_Algorithm.ipynb#X66sZmlsZQ%3D%3D?line=14'>15</a>\u001b[0m xgb_predictions   \u001b[39m=\u001b[39m xgb_model\u001b[39m.\u001b[39mpredict(x_test)\n",
            "\u001b[0;31mNameError\u001b[0m: name 'xgb' is not defined"
          ]
        }
      ],
      "source": [
        "if binary_targets:\n",
        "  objective = 'binary:logistic'\n",
        "else:\n",
        "  objective = 'multi:softmax'\n",
        "\n",
        "\n",
        "xgb_model         = xgb.XGBClassifier(n_estimators = 50, learning_rate = 0.1,\n",
        "                              objective   = objective,\n",
        "                              min_child_weight = 0, reg_alpha = 20, reg_lambda = 35)\n",
        "\n",
        "model_fits        = xgb_model.fit(x_train, y_train,\n",
        "                    eval_set = [(x_train, y_train),(x_val, y_val)],\n",
        "                    verbose = False)\n",
        "\n",
        "xgb_predictions   = xgb_model.predict(x_test)\n",
        "accuracies        = [accuracy_score(y_test, xgb_predictions)]\n",
        "accuracy_score(y_test, xgb_predictions)"
      ]
    },
    {
      "cell_type": "code",
      "execution_count": null,
      "metadata": {
        "id": "kU4-gFHFC03s"
      },
      "outputs": [],
      "source": [
        "def plot_losses():\n",
        "\n",
        "  loss                = xgb_model.evals_result()\n",
        "  training_loss       = dict(loss['validation_0'])['mlogloss']\n",
        "  validation_loss     = dict(loss['validation_1'])['mlogloss']\n",
        "\n",
        "  plt.plot(range(1, len(training_loss)+1), training_loss, label = 'Training')\n",
        "  plt.plot(range(1, len(validation_loss)+1), validation_loss, label = 'Validation')\n",
        "  plt.xlabel('Training Cycles (N_estimators)')\n",
        "  plt.legend()\n",
        "\n",
        "  return\n",
        "\n",
        "plot_losses()"
      ]
    },
    {
      "cell_type": "markdown",
      "metadata": {
        "id": "KCxR5sCmCY-Y"
      },
      "source": [
        "**Hyperparameter Optimization**"
      ]
    },
    {
      "cell_type": "code",
      "execution_count": null,
      "metadata": {
        "id": "cD-Mkz9wK1-f",
        "outputId": "51dc093e-b746-4b09-8978-cdaebaae944a"
      },
      "outputs": [
        {
          "name": "stdout",
          "output_type": "stream",
          "text": [
            "|   iter    |  target   | colsam... |    eta    | learni... | max_depth | n_esti... | subsample |\n",
            "-------------------------------------------------------------------------------------------------\n"
          ]
        },
        {
          "ename": "XGBoostError",
          "evalue": "value 0 for Parameter num_class should be greater equal to 1\nnum_class: Number of output class in the multi-class classification.",
          "output_type": "error",
          "traceback": [
            "\u001b[0;31m---------------------------------------------------------------------------\u001b[0m",
            "\u001b[0;31mXGBoostError\u001b[0m                              Traceback (most recent call last)",
            "\u001b[1;32m/Users/alexjimenez/Desktop/Current Desktop/Desktop/Code/Resume Code (GoogleDrive)/Diabetes Dataset/Diabetes_Random_Forest_and_XGBoost_Algorithm.ipynb Cell 50\u001b[0m in \u001b[0;36m<cell line: 72>\u001b[0;34m()\u001b[0m\n\u001b[1;32m     <a href='vscode-notebook-cell:/Users/alexjimenez/Desktop/Current%20Desktop/Desktop/Code/Resume%20Code%20%28GoogleDrive%29/Diabetes%20Dataset/Diabetes_Random_Forest_and_XGBoost_Algorithm.ipynb#Y100sZmlsZQ%3D%3D?line=57'>58</a>\u001b[0m pbounds \u001b[39m=\u001b[39m {\u001b[39m'\u001b[39m\u001b[39mn_estimators\u001b[39m\u001b[39m'\u001b[39m: (\u001b[39m100\u001b[39m, \u001b[39m500\u001b[39m),\n\u001b[1;32m     <a href='vscode-notebook-cell:/Users/alexjimenez/Desktop/Current%20Desktop/Desktop/Code/Resume%20Code%20%28GoogleDrive%29/Diabetes%20Dataset/Diabetes_Random_Forest_and_XGBoost_Algorithm.ipynb#Y100sZmlsZQ%3D%3D?line=58'>59</a>\u001b[0m           \u001b[39m'\u001b[39m\u001b[39msubsample\u001b[39m\u001b[39m'\u001b[39m: (\u001b[39m0.6\u001b[39m, \u001b[39m1.0\u001b[39m),\n\u001b[1;32m     <a href='vscode-notebook-cell:/Users/alexjimenez/Desktop/Current%20Desktop/Desktop/Code/Resume%20Code%20%28GoogleDrive%29/Diabetes%20Dataset/Diabetes_Random_Forest_and_XGBoost_Algorithm.ipynb#Y100sZmlsZQ%3D%3D?line=59'>60</a>\u001b[0m           \u001b[39m'\u001b[39m\u001b[39mlearning_rate\u001b[39m\u001b[39m'\u001b[39m:(\u001b[39m0.01\u001b[39m, \u001b[39m3\u001b[39m),\n\u001b[0;32m   (...)\u001b[0m\n\u001b[1;32m     <a href='vscode-notebook-cell:/Users/alexjimenez/Desktop/Current%20Desktop/Desktop/Code/Resume%20Code%20%28GoogleDrive%29/Diabetes%20Dataset/Diabetes_Random_Forest_and_XGBoost_Algorithm.ipynb#Y100sZmlsZQ%3D%3D?line=62'>63</a>\u001b[0m            \u001b[39m'\u001b[39m\u001b[39meta\u001b[39m\u001b[39m'\u001b[39m: (\u001b[39m0.2\u001b[39m, \u001b[39m0.4\u001b[39m)\n\u001b[1;32m     <a href='vscode-notebook-cell:/Users/alexjimenez/Desktop/Current%20Desktop/Desktop/Code/Resume%20Code%20%28GoogleDrive%29/Diabetes%20Dataset/Diabetes_Random_Forest_and_XGBoost_Algorithm.ipynb#Y100sZmlsZQ%3D%3D?line=63'>64</a>\u001b[0m           }\n\u001b[1;32m     <a href='vscode-notebook-cell:/Users/alexjimenez/Desktop/Current%20Desktop/Desktop/Code/Resume%20Code%20%28GoogleDrive%29/Diabetes%20Dataset/Diabetes_Random_Forest_and_XGBoost_Algorithm.ipynb#Y100sZmlsZQ%3D%3D?line=65'>66</a>\u001b[0m optimizer   \u001b[39m=\u001b[39m BayesianOptimization(\n\u001b[1;32m     <a href='vscode-notebook-cell:/Users/alexjimenez/Desktop/Current%20Desktop/Desktop/Code/Resume%20Code%20%28GoogleDrive%29/Diabetes%20Dataset/Diabetes_Random_Forest_and_XGBoost_Algorithm.ipynb#Y100sZmlsZQ%3D%3D?line=66'>67</a>\u001b[0m     f       \u001b[39m=\u001b[39m bayes_opt,\n\u001b[1;32m     <a href='vscode-notebook-cell:/Users/alexjimenez/Desktop/Current%20Desktop/Desktop/Code/Resume%20Code%20%28GoogleDrive%29/Diabetes%20Dataset/Diabetes_Random_Forest_and_XGBoost_Algorithm.ipynb#Y100sZmlsZQ%3D%3D?line=67'>68</a>\u001b[0m     pbounds \u001b[39m=\u001b[39m pbounds,\n\u001b[1;32m     <a href='vscode-notebook-cell:/Users/alexjimenez/Desktop/Current%20Desktop/Desktop/Code/Resume%20Code%20%28GoogleDrive%29/Diabetes%20Dataset/Diabetes_Random_Forest_and_XGBoost_Algorithm.ipynb#Y100sZmlsZQ%3D%3D?line=68'>69</a>\u001b[0m     verbose \u001b[39m=\u001b[39m \u001b[39m2\u001b[39m\n\u001b[1;32m     <a href='vscode-notebook-cell:/Users/alexjimenez/Desktop/Current%20Desktop/Desktop/Code/Resume%20Code%20%28GoogleDrive%29/Diabetes%20Dataset/Diabetes_Random_Forest_and_XGBoost_Algorithm.ipynb#Y100sZmlsZQ%3D%3D?line=69'>70</a>\u001b[0m )\n\u001b[0;32m---> <a href='vscode-notebook-cell:/Users/alexjimenez/Desktop/Current%20Desktop/Desktop/Code/Resume%20Code%20%28GoogleDrive%29/Diabetes%20Dataset/Diabetes_Random_Forest_and_XGBoost_Algorithm.ipynb#Y100sZmlsZQ%3D%3D?line=71'>72</a>\u001b[0m optimizations \u001b[39m=\u001b[39m optimizer\u001b[39m.\u001b[39;49mmaximize(\n\u001b[1;32m     <a href='vscode-notebook-cell:/Users/alexjimenez/Desktop/Current%20Desktop/Desktop/Code/Resume%20Code%20%28GoogleDrive%29/Diabetes%20Dataset/Diabetes_Random_Forest_and_XGBoost_Algorithm.ipynb#Y100sZmlsZQ%3D%3D?line=72'>73</a>\u001b[0m     init_points\u001b[39m=\u001b[39;49m\u001b[39m4\u001b[39;49m,\n\u001b[1;32m     <a href='vscode-notebook-cell:/Users/alexjimenez/Desktop/Current%20Desktop/Desktop/Code/Resume%20Code%20%28GoogleDrive%29/Diabetes%20Dataset/Diabetes_Random_Forest_and_XGBoost_Algorithm.ipynb#Y100sZmlsZQ%3D%3D?line=73'>74</a>\u001b[0m     n_iter\u001b[39m=\u001b[39;49m\u001b[39m100\u001b[39;49m,\n\u001b[1;32m     <a href='vscode-notebook-cell:/Users/alexjimenez/Desktop/Current%20Desktop/Desktop/Code/Resume%20Code%20%28GoogleDrive%29/Diabetes%20Dataset/Diabetes_Random_Forest_and_XGBoost_Algorithm.ipynb#Y100sZmlsZQ%3D%3D?line=74'>75</a>\u001b[0m )\n",
            "File \u001b[0;32m/Library/Frameworks/Python.framework/Versions/3.9/lib/python3.9/site-packages/bayes_opt/bayesian_optimization.py:310\u001b[0m, in \u001b[0;36mBayesianOptimization.maximize\u001b[0;34m(self, init_points, n_iter, acquisition_function, acq, kappa, kappa_decay, kappa_decay_delay, xi, **gp_params)\u001b[0m\n\u001b[1;32m    308\u001b[0m     x_probe \u001b[39m=\u001b[39m \u001b[39mself\u001b[39m\u001b[39m.\u001b[39msuggest(util)\n\u001b[1;32m    309\u001b[0m     iteration \u001b[39m+\u001b[39m\u001b[39m=\u001b[39m \u001b[39m1\u001b[39m\n\u001b[0;32m--> 310\u001b[0m \u001b[39mself\u001b[39;49m\u001b[39m.\u001b[39;49mprobe(x_probe, lazy\u001b[39m=\u001b[39;49m\u001b[39mFalse\u001b[39;49;00m)\n\u001b[1;32m    312\u001b[0m \u001b[39mif\u001b[39;00m \u001b[39mself\u001b[39m\u001b[39m.\u001b[39m_bounds_transformer \u001b[39mand\u001b[39;00m iteration \u001b[39m>\u001b[39m \u001b[39m0\u001b[39m:\n\u001b[1;32m    313\u001b[0m     \u001b[39m# The bounds transformer should only modify the bounds after\u001b[39;00m\n\u001b[1;32m    314\u001b[0m     \u001b[39m# the init_points points (only for the true iterations)\u001b[39;00m\n\u001b[1;32m    315\u001b[0m     \u001b[39mself\u001b[39m\u001b[39m.\u001b[39mset_bounds(\n\u001b[1;32m    316\u001b[0m         \u001b[39mself\u001b[39m\u001b[39m.\u001b[39m_bounds_transformer\u001b[39m.\u001b[39mtransform(\u001b[39mself\u001b[39m\u001b[39m.\u001b[39m_space))\n",
            "File \u001b[0;32m/Library/Frameworks/Python.framework/Versions/3.9/lib/python3.9/site-packages/bayes_opt/bayesian_optimization.py:208\u001b[0m, in \u001b[0;36mBayesianOptimization.probe\u001b[0;34m(self, params, lazy)\u001b[0m\n\u001b[1;32m    206\u001b[0m     \u001b[39mself\u001b[39m\u001b[39m.\u001b[39m_queue\u001b[39m.\u001b[39madd(params)\n\u001b[1;32m    207\u001b[0m \u001b[39melse\u001b[39;00m:\n\u001b[0;32m--> 208\u001b[0m     \u001b[39mself\u001b[39;49m\u001b[39m.\u001b[39;49m_space\u001b[39m.\u001b[39;49mprobe(params)\n\u001b[1;32m    209\u001b[0m     \u001b[39mself\u001b[39m\u001b[39m.\u001b[39mdispatch(Events\u001b[39m.\u001b[39mOPTIMIZATION_STEP)\n",
            "File \u001b[0;32m/Library/Frameworks/Python.framework/Versions/3.9/lib/python3.9/site-packages/bayes_opt/target_space.py:236\u001b[0m, in \u001b[0;36mTargetSpace.probe\u001b[0;34m(self, params)\u001b[0m\n\u001b[1;32m    234\u001b[0m x \u001b[39m=\u001b[39m \u001b[39mself\u001b[39m\u001b[39m.\u001b[39m_as_array(params)\n\u001b[1;32m    235\u001b[0m params \u001b[39m=\u001b[39m \u001b[39mdict\u001b[39m(\u001b[39mzip\u001b[39m(\u001b[39mself\u001b[39m\u001b[39m.\u001b[39m_keys, x))\n\u001b[0;32m--> 236\u001b[0m target \u001b[39m=\u001b[39m \u001b[39mself\u001b[39;49m\u001b[39m.\u001b[39;49mtarget_func(\u001b[39m*\u001b[39;49m\u001b[39m*\u001b[39;49mparams)\n\u001b[1;32m    238\u001b[0m \u001b[39mif\u001b[39;00m \u001b[39mself\u001b[39m\u001b[39m.\u001b[39m_constraint \u001b[39mis\u001b[39;00m \u001b[39mNone\u001b[39;00m:\n\u001b[1;32m    239\u001b[0m     \u001b[39mself\u001b[39m\u001b[39m.\u001b[39mregister(x, target)\n",
            "\u001b[1;32m/Users/alexjimenez/Desktop/Current Desktop/Desktop/Code/Resume Code (GoogleDrive)/Diabetes Dataset/Diabetes_Random_Forest_and_XGBoost_Algorithm.ipynb Cell 50\u001b[0m in \u001b[0;36mbayes_opt\u001b[0;34m(n_estimators, subsample, learning_rate, max_depth, colsample_bytree, eta)\u001b[0m\n\u001b[1;32m     <a href='vscode-notebook-cell:/Users/alexjimenez/Desktop/Current%20Desktop/Desktop/Code/Resume%20Code%20%28GoogleDrive%29/Diabetes%20Dataset/Diabetes_Random_Forest_and_XGBoost_Algorithm.ipynb#Y100sZmlsZQ%3D%3D?line=34'>35</a>\u001b[0m scorer     \u001b[39m=\u001b[39m make_scorer(log_loss)\n\u001b[1;32m     <a href='vscode-notebook-cell:/Users/alexjimenez/Desktop/Current%20Desktop/Desktop/Code/Resume%20Code%20%28GoogleDrive%29/Diabetes%20Dataset/Diabetes_Random_Forest_and_XGBoost_Algorithm.ipynb#Y100sZmlsZQ%3D%3D?line=36'>37</a>\u001b[0m xgb_model  \u001b[39m=\u001b[39m XGBClassifier(\u001b[39m*\u001b[39m\u001b[39m*\u001b[39mparams_gbm,\n\u001b[1;32m     <a href='vscode-notebook-cell:/Users/alexjimenez/Desktop/Current%20Desktop/Desktop/Code/Resume%20Code%20%28GoogleDrive%29/Diabetes%20Dataset/Diabetes_Random_Forest_and_XGBoost_Algorithm.ipynb#Y100sZmlsZQ%3D%3D?line=37'>38</a>\u001b[0m                            objective \u001b[39m=\u001b[39m \u001b[39m'\u001b[39m\u001b[39mmulti:softmax\u001b[39m\u001b[39m'\u001b[39m,\n\u001b[1;32m     <a href='vscode-notebook-cell:/Users/alexjimenez/Desktop/Current%20Desktop/Desktop/Code/Resume%20Code%20%28GoogleDrive%29/Diabetes%20Dataset/Diabetes_Random_Forest_and_XGBoost_Algorithm.ipynb#Y100sZmlsZQ%3D%3D?line=38'>39</a>\u001b[0m                            eval_metric \u001b[39m=\u001b[39m \u001b[39m'\u001b[39m\u001b[39mmlogloss\u001b[39m\u001b[39m'\u001b[39m)\n\u001b[0;32m---> <a href='vscode-notebook-cell:/Users/alexjimenez/Desktop/Current%20Desktop/Desktop/Code/Resume%20Code%20%28GoogleDrive%29/Diabetes%20Dataset/Diabetes_Random_Forest_and_XGBoost_Algorithm.ipynb#Y100sZmlsZQ%3D%3D?line=40'>41</a>\u001b[0m xgb_model\u001b[39m.\u001b[39;49mfit(x_train_fold, y_train_fold)\n\u001b[1;32m     <a href='vscode-notebook-cell:/Users/alexjimenez/Desktop/Current%20Desktop/Desktop/Code/Resume%20Code%20%28GoogleDrive%29/Diabetes%20Dataset/Diabetes_Random_Forest_and_XGBoost_Algorithm.ipynb#Y100sZmlsZQ%3D%3D?line=42'>43</a>\u001b[0m val_preds  \u001b[39m=\u001b[39m xgb_model\u001b[39m.\u001b[39mpredict_proba(x_val)\n\u001b[1;32m     <a href='vscode-notebook-cell:/Users/alexjimenez/Desktop/Current%20Desktop/Desktop/Code/Resume%20Code%20%28GoogleDrive%29/Diabetes%20Dataset/Diabetes_Random_Forest_and_XGBoost_Algorithm.ipynb#Y100sZmlsZQ%3D%3D?line=43'>44</a>\u001b[0m score      \u001b[39m=\u001b[39m log_loss(y_val, val_preds)\n",
            "File \u001b[0;32m/Library/Frameworks/Python.framework/Versions/3.9/lib/python3.9/site-packages/xgboost/core.py:620\u001b[0m, in \u001b[0;36mrequire_keyword_args.<locals>.throw_if.<locals>.inner_f\u001b[0;34m(*args, **kwargs)\u001b[0m\n\u001b[1;32m    618\u001b[0m \u001b[39mfor\u001b[39;00m k, arg \u001b[39min\u001b[39;00m \u001b[39mzip\u001b[39m(sig\u001b[39m.\u001b[39mparameters, args):\n\u001b[1;32m    619\u001b[0m     kwargs[k] \u001b[39m=\u001b[39m arg\n\u001b[0;32m--> 620\u001b[0m \u001b[39mreturn\u001b[39;00m func(\u001b[39m*\u001b[39;49m\u001b[39m*\u001b[39;49mkwargs)\n",
            "File \u001b[0;32m/Library/Frameworks/Python.framework/Versions/3.9/lib/python3.9/site-packages/xgboost/sklearn.py:1490\u001b[0m, in \u001b[0;36mXGBClassifier.fit\u001b[0;34m(self, X, y, sample_weight, base_margin, eval_set, eval_metric, early_stopping_rounds, verbose, xgb_model, sample_weight_eval_set, base_margin_eval_set, feature_weights, callbacks)\u001b[0m\n\u001b[1;32m   1462\u001b[0m (\n\u001b[1;32m   1463\u001b[0m     model,\n\u001b[1;32m   1464\u001b[0m     metric,\n\u001b[0;32m   (...)\u001b[0m\n\u001b[1;32m   1469\u001b[0m     xgb_model, eval_metric, params, early_stopping_rounds, callbacks\n\u001b[1;32m   1470\u001b[0m )\n\u001b[1;32m   1471\u001b[0m train_dmatrix, evals \u001b[39m=\u001b[39m _wrap_evaluation_matrices(\n\u001b[1;32m   1472\u001b[0m     missing\u001b[39m=\u001b[39m\u001b[39mself\u001b[39m\u001b[39m.\u001b[39mmissing,\n\u001b[1;32m   1473\u001b[0m     X\u001b[39m=\u001b[39mX,\n\u001b[0;32m   (...)\u001b[0m\n\u001b[1;32m   1487\u001b[0m     feature_types\u001b[39m=\u001b[39m\u001b[39mself\u001b[39m\u001b[39m.\u001b[39mfeature_types,\n\u001b[1;32m   1488\u001b[0m )\n\u001b[0;32m-> 1490\u001b[0m \u001b[39mself\u001b[39m\u001b[39m.\u001b[39m_Booster \u001b[39m=\u001b[39m train(\n\u001b[1;32m   1491\u001b[0m     params,\n\u001b[1;32m   1492\u001b[0m     train_dmatrix,\n\u001b[1;32m   1493\u001b[0m     \u001b[39mself\u001b[39;49m\u001b[39m.\u001b[39;49mget_num_boosting_rounds(),\n\u001b[1;32m   1494\u001b[0m     evals\u001b[39m=\u001b[39;49mevals,\n\u001b[1;32m   1495\u001b[0m     early_stopping_rounds\u001b[39m=\u001b[39;49mearly_stopping_rounds,\n\u001b[1;32m   1496\u001b[0m     evals_result\u001b[39m=\u001b[39;49mevals_result,\n\u001b[1;32m   1497\u001b[0m     obj\u001b[39m=\u001b[39;49mobj,\n\u001b[1;32m   1498\u001b[0m     custom_metric\u001b[39m=\u001b[39;49mmetric,\n\u001b[1;32m   1499\u001b[0m     verbose_eval\u001b[39m=\u001b[39;49mverbose,\n\u001b[1;32m   1500\u001b[0m     xgb_model\u001b[39m=\u001b[39;49mmodel,\n\u001b[1;32m   1501\u001b[0m     callbacks\u001b[39m=\u001b[39;49mcallbacks,\n\u001b[1;32m   1502\u001b[0m )\n\u001b[1;32m   1504\u001b[0m \u001b[39mif\u001b[39;00m \u001b[39mnot\u001b[39;00m callable(\u001b[39mself\u001b[39m\u001b[39m.\u001b[39mobjective):\n\u001b[1;32m   1505\u001b[0m     \u001b[39mself\u001b[39m\u001b[39m.\u001b[39mobjective \u001b[39m=\u001b[39m params[\u001b[39m\"\u001b[39m\u001b[39mobjective\u001b[39m\u001b[39m\"\u001b[39m]\n",
            "File \u001b[0;32m/Library/Frameworks/Python.framework/Versions/3.9/lib/python3.9/site-packages/xgboost/core.py:620\u001b[0m, in \u001b[0;36mrequire_keyword_args.<locals>.throw_if.<locals>.inner_f\u001b[0;34m(*args, **kwargs)\u001b[0m\n\u001b[1;32m    618\u001b[0m \u001b[39mfor\u001b[39;00m k, arg \u001b[39min\u001b[39;00m \u001b[39mzip\u001b[39m(sig\u001b[39m.\u001b[39mparameters, args):\n\u001b[1;32m    619\u001b[0m     kwargs[k] \u001b[39m=\u001b[39m arg\n\u001b[0;32m--> 620\u001b[0m \u001b[39mreturn\u001b[39;00m func(\u001b[39m*\u001b[39;49m\u001b[39m*\u001b[39;49mkwargs)\n",
            "File \u001b[0;32m/Library/Frameworks/Python.framework/Versions/3.9/lib/python3.9/site-packages/xgboost/training.py:185\u001b[0m, in \u001b[0;36mtrain\u001b[0;34m(params, dtrain, num_boost_round, evals, obj, feval, maximize, early_stopping_rounds, evals_result, verbose_eval, xgb_model, callbacks, custom_metric)\u001b[0m\n\u001b[1;32m    183\u001b[0m \u001b[39mif\u001b[39;00m cb_container\u001b[39m.\u001b[39mbefore_iteration(bst, i, dtrain, evals):\n\u001b[1;32m    184\u001b[0m     \u001b[39mbreak\u001b[39;00m\n\u001b[0;32m--> 185\u001b[0m bst\u001b[39m.\u001b[39;49mupdate(dtrain, i, obj)\n\u001b[1;32m    186\u001b[0m \u001b[39mif\u001b[39;00m cb_container\u001b[39m.\u001b[39mafter_iteration(bst, i, dtrain, evals):\n\u001b[1;32m    187\u001b[0m     \u001b[39mbreak\u001b[39;00m\n",
            "File \u001b[0;32m/Library/Frameworks/Python.framework/Versions/3.9/lib/python3.9/site-packages/xgboost/core.py:1918\u001b[0m, in \u001b[0;36mBooster.update\u001b[0;34m(self, dtrain, iteration, fobj)\u001b[0m\n\u001b[1;32m   1915\u001b[0m \u001b[39mself\u001b[39m\u001b[39m.\u001b[39m_validate_dmatrix_features(dtrain)\n\u001b[1;32m   1917\u001b[0m \u001b[39mif\u001b[39;00m fobj \u001b[39mis\u001b[39;00m \u001b[39mNone\u001b[39;00m:\n\u001b[0;32m-> 1918\u001b[0m     _check_call(_LIB\u001b[39m.\u001b[39;49mXGBoosterUpdateOneIter(\u001b[39mself\u001b[39;49m\u001b[39m.\u001b[39;49mhandle,\n\u001b[1;32m   1919\u001b[0m                                             ctypes\u001b[39m.\u001b[39;49mc_int(iteration),\n\u001b[1;32m   1920\u001b[0m                                             dtrain\u001b[39m.\u001b[39;49mhandle))\n\u001b[1;32m   1921\u001b[0m \u001b[39melse\u001b[39;00m:\n\u001b[1;32m   1922\u001b[0m     pred \u001b[39m=\u001b[39m \u001b[39mself\u001b[39m\u001b[39m.\u001b[39mpredict(dtrain, output_margin\u001b[39m=\u001b[39m\u001b[39mTrue\u001b[39;00m, training\u001b[39m=\u001b[39m\u001b[39mTrue\u001b[39;00m)\n",
            "File \u001b[0;32m/Library/Frameworks/Python.framework/Versions/3.9/lib/python3.9/site-packages/xgboost/core.py:279\u001b[0m, in \u001b[0;36m_check_call\u001b[0;34m(ret)\u001b[0m\n\u001b[1;32m    268\u001b[0m \u001b[39m\u001b[39m\u001b[39m\"\"\"Check the return value of C API call\u001b[39;00m\n\u001b[1;32m    269\u001b[0m \n\u001b[1;32m    270\u001b[0m \u001b[39mThis function will raise exception when error occurs.\u001b[39;00m\n\u001b[0;32m   (...)\u001b[0m\n\u001b[1;32m    276\u001b[0m \u001b[39m    return value from API calls\u001b[39;00m\n\u001b[1;32m    277\u001b[0m \u001b[39m\"\"\"\u001b[39;00m\n\u001b[1;32m    278\u001b[0m \u001b[39mif\u001b[39;00m ret \u001b[39m!=\u001b[39m \u001b[39m0\u001b[39m:\n\u001b[0;32m--> 279\u001b[0m     \u001b[39mraise\u001b[39;00m XGBoostError(py_str(_LIB\u001b[39m.\u001b[39mXGBGetLastError()))\n",
            "\u001b[0;31mXGBoostError\u001b[0m: value 0 for Parameter num_class should be greater equal to 1\nnum_class: Number of output class in the multi-class classification."
          ]
        }
      ],
      "source": [
        "reduced_length = 5000 # For Computing Reasons (On Faster Computer can remove this)\n",
        "x_train_red    = x_train[0:reduced_length]\n",
        "y_train_red    = y_train[0:reduced_length]\n",
        "\n",
        "# output of function needs to minimzied\n",
        "# for a classification problem, were minimizing the accuracy\n",
        "# so in theory, it's really just having a metric that calculates the accuracy\n",
        "# then that accuracy is being maximzied in a bayesian fassion\n",
        "def bayes_opt(n_estimators, subsample, learning_rate, max_depth, colsample_bytree, eta):\n",
        "\n",
        "  folds     = 5\n",
        "  skf       = StratifiedKFold(n_splits=folds, shuffle = True, random_state = 1001)\n",
        "\n",
        "  params_gbm                     = {}\n",
        "  params_gbm['learning_rate']    = learning_rate\n",
        "  params_gbm['n_estimators']     = int(n_estimators)\n",
        "  # params_gbm['reg_lambda']       = reg_lambda\n",
        "  # params_gbm['reg_alpha']        = reg_alpha\n",
        "  # params_gbm['gamma']            = round(gamma)\n",
        "  params_gbm['subsample']        = subsample\n",
        "  params_gbm['max_depth']        = int(max_depth)\n",
        "  params_gbm['colsample_bytree'] = colsample_bytree\n",
        "  params_gbm['eta']              = eta\n",
        "\n",
        "\n",
        "  weights      = class_weight.compute_sample_weight('balanced', y_train)\n",
        "\n",
        "  scores       = []\n",
        "  for fold, (train_idx, val_idx) in enumerate(skf.split(x_train_red, y_train_red)):\n",
        "\n",
        "    x_train_fold, y_train_fold = pd.DataFrame(x_train_red).iloc[train_idx], pd.DataFrame(y_train_red).iloc[train_idx]\n",
        "    x_val, y_val = pd.DataFrame(x_train_red).iloc[val_idx], pd.DataFrame(y_train_red).iloc[val_idx]\n",
        "    watchlist = [(x_train_fold, y_train_fold), (x_val, y_val)]\n",
        "\n",
        "    scorer     = make_scorer(log_loss)\n",
        "\n",
        "    xgb_model  = XGBClassifier(**params_gbm,\n",
        "                               objective = 'multi:softmax',\n",
        "                               eval_metric = 'mlogloss')\n",
        "\n",
        "    xgb_model.fit(x_train_fold, y_train_fold)\n",
        "\n",
        "    val_preds  = xgb_model.predict_proba(x_val)\n",
        "    score      = log_loss(y_val, val_preds)\n",
        "    scores.append(score)\n",
        "\n",
        "\n",
        "\n",
        "  scores = np.average(scores)\n",
        "\n",
        "\n",
        "  # maximize 1- logloss (minimize logloss)\n",
        "\n",
        "  return 1 - scores\n",
        "\n",
        "\n",
        "\n",
        "pbounds = {'n_estimators': (100, 500),\n",
        "          'subsample': (0.6, 1.0),\n",
        "          'learning_rate':(0.01, 3),\n",
        "           'max_depth': (3, 10),\n",
        "           'colsample_bytree': (0.5, 1),\n",
        "           'eta': (0.2, 0.4)\n",
        "          }\n",
        "\n",
        "optimizer   = BayesianOptimization(\n",
        "    f       = bayes_opt,\n",
        "    pbounds = pbounds,\n",
        "    verbose = 2\n",
        ")\n",
        "\n",
        "optimizations = optimizer.maximize(\n",
        "    init_points=4,\n",
        "    n_iter=100,\n",
        ")"
      ]
    },
    {
      "cell_type": "markdown",
      "metadata": {
        "id": "AqwYSDLLS_p-"
      },
      "source": [
        "**XGB Model 2**\n",
        "1. 3 features accuracy ~ 58.3 % pretransofmrations 10 Aug 2023\n",
        "2. Feature Engineering Patient Risk and Utilization and Keeping original variables raises accuracy to 58.6 % (seed dependent likely)\n"
      ]
    },
    {
      "cell_type": "code",
      "execution_count": null,
      "metadata": {
        "id": "rpKQaSbEbKE4"
      },
      "outputs": [],
      "source": [
        "feature_selection = True    # variable to determine if features are reduced earlier\n",
        "feature_selection = FeatureSelection(x_training, target_factorized, 'boruta')\n",
        "\n",
        "x_trains, x_tests, y_trains, y_tests = feature_selection.feature_selector()\n",
        "\n",
        "# if feature_selection:\n",
        "#   x_train, x_test, y_train, y_test = train_test_split(x_feature_selected, target_factorized, test_size = 0.2, shuffle = True)\n",
        "# else:\n",
        "#   x_train, x_test, y_train, y_test = train_test_split(x_training, target_factorized, test_size = 0.2, shuffle = True)\n",
        "\n",
        "\n",
        "\n",
        "def create_XGBoost(model_type = 'default'):\n",
        "\n",
        "  if binary_targets:\n",
        "    objective   = 'binary:logistic'\n",
        "    eval_metric = 'logloss'\n",
        "  else:\n",
        "    objective   = 'multi:softmax'\n",
        "    eval_metric = 'mlogloss'\n",
        "\n",
        "  colsample_bytree = 1\n",
        "  learning_rate    = 0.01\n",
        "  eta              = 0.4\n",
        "  max_depth        = 5\n",
        "  n_estimators     = 493\n",
        "  subsample        = 0.6\n",
        "\n",
        "  if model_type == 'default':\n",
        "    xgb_model = XGBClassifier(eval_metric = eval_metric, objective = objective)\n",
        "  else:\n",
        "    xgb_model  = XGBClassifier(colsample_bytree = 1, learning_rate = 0.01, eta = 0.4,\n",
        "                            max_depth = 5, n_estimators = 493, subsample = 0.6,\n",
        "                            objective = objective, eval_metric = eval_metric)\n",
        "\n",
        "  return xgb_model\n",
        "\n",
        "\n",
        "if isinstance(x_trains, list):\n",
        "  for feat in range(len(x_trains)):\n",
        "    print(feat, range(len(x_trains)))\n",
        "    xgb_model  = create_XGBoost()\n",
        "    xgb_model.fit(x_trains[feat], y_trains[feat])\n",
        "    predictions = xgb_model.predict(x_tests[feat])\n",
        "    accuracy    = accuracy_score(predictions, y_tests[feat])\n",
        "    print(accuracy, feat + 2)\n",
        "else:\n",
        "\n",
        "  xgb_model  = create_XGBoost()\n",
        "  forest     = RandomForestClassifier(n_jobs=-1, class_weight='balanced', max_depth=5)\n",
        "\n",
        "  # Define Boruta feature selection method\n",
        "  boruta_selector = BorutaPy(forest, n_estimators='auto', verbose=2, random_state=42)\n",
        "\n",
        "  # Find relevant features\n",
        "  boruta_selector.fit(np.array(x_trains), np.array(y_trains))\n",
        "\n",
        "  # Check selected features\n",
        "  selected_features = np.where(boruta_selector.support_)[0]\n",
        "  print(f\"Selected features: {selected_features}\")\n",
        "\n",
        "  # Optionally, you can transform the dataset to only include selected features:\n",
        "  X_filtered  = boruta_selector.transform(np.array(x_trains))\n",
        "  x_tests     = boruta_selector.transform(np.array(x_tests))\n",
        "\n",
        "  xgb_model.fit(X_filtered, y_trains)\n",
        "  predictions = xgb_model.predict(x_tests)\n",
        "  accuracy    = accuracy_score(predictions, y_tests)\n",
        "  print(accuracy)\n",
        "\n",
        "\n"
      ]
    },
    {
      "cell_type": "code",
      "execution_count": null,
      "metadata": {
        "id": "uEbPxt09oaUJ"
      },
      "outputs": [],
      "source": [
        "# Base Nueral Network to investigate baseline performance\n",
        "# Output is no readmission, readmission within 30 days, and readmission > 30 days\n",
        "\n",
        "def build_nueralnet(node_size = 128):\n",
        "\n",
        "  model = tf.keras.models.Sequential([\n",
        "      tf.keras.layers.Dense(node_size, input_shape = (x_train.shape[1],), activation = 'relu'),\n",
        "      tf.keras.layers.Dense(node_size/2, activation = 'relu'),\n",
        "      tf.keras.layers.Dense(node_size/4, activation = 'relu'),\n",
        "      tf.keras.layers.Dropout(0.3),\n",
        "      tf.keras.layers.Dense(node_size/4, activation = 'relu'),\n",
        "      tf.keras.layers.Dropout(0.1),\n",
        "      tf.keras.layers.Dense(3, activation = 'softmax')\n",
        "  ])\n",
        "\n",
        "  optimizer = tf.keras.optimizers.Adam(learning_rate = 0.001)\n",
        "\n",
        "  model.compile(loss = 'sparse_categorical_crossentropy', metrics = 'accuracy', optimizer = optimizer)\n",
        "  model.summary()\n",
        "\n",
        "  return model\n",
        "\n",
        "\n",
        "epochs = 20\n",
        "\n",
        "model = build_nueralnet()\n",
        "model.fit(x_train, y_train, epochs = epochs, validation_split = 0.2)"
      ]
    },
    {
      "cell_type": "code",
      "execution_count": null,
      "metadata": {
        "id": "KbLQqyJH8PmB"
      },
      "outputs": [],
      "source": [
        "predictions = model.predict(x_test)"
      ]
    },
    {
      "cell_type": "code",
      "execution_count": null,
      "metadata": {
        "id": "GxejUBIi9E8T"
      },
      "outputs": [],
      "source": [
        "def filter_pred(predictions):\n",
        "\n",
        "  prediction_list     = []\n",
        "  for pred in predictions:\n",
        "    prob_1 = pred[0]\n",
        "    prob_2 = pred[1]\n",
        "    prob_3 = pred[2]\n",
        "\n",
        "    values     = [prob_1, prob_2, prob_3]\n",
        "    max_val    = max(values)\n",
        "    prediction = values.index(max_val)\n",
        "\n",
        "    prediction_list.append(prediction)\n",
        "\n",
        "  return prediction_list\n",
        "\n",
        "\n",
        "pred_filtered = filter_pred(predictions)\n",
        "\n"
      ]
    },
    {
      "cell_type": "code",
      "execution_count": null,
      "metadata": {
        "id": "cJNWk9GNHV8X"
      },
      "outputs": [],
      "source": [
        "def pred_by_group():\n",
        "  prediction_counts = pd.Series(pred_filtered).value_counts()\n",
        "  actual_counts     = pd.Series(y_test).value_counts()\n",
        "\n",
        "  accuracies = {}\n",
        "  for val in range(len(prediction_counts)):\n",
        "    accuracy = prediction_counts[val]/actual_counts[val]\n",
        "    accuracies[val] = accuracy\n",
        "\n",
        "\n",
        "  return accuracies\n",
        "\n",
        "\n",
        "pred_by_group()"
      ]
    },
    {
      "cell_type": "code",
      "execution_count": null,
      "metadata": {
        "id": "boFTXgJo89Kp"
      },
      "outputs": [],
      "source": [
        "accuracy_score(pred_filtered, y_test)"
      ]
    },
    {
      "cell_type": "markdown",
      "metadata": {
        "id": "Epv5VGL6ug5J"
      },
      "source": [
        "# Section XX: Nueral Networks with Keras Functional API\n",
        "\n"
      ]
    },
    {
      "cell_type": "code",
      "execution_count": null,
      "metadata": {
        "id": "KGXzJlx2PQTD"
      },
      "outputs": [],
      "source": [
        "from sklearn.preprocessing import LabelEncoder\n",
        "from copy import deepcopy"
      ]
    },
    {
      "cell_type": "code",
      "execution_count": null,
      "metadata": {
        "id": "vVNKPX1kkwHF"
      },
      "outputs": [],
      "source": [
        "# Identify the columns with many features\n",
        "# For a separate input with embedding layers\n",
        "\n",
        "def identify_embeddings(x_data, min_features = 30):\n",
        "\n",
        "  embedding_features     = []\n",
        "  threshold_counts       = 10\n",
        "\n",
        "  for col in x_train:\n",
        "    value_counts         = x_train[col].value_counts()\n",
        "    if len(value_counts) > min_features:\n",
        "      embedding_features.append(col)\n",
        "\n",
        "  return embedding_features\n",
        "\n",
        "\n",
        "feature_selection = False    # variable to determine if features are reduced earlier\n",
        "\n",
        "if feature_selection:\n",
        "  embedding_features               = identify_embeddings(x_feature_selected)\n",
        "  x_train, x_test, y_train, y_test = train_test_split(x_feature_selected, target_factorized, test_size = 0.2, shuffle = True)\n",
        "else:\n",
        "  embedding_features               = identify_embeddings(x_training)\n",
        "  x_train, x_test, y_train, y_test = train_test_split(x_training, target_factorized, test_size = 0.2, shuffle = True)\n",
        "\n",
        "x_train_emb   = x_train[embedding_features]\n",
        "x_test_emb    = x_test[embedding_features]\n",
        "\n",
        "x_train_norm  = x_train[[col for col in x_train if col not in embedding_features]]\n",
        "x_test_norm   = x_test[[col for col in x_test if col not in embedding_features]]"
      ]
    },
    {
      "cell_type": "code",
      "execution_count": null,
      "metadata": {
        "id": "uL7RCJuPvTBn"
      },
      "outputs": [],
      "source": [
        "import tensorflow as tf\n",
        "from   tensorflow.keras.layers import Input, Embedding, Flatten, Dense, concatenate, Dropout\n",
        "\n",
        "def parallel_input_model(x_train_emb, x_train_norm):\n",
        "  # Define input for high cardinality features\n",
        "  embedding_num          = x_train_emb.shape[1]\n",
        "\n",
        "  input_high_cardinality = []  # List to store input layers for each high cardinality feature\n",
        "  embeddings             = []\n",
        "\n",
        "  input_dims             = [x_train_emb[col].max() for col in x_train_emb]\n",
        "\n",
        "\n",
        "  # Create an embedding for each high cardinality feature\n",
        "  for index in range(embedding_num):\n",
        "      # Define a separate input layer for each feature\n",
        "      input_high_cardinality_feature = Input(shape=(1,))\n",
        "      input_high_cardinality.append(input_high_cardinality_feature)\n",
        "\n",
        "      embedding_size    = min(50, int(input_dims[index] ** 0.5))  # A common heuristic for embedding size\n",
        "      input_dim         = input_dims[index]\n",
        "      print(input_dim, embedding_size)\n",
        "\n",
        "      embedded          = Embedding(input_dim=input_dim + 1,  # Assuming a max of 1000 categories for simplicity\n",
        "                          output_dim=embedding_size)(input_high_cardinality_feature)\n",
        "      embedded          = Flatten()(embedded)\n",
        "      embeddings.append(embedded)\n",
        "\n",
        "  # Merge all the embeddings\n",
        "  merged_embeddings     = concatenate(embeddings)\n",
        "\n",
        "  # Define input for lower cardinality/continuous features\n",
        "  low_cardinality       = x_train_norm.shape[1]\n",
        "  input_low_cardinality = Input(shape= low_cardinality,)  # Assuming 14 other features\n",
        "\n",
        "  # Concatenate both the inputs\n",
        "  x                     = concatenate([merged_embeddings, input_low_cardinality])\n",
        "  x                     = Dense(256, activation='relu')(x)\n",
        "  x                     = Dropout(0.4)(x)\n",
        "  x                     = Dense(256, activation='relu')(x)\n",
        "  x                     = Dense(128, activation = 'relu')(x)\n",
        "  x                     = Dropout(0.4)(x)\n",
        "  x                     = Dense(32, activation = 'relu')(x)\n",
        "  output                = Dense(3, activation='softmax')(x)\n",
        "\n",
        "  optimizer             = tf.keras.optimizers.Adam(learning_rate = 0.001)\n",
        "  model                 = tf.keras.Model(inputs=input_high_cardinality + [input_low_cardinality], outputs=output)\n",
        "  model.compile(optimizer = optimizer, loss='sparse_categorical_crossentropy', metrics=['accuracy'])\n",
        "\n",
        "  return model\n",
        "\n",
        "model = parallel_input_model(x_train_emb, x_train_norm)"
      ]
    },
    {
      "cell_type": "code",
      "execution_count": null,
      "metadata": {
        "id": "vMF6YtmA5Nco"
      },
      "outputs": [],
      "source": [
        "tf.keras.utils.plot_model(model, \"multi_input_and_output_model.png\", show_shapes=True)"
      ]
    },
    {
      "cell_type": "code",
      "execution_count": null,
      "metadata": {
        "id": "lFA7o44LMWlk"
      },
      "outputs": [],
      "source": [
        "!pip install xgboost"
      ]
    },
    {
      "cell_type": "code",
      "execution_count": null,
      "metadata": {
        "id": "wf9eh8ex6Xhc"
      },
      "outputs": [],
      "source": [
        "def fit_model():\n",
        "  epochs    = 5\n",
        "  val_split = 0.2\n",
        "  verbose   = 2\n",
        "  # x_train_emb, x_test_emb = np.array(x_train_emb), np.array(x_test_emb)\n",
        "\n",
        "  x_data    = [np.array(x_train_emb[col]) for col in x_train_emb.columns]\n",
        "  x_data.append(np.array(x_train_norm))\n",
        "\n",
        "  history = model.fit(x_data, y_train, epochs = epochs, validation_split = val_split)\n",
        "\n",
        "  return history\n",
        "\n",
        "history  = fit_model()"
      ]
    },
    {
      "cell_type": "code",
      "execution_count": null,
      "metadata": {
        "id": "4zchfjIUtb9f"
      },
      "outputs": [],
      "source": [
        "def predict_accuracy(x_test_emb, x_test_norm):\n",
        "  x_test_data = [np.array(x_test_emb[col]) for col in x_train_emb.columns]\n",
        "  x_test_data.append(np.array(x_test_norm))\n",
        "  predictions = model.predict(x_test_data)\n",
        "\n",
        "  pred_filtered = filter_pred(predictions)\n",
        "  accuracy      = accuracy_score(pred_filtered, y_test)\n",
        "\n",
        "  return accuracy\n",
        "\n",
        "predict_accuracy(x_test_emb, x_test_norm)"
      ]
    },
    {
      "cell_type": "markdown",
      "metadata": {
        "id": "iHe9UUOJUaQE"
      },
      "source": [
        "# Section XX: Creating Multiple Models\n",
        "1. accuracy is not above 60% so perhaps splitting up classificaton tasks may help\n",
        "2. Creating 2 classes lowers the accuracy... this is not a good approach\n"
      ]
    },
    {
      "cell_type": "code",
      "execution_count": null,
      "metadata": {
        "id": "19NVZwh5VfC-"
      },
      "outputs": [],
      "source": [
        "# Splitting Data into readmitted vs. not readmitted\n",
        "def create_binary_targets(targets):\n",
        "  classifications  = targets.unique()\n",
        "  no_readmission   = classifications[0]\n",
        "  readmitted_class = classifications[1:]\n",
        "\n",
        "  binary_targets   = {}               # Keep track of original labels and new labels\n",
        "  binary_list      = []\n",
        "  for classification in classifications:\n",
        "    binary_targets[classification]   = []\n",
        "\n",
        "\n",
        "  for classification in targets:\n",
        "    if classification in no_readmission:\n",
        "      selection    = 0\n",
        "    else:\n",
        "      selection    = 1\n",
        "\n",
        "    binary_targets[classification].append(selection)\n",
        "    binary_list.append(selection)\n",
        "\n",
        "  return binary_targets, binary_list\n",
        "\n",
        "\n",
        "# binary_target_dict, binary_list = create_binary_targets(targets)\n",
        "# target_list        = list(binary_target_dict.values())\n",
        "# binary_list        = np.array(binary_list)"
      ]
    },
    {
      "cell_type": "code",
      "execution_count": null,
      "metadata": {
        "id": "U-KUNG8XUaHH"
      },
      "outputs": [],
      "source": [
        "# x_train, x_test, y_train, y_test = train_test_split(x_feature_selected, binary_list, test_size = 0.2, shuffle = True)\n"
      ]
    },
    {
      "cell_type": "code",
      "execution_count": null,
      "metadata": {
        "id": "EmrNDstSPuca"
      },
      "outputs": [],
      "source": [
        "# def build_xgb_model():\n",
        "#   xgb_model  = XGBClassifier(colsample_bytree = 1, learning_rate = 0.01, eta = 0.4,\n",
        "#                             max_depth = 5, n_estimators = 493, subsample = 0.6,\n",
        "#                             objective = 'binary:logistic', eval_metric = 'mlogloss')\n",
        "\n",
        "#   xgb_model.fit(x_train, y_train)\n",
        "#   predictions = xgb_model.predict(x_test)\n",
        "#   accuracy_score(predictions, y_test)\n",
        "\n",
        "\n",
        "#   return xgb_model\n",
        "\n",
        "\n",
        "# xgb_model = build_xgb_model()"
      ]
    },
    {
      "cell_type": "code",
      "execution_count": null,
      "metadata": {
        "id": "XFs8j2f2jb7y"
      },
      "outputs": [],
      "source": [
        "xgb_model.predict(x_test)"
      ]
    },
    {
      "cell_type": "markdown",
      "metadata": {
        "id": "Sm5qsLWmUVhA"
      },
      "source": [
        "# Section XX: Miscellenous Code"
      ]
    },
    {
      "cell_type": "markdown",
      "metadata": {
        "id": "9XfRLxnyMgR5"
      },
      "source": [
        "**SMAC always minimized target function (train return statement)**"
      ]
    },
    {
      "cell_type": "code",
      "execution_count": null,
      "metadata": {
        "id": "UcWxMd60cwOG"
      },
      "outputs": [],
      "source": [
        "!pip install smac"
      ]
    },
    {
      "cell_type": "code",
      "execution_count": null,
      "metadata": {
        "id": "jlGHR4QUB8kA"
      },
      "outputs": [],
      "source": [
        "# from xgboost.sklearn import XGBClassifier\n",
        "# from ConfigSpace import Configuration, ConfigurationSpace\n",
        "\n",
        "# import numpy as np\n",
        "# from smac import HyperparameterOptimizationFacade, Scenario\n",
        "\n",
        "# def train(config: Configuration, seed: int = 0) -> float:\n",
        "#     classifier = XGBClassifier(n_estimators = config['estimators'], random_state=seed,\n",
        "#                                reg_alpha = config['reg_alpha'], objective = 'multi:softmax',\n",
        "#                                reg_lambda = config['reg_lambda'], learning_rate = config['lr'])\n",
        "#     print('hello')\n",
        "\n",
        "#     # scores = cross_val_score(classifier, x_data, target_factorized, cv=5)\n",
        "#     classifier.fit(x_train, y_train)\n",
        "#     predictions = classifier.predict(x_test)\n",
        "#     accuracy    = accuracy_score(predictions, y_test)\n",
        "#     return 1 - accuracy\n",
        "\n",
        "# configspace = ConfigurationSpace({\"estimators\": (50, 150),\n",
        "#                                   'reg_alpha': (0, 100),\n",
        "#                                   'reg_lambda': (0, 100),\n",
        "#                                   'lr': (0, 1)})\n",
        "\n",
        "# # Scenario object specifying the optimization environment\n",
        "# scenario = Scenario(configspace, deterministic=True, n_trials=25, walltime_limit=600)\n",
        "\n",
        "# # Use SMAC to find the best configuration/hyperparameters\n",
        "# smac      = HyperparameterOptimizationFacade(scenario, train)\n",
        "# incumbent = smac.optimize()\n"
      ]
    },
    {
      "cell_type": "code",
      "execution_count": null,
      "metadata": {
        "id": "ZERPyA36ToB2"
      },
      "outputs": [],
      "source": [
        "classifier = XGBClassifier(n_estimators = 133, random_state = 0,\n",
        "                               reg_alpha = 22, objective = 'multi:softmax',\n",
        "                               reg_lambda = 51, learning_rate = 1)\n",
        "\n",
        "# scores = cross_val_score(classifier, x_data, target_factorized, cv=5)\n",
        "classifier.fit(x_train, y_train)\n",
        "predictions = classifier.predict(x_test)\n",
        "accuracy = accuracy_score(predictions, y_test)\n",
        "accuracy"
      ]
    }
  ],
  "metadata": {
    "colab": {
      "provenance": []
    },
    "kernelspec": {
      "display_name": "Python 3",
      "name": "python3"
    },
    "language_info": {
      "codemirror_mode": {
        "name": "ipython",
        "version": 3
      },
      "file_extension": ".py",
      "mimetype": "text/x-python",
      "name": "python",
      "nbconvert_exporter": "python",
      "pygments_lexer": "ipython3",
      "version": "3.9.7"
    }
  },
  "nbformat": 4,
  "nbformat_minor": 0
}