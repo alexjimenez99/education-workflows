{
  "cells": [
    {
      "cell_type": "code",
      "execution_count": null,
      "metadata": {
        "id": "oozPjFrr-RFr"
      },
      "outputs": [],
      "source": [
        "!mkdir ~/.kaggle\n",
        "!touch ~/.kaggle/kaggle.json\n",
        "\n",
        "api_token = {\"username\":\"alji1305\",\"key\":\"4703b0a6c6a8543e51a6de4131ab05cb\"}\n",
        "\n",
        "import json\n",
        "\n",
        "with open('/root/.kaggle/kaggle.json', 'w') as file:\n",
        "    json.dump(api_token, file)\n",
        "\n",
        "!chmod 600 ~/.kaggle/kaggle.json"
      ]
    },
    {
      "cell_type": "code",
      "execution_count": null,
      "metadata": {
        "id": "QwM0o4Eu-s9x"
      },
      "outputs": [],
      "source": [
        "import time\n",
        "import sys\n",
        "import numpy      as np\n",
        "import pandas     as pd\n",
        "import matplotlib.pyplot as plt\n",
        "import seaborn    as sns\n",
        "from   zipfile    import ZipFile\n",
        "from   datetime   import datetime\n",
        "import random\n",
        "import re\n",
        "import tensorflow as tf\n",
        "from tensorflow.keras.preprocessing.text import Tokenizer\n",
        "#sklearn improts\n",
        "\n",
        "from sklearn.metrics         import roc_auc_score, accuracy_score, confusion_matrix, ConfusionMatrixDisplay, RocCurveDisplay\n",
        "from sklearn.preprocessing   import StandardScaler\n",
        "from xgboost.sklearn         import XGBClassifier\n",
        "from sklearn.model_selection import train_test_split\n",
        "from sklearn.metrics         import accuracy_score\n",
        "\n",
        "from sklearn.model_selection import cross_val_score, StratifiedKFold\n",
        "from sklearn.metrics         import accuracy_score, make_scorer, roc_auc_score, log_loss\n",
        "import time\n",
        "from sklearn.utils import class_weight\n",
        "from sklearn.metrics import roc_auc_score\n",
        "\n",
        "\n",
        "from sklearn.tree         import DecisionTreeClassifier\n",
        "from sklearn.ensemble     import RandomForestClassifier\n",
        "from sklearn.linear_model import LogisticRegression\n",
        "from sklearn.pipeline     import Pipeline\n",
        "from sklearn.metrics      import accuracy_score\n",
        "from sklearn.ensemble     import StackingClassifier"
      ]
    },
    {
      "cell_type": "code",
      "execution_count": null,
      "metadata": {
        "colab": {
          "base_uri": "https://localhost:8080/"
        },
        "id": "Gr-XD1jl-vwg",
        "outputId": "425a5cda-bd9d-49f2-f36e-d0e2b16f21e7"
      },
      "outputs": [
        {
          "output_type": "stream",
          "name": "stdout",
          "text": [
            "Downloading icr-identify-age-related-conditions.zip to /content\n",
            "\r  0% 0.00/150k [00:00<?, ?B/s]\n",
            "\r100% 150k/150k [00:00<00:00, 77.8MB/s]\n"
          ]
        }
      ],
      "source": [
        "!kaggle competitions download -c icr-identify-age-related-conditions"
      ]
    },
    {
      "cell_type": "code",
      "execution_count": null,
      "metadata": {
        "id": "g2Eusig9_MYt"
      },
      "outputs": [],
      "source": [
        "with ZipFile('icr-identify-age-related-conditions.zip') as zip:\n",
        "  print(zip.namelist())\n",
        "  with zip.open(zip.namelist()[0]) as f:\n",
        "    greeks             = pd.read_csv(f)\n",
        "  with zip.open(zip.namelist()[1]) as f:\n",
        "    sample_submission  = pd.read_csv(f)\n",
        "  with zip.open(zip.namelist()[2]) as f:\n",
        "    test               = pd.read_csv(f)\n",
        "  with zip.open(zip.namelist()[3]) as f:\n",
        "    train              = pd.read_csv(f)"
      ]
    },
    {
      "cell_type": "markdown",
      "source": [
        "\\"
      ],
      "metadata": {
        "id": "Pgi06rGuyqFV"
      }
    },
    {
      "cell_type": "code",
      "execution_count": null,
      "metadata": {
        "id": "GcoIFTslHELY"
      },
      "outputs": [],
      "source": [
        "train_id     = train['Id']\n",
        "train        = train.drop(columns = ['Id'])\n",
        "target_class = train['Class']\n",
        "train        = train.drop(columns = ['Class'])"
      ]
    },
    {
      "cell_type": "markdown",
      "metadata": {
        "id": "maJFz7QLFHfQ"
      },
      "source": [
        "**Add Categorized Alpha**\n",
        "1. 0 Indicates No Diagnosis\n",
        "2. 1 Indicates An Age Related Diagnosis"
      ]
    },
    {
      "cell_type": "code",
      "execution_count": null,
      "metadata": {
        "id": "NK2U1i6HFmoy"
      },
      "outputs": [],
      "source": [
        "greeks[['Beta', 'Gamma', 'Delta']].nunique()"
      ]
    },
    {
      "cell_type": "code",
      "execution_count": null,
      "metadata": {
        "id": "aXc3Cx2AQqVI"
      },
      "outputs": [],
      "source": [
        "train.isna().sum()"
      ]
    },
    {
      "cell_type": "markdown",
      "metadata": {
        "id": "2quiNL8xSW6l"
      },
      "source": [
        "**Deal with BQ and EL Missing Value**\n",
        "1. See if we can fill it with a univariate correlation --> no we can't correlations are poor"
      ]
    },
    {
      "cell_type": "code",
      "execution_count": null,
      "metadata": {
        "id": "SlYeyZxKSQOc"
      },
      "outputs": [],
      "source": [
        "train.corrwith(train['BQ'])"
      ]
    },
    {
      "cell_type": "code",
      "execution_count": null,
      "metadata": {
        "id": "imm3QtFDSmQo"
      },
      "outputs": [],
      "source": [
        "train.corrwith(train['EL'])"
      ]
    },
    {
      "cell_type": "markdown",
      "metadata": {
        "id": "HYQNBg5BT3eg"
      },
      "source": [
        "**Use a Multivariate Correlation Imputer**"
      ]
    },
    {
      "cell_type": "code",
      "execution_count": null,
      "metadata": {
        "id": "jB1szwwyTraw"
      },
      "outputs": [],
      "source": [
        "# explicitly require this experimental feature\n",
        "# from sklearn.experimental import enable_iterative_imputer # noqa\n",
        "# from sklearn.ensemble     import RandomForestRegressor\n",
        "# from sklearn.impute       import IterativeImputer\n",
        "\n",
        "# imp = IterativeImputer(estimator=RandomForestRegressor())\n",
        "# train = pd.DataFrame(imp.fit_transform(train), columns = train.columns)"
      ]
    },
    {
      "cell_type": "markdown",
      "metadata": {
        "id": "Oz7WcCTYZqpD"
      },
      "source": [
        "**Avoid Loading Everything Again**\n",
        "1. Save data as pickle file"
      ]
    },
    {
      "cell_type": "code",
      "execution_count": null,
      "metadata": {
        "id": "nX4lJrsvXCBx"
      },
      "outputs": [],
      "source": [
        "import pickle\n",
        "# with open('train.pckl', 'wb') as pckl:\n",
        "#   pickle.dump(train, pckl)\n",
        "\n",
        "with open('train.pckl', 'rb') as pckl:\n",
        "  train = pickle.load(pckl)"
      ]
    },
    {
      "cell_type": "markdown",
      "metadata": {
        "id": "qRYciE2vIW6w"
      },
      "source": [
        "# Exploratory DA"
      ]
    },
    {
      "cell_type": "markdown",
      "metadata": {
        "id": "rdRe4PbVIveD"
      },
      "source": [
        "1. Scales of Variable Are Different Standard Scaler"
      ]
    },
    {
      "cell_type": "markdown",
      "metadata": {
        "id": "ogV9Kh6TK6hn"
      },
      "source": [
        "**Find Categorical Column**"
      ]
    },
    {
      "cell_type": "code",
      "execution_count": null,
      "metadata": {
        "id": "B5DlLmDeKDBW"
      },
      "outputs": [],
      "source": [
        "def get_categorical():\n",
        "\n",
        "  # Iterate all columns and rows\n",
        "  for col in train.columns:\n",
        "    for index in train.index:\n",
        "\n",
        "      # Skip Numerical Columns\n",
        "      if type(train.loc[index, col]) != str:\n",
        "        break\n",
        "\n",
        "      # Print Once\n",
        "      else:\n",
        "        print(col)\n",
        "        break\n",
        "\n",
        "  return\n",
        "\n",
        "get_categorical()\n",
        "\n",
        "EJ_labels          = pd.factorize(train['EJ'])[1]\n",
        "train['EJ']        = pd.factorize(train['EJ'])[0]"
      ]
    },
    {
      "cell_type": "code",
      "execution_count": null,
      "metadata": {
        "id": "TVTiO0_IIjJ2"
      },
      "outputs": [],
      "source": [
        "scaler       = StandardScaler()\n",
        "train_scaled = scaler.fit_transform(train)\n",
        "train_scaled = pd.DataFrame(train_scaled, columns = train.columns)"
      ]
    },
    {
      "cell_type": "code",
      "execution_count": null,
      "metadata": {
        "id": "siD_GhplNMl3"
      },
      "outputs": [],
      "source": [
        "statistics = train_scaled.describe()\n",
        "statistics = statistics.transpose()"
      ]
    },
    {
      "cell_type": "markdown",
      "metadata": {
        "id": "PIRue_YmPUsg"
      },
      "source": [
        "**View Mean of Scaled Data**"
      ]
    },
    {
      "cell_type": "code",
      "execution_count": null,
      "metadata": {
        "id": "hrjuH7ecL8qf"
      },
      "outputs": [],
      "source": [
        "figure = plt.figure(figsize = (10, 7))\n",
        "plot = sns.barplot(statistics, y = 'mean', x = statistics.index)\n",
        "plot.set_xticklabels(rotation = 90, labels = statistics.index)\n",
        "plot.set_title('Mean')"
      ]
    },
    {
      "cell_type": "markdown",
      "metadata": {
        "id": "Z3PcTU94PkDz"
      },
      "source": [
        "**Median of Data**"
      ]
    },
    {
      "cell_type": "code",
      "execution_count": null,
      "metadata": {
        "id": "nBkTzosdPAVA"
      },
      "outputs": [],
      "source": [
        "figure = plt.figure(figsize = (10, 7))\n",
        "plot = sns.barplot(statistics, y = '50%', x = statistics.index)\n",
        "plot.set_xticklabels(rotation = 90, labels = statistics.index)\n",
        "plot.set_title('Median')"
      ]
    },
    {
      "cell_type": "markdown",
      "metadata": {
        "id": "JUPhHXlAP5ng"
      },
      "source": [
        "**Max**"
      ]
    },
    {
      "cell_type": "code",
      "execution_count": null,
      "metadata": {
        "id": "W66rLb2TPrhf"
      },
      "outputs": [],
      "source": [
        "figure = plt.figure(figsize = (10, 7))\n",
        "plot = sns.barplot(statistics, y = 'max', x = statistics.index)\n",
        "plot.set_xticklabels(rotation = 90, labels = statistics.index)\n",
        "plot.set_title('Max')"
      ]
    },
    {
      "cell_type": "markdown",
      "metadata": {
        "id": "5gIRpy1mP74J"
      },
      "source": [
        "**The Data is skewed for a lot of variables**\n",
        "1. Mean and Median are not approximately equal\n",
        "2. Definitely a consideration for downstream to remove outliers"
      ]
    },
    {
      "cell_type": "markdown",
      "metadata": {
        "id": "exePDZdUQMr4"
      },
      "source": [
        "**PCA**\n",
        "1. Using PCA reduces the accuracy"
      ]
    },
    {
      "cell_type": "code",
      "execution_count": null,
      "metadata": {
        "id": "YTY3IpHTgmKa"
      },
      "outputs": [],
      "source": [
        "x_train, x_test, y_train, y_test = train_test_split(train_scaled, target_class, test_size = 0.15)  # PCA's make it worse\n",
        "# x_train, x_val, y_train, y_val   = train_test_split(train_scaled, target_class, test_size = 0.15)"
      ]
    },
    {
      "cell_type": "markdown",
      "source": [
        "**Reset Index for Stratified K Fold Calls**"
      ],
      "metadata": {
        "id": "qAOuhIsMMsxL"
      }
    },
    {
      "cell_type": "code",
      "source": [
        "x_train = x_train.reset_index().drop(columns = ['index'])\n",
        "y_train = pd.DataFrame(y_train).reset_index().drop(columns = ['index'])"
      ],
      "metadata": {
        "id": "5vaP8eJUMsKZ"
      },
      "execution_count": null,
      "outputs": []
    },
    {
      "cell_type": "markdown",
      "metadata": {
        "id": "5Ilh3iULj24r"
      },
      "source": [
        "**Data Targets Split Percentage**"
      ]
    },
    {
      "cell_type": "code",
      "execution_count": null,
      "metadata": {
        "colab": {
          "base_uri": "https://localhost:8080/"
        },
        "id": "gJEJloYMi_e0",
        "outputId": "e27d029e-77ea-45e6-86ae-b80cfc248646"
      },
      "outputs": [
        {
          "output_type": "execute_result",
          "data": {
            "text/plain": [
              "82.49594813614263"
            ]
          },
          "metadata": {},
          "execution_count": 20
        }
      ],
      "source": [
        "zero_target = target_class.value_counts()[0]\n",
        "one_target  = target_class.value_counts()[1]\n",
        "\n",
        "percent_negative =  zero_target / (zero_target + one_target) * 100\n",
        "percent_negative"
      ]
    },
    {
      "cell_type": "markdown",
      "metadata": {
        "id": "ImUnT2f_cJ8G"
      },
      "source": [
        "**GridSearch Hyperparametrs**\n",
        "1. Use Cross Validation and K Folds Cross Valdiation"
      ]
    },
    {
      "cell_type": "markdown",
      "metadata": {
        "id": "nrBZSQeut6z8"
      },
      "source": [
        "**Bayesian Hyperparameter Optimization**"
      ]
    },
    {
      "cell_type": "code",
      "execution_count": null,
      "metadata": {
        "id": "MQ50SkWct-xd"
      },
      "outputs": [],
      "source": [
        "!pip install bayesian-optimization"
      ]
    },
    {
      "cell_type": "markdown",
      "source": [
        "**Loss Function**"
      ],
      "metadata": {
        "id": "jd6fviyxL36K"
      }
    },
    {
      "cell_type": "code",
      "execution_count": null,
      "metadata": {
        "id": "rLNed0n0uFvm"
      },
      "outputs": [],
      "source": [
        "from bayes_opt import BayesianOptimization\n",
        "from sklearn.model_selection import cross_val_score, StratifiedKFold\n",
        "from sklearn.metrics         import accuracy_score, make_scorer, roc_auc_score, log_loss\n",
        "import time\n",
        "from sklearn.utils import class_weight\n",
        "\n",
        "\n",
        "# output of function needs to minimzied\n",
        "# for a classification problem, were minimizing the accuracy\n",
        "# so in theory, it's really just having a metric that calculates the accuracy\n",
        "# then that accuracy is being maximzied in a bayesian fassion\n",
        "def bayes_opt(n_estimators, subsample, learning_rate, max_depth, colsample_bytree, eta):\n",
        "\n",
        "  folds     = 5\n",
        "  skf       = StratifiedKFold(n_splits=folds, shuffle = True, random_state = 1001)\n",
        "\n",
        "  params_gbm                     = {}\n",
        "  params_gbm['learning_rate']    = learning_rate\n",
        "  params_gbm['n_estimators']     = int(n_estimators)\n",
        "  # params_gbm['reg_lambda']       = reg_lambda\n",
        "  # params_gbm['reg_alpha']        = reg_alpha\n",
        "  # params_gbm['gamma']            = round(gamma)\n",
        "  params_gbm['subsample']        = subsample\n",
        "  params_gbm['max_depth']        = int(max_depth)\n",
        "  params_gbm['colsample_bytree'] = colsample_bytree\n",
        "  params_gbm['eta']              = eta\n",
        "\n",
        "\n",
        "  weights      = class_weight.compute_sample_weight('balanced', y_train)\n",
        "\n",
        "  scores       = []\n",
        "  for fold, (train_idx, val_idx) in enumerate(skf.split(x_train, y_train)):\n",
        "\n",
        "    x_train_fold, y_train_fold = x_train.iloc[train_idx], y_train.iloc[train_idx]\n",
        "    x_val, y_val = x_train.iloc[val_idx], y_train.iloc[val_idx]\n",
        "    watchlist = [(x_train_fold, y_train_fold), (x_val, y_val)]\n",
        "\n",
        "    scorer     = make_scorer(log_loss)\n",
        "\n",
        "    xgb_model  = XGBClassifier(**params_gbm,\n",
        "                               objective = 'binary:logistic',\n",
        "                               eval_metric = 'logloss')\n",
        "\n",
        "    xgb_model.fit(x_train_fold, y_train_fold)\n",
        "\n",
        "    val_preds  = xgb_model.predict_proba(x_val)\n",
        "    score      = log_loss(y_val, val_preds)\n",
        "    scores.append(score)\n",
        "\n",
        "\n",
        "\n",
        "  scores = np.average(scores)\n",
        "\n",
        "  # maximize 1 - scores (minimize log_loss)\n",
        "  # function maximizes function so we subtract it from 1 to minimize it\n",
        "  return 1 - scores\n",
        "\n",
        "\n",
        "\n",
        "pbounds = {'n_estimators': (50, 200),\n",
        "          'subsample': (0.5, 1.0),\n",
        "          'learning_rate':(0.01, 3),\n",
        "           'max_depth': (3, 10),\n",
        "           'colsample_bytree': (0.5, 1),\n",
        "           'eta': (0.2, 0.4)\n",
        "          }\n",
        "\n",
        "optimizer   = BayesianOptimization(\n",
        "    f       = bayes_opt,\n",
        "    pbounds = pbounds,\n",
        "    verbose = 2\n",
        ")"
      ]
    },
    {
      "cell_type": "code",
      "execution_count": null,
      "metadata": {
        "id": "mAv1g0ZHh2i7"
      },
      "outputs": [],
      "source": [
        "optimizations = optimizer.maximize(\n",
        "    init_points = 6,\n",
        "    n_iter      = 150\n",
        ")"
      ]
    },
    {
      "cell_type": "code",
      "source": [
        "test_r = test.drop(columns = ['Id'])\n",
        "test_r['EJ'] = pd.factorize(test_r['EJ'])[0]"
      ],
      "metadata": {
        "id": "8Ls6_tOZgAmK"
      },
      "execution_count": null,
      "outputs": []
    },
    {
      "cell_type": "code",
      "source": [
        "optimizer.res"
      ],
      "metadata": {
        "id": "IyeSzGegSQWj"
      },
      "execution_count": null,
      "outputs": []
    },
    {
      "cell_type": "code",
      "source": [
        "\n",
        "# roc_auc_score(y_test, xgb_model.predict(x_test))"
      ],
      "metadata": {
        "id": "a7ekLGg5Z2rK"
      },
      "execution_count": null,
      "outputs": []
    },
    {
      "cell_type": "code",
      "source": [
        "# submission                         = sample_submission.copy()\n",
        "# submission[['class_0', 'class_1']] = xgb_model.predict_proba(test_r)\n",
        "# submission.to_csv('submission.csv', index=False)"
      ],
      "metadata": {
        "id": "1z7Vd5trI-NZ"
      },
      "execution_count": null,
      "outputs": []
    },
    {
      "cell_type": "code",
      "source": [
        "# submission"
      ],
      "metadata": {
        "id": "qoocYZm4AYqt"
      },
      "execution_count": null,
      "outputs": []
    },
    {
      "cell_type": "markdown",
      "source": [
        "# Ensemble Modeling Exploration"
      ],
      "metadata": {
        "id": "6zFIawmxUBH5"
      }
    },
    {
      "cell_type": "markdown",
      "source": [
        "**Taking A Stacked Classifier Approach**"
      ],
      "metadata": {
        "id": "gQdGRBqwcC3C"
      }
    },
    {
      "cell_type": "code",
      "source": [
        "x_train"
      ],
      "metadata": {
        "colab": {
          "base_uri": "https://localhost:8080/",
          "height": 483
        },
        "id": "0lPUKltLH-nr",
        "outputId": "0b05eca4-32a4-4bbd-c753-1f23cea988e1"
      },
      "execution_count": null,
      "outputs": [
        {
          "output_type": "execute_result",
          "data": {
            "text/plain": [
              "           AB        AF        AH        AM        AR        AX        AY  \\\n",
              "0   -0.590413 -0.464060 -0.261669 -0.324969 -0.189295 -0.545454 -0.083417   \n",
              "1   -0.462591  0.118890 -0.261669 -0.361731  0.192392 -0.309180  0.061346   \n",
              "2    0.587379 -0.244547 -0.261669 -0.346439 -0.189295 -0.757407 -0.083417   \n",
              "3   -0.133904  0.677710 -0.261669 -0.072352 -0.189295  0.198116 -0.083417   \n",
              "4   -0.499111 -0.218563 -0.261669 -0.420184  0.024749 -0.799102 -0.083417   \n",
              "..        ...       ...       ...       ...       ...       ...       ...   \n",
              "519  0.340865  0.051858 -0.233647 -0.373110 -0.051588 -0.430792  0.105945   \n",
              "520  1.774302  2.358378  0.625149  1.214469  0.309393  1.445506 -0.083417   \n",
              "521 -0.289117 -0.385867 -0.174330  0.040865 -0.189295  0.180742 -0.083417   \n",
              "522 -0.563022  0.641627 -0.261669  0.058423 -0.189295 -0.569777 -0.083417   \n",
              "523 -0.289117  0.738293 -0.261669  0.721104 -0.189295  1.546271 -0.083417   \n",
              "\n",
              "           AZ        BC       BD   ...        FI        FL        FR  \\\n",
              "0    0.689067 -0.104787 -0.239640  ... -0.517222 -0.457833 -0.045644   \n",
              "1   -0.647552 -0.067442 -0.089610  ... -0.592442 -0.457833 -0.043400   \n",
              "2   -0.141609 -0.104787 -0.878686  ...  0.665621 -0.118690 -0.029432   \n",
              "3    0.684718 -0.062585  0.343611  ...  0.067618 -0.457833 -0.038264   \n",
              "4   -0.203945 -0.104787  0.107779  ...  0.214298 -0.000544 -0.042301   \n",
              "..        ...       ...       ...  ...       ...       ...       ...   \n",
              "519 -0.573618 -0.104787 -0.845640  ...  1.195926 -0.111699 -0.043666   \n",
              "520  1.342880  0.314967 -0.218316  ... -0.889563  0.051195 -0.056274   \n",
              "521 -0.182200 -0.104787  0.674499  ...  0.176687 -0.457833 -0.037790   \n",
              "522  0.007710 -0.051414  0.199213  ...  0.193612 -0.457833 -0.060566   \n",
              "523 -1.257874 -0.024053 -0.677155  ... -1.113344  0.183622 -0.050896   \n",
              "\n",
              "           FS        GB        GE        GF        GH        GI        GL  \n",
              "0    0.575331  0.268332 -0.410260  3.343342 -0.808929 -0.918829  1.304861  \n",
              "1   -0.272399 -1.388246  0.672523  1.125291 -0.082189  1.741549  1.304861  \n",
              "2   -0.220391 -0.840401 -0.410260 -0.455345 -0.669999 -0.826203 -0.815376  \n",
              "3    0.268484  1.513095 -0.410260  1.349729  0.768003  1.288784  1.304861  \n",
              "4   -0.209990  0.478898  0.313435 -0.615064 -0.793828  0.112616 -0.798201  \n",
              "..        ...       ...       ...       ...       ...       ...       ...  \n",
              "519  0.226877  0.731391 -0.299118 -0.418229 -0.765135 -0.228502 -0.798494  \n",
              "520 -0.069568 -1.064011 -0.410260 -0.501939  1.478509 -0.087079 -0.823123  \n",
              "521  0.013645 -0.791952 -0.410260  0.667651  0.545262 -0.496087  1.304861  \n",
              "522 -0.272399 -0.583250  1.246736  0.473945 -0.562403  0.292792  1.304861  \n",
              "523  0.003243 -0.731391 -0.410260 -0.405178 -1.051679 -0.926068 -0.816246  \n",
              "\n",
              "[524 rows x 56 columns]"
            ],
            "text/html": [
              "\n",
              "  <div id=\"df-842b37bb-90df-4f9a-99da-c0863de44466\">\n",
              "    <div class=\"colab-df-container\">\n",
              "      <div>\n",
              "<style scoped>\n",
              "    .dataframe tbody tr th:only-of-type {\n",
              "        vertical-align: middle;\n",
              "    }\n",
              "\n",
              "    .dataframe tbody tr th {\n",
              "        vertical-align: top;\n",
              "    }\n",
              "\n",
              "    .dataframe thead th {\n",
              "        text-align: right;\n",
              "    }\n",
              "</style>\n",
              "<table border=\"1\" class=\"dataframe\">\n",
              "  <thead>\n",
              "    <tr style=\"text-align: right;\">\n",
              "      <th></th>\n",
              "      <th>AB</th>\n",
              "      <th>AF</th>\n",
              "      <th>AH</th>\n",
              "      <th>AM</th>\n",
              "      <th>AR</th>\n",
              "      <th>AX</th>\n",
              "      <th>AY</th>\n",
              "      <th>AZ</th>\n",
              "      <th>BC</th>\n",
              "      <th>BD</th>\n",
              "      <th>...</th>\n",
              "      <th>FI</th>\n",
              "      <th>FL</th>\n",
              "      <th>FR</th>\n",
              "      <th>FS</th>\n",
              "      <th>GB</th>\n",
              "      <th>GE</th>\n",
              "      <th>GF</th>\n",
              "      <th>GH</th>\n",
              "      <th>GI</th>\n",
              "      <th>GL</th>\n",
              "    </tr>\n",
              "  </thead>\n",
              "  <tbody>\n",
              "    <tr>\n",
              "      <th>0</th>\n",
              "      <td>-0.590413</td>\n",
              "      <td>-0.464060</td>\n",
              "      <td>-0.261669</td>\n",
              "      <td>-0.324969</td>\n",
              "      <td>-0.189295</td>\n",
              "      <td>-0.545454</td>\n",
              "      <td>-0.083417</td>\n",
              "      <td>0.689067</td>\n",
              "      <td>-0.104787</td>\n",
              "      <td>-0.239640</td>\n",
              "      <td>...</td>\n",
              "      <td>-0.517222</td>\n",
              "      <td>-0.457833</td>\n",
              "      <td>-0.045644</td>\n",
              "      <td>0.575331</td>\n",
              "      <td>0.268332</td>\n",
              "      <td>-0.410260</td>\n",
              "      <td>3.343342</td>\n",
              "      <td>-0.808929</td>\n",
              "      <td>-0.918829</td>\n",
              "      <td>1.304861</td>\n",
              "    </tr>\n",
              "    <tr>\n",
              "      <th>1</th>\n",
              "      <td>-0.462591</td>\n",
              "      <td>0.118890</td>\n",
              "      <td>-0.261669</td>\n",
              "      <td>-0.361731</td>\n",
              "      <td>0.192392</td>\n",
              "      <td>-0.309180</td>\n",
              "      <td>0.061346</td>\n",
              "      <td>-0.647552</td>\n",
              "      <td>-0.067442</td>\n",
              "      <td>-0.089610</td>\n",
              "      <td>...</td>\n",
              "      <td>-0.592442</td>\n",
              "      <td>-0.457833</td>\n",
              "      <td>-0.043400</td>\n",
              "      <td>-0.272399</td>\n",
              "      <td>-1.388246</td>\n",
              "      <td>0.672523</td>\n",
              "      <td>1.125291</td>\n",
              "      <td>-0.082189</td>\n",
              "      <td>1.741549</td>\n",
              "      <td>1.304861</td>\n",
              "    </tr>\n",
              "    <tr>\n",
              "      <th>2</th>\n",
              "      <td>0.587379</td>\n",
              "      <td>-0.244547</td>\n",
              "      <td>-0.261669</td>\n",
              "      <td>-0.346439</td>\n",
              "      <td>-0.189295</td>\n",
              "      <td>-0.757407</td>\n",
              "      <td>-0.083417</td>\n",
              "      <td>-0.141609</td>\n",
              "      <td>-0.104787</td>\n",
              "      <td>-0.878686</td>\n",
              "      <td>...</td>\n",
              "      <td>0.665621</td>\n",
              "      <td>-0.118690</td>\n",
              "      <td>-0.029432</td>\n",
              "      <td>-0.220391</td>\n",
              "      <td>-0.840401</td>\n",
              "      <td>-0.410260</td>\n",
              "      <td>-0.455345</td>\n",
              "      <td>-0.669999</td>\n",
              "      <td>-0.826203</td>\n",
              "      <td>-0.815376</td>\n",
              "    </tr>\n",
              "    <tr>\n",
              "      <th>3</th>\n",
              "      <td>-0.133904</td>\n",
              "      <td>0.677710</td>\n",
              "      <td>-0.261669</td>\n",
              "      <td>-0.072352</td>\n",
              "      <td>-0.189295</td>\n",
              "      <td>0.198116</td>\n",
              "      <td>-0.083417</td>\n",
              "      <td>0.684718</td>\n",
              "      <td>-0.062585</td>\n",
              "      <td>0.343611</td>\n",
              "      <td>...</td>\n",
              "      <td>0.067618</td>\n",
              "      <td>-0.457833</td>\n",
              "      <td>-0.038264</td>\n",
              "      <td>0.268484</td>\n",
              "      <td>1.513095</td>\n",
              "      <td>-0.410260</td>\n",
              "      <td>1.349729</td>\n",
              "      <td>0.768003</td>\n",
              "      <td>1.288784</td>\n",
              "      <td>1.304861</td>\n",
              "    </tr>\n",
              "    <tr>\n",
              "      <th>4</th>\n",
              "      <td>-0.499111</td>\n",
              "      <td>-0.218563</td>\n",
              "      <td>-0.261669</td>\n",
              "      <td>-0.420184</td>\n",
              "      <td>0.024749</td>\n",
              "      <td>-0.799102</td>\n",
              "      <td>-0.083417</td>\n",
              "      <td>-0.203945</td>\n",
              "      <td>-0.104787</td>\n",
              "      <td>0.107779</td>\n",
              "      <td>...</td>\n",
              "      <td>0.214298</td>\n",
              "      <td>-0.000544</td>\n",
              "      <td>-0.042301</td>\n",
              "      <td>-0.209990</td>\n",
              "      <td>0.478898</td>\n",
              "      <td>0.313435</td>\n",
              "      <td>-0.615064</td>\n",
              "      <td>-0.793828</td>\n",
              "      <td>0.112616</td>\n",
              "      <td>-0.798201</td>\n",
              "    </tr>\n",
              "    <tr>\n",
              "      <th>...</th>\n",
              "      <td>...</td>\n",
              "      <td>...</td>\n",
              "      <td>...</td>\n",
              "      <td>...</td>\n",
              "      <td>...</td>\n",
              "      <td>...</td>\n",
              "      <td>...</td>\n",
              "      <td>...</td>\n",
              "      <td>...</td>\n",
              "      <td>...</td>\n",
              "      <td>...</td>\n",
              "      <td>...</td>\n",
              "      <td>...</td>\n",
              "      <td>...</td>\n",
              "      <td>...</td>\n",
              "      <td>...</td>\n",
              "      <td>...</td>\n",
              "      <td>...</td>\n",
              "      <td>...</td>\n",
              "      <td>...</td>\n",
              "      <td>...</td>\n",
              "    </tr>\n",
              "    <tr>\n",
              "      <th>519</th>\n",
              "      <td>0.340865</td>\n",
              "      <td>0.051858</td>\n",
              "      <td>-0.233647</td>\n",
              "      <td>-0.373110</td>\n",
              "      <td>-0.051588</td>\n",
              "      <td>-0.430792</td>\n",
              "      <td>0.105945</td>\n",
              "      <td>-0.573618</td>\n",
              "      <td>-0.104787</td>\n",
              "      <td>-0.845640</td>\n",
              "      <td>...</td>\n",
              "      <td>1.195926</td>\n",
              "      <td>-0.111699</td>\n",
              "      <td>-0.043666</td>\n",
              "      <td>0.226877</td>\n",
              "      <td>0.731391</td>\n",
              "      <td>-0.299118</td>\n",
              "      <td>-0.418229</td>\n",
              "      <td>-0.765135</td>\n",
              "      <td>-0.228502</td>\n",
              "      <td>-0.798494</td>\n",
              "    </tr>\n",
              "    <tr>\n",
              "      <th>520</th>\n",
              "      <td>1.774302</td>\n",
              "      <td>2.358378</td>\n",
              "      <td>0.625149</td>\n",
              "      <td>1.214469</td>\n",
              "      <td>0.309393</td>\n",
              "      <td>1.445506</td>\n",
              "      <td>-0.083417</td>\n",
              "      <td>1.342880</td>\n",
              "      <td>0.314967</td>\n",
              "      <td>-0.218316</td>\n",
              "      <td>...</td>\n",
              "      <td>-0.889563</td>\n",
              "      <td>0.051195</td>\n",
              "      <td>-0.056274</td>\n",
              "      <td>-0.069568</td>\n",
              "      <td>-1.064011</td>\n",
              "      <td>-0.410260</td>\n",
              "      <td>-0.501939</td>\n",
              "      <td>1.478509</td>\n",
              "      <td>-0.087079</td>\n",
              "      <td>-0.823123</td>\n",
              "    </tr>\n",
              "    <tr>\n",
              "      <th>521</th>\n",
              "      <td>-0.289117</td>\n",
              "      <td>-0.385867</td>\n",
              "      <td>-0.174330</td>\n",
              "      <td>0.040865</td>\n",
              "      <td>-0.189295</td>\n",
              "      <td>0.180742</td>\n",
              "      <td>-0.083417</td>\n",
              "      <td>-0.182200</td>\n",
              "      <td>-0.104787</td>\n",
              "      <td>0.674499</td>\n",
              "      <td>...</td>\n",
              "      <td>0.176687</td>\n",
              "      <td>-0.457833</td>\n",
              "      <td>-0.037790</td>\n",
              "      <td>0.013645</td>\n",
              "      <td>-0.791952</td>\n",
              "      <td>-0.410260</td>\n",
              "      <td>0.667651</td>\n",
              "      <td>0.545262</td>\n",
              "      <td>-0.496087</td>\n",
              "      <td>1.304861</td>\n",
              "    </tr>\n",
              "    <tr>\n",
              "      <th>522</th>\n",
              "      <td>-0.563022</td>\n",
              "      <td>0.641627</td>\n",
              "      <td>-0.261669</td>\n",
              "      <td>0.058423</td>\n",
              "      <td>-0.189295</td>\n",
              "      <td>-0.569777</td>\n",
              "      <td>-0.083417</td>\n",
              "      <td>0.007710</td>\n",
              "      <td>-0.051414</td>\n",
              "      <td>0.199213</td>\n",
              "      <td>...</td>\n",
              "      <td>0.193612</td>\n",
              "      <td>-0.457833</td>\n",
              "      <td>-0.060566</td>\n",
              "      <td>-0.272399</td>\n",
              "      <td>-0.583250</td>\n",
              "      <td>1.246736</td>\n",
              "      <td>0.473945</td>\n",
              "      <td>-0.562403</td>\n",
              "      <td>0.292792</td>\n",
              "      <td>1.304861</td>\n",
              "    </tr>\n",
              "    <tr>\n",
              "      <th>523</th>\n",
              "      <td>-0.289117</td>\n",
              "      <td>0.738293</td>\n",
              "      <td>-0.261669</td>\n",
              "      <td>0.721104</td>\n",
              "      <td>-0.189295</td>\n",
              "      <td>1.546271</td>\n",
              "      <td>-0.083417</td>\n",
              "      <td>-1.257874</td>\n",
              "      <td>-0.024053</td>\n",
              "      <td>-0.677155</td>\n",
              "      <td>...</td>\n",
              "      <td>-1.113344</td>\n",
              "      <td>0.183622</td>\n",
              "      <td>-0.050896</td>\n",
              "      <td>0.003243</td>\n",
              "      <td>-0.731391</td>\n",
              "      <td>-0.410260</td>\n",
              "      <td>-0.405178</td>\n",
              "      <td>-1.051679</td>\n",
              "      <td>-0.926068</td>\n",
              "      <td>-0.816246</td>\n",
              "    </tr>\n",
              "  </tbody>\n",
              "</table>\n",
              "<p>524 rows × 56 columns</p>\n",
              "</div>\n",
              "      <button class=\"colab-df-convert\" onclick=\"convertToInteractive('df-842b37bb-90df-4f9a-99da-c0863de44466')\"\n",
              "              title=\"Convert this dataframe to an interactive table.\"\n",
              "              style=\"display:none;\">\n",
              "        \n",
              "  <svg xmlns=\"http://www.w3.org/2000/svg\" height=\"24px\"viewBox=\"0 0 24 24\"\n",
              "       width=\"24px\">\n",
              "    <path d=\"M0 0h24v24H0V0z\" fill=\"none\"/>\n",
              "    <path d=\"M18.56 5.44l.94 2.06.94-2.06 2.06-.94-2.06-.94-.94-2.06-.94 2.06-2.06.94zm-11 1L8.5 8.5l.94-2.06 2.06-.94-2.06-.94L8.5 2.5l-.94 2.06-2.06.94zm10 10l.94 2.06.94-2.06 2.06-.94-2.06-.94-.94-2.06-.94 2.06-2.06.94z\"/><path d=\"M17.41 7.96l-1.37-1.37c-.4-.4-.92-.59-1.43-.59-.52 0-1.04.2-1.43.59L10.3 9.45l-7.72 7.72c-.78.78-.78 2.05 0 2.83L4 21.41c.39.39.9.59 1.41.59.51 0 1.02-.2 1.41-.59l7.78-7.78 2.81-2.81c.8-.78.8-2.07 0-2.86zM5.41 20L4 18.59l7.72-7.72 1.47 1.35L5.41 20z\"/>\n",
              "  </svg>\n",
              "      </button>\n",
              "      \n",
              "  <style>\n",
              "    .colab-df-container {\n",
              "      display:flex;\n",
              "      flex-wrap:wrap;\n",
              "      gap: 12px;\n",
              "    }\n",
              "\n",
              "    .colab-df-convert {\n",
              "      background-color: #E8F0FE;\n",
              "      border: none;\n",
              "      border-radius: 50%;\n",
              "      cursor: pointer;\n",
              "      display: none;\n",
              "      fill: #1967D2;\n",
              "      height: 32px;\n",
              "      padding: 0 0 0 0;\n",
              "      width: 32px;\n",
              "    }\n",
              "\n",
              "    .colab-df-convert:hover {\n",
              "      background-color: #E2EBFA;\n",
              "      box-shadow: 0px 1px 2px rgba(60, 64, 67, 0.3), 0px 1px 3px 1px rgba(60, 64, 67, 0.15);\n",
              "      fill: #174EA6;\n",
              "    }\n",
              "\n",
              "    [theme=dark] .colab-df-convert {\n",
              "      background-color: #3B4455;\n",
              "      fill: #D2E3FC;\n",
              "    }\n",
              "\n",
              "    [theme=dark] .colab-df-convert:hover {\n",
              "      background-color: #434B5C;\n",
              "      box-shadow: 0px 1px 3px 1px rgba(0, 0, 0, 0.15);\n",
              "      filter: drop-shadow(0px 1px 2px rgba(0, 0, 0, 0.3));\n",
              "      fill: #FFFFFF;\n",
              "    }\n",
              "  </style>\n",
              "\n",
              "      <script>\n",
              "        const buttonEl =\n",
              "          document.querySelector('#df-842b37bb-90df-4f9a-99da-c0863de44466 button.colab-df-convert');\n",
              "        buttonEl.style.display =\n",
              "          google.colab.kernel.accessAllowed ? 'block' : 'none';\n",
              "\n",
              "        async function convertToInteractive(key) {\n",
              "          const element = document.querySelector('#df-842b37bb-90df-4f9a-99da-c0863de44466');\n",
              "          const dataTable =\n",
              "            await google.colab.kernel.invokeFunction('convertToInteractive',\n",
              "                                                     [key], {});\n",
              "          if (!dataTable) return;\n",
              "\n",
              "          const docLinkHtml = 'Like what you see? Visit the ' +\n",
              "            '<a target=\"_blank\" href=https://colab.research.google.com/notebooks/data_table.ipynb>data table notebook</a>'\n",
              "            + ' to learn more about interactive tables.';\n",
              "          element.innerHTML = '';\n",
              "          dataTable['output_type'] = 'display_data';\n",
              "          await google.colab.output.renderOutput(dataTable, element);\n",
              "          const docLink = document.createElement('div');\n",
              "          docLink.innerHTML = docLinkHtml;\n",
              "          element.appendChild(docLink);\n",
              "        }\n",
              "      </script>\n",
              "    </div>\n",
              "  </div>\n",
              "  "
            ]
          },
          "metadata": {},
          "execution_count": 38
        }
      ]
    },
    {
      "cell_type": "markdown",
      "source": [
        "**Machine Learning Model**\n",
        "1. Plan is to remove decisiontree classifier because it's too simple (one decision tree makes all decisions)\n",
        "2. Create a nueral network as the third model"
      ],
      "metadata": {
        "id": "0t1XsEfkG3RW"
      }
    },
    {
      "cell_type": "code",
      "source": [
        "from sklearn.neural_network import MLPClassifier\n",
        "from sklearn.neighbors      import KNeighborsClassifier\n",
        "from sklearn.linear_model   import LinearRegression, SGDClassifier\n",
        "\n",
        "class EnsembleLearning:\n",
        "\n",
        "  def __init__(self):\n",
        "\n",
        "    #---------- Model Initialization ----------\n",
        "    # xgb_model                   = XGBClassifier(n_estimators = 300, max_depth = 7, eta = 0.2784,\n",
        "    #                               colsample_bytree = 0.8361, learning_rate = 0.03398,\n",
        "    #                               subsample = 0.8534, eval_metric = 'logloss')\n",
        "\n",
        "    # xgb_model                   = XGBClassifier(n_estimators = 162, max_depth = 3, eta = 0.3398,\n",
        "    #                                             colsample_bytree = 0.6864, learning_rate = 0.1082, subsample = 0.5206,\n",
        "    #                                             eval_metric ='logloss')\n",
        "    rf_model                    = RandomForestClassifier(n_estimators = 157, max_depth = 10, min_samples_split = 2)\n",
        "    nueral_network              = MLPClassifier(activation = 'relu',\n",
        "                                                hidden_layer_sizes = (64,))\n",
        "    self.weak_learners          = [('DecisionTree', nueral_network),\n",
        "                                  ('RandomForest', rf_model)]\n",
        "                                  # ,\n",
        "                                  # ('XGBModel', xgb_model)]\n",
        "\n",
        "    self.final_learner          = LogisticRegression()\n",
        "    # self.final_learner            = SGDClassifier()\n",
        "    # self.final_learner          = KNeighborsClassifier()\n",
        "\n",
        "    self.folds                  = 5\n",
        "    self.skf                    = StratifiedKFold(n_splits=self.folds, shuffle = True, random_state = 1001)\n",
        "    self.weights                = class_weight.compute_sample_weight('balanced', y_train)\n",
        "\n",
        "    self.scores                 = []\n",
        "    self.validation_predictions = {} # new training dataset\n",
        "    self.test_predictions       = {} # new test dataset\n",
        "\n",
        "\n",
        "\n",
        "    #------------- Function Calls ----------\n",
        "    self.train_model()\n",
        "\n",
        "  # Create First Layer for Ensemble Learning\n",
        "  def train_model(self):\n",
        "\n",
        "    self.individual_scores                 = {}\n",
        "    self.individual_scores['DecisionTree'] = []\n",
        "    self.individual_scores['RandomForest'] = []\n",
        "    self.individual_scores['XGBModel']     = []\n",
        "    self.train_meta_model                  = None\n",
        "    self.test_meta_model                   = None\n",
        "\n",
        "    self.stacked_model      = StackingClassifier(estimators = self.weak_learners,\n",
        "                                            final_estimator = self.final_learner)\n",
        "\n",
        "    # K Fold Cross Val and Normal Training To Create 2nd Layer Training\n",
        "    for fold, (train_idx, val_idx) in enumerate(self.skf.split(x_train, y_train)):\n",
        "      x_train_fold, y_train_fold = x_train.iloc[train_idx], y_train.iloc[train_idx]\n",
        "      x_val, y_val   = x_train.iloc[val_idx], y_train.iloc[val_idx]\n",
        "      watchlist      = [(x_train_fold, y_train_fold), (x_val, y_val)]\n",
        "\n",
        "      self.stacked_model.fit(x_train_fold, y_train_fold)\n",
        "      y_pred         = self.stacked_model.predict_proba(x_val)\n",
        "      score          = log_loss(y_val, y_pred)\n",
        "      self.scores.append(score)\n",
        "\n",
        "    #   for model in self.weak_learners:\n",
        "    #     model[1].fit(x_train_fold, y_train_fold)\n",
        "\n",
        "    #     score        = log_loss(y_val, y_pred)\n",
        "\n",
        "    #     self.individual_scores[model[0]].append(score)\n",
        "\n",
        "    # invidual_averages = [np.average(self.individual_scores[model]) for model in self.individual_scores.keys()]\n",
        "    self.scores       = np.average(self.scores)\n",
        "\n",
        "    # print(invidual_averages)\n",
        "    print(self.scores)\n",
        "    return self.scores\n",
        "\n",
        "\n",
        "Ensemble_model = EnsembleLearning()"
      ],
      "metadata": {
        "id": "NSVAgeiYUA7O"
      },
      "execution_count": null,
      "outputs": []
    },
    {
      "cell_type": "code",
      "source": [
        "# Confusion Matrix for the last fold\n",
        "model = Ensemble_model.stacked_model\n",
        "cm    = confusion_matrix(model.predict(x_test), y_test)\n",
        "\n",
        "# Feature Importance for the last model\n",
        "# feature_imp = pd.DataFrame({'Value':xgb_model.feature_importances_, 'Feature':x_train.columns})\n",
        "# feature_imp = feature_imp.sort_values(by=\"Value\", ascending=False)\n",
        "# feature_imp_top20 = feature_imp.iloc[:20]\n",
        "\n",
        "fig, ax = plt.subplots(1, 2, figsize=(14, 4))\n",
        "\n",
        "# Subplot 1: Confusion Matrix\n",
        "sns.heatmap(cm, annot=True, fmt='d', ax=ax[0], cmap='YlOrRd')\n",
        "ax[0].set_title('Confusion Matrix')\n",
        "ax[0].set_xlabel('Predicted')\n",
        "ax[0].set_ylabel('True')\n",
        "\n",
        "# Subplot 2: Feature Importance\n",
        "# sns.barplot(x=\"Value\", y=\"Feature\", data=feature_imp_top20, ax=ax[1], palette='YlOrRd_r')\n",
        "# ax[1].set_title('Feature Importance')\n",
        "\n",
        "plt.tight_layout()\n",
        "plt.show()"
      ],
      "metadata": {
        "id": "vEcG2vuGZZ5C",
        "colab": {
          "base_uri": "https://localhost:8080/",
          "height": 226
        },
        "outputId": "8d1bfcb2-e995-4883-b976-f8cc963890ea"
      },
      "execution_count": null,
      "outputs": [
        {
          "output_type": "display_data",
          "data": {
            "text/plain": [
              "<Figure size 1400x400 with 3 Axes>"
            ],
            "image/png": "[encoded data removed]"
          },
          "metadata": {}
        }
      ]
    },
    {
      "cell_type": "code",
      "source": [
        "submission                           = sample_submission.copy()\n",
        "submission[['class_0', 'class_1']]   = Ensemble_model.stacked_model.predict_proba(test_r)\n",
        "submission.to_csv('submission.csv', index=False)"
      ],
      "metadata": {
        "id": "aGn3aaUiimfl"
      },
      "execution_count": null,
      "outputs": []
    },
    {
      "cell_type": "code",
      "source": [
        "submission"
      ],
      "metadata": {
        "colab": {
          "base_uri": "https://localhost:8080/",
          "height": 204
        },
        "id": "qwrqWbcMiT36",
        "outputId": "107aa3ac-4d61-45cf-df8f-b1e6f321732b"
      },
      "execution_count": null,
      "outputs": [
        {
          "output_type": "execute_result",
          "data": {
            "text/plain": [
              "             Id   class_0   class_1\n",
              "0  00eed32682bb  0.918026  0.081974\n",
              "1  010ebe33f668  0.918026  0.081974\n",
              "2  02fa521e1838  0.918026  0.081974\n",
              "3  040e15f562a2  0.918026  0.081974\n",
              "4  046e85c7cc7f  0.918026  0.081974"
            ],
            "text/html": [
              "\n",
              "  <div id=\"df-67023e49-7e01-4a05-94f2-266053248721\">\n",
              "    <div class=\"colab-df-container\">\n",
              "      <div>\n",
              "<style scoped>\n",
              "    .dataframe tbody tr th:only-of-type {\n",
              "        vertical-align: middle;\n",
              "    }\n",
              "\n",
              "    .dataframe tbody tr th {\n",
              "        vertical-align: top;\n",
              "    }\n",
              "\n",
              "    .dataframe thead th {\n",
              "        text-align: right;\n",
              "    }\n",
              "</style>\n",
              "<table border=\"1\" class=\"dataframe\">\n",
              "  <thead>\n",
              "    <tr style=\"text-align: right;\">\n",
              "      <th></th>\n",
              "      <th>Id</th>\n",
              "      <th>class_0</th>\n",
              "      <th>class_1</th>\n",
              "    </tr>\n",
              "  </thead>\n",
              "  <tbody>\n",
              "    <tr>\n",
              "      <th>0</th>\n",
              "      <td>00eed32682bb</td>\n",
              "      <td>0.918026</td>\n",
              "      <td>0.081974</td>\n",
              "    </tr>\n",
              "    <tr>\n",
              "      <th>1</th>\n",
              "      <td>010ebe33f668</td>\n",
              "      <td>0.918026</td>\n",
              "      <td>0.081974</td>\n",
              "    </tr>\n",
              "    <tr>\n",
              "      <th>2</th>\n",
              "      <td>02fa521e1838</td>\n",
              "      <td>0.918026</td>\n",
              "      <td>0.081974</td>\n",
              "    </tr>\n",
              "    <tr>\n",
              "      <th>3</th>\n",
              "      <td>040e15f562a2</td>\n",
              "      <td>0.918026</td>\n",
              "      <td>0.081974</td>\n",
              "    </tr>\n",
              "    <tr>\n",
              "      <th>4</th>\n",
              "      <td>046e85c7cc7f</td>\n",
              "      <td>0.918026</td>\n",
              "      <td>0.081974</td>\n",
              "    </tr>\n",
              "  </tbody>\n",
              "</table>\n",
              "</div>\n",
              "      <button class=\"colab-df-convert\" onclick=\"convertToInteractive('df-67023e49-7e01-4a05-94f2-266053248721')\"\n",
              "              title=\"Convert this dataframe to an interactive table.\"\n",
              "              style=\"display:none;\">\n",
              "        \n",
              "  <svg xmlns=\"http://www.w3.org/2000/svg\" height=\"24px\"viewBox=\"0 0 24 24\"\n",
              "       width=\"24px\">\n",
              "    <path d=\"M0 0h24v24H0V0z\" fill=\"none\"/>\n",
              "    <path d=\"M18.56 5.44l.94 2.06.94-2.06 2.06-.94-2.06-.94-.94-2.06-.94 2.06-2.06.94zm-11 1L8.5 8.5l.94-2.06 2.06-.94-2.06-.94L8.5 2.5l-.94 2.06-2.06.94zm10 10l.94 2.06.94-2.06 2.06-.94-2.06-.94-.94-2.06-.94 2.06-2.06.94z\"/><path d=\"M17.41 7.96l-1.37-1.37c-.4-.4-.92-.59-1.43-.59-.52 0-1.04.2-1.43.59L10.3 9.45l-7.72 7.72c-.78.78-.78 2.05 0 2.83L4 21.41c.39.39.9.59 1.41.59.51 0 1.02-.2 1.41-.59l7.78-7.78 2.81-2.81c.8-.78.8-2.07 0-2.86zM5.41 20L4 18.59l7.72-7.72 1.47 1.35L5.41 20z\"/>\n",
              "  </svg>\n",
              "      </button>\n",
              "      \n",
              "  <style>\n",
              "    .colab-df-container {\n",
              "      display:flex;\n",
              "      flex-wrap:wrap;\n",
              "      gap: 12px;\n",
              "    }\n",
              "\n",
              "    .colab-df-convert {\n",
              "      background-color: #E8F0FE;\n",
              "      border: none;\n",
              "      border-radius: 50%;\n",
              "      cursor: pointer;\n",
              "      display: none;\n",
              "      fill: #1967D2;\n",
              "      height: 32px;\n",
              "      padding: 0 0 0 0;\n",
              "      width: 32px;\n",
              "    }\n",
              "\n",
              "    .colab-df-convert:hover {\n",
              "      background-color: #E2EBFA;\n",
              "      box-shadow: 0px 1px 2px rgba(60, 64, 67, 0.3), 0px 1px 3px 1px rgba(60, 64, 67, 0.15);\n",
              "      fill: #174EA6;\n",
              "    }\n",
              "\n",
              "    [theme=dark] .colab-df-convert {\n",
              "      background-color: #3B4455;\n",
              "      fill: #D2E3FC;\n",
              "    }\n",
              "\n",
              "    [theme=dark] .colab-df-convert:hover {\n",
              "      background-color: #434B5C;\n",
              "      box-shadow: 0px 1px 3px 1px rgba(0, 0, 0, 0.15);\n",
              "      filter: drop-shadow(0px 1px 2px rgba(0, 0, 0, 0.3));\n",
              "      fill: #FFFFFF;\n",
              "    }\n",
              "  </style>\n",
              "\n",
              "      <script>\n",
              "        const buttonEl =\n",
              "          document.querySelector('#df-67023e49-7e01-4a05-94f2-266053248721 button.colab-df-convert');\n",
              "        buttonEl.style.display =\n",
              "          google.colab.kernel.accessAllowed ? 'block' : 'none';\n",
              "\n",
              "        async function convertToInteractive(key) {\n",
              "          const element = document.querySelector('#df-67023e49-7e01-4a05-94f2-266053248721');\n",
              "          const dataTable =\n",
              "            await google.colab.kernel.invokeFunction('convertToInteractive',\n",
              "                                                     [key], {});\n",
              "          if (!dataTable) return;\n",
              "\n",
              "          const docLinkHtml = 'Like what you see? Visit the ' +\n",
              "            '<a target=\"_blank\" href=https://colab.research.google.com/notebooks/data_table.ipynb>data table notebook</a>'\n",
              "            + ' to learn more about interactive tables.';\n",
              "          element.innerHTML = '';\n",
              "          dataTable['output_type'] = 'display_data';\n",
              "          await google.colab.output.renderOutput(dataTable, element);\n",
              "          const docLink = document.createElement('div');\n",
              "          docLink.innerHTML = docLinkHtml;\n",
              "          element.appendChild(docLink);\n",
              "        }\n",
              "      </script>\n",
              "    </div>\n",
              "  </div>\n",
              "  "
            ]
          },
          "metadata": {},
          "execution_count": 89
        }
      ]
    },
    {
      "cell_type": "code",
      "source": [],
      "metadata": {
        "id": "GJYshCD5bpBm"
      },
      "execution_count": null,
      "outputs": []
    }
  ],
  "metadata": {
    "colab": {
      "provenance": []
    },
    "kernelspec": {
      "display_name": "Python 3",
      "name": "python3"
    },
    "language_info": {
      "name": "python"
    }
  },
  "nbformat": 4,
  "nbformat_minor": 0
}