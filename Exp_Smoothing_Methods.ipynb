{
  "nbformat": 4,
  "nbformat_minor": 0,
  "metadata": {
    "colab": {
      "provenance": []
    },
    "kernelspec": {
      "name": "python3",
      "display_name": "Python 3"
    },
    "language_info": {
      "name": "python"
    }
  },
  "cells": [
    {
      "cell_type": "markdown",
      "source": [
        "# Exponential Smoothing\n",
        "\n",
        "---\n",
        "1. Single Exponential Smoothing (SES)\n",
        "      a. Trends the data with a smoothing factor alpha, which is the degree to which data should be followed\n",
        "      b. 0 < alpha < 1\n",
        "      c. Y(i+1) = Y(i) + alpha * (Y_pred - Y_actual)\n",
        "2. Double Exponential Smoothing (Holtz)\n",
        "      a. Captures Trends in data as well as a term beta to add a degree of dampening\n",
        "      a. addititve and multiplicative forms are present which capture different types of behaviors depending on the time series you're trying to forecast.\n",
        "\n",
        "3. Triple Exponential Smoothing (Holtz-Winters)\n",
        "      a. Captures Trends in data, a degree of dampening, and a factor controls the influence of the seasonal component\n",
        "  \n",
        "\n",
        "\n",
        "Source: https://machinelearningmastery.com/exponential-smoothing-for-time-series-forecasting-in-python/\n",
        "\n",
        "\n",
        "\n"
      ],
      "metadata": {
        "id": "hItP_iuvyfn0"
      }
    },
    {
      "cell_type": "code",
      "source": [
        "import numpy      as np\n",
        "import pandas     as pd\n",
        "import matplotlib.pyplot as plt\n",
        "import seaborn    as sns\n",
        "from   zipfile    import ZipFile\n",
        "from   datetime   import datetime\n",
        "import random\n",
        "import plotly.express as px"
      ],
      "metadata": {
        "id": "GBzDvo6mEL7Q"
      },
      "execution_count": null,
      "outputs": []
    },
    {
      "cell_type": "code",
      "source": [
        "# from sklearn.ensemble import GradientBoostingClassifier\n",
        "from sklearn.model_selection import train_test_split"
      ],
      "metadata": {
        "id": "KtR3su4FEcwo"
      },
      "execution_count": null,
      "outputs": []
    },
    {
      "cell_type": "code",
      "source": [
        "! pip install -q kaggle"
      ],
      "metadata": {
        "id": "uFz96V2FEee-"
      },
      "execution_count": null,
      "outputs": []
    },
    {
      "cell_type": "code",
      "source": [
        "from google.colab import files\n",
        "files = files.upload()"
      ],
      "metadata": {
        "id": "OGr8YXFwEgg_"
      },
      "execution_count": null,
      "outputs": []
    },
    {
      "cell_type": "code",
      "source": [
        "! mkdir ~/.kaggle          # Making New File Directory\n",
        "!cp kaggle.json ~/.kaggle/ #New File Path\n",
        "! chmod 600 ~/.kaggle/kaggle.json  ## Permission"
      ],
      "metadata": {
        "id": "GkFL2ZeeEimZ"
      },
      "execution_count": null,
      "outputs": []
    },
    {
      "cell_type": "code",
      "execution_count": null,
      "metadata": {
        "id": "YqM7GCwxYEzG"
      },
      "outputs": [],
      "source": [
        "!kaggle datasets download -d fedesoriano/electric-power-consumption"
      ]
    },
    {
      "cell_type": "code",
      "source": [
        "with ZipFile('electric-power-consumption.zip') as zip:\n",
        "  print(zip.namelist())\n",
        "  with zip.open(zip.namelist()[0]) as csv:\n",
        "    data = pd.read_csv(csv)\n",
        "data['Datetime'] = pd.to_datetime(data['Datetime'])\n",
        "data"
      ],
      "metadata": {
        "id": "elg1ykp2Ekx4"
      },
      "execution_count": null,
      "outputs": []
    },
    {
      "cell_type": "code",
      "source": [
        "def datetime_simpifier(power_column):\n",
        "\n",
        "  day_init         = 1\n",
        "  cumulative_power = 0\n",
        "  daily_power      = pd.DataFrame()\n",
        "  date_list        = []\n",
        "  cumulative_powerlist = []\n",
        "\n",
        "  for index in data.index:\n",
        "    day = data.loc[index, 'Datetime'].day\n",
        "    if day_init == day:\n",
        "      cumulative_power += data.loc[index, power_column]\n",
        "    else:\n",
        "\n",
        "      day          = str(data.loc[index, 'Datetime'].day)\n",
        "      month        = str(data.loc[index, 'Datetime'].month)\n",
        "      year         = str(data.loc[index, 'Datetime'].year)\n",
        "      current_date = datetime.strptime(day + '-' + month + '-' + year, '%d-%m-%Y')\n",
        "      date_list.append(current_date)\n",
        "      cumulative_powerlist.append(cumulative_power)\n",
        "\n",
        "      day_init         = int(day)\n",
        "      cumulative_power = 0\n",
        "\n",
        "\n",
        "  daily_power[power_column] = cumulative_powerlist\n",
        "  daily_power.index         = date_list\n",
        "\n",
        "\n",
        "  return  daily_power\n",
        "\n",
        "time_zone_1 = datetime_simpifier('PowerConsumption_Zone1')\n",
        "time_zone_2 = datetime_simpifier('PowerConsumption_Zone2')\n",
        "time_zone_3 = datetime_simpifier('PowerConsumption_Zone3')\n",
        "\n",
        "power_consumption = pd.concat([time_zone_1, time_zone_2, time_zone_3], axis = 1)\n",
        "power_consumption"
      ],
      "metadata": {
        "id": "1l2wXTJsFaCZ"
      },
      "execution_count": null,
      "outputs": []
    },
    {
      "cell_type": "markdown",
      "source": [
        "**Preprocess and Add Consumption for 24 hour Periods**"
      ],
      "metadata": {
        "id": "73oqJB6WGYQD"
      }
    },
    {
      "cell_type": "code",
      "source": [
        "fig = px.line(power_consumption, x = power_consumption.index, y = power_consumption['PowerConsumption_Zone1'])\n",
        "fig.update_xaxes(rangeslider_visible = True)\n",
        "fig.show()"
      ],
      "metadata": {
        "id": "bz3JiqltE--7"
      },
      "execution_count": null,
      "outputs": []
    },
    {
      "cell_type": "code",
      "source": [
        "fig = px.line(power_consumption, x = power_consumption.index, y = power_consumption['PowerConsumption_Zone2'])\n",
        "fig.update_xaxes(rangeslider_visible = True)\n",
        "fig.show()"
      ],
      "metadata": {
        "id": "8Hnsh_ruLcpu"
      },
      "execution_count": null,
      "outputs": []
    },
    {
      "cell_type": "code",
      "source": [
        "fig = px.line(power_consumption, x = power_consumption.index, y = power_consumption['PowerConsumption_Zone3'])\n",
        "fig.update_xaxes(rangeslider_visible = True)\n",
        "fig.show()"
      ],
      "metadata": {
        "id": "cJCPrnv-Lfin"
      },
      "execution_count": null,
      "outputs": []
    },
    {
      "cell_type": "markdown",
      "source": [
        "**Exponential Smoothing**"
      ],
      "metadata": {
        "id": "dSEdWKJiNs_m"
      }
    },
    {
      "cell_type": "code",
      "source": [
        "from statsmodels.tsa.api import ExponentialSmoothing, SimpleExpSmoothing, Holt"
      ],
      "metadata": {
        "id": "tXxEQommNsxJ"
      },
      "execution_count": null,
      "outputs": []
    },
    {
      "cell_type": "code",
      "source": [
        "power_consumption['PowerConsumption_Zone1']"
      ],
      "metadata": {
        "colab": {
          "base_uri": "https://localhost:8080/"
        },
        "id": "lIBUGPbExtME",
        "outputId": "98423b7c-3371-4a90-f70d-86501f8a7064"
      },
      "execution_count": null,
      "outputs": [
        {
          "output_type": "execute_result",
          "data": {
            "text/plain": [
              "2017-01-02    4.098993e+06\n",
              "2017-01-03    4.130503e+06\n",
              "2017-01-04    4.374331e+06\n",
              "2017-01-05    4.391678e+06\n",
              "2017-01-06    4.407955e+06\n",
              "                  ...     \n",
              "2017-12-26    4.289995e+06\n",
              "2017-12-27    4.294972e+06\n",
              "2017-12-28    4.288389e+06\n",
              "2017-12-29    4.331510e+06\n",
              "2017-12-30    4.178920e+06\n",
              "Name: PowerConsumption_Zone1, Length: 363, dtype: float64"
            ]
          },
          "metadata": {},
          "execution_count": 12
        }
      ]
    },
    {
      "cell_type": "code",
      "source": [
        "def plot_forecasts(power_zone, option = None, simulation_points = 100):\n",
        "\n",
        "  # Follows better if data is random\n",
        "\n",
        "  if option is None:\n",
        "    fit = SimpleExpSmoothing(power_zone, initialization_method=\"estimated\").fit()\n",
        "\n",
        "  # Holts should be used when data has a trend, seasonality, and is not random\n",
        "  elif option.lower() == 'holt':\n",
        "    fit = Holt(power_zone, damped_trend=True, initialization_method=\"estimated\").fit(\n",
        "    smoothing_level=0.8, smoothing_trend=0.2)\n",
        "\n",
        "  fit.forecast(len(power_consumption.index)).rename(r\"$\\alpha=%s$\" % fit.model.params[\"smoothing_level\"])\n",
        "  simulations = fit.simulate(simulation_points, repetitions=1, anchor = 'end', error = 'additive')\n",
        "\n",
        "  plt.plot(power_consumption.index, power_zone, label = 'Zone Actual')\n",
        "  plt.plot(power_consumption.index, fit.fittedvalues, label = 'Fit')\n",
        "  plt.plot(simulations.index, simulations, label = 'Forecast')\n",
        "  plt.legend()\n",
        "\n",
        "  return fit.fittedvalues\n",
        "\n",
        "\n",
        "plot_forecasts(power_consumption['PowerConsumption_Zone1'], option= None, simulation_points = 400)\n"
      ],
      "metadata": {
        "id": "72NtYk4GRy8T"
      },
      "execution_count": null,
      "outputs": []
    },
    {
      "cell_type": "code",
      "source": [
        "plot_forecasts(power_consumption['PowerConsumption_Zone2'],  option= None, simulation_points = 300)\n"
      ],
      "metadata": {
        "id": "ytyNeHEjPv1Q"
      },
      "execution_count": null,
      "outputs": []
    },
    {
      "cell_type": "code",
      "source": [
        "plot_forecasts(power_consumption['PowerConsumption_Zone3'],  option= None, simulation_points = 300)"
      ],
      "metadata": {
        "id": "Gw0ryJDsTLQe"
      },
      "execution_count": null,
      "outputs": []
    },
    {
      "cell_type": "code",
      "source": [
        "plot_forecasts(power_consumption['PowerConsumption_Zone3'],  option= None)"
      ],
      "metadata": {
        "id": "HC-l82VLaTe6"
      },
      "execution_count": null,
      "outputs": []
    }
  ]
}