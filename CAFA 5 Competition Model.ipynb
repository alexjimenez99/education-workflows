{
 "cells": [
  {
   "cell_type": "code",
   "execution_count": 25,
   "metadata": {},
   "outputs": [],
   "source": [
    "import sagemaker\n",
    "import boto3\n",
    "from sagemaker.amazon.amazon_estimator import get_image_uri\n",
    "from sagemaker.session                 import s3_input, Session"
   ]
  },
  {
   "cell_type": "code",
   "execution_count": 26,
   "metadata": {},
   "outputs": [
    {
     "name": "stdout",
     "output_type": "stream",
     "text": [
      "us-east-1\n"
     ]
    }
   ],
   "source": [
    "bucket_name = 'cafaprotein'\n",
    "my_region   = boto3.session.Session().region_name\n",
    "print(my_region)"
   ]
  },
  {
   "cell_type": "markdown",
   "metadata": {},
   "source": [
    "**create a bucket**"
   ]
  },
  {
   "cell_type": "code",
   "execution_count": 3,
   "metadata": {},
   "outputs": [],
   "source": [
    "# s3 = boto3.resource('s3')\n",
    "# try:\n",
    "#     if my_region == 'us-east-1':\n",
    "#         s3.create_bucket(Bucket = bucket_name)\n",
    "#     print('S3 Bucket Created')\n",
    "# except Exception as e:\n",
    "#     print('S3 Error: ', e)\n"
   ]
  },
  {
   "cell_type": "markdown",
   "metadata": {},
   "source": [
    "**Load Files from S3 Bucket**"
   ]
  },
  {
   "cell_type": "code",
   "execution_count": 4,
   "metadata": {},
   "outputs": [],
   "source": [
    "# dload_client =  boto3.client('s3')\n",
    "# cafa_file    = './cafa-5-protein-function-prediction.zip'\n",
    "# dload_client.download_file(bucket_name, 'cafa-5-protein-function-prediction.zip', \n",
    "#                                                                         cafa_file)"
   ]
  },
  {
   "cell_type": "markdown",
   "metadata": {},
   "source": [
    "**Retrieve Files from s3**\n",
    "1. Fun OSError may have to expand the local s3 space to work in this notebook\n",
    "2. SSH key Passphrase and GITHUB Secret Key: Y5d7fp32!@\n",
    "3. SSH Key GITHUB: SHA256:KFfeCtQipma5pu6OqX3BMrtckwIjZqqg6HvtqN7fdiI alexxaeljimenez@gmail.com\n"
   ]
  },
  {
   "cell_type": "code",
   "execution_count": 5,
   "metadata": {},
   "outputs": [],
   "source": [
    "# !git add cafa-5-protein-function-prediction.zip labels_df.pckl cafa_train_test_embeddings.zip\n",
    "# !git commit -m \"Adding Cafa Files to GitHub Repository\"\n",
    "# !git push\n",
    "\n",
    "# !killall ssh-agent\n",
    "# !eval \"$(ssh-agent -s)\"\n",
    "# !ssh-add /home/ec2-user/.ssh/id_rsa"
   ]
  },
  {
   "cell_type": "code",
   "execution_count": 27,
   "metadata": {},
   "outputs": [],
   "source": [
    "# Retrieve Files From S3 Bucket \n",
    "def load_s3_files(file_names, relative_paths):\n",
    "    dload_client =  boto3.client('s3')\n",
    "\n",
    "    for index, file_name in enumerate(file_names):\n",
    "\n",
    "        dload_client.download_file(bucket_name, file_name, relative_paths[index])\n",
    "        \n",
    "        print(relative_paths[index])\n",
    "        \n",
    "    return None\n",
    "\n",
    "\n",
    "file_names     = ['protein_seq.pckl', \n",
    "                 'ontology_dict.pckl', \n",
    "                 'cafa_train_test_embeddings.zip', \n",
    "                 'train_labels.pckl',\n",
    "                 'test_labels.pckl']\n",
    "\n",
    "relative_paths = ['./protein_seq.pckl',\n",
    "                 './ontology_dict.pckl',\n",
    "                 './cafa_train_test_embeddings.zip',\n",
    "                 './labels_df.pckl',\n",
    "                 './test_labels.pckl']\n",
    "\n",
    "\n",
    "# load_s3_files(file_names, relative_paths)"
   ]
  },
  {
   "cell_type": "markdown",
   "metadata": {},
   "source": [
    "**Upload file to s3 Bucket**"
   ]
  },
  {
   "cell_type": "code",
   "execution_count": 28,
   "metadata": {},
   "outputs": [],
   "source": [
    "# def upload_s3_file(file_name):\n",
    "    \n",
    "#     file_name = file_name\n",
    "    \n",
    "#     return\n",
    "\n",
    "s3        = boto3.resource('s3')\n",
    "# # file_name = 't5embeds.zip'\n",
    "# # y_train   = 'labels_df.pckl'\n",
    "# s3.meta.client.upload_file('test_labels2.h5', bucket_name, 'test_labels.h5')\n",
    "# s3.meta.client.upload_file('labels_df.h5',   bucket_name, 'labels_df.h5')\n",
    "\n",
    "# s3.meta.client.upload_file('train_labels.h5', bucket_name, 'train_labels.h5')\n",
    "# s3.meta.client.upload_file('test_labels.h5', bucket_name, 'test_labels.h5')"
   ]
  },
  {
   "cell_type": "markdown",
   "metadata": {
    "id": "Jg6bgN94UpCr"
   },
   "source": [
    "**Competition Goal**\n",
    "\n",
    "---\n",
    "\n",
    "\n",
    "The goal of this competition is to predict the function of a set of proteins. You will develop a model trained on the amino-acid sequences of the proteins and on other data. Your work will help ​​researchers better understand the function of proteins, which is important for discovering how cells, tissues, and organs work. This may also aid in the development of new drugs and therapies for various diseases.\n",
    "\n",
    "1. Derive Function from the datasets from amino acid sequences\n",
    "2. "
   ]
  },
  {
   "cell_type": "markdown",
   "metadata": {
    "id": "jAr_USzk9XMW"
   },
   "source": [
    "**Load Kaggle.json**"
   ]
  },
  {
   "cell_type": "code",
   "execution_count": 8,
   "metadata": {
    "collapsed": true,
    "tags": []
   },
   "outputs": [
    {
     "name": "stdout",
     "output_type": "stream",
     "text": [
      "Looking in indexes: https://pypi.org/simple, https://pip.repos.neuron.amazonaws.com\n",
      "Collecting kaggle\n",
      "  Downloading kaggle-1.5.16.tar.gz (83 kB)\n",
      "\u001b[2K     \u001b[90m━━━━━━━━━━━━━━━━━━━━━━━━━━━━━━━━━━━━━━━━\u001b[0m \u001b[32m83.6/83.6 kB\u001b[0m \u001b[31m4.0 MB/s\u001b[0m eta \u001b[36m0:00:00\u001b[0m\n",
      "\u001b[?25h  Preparing metadata (setup.py) ... \u001b[?25ldone\n",
      "\u001b[?25hRequirement already satisfied: six>=1.10 in /home/ec2-user/anaconda3/envs/python3/lib/python3.10/site-packages (from kaggle) (1.16.0)\n",
      "Requirement already satisfied: certifi in /home/ec2-user/anaconda3/envs/python3/lib/python3.10/site-packages (from kaggle) (2023.5.7)\n",
      "Requirement already satisfied: python-dateutil in /home/ec2-user/anaconda3/envs/python3/lib/python3.10/site-packages (from kaggle) (2.8.2)\n",
      "Requirement already satisfied: requests in /home/ec2-user/anaconda3/envs/python3/lib/python3.10/site-packages (from kaggle) (2.29.0)\n",
      "Requirement already satisfied: tqdm in /home/ec2-user/anaconda3/envs/python3/lib/python3.10/site-packages (from kaggle) (4.65.0)\n",
      "Requirement already satisfied: python-slugify in /home/ec2-user/anaconda3/envs/python3/lib/python3.10/site-packages (from kaggle) (8.0.1)\n",
      "Requirement already satisfied: urllib3 in /home/ec2-user/anaconda3/envs/python3/lib/python3.10/site-packages (from kaggle) (1.26.14)\n",
      "Requirement already satisfied: bleach in /home/ec2-user/anaconda3/envs/python3/lib/python3.10/site-packages (from kaggle) (6.0.0)\n",
      "Requirement already satisfied: webencodings in /home/ec2-user/anaconda3/envs/python3/lib/python3.10/site-packages (from bleach->kaggle) (0.5.1)\n",
      "Requirement already satisfied: text-unidecode>=1.3 in /home/ec2-user/anaconda3/envs/python3/lib/python3.10/site-packages (from python-slugify->kaggle) (1.3)\n",
      "Requirement already satisfied: charset-normalizer<4,>=2 in /home/ec2-user/anaconda3/envs/python3/lib/python3.10/site-packages (from requests->kaggle) (2.1.1)\n",
      "Requirement already satisfied: idna<4,>=2.5 in /home/ec2-user/anaconda3/envs/python3/lib/python3.10/site-packages (from requests->kaggle) (3.4)\n",
      "Building wheels for collected packages: kaggle\n",
      "  Building wheel for kaggle (setup.py) ... \u001b[?25ldone\n",
      "\u001b[?25h  Created wheel for kaggle: filename=kaggle-1.5.16-py3-none-any.whl size=110685 sha256=6fa4c4529a3c084a877e7aa14f3abdfe534a9f1d5af2ba769e668fd300c9bfac\n",
      "  Stored in directory: /home/ec2-user/.cache/pip/wheels/43/4b/fb/736478af5e8004810081a06259f9aa2f7c3329fc5d03c2c412\n",
      "Successfully built kaggle\n",
      "Installing collected packages: kaggle\n",
      "Successfully installed kaggle-1.5.16\n"
     ]
    }
   ],
   "source": [
    "!pip install kaggle"
   ]
  },
  {
   "cell_type": "code",
   "execution_count": 9,
   "metadata": {
    "id": "Os2sPNGQ9XMY",
    "tags": []
   },
   "outputs": [],
   "source": [
    "# !mkdir ~/.kaggle\n",
    "# !touch ~/.kaggle/kaggle.json\n",
    "\n",
    "# api_token = {\"username\":\"alji1305\",\"key\":\"4703b0a6c6a8543e51a6de4131ab05cb\"}\n",
    "\n",
    "# import json\n",
    "# with open('kaggle/kaggle.json', 'w') as file:\n",
    "#     json.dump(api_token, file)\n",
    "\n",
    "# !chmod 600 ~/.kaggle/kaggle.json"
   ]
  },
  {
   "cell_type": "markdown",
   "metadata": {
    "id": "gmDTYlVc9XMZ"
   },
   "source": [
    "**Package Imports**"
   ]
  },
  {
   "cell_type": "code",
   "execution_count": 10,
   "metadata": {
    "id": "968SInTH9XMc",
    "jupyter": {
     "outputs_hidden": true
    },
    "tags": []
   },
   "outputs": [],
   "source": [
    "# !apt install libgraphviz-dev\n",
    "# !pip install pygraphviz"
   ]
  },
  {
   "cell_type": "code",
   "execution_count": 11,
   "metadata": {
    "colab": {
     "base_uri": "https://localhost:8080/"
    },
    "id": "O_A_rOQw9XMd",
    "outputId": "e07bd362-2ae5-4f9d-fd32-9e3ca2b63c1c"
   },
   "outputs": [],
   "source": [
    "# !pip install networkx"
   ]
  },
  {
   "cell_type": "code",
   "execution_count": 12,
   "metadata": {
    "colab": {
     "base_uri": "https://localhost:8080/"
    },
    "collapsed": true,
    "id": "2hZxGgdbU0Wi",
    "jupyter": {
     "outputs_hidden": true
    },
    "outputId": "c41ab7af-c94d-4bc1-8d49-a045c51270c0",
    "tags": []
   },
   "outputs": [
    {
     "name": "stdout",
     "output_type": "stream",
     "text": [
      "Looking in indexes: https://pypi.org/simple, https://pip.repos.neuron.amazonaws.com\n",
      "Collecting tensorflow==2.8.0\n",
      "  Downloading tensorflow-2.8.0-cp310-cp310-manylinux2010_x86_64.whl (497.6 MB)\n",
      "\u001b[2K     \u001b[90m━━━━━━━━━━━━━━━━━━━━━━━━━━━━━━━━━━━━━━━\u001b[0m \u001b[32m497.6/497.6 MB\u001b[0m \u001b[31m4.6 MB/s\u001b[0m eta \u001b[36m0:00:00\u001b[0m00:01\u001b[0m00:01\u001b[0m\n",
      "\u001b[?25hCollecting absl-py>=0.4.0 (from tensorflow==2.8.0)\n",
      "  Downloading absl_py-1.4.0-py3-none-any.whl (126 kB)\n",
      "\u001b[2K     \u001b[90m━━━━━━━━━━━━━━━━━━━━━━━━━━━━━━━━━━━━━━\u001b[0m \u001b[32m126.5/126.5 kB\u001b[0m \u001b[31m35.7 MB/s\u001b[0m eta \u001b[36m0:00:00\u001b[0m\n",
      "\u001b[?25hCollecting astunparse>=1.6.0 (from tensorflow==2.8.0)\n",
      "  Downloading astunparse-1.6.3-py2.py3-none-any.whl (12 kB)\n",
      "Collecting flatbuffers>=1.12 (from tensorflow==2.8.0)\n",
      "  Downloading flatbuffers-23.5.26-py2.py3-none-any.whl (26 kB)\n",
      "Collecting gast>=0.2.1 (from tensorflow==2.8.0)\n",
      "  Downloading gast-0.5.4-py3-none-any.whl (19 kB)\n",
      "Requirement already satisfied: google-pasta>=0.1.1 in /home/ec2-user/anaconda3/envs/python3/lib/python3.10/site-packages (from tensorflow==2.8.0) (0.2.0)\n",
      "Requirement already satisfied: h5py>=2.9.0 in /home/ec2-user/anaconda3/envs/python3/lib/python3.10/site-packages (from tensorflow==2.8.0) (3.8.0)\n",
      "Collecting keras-preprocessing>=1.1.1 (from tensorflow==2.8.0)\n",
      "  Downloading Keras_Preprocessing-1.1.2-py2.py3-none-any.whl (42 kB)\n",
      "\u001b[2K     \u001b[90m━━━━━━━━━━━━━━━━━━━━━━━━━━━━━━━━━━━━━━━━\u001b[0m \u001b[32m42.6/42.6 kB\u001b[0m \u001b[31m12.8 MB/s\u001b[0m eta \u001b[36m0:00:00\u001b[0m\n",
      "\u001b[?25hCollecting libclang>=9.0.1 (from tensorflow==2.8.0)\n",
      "  Downloading libclang-16.0.6-py2.py3-none-manylinux2010_x86_64.whl (22.9 MB)\n",
      "\u001b[2K     \u001b[90m━━━━━━━━━━━━━━━━━━━━━━━━━━━━━━━━━━━━━━━━\u001b[0m \u001b[32m22.9/22.9 MB\u001b[0m \u001b[31m32.0 MB/s\u001b[0m eta \u001b[36m0:00:00\u001b[0m00:01\u001b[0m00:01\u001b[0m\n",
      "\u001b[?25hRequirement already satisfied: numpy>=1.20 in /home/ec2-user/anaconda3/envs/python3/lib/python3.10/site-packages (from tensorflow==2.8.0) (1.22.3)\n",
      "Collecting opt-einsum>=2.3.2 (from tensorflow==2.8.0)\n",
      "  Downloading opt_einsum-3.3.0-py3-none-any.whl (65 kB)\n",
      "\u001b[2K     \u001b[90m━━━━━━━━━━━━━━━━━━━━━━━━━━━━━━━━━━━━━━━━\u001b[0m \u001b[32m65.5/65.5 kB\u001b[0m \u001b[31m20.2 MB/s\u001b[0m eta \u001b[36m0:00:00\u001b[0m\n",
      "\u001b[?25hRequirement already satisfied: protobuf>=3.9.2 in /home/ec2-user/anaconda3/envs/python3/lib/python3.10/site-packages (from tensorflow==2.8.0) (3.20.3)\n",
      "Requirement already satisfied: setuptools in /home/ec2-user/anaconda3/envs/python3/lib/python3.10/site-packages (from tensorflow==2.8.0) (67.7.2)\n",
      "Requirement already satisfied: six>=1.12.0 in /home/ec2-user/anaconda3/envs/python3/lib/python3.10/site-packages (from tensorflow==2.8.0) (1.16.0)\n",
      "Collecting termcolor>=1.1.0 (from tensorflow==2.8.0)\n",
      "  Downloading termcolor-2.3.0-py3-none-any.whl (6.9 kB)\n",
      "Requirement already satisfied: typing-extensions>=3.6.6 in /home/ec2-user/anaconda3/envs/python3/lib/python3.10/site-packages (from tensorflow==2.8.0) (4.5.0)\n",
      "Requirement already satisfied: wrapt>=1.11.0 in /home/ec2-user/anaconda3/envs/python3/lib/python3.10/site-packages (from tensorflow==2.8.0) (1.15.0)\n",
      "Collecting tensorboard<2.9,>=2.8 (from tensorflow==2.8.0)\n",
      "  Downloading tensorboard-2.8.0-py3-none-any.whl (5.8 MB)\n",
      "\u001b[2K     \u001b[90m━━━━━━━━━━━━━━━━━━━━━━━━━━━━━━━━━━━━━━━━\u001b[0m \u001b[32m5.8/5.8 MB\u001b[0m \u001b[31m140.4 MB/s\u001b[0m eta \u001b[36m0:00:00\u001b[0m00:01\u001b[0m\n",
      "\u001b[?25hCollecting tf-estimator-nightly==2.8.0.dev2021122109 (from tensorflow==2.8.0)\n",
      "  Downloading tf_estimator_nightly-2.8.0.dev2021122109-py2.py3-none-any.whl (462 kB)\n",
      "\u001b[2K     \u001b[90m━━━━━━━━━━━━━━━━━━━━━━━━━━━━━━━━━━━━━━\u001b[0m \u001b[32m462.5/462.5 kB\u001b[0m \u001b[31m77.6 MB/s\u001b[0m eta \u001b[36m0:00:00\u001b[0m\n",
      "\u001b[?25hCollecting keras<2.9,>=2.8.0rc0 (from tensorflow==2.8.0)\n",
      "  Downloading keras-2.8.0-py2.py3-none-any.whl (1.4 MB)\n",
      "\u001b[2K     \u001b[90m━━━━━━━━━━━━━━━━━━━━━━━━━━━━━━━━━━━━━━━━\u001b[0m \u001b[32m1.4/1.4 MB\u001b[0m \u001b[31m19.4 MB/s\u001b[0m eta \u001b[36m0:00:00\u001b[0m:00:01\u001b[0m\n",
      "\u001b[?25hCollecting tensorflow-io-gcs-filesystem>=0.23.1 (from tensorflow==2.8.0)\n",
      "  Downloading tensorflow_io_gcs_filesystem-0.33.0-cp310-cp310-manylinux_2_12_x86_64.manylinux2010_x86_64.whl (2.4 MB)\n",
      "\u001b[2K     \u001b[90m━━━━━━━━━━━━━━━━━━━━━━━━━━━━━━━━━━━━━━━━\u001b[0m \u001b[32m2.4/2.4 MB\u001b[0m \u001b[31m33.9 MB/s\u001b[0m eta \u001b[36m0:00:00\u001b[0m:00:01\u001b[0m\n",
      "\u001b[?25hCollecting grpcio<2.0,>=1.24.3 (from tensorflow==2.8.0)\n",
      "  Downloading grpcio-1.57.0-cp310-cp310-manylinux_2_17_x86_64.manylinux2014_x86_64.whl (5.3 MB)\n",
      "\u001b[2K     \u001b[90m━━━━━━━━━━━━━━━━━━━━━━━━━━━━━━━━━━━━━━━━\u001b[0m \u001b[32m5.3/5.3 MB\u001b[0m \u001b[31m27.2 MB/s\u001b[0m eta \u001b[36m0:00:00\u001b[0m:00:01\u001b[0m\n",
      "\u001b[?25hRequirement already satisfied: wheel<1.0,>=0.23.0 in /home/ec2-user/anaconda3/envs/python3/lib/python3.10/site-packages (from astunparse>=1.6.0->tensorflow==2.8.0) (0.40.0)\n",
      "Collecting google-auth<3,>=1.6.3 (from tensorboard<2.9,>=2.8->tensorflow==2.8.0)\n",
      "  Downloading google_auth-2.22.0-py2.py3-none-any.whl (181 kB)\n",
      "\u001b[2K     \u001b[90m━━━━━━━━━━━━━━━━━━━━━━━━━━━━━━━━━━━━━━\u001b[0m \u001b[32m181.8/181.8 kB\u001b[0m \u001b[31m32.3 MB/s\u001b[0m eta \u001b[36m0:00:00\u001b[0m\n",
      "\u001b[?25hCollecting google-auth-oauthlib<0.5,>=0.4.1 (from tensorboard<2.9,>=2.8->tensorflow==2.8.0)\n",
      "  Downloading google_auth_oauthlib-0.4.6-py2.py3-none-any.whl (18 kB)\n",
      "Collecting markdown>=2.6.8 (from tensorboard<2.9,>=2.8->tensorflow==2.8.0)\n",
      "  Downloading Markdown-3.4.4-py3-none-any.whl (94 kB)\n",
      "\u001b[2K     \u001b[90m━━━━━━━━━━━━━━━━━━━━━━━━━━━━━━━━━━━━━━━━\u001b[0m \u001b[32m94.2/94.2 kB\u001b[0m \u001b[31m14.0 MB/s\u001b[0m eta \u001b[36m0:00:00\u001b[0m\n",
      "\u001b[?25hRequirement already satisfied: requests<3,>=2.21.0 in /home/ec2-user/anaconda3/envs/python3/lib/python3.10/site-packages (from tensorboard<2.9,>=2.8->tensorflow==2.8.0) (2.29.0)\n",
      "Collecting tensorboard-data-server<0.7.0,>=0.6.0 (from tensorboard<2.9,>=2.8->tensorflow==2.8.0)\n",
      "  Downloading tensorboard_data_server-0.6.1-py3-none-manylinux2010_x86_64.whl (4.9 MB)\n",
      "\u001b[2K     \u001b[90m━━━━━━━━━━━━━━━━━━━━━━━━━━━━━━━━━━━━━━━━\u001b[0m \u001b[32m4.9/4.9 MB\u001b[0m \u001b[31m125.6 MB/s\u001b[0m eta \u001b[36m0:00:00\u001b[0m00:01\u001b[0m\n",
      "\u001b[?25hCollecting tensorboard-plugin-wit>=1.6.0 (from tensorboard<2.9,>=2.8->tensorflow==2.8.0)\n",
      "  Downloading tensorboard_plugin_wit-1.8.1-py3-none-any.whl (781 kB)\n",
      "\u001b[2K     \u001b[90m━━━━━━━━━━━━━━━━━━━━━━━━━━━━━━━━━━━━━━\u001b[0m \u001b[32m781.3/781.3 kB\u001b[0m \u001b[31m72.5 MB/s\u001b[0m eta \u001b[36m0:00:00\u001b[0m\n",
      "\u001b[?25hRequirement already satisfied: werkzeug>=0.11.15 in /home/ec2-user/anaconda3/envs/python3/lib/python3.10/site-packages (from tensorboard<2.9,>=2.8->tensorflow==2.8.0) (2.3.4)\n",
      "Collecting cachetools<6.0,>=2.0.0 (from google-auth<3,>=1.6.3->tensorboard<2.9,>=2.8->tensorflow==2.8.0)\n",
      "  Downloading cachetools-5.3.1-py3-none-any.whl (9.3 kB)\n",
      "Collecting pyasn1-modules>=0.2.1 (from google-auth<3,>=1.6.3->tensorboard<2.9,>=2.8->tensorflow==2.8.0)\n",
      "  Downloading pyasn1_modules-0.3.0-py2.py3-none-any.whl (181 kB)\n",
      "\u001b[2K     \u001b[90m━━━━━━━━━━━━━━━━━━━━━━━━━━━━━━━━━━━━━━\u001b[0m \u001b[32m181.3/181.3 kB\u001b[0m \u001b[31m31.2 MB/s\u001b[0m eta \u001b[36m0:00:00\u001b[0m\n",
      "\u001b[?25hRequirement already satisfied: rsa<5,>=3.1.4 in /home/ec2-user/anaconda3/envs/python3/lib/python3.10/site-packages (from google-auth<3,>=1.6.3->tensorboard<2.9,>=2.8->tensorflow==2.8.0) (4.7.2)\n",
      "Requirement already satisfied: urllib3<2.0 in /home/ec2-user/anaconda3/envs/python3/lib/python3.10/site-packages (from google-auth<3,>=1.6.3->tensorboard<2.9,>=2.8->tensorflow==2.8.0) (1.26.14)\n",
      "Collecting requests-oauthlib>=0.7.0 (from google-auth-oauthlib<0.5,>=0.4.1->tensorboard<2.9,>=2.8->tensorflow==2.8.0)\n",
      "  Downloading requests_oauthlib-1.3.1-py2.py3-none-any.whl (23 kB)\n",
      "Requirement already satisfied: charset-normalizer<4,>=2 in /home/ec2-user/anaconda3/envs/python3/lib/python3.10/site-packages (from requests<3,>=2.21.0->tensorboard<2.9,>=2.8->tensorflow==2.8.0) (2.1.1)\n",
      "Requirement already satisfied: idna<4,>=2.5 in /home/ec2-user/anaconda3/envs/python3/lib/python3.10/site-packages (from requests<3,>=2.21.0->tensorboard<2.9,>=2.8->tensorflow==2.8.0) (3.4)\n",
      "Requirement already satisfied: certifi>=2017.4.17 in /home/ec2-user/anaconda3/envs/python3/lib/python3.10/site-packages (from requests<3,>=2.21.0->tensorboard<2.9,>=2.8->tensorflow==2.8.0) (2023.5.7)\n",
      "Requirement already satisfied: MarkupSafe>=2.1.1 in /home/ec2-user/anaconda3/envs/python3/lib/python3.10/site-packages (from werkzeug>=0.11.15->tensorboard<2.9,>=2.8->tensorflow==2.8.0) (2.1.2)\n",
      "Requirement already satisfied: pyasn1<0.6.0,>=0.4.6 in /home/ec2-user/anaconda3/envs/python3/lib/python3.10/site-packages (from pyasn1-modules>=0.2.1->google-auth<3,>=1.6.3->tensorboard<2.9,>=2.8->tensorflow==2.8.0) (0.5.0)\n",
      "Collecting oauthlib>=3.0.0 (from requests-oauthlib>=0.7.0->google-auth-oauthlib<0.5,>=0.4.1->tensorboard<2.9,>=2.8->tensorflow==2.8.0)\n",
      "  Downloading oauthlib-3.2.2-py3-none-any.whl (151 kB)\n",
      "\u001b[2K     \u001b[90m━━━━━━━━━━━━━━━━━━━━━━━━━━━━━━━━━━━━━━\u001b[0m \u001b[32m151.7/151.7 kB\u001b[0m \u001b[31m37.9 MB/s\u001b[0m eta \u001b[36m0:00:00\u001b[0m\n",
      "\u001b[?25hInstalling collected packages: tf-estimator-nightly, tensorboard-plugin-wit, libclang, keras, flatbuffers, termcolor, tensorflow-io-gcs-filesystem, tensorboard-data-server, pyasn1-modules, opt-einsum, oauthlib, markdown, keras-preprocessing, grpcio, gast, cachetools, astunparse, absl-py, requests-oauthlib, google-auth, google-auth-oauthlib, tensorboard, tensorflow\n",
      "Successfully installed absl-py-1.4.0 astunparse-1.6.3 cachetools-5.3.1 flatbuffers-23.5.26 gast-0.5.4 google-auth-2.22.0 google-auth-oauthlib-0.4.6 grpcio-1.57.0 keras-2.8.0 keras-preprocessing-1.1.2 libclang-16.0.6 markdown-3.4.4 oauthlib-3.2.2 opt-einsum-3.3.0 pyasn1-modules-0.3.0 requests-oauthlib-1.3.1 tensorboard-2.8.0 tensorboard-data-server-0.6.1 tensorboard-plugin-wit-1.8.1 tensorflow-2.8.0 tensorflow-io-gcs-filesystem-0.33.0 termcolor-2.3.0 tf-estimator-nightly-2.8.0.dev2021122109\n",
      "Note: you may need to restart the kernel to use updated packages.\n"
     ]
    }
   ],
   "source": [
    "pip install tensorflow==2.8.0"
   ]
  },
  {
   "cell_type": "code",
   "execution_count": 13,
   "metadata": {
    "collapsed": true
   },
   "outputs": [
    {
     "name": "stdout",
     "output_type": "stream",
     "text": [
      "Looking in indexes: https://pypi.org/simple, https://pip.repos.neuron.amazonaws.com\n",
      "Collecting pronto\n",
      "  Downloading pronto-2.5.5-py2.py3-none-any.whl (61 kB)\n",
      "\u001b[2K     \u001b[90m━━━━━━━━━━━━━━━━━━━━━━━━━━━━━━━━━━━━━━━━\u001b[0m \u001b[32m61.5/61.5 kB\u001b[0m \u001b[31m9.9 MB/s\u001b[0m eta \u001b[36m0:00:00\u001b[0m\n",
      "\u001b[?25hRequirement already satisfied: chardet~=5.0 in /home/ec2-user/anaconda3/envs/python3/lib/python3.10/site-packages (from pronto) (5.1.0)\n",
      "Collecting fastobo~=0.12.2 (from pronto)\n",
      "  Downloading fastobo-0.12.2-cp310-cp310-manylinux_2_17_x86_64.manylinux2014_x86_64.whl (2.1 MB)\n",
      "\u001b[2K     \u001b[90m━━━━━━━━━━━━━━━━━━━━━━━━━━━━━━━━━━━━━━━━\u001b[0m \u001b[32m2.1/2.1 MB\u001b[0m \u001b[31m85.4 MB/s\u001b[0m eta \u001b[36m0:00:00\u001b[0m\n",
      "\u001b[?25hRequirement already satisfied: networkx<4.0,>=2.3 in /home/ec2-user/anaconda3/envs/python3/lib/python3.10/site-packages (from pronto) (3.1)\n",
      "Requirement already satisfied: python-dateutil~=2.8 in /home/ec2-user/anaconda3/envs/python3/lib/python3.10/site-packages (from pronto) (2.8.2)\n",
      "Requirement already satisfied: six>=1.5 in /home/ec2-user/anaconda3/envs/python3/lib/python3.10/site-packages (from python-dateutil~=2.8->pronto) (1.16.0)\n",
      "Installing collected packages: fastobo, pronto\n",
      "Successfully installed fastobo-0.12.2 pronto-2.5.5\n"
     ]
    }
   ],
   "source": [
    "!pip install pronto"
   ]
  },
  {
   "cell_type": "code",
   "execution_count": 14,
   "metadata": {
    "collapsed": true
   },
   "outputs": [
    {
     "name": "stdout",
     "output_type": "stream",
     "text": [
      "Looking in indexes: https://pypi.org/simple, https://pip.repos.neuron.amazonaws.com\n",
      "Collecting progressbar\n",
      "  Downloading progressbar-2.5.tar.gz (10 kB)\n",
      "  Preparing metadata (setup.py) ... \u001b[?25ldone\n",
      "\u001b[?25hBuilding wheels for collected packages: progressbar\n",
      "  Building wheel for progressbar (setup.py) ... \u001b[?25ldone\n",
      "\u001b[?25h  Created wheel for progressbar: filename=progressbar-2.5-py3-none-any.whl size=12067 sha256=c1ad16d29253b891e98ad900bba4f00f72dd761d4f0e83897936a05289ea9256\n",
      "  Stored in directory: /home/ec2-user/.cache/pip/wheels/cd/17/e5/765d1a3112ff3978f70223502f6047e06c43a24d7c5f8ff95b\n",
      "Successfully built progressbar\n",
      "Installing collected packages: progressbar\n",
      "Successfully installed progressbar-2.5\n"
     ]
    }
   ],
   "source": [
    "!pip install progressbar"
   ]
  },
  {
   "cell_type": "code",
   "execution_count": 15,
   "metadata": {
    "collapsed": true
   },
   "outputs": [
    {
     "name": "stdout",
     "output_type": "stream",
     "text": [
      "Looking in indexes: https://pypi.org/simple, https://pip.repos.neuron.amazonaws.com\n",
      "Collecting bayesian-optimization==1.4.0\n",
      "  Downloading bayesian_optimization-1.4.0-py3-none-any.whl (17 kB)\n",
      "Requirement already satisfied: numpy>=1.9.0 in /home/ec2-user/anaconda3/envs/python3/lib/python3.10/site-packages (from bayesian-optimization==1.4.0) (1.22.3)\n",
      "Requirement already satisfied: scipy>=1.0.0 in /home/ec2-user/anaconda3/envs/python3/lib/python3.10/site-packages (from bayesian-optimization==1.4.0) (1.10.1)\n",
      "Requirement already satisfied: scikit-learn>=0.18.0 in /home/ec2-user/anaconda3/envs/python3/lib/python3.10/site-packages (from bayesian-optimization==1.4.0) (1.2.2)\n",
      "Requirement already satisfied: joblib>=1.1.1 in /home/ec2-user/anaconda3/envs/python3/lib/python3.10/site-packages (from scikit-learn>=0.18.0->bayesian-optimization==1.4.0) (1.2.0)\n",
      "Requirement already satisfied: threadpoolctl>=2.0.0 in /home/ec2-user/anaconda3/envs/python3/lib/python3.10/site-packages (from scikit-learn>=0.18.0->bayesian-optimization==1.4.0) (3.1.0)\n",
      "Installing collected packages: bayesian-optimization\n",
      "Successfully installed bayesian-optimization-1.4.0\n"
     ]
    }
   ],
   "source": [
    "!pip install bayesian-optimization==1.4.0"
   ]
  },
  {
   "cell_type": "code",
   "execution_count": 16,
   "metadata": {
    "collapsed": true
   },
   "outputs": [
    {
     "name": "stdout",
     "output_type": "stream",
     "text": [
      "Found existing installation: colorama 0.4.4\n",
      "Uninstalling colorama-0.4.4:\n",
      "  Successfully uninstalled colorama-0.4.4\n",
      "Looking in indexes: https://pypi.org/simple, https://pip.repos.neuron.amazonaws.com\n",
      "Collecting colorama==0.4.3\n",
      "  Downloading colorama-0.4.3-py2.py3-none-any.whl (15 kB)\n",
      "Installing collected packages: colorama\n",
      "Successfully installed colorama-0.4.3\n"
     ]
    }
   ],
   "source": [
    "!pip uninstall colorama -y\n",
    "!pip install colorama==0.4.3"
   ]
  },
  {
   "cell_type": "code",
   "execution_count": 3,
   "metadata": {
    "id": "WoIvwZ3T9XMe",
    "tags": []
   },
   "outputs": [],
   "source": [
    "import time\n",
    "import sys\n",
    "import numpy      as np\n",
    "import pandas     as pd\n",
    "import matplotlib.pyplot as plt\n",
    "import seaborn    as sns\n",
    "from   zipfile    import ZipFile\n",
    "from   datetime   import datetime\n",
    "import random\n",
    "import re\n",
    "import pronto\n",
    "import fastobo\n",
    "import networkx\n",
    "import progressbar\n",
    "import pickle\n",
    "import tensorflow as tf\n",
    "import seaborn    as sns\n",
    "\n",
    "\n",
    "from sklearn.model_selection         import KFold\n",
    "from sklearn.preprocessing           import OneHotEncoder\n",
    "from tensorflow.keras.optimizers     import Adam\n",
    "from sagemaker.remote_function       import remote\n",
    "from bayes_opt                       import BayesianOptimization \n"
   ]
  },
  {
   "cell_type": "code",
   "execution_count": 18,
   "metadata": {
    "colab": {
     "base_uri": "https://localhost:8080/"
    },
    "id": "gWC0mkVS9XMe",
    "outputId": "b22e3ae3-59d9-46bc-ad32-92b5748e9aae",
    "tags": []
   },
   "outputs": [],
   "source": [
    "# !kaggle competitions download -c cafa-5-protein-function-prediction"
   ]
  },
  {
   "cell_type": "code",
   "execution_count": 19,
   "metadata": {},
   "outputs": [],
   "source": [
    "# !kaggle datasets download -d sergeifironov/t5embeds"
   ]
  },
  {
   "cell_type": "code",
   "execution_count": 6,
   "metadata": {
    "tags": []
   },
   "outputs": [],
   "source": [
    "%matplotlib inline"
   ]
  },
  {
   "cell_type": "markdown",
   "metadata": {
    "id": "HtLB-sYC9XMf"
   },
   "source": [
    "**Opening Files**\n",
    "1. Fasta format has two categories: description and sequence"
   ]
  },
  {
   "cell_type": "code",
   "execution_count": 4,
   "metadata": {
    "colab": {
     "base_uri": "https://localhost:8080/"
    },
    "id": "sXudbRlx9XMf",
    "outputId": "6cb436d8-49dc-4ebb-bd54-e7b8ea7eb237",
    "tags": []
   },
   "outputs": [
    {
     "name": "stdout",
     "output_type": "stream",
     "text": [
      "['IA.txt', 'Test (Targets)/testsuperset-taxon-list.tsv', 'Test (Targets)/testsuperset.fasta', 'Train/go-basic.obo', 'Train/train_sequences.fasta', 'Train/train_taxonomy.tsv', 'Train/train_terms.tsv', 'sample_submission.tsv']\n"
     ]
    }
   ],
   "source": [
    "with ZipFile('cafa-5-protein-function-prediction.zip') as zip:\n",
    "    print(zip.namelist())\n",
    "    with zip.open(zip.namelist()[0], 'r') as file:\n",
    "        IA                = file.readlines()\n",
    "    with zip.open(zip.namelist()[1], 'r') as file:\n",
    "        test_superset     = pd.read_csv(file, sep = '\\t', encoding='latin1')\n",
    "    with zip.open(zip.namelist()[2], 'r') as fasta:\n",
    "        test_fasta        = fasta.readlines()\n",
    "    with zip.open(zip.namelist()[3], 'r') as obo:\n",
    "        #ontology_text = obo.read()\n",
    "        gene_ontology     = pronto.Ontology(obo)\n",
    "    with zip.open(zip.namelist()[4], 'r') as fasta:\n",
    "        train_fasta       = fasta.readlines()\n",
    "\n",
    "    # Taxonomy Contains EntryID Uniprot DB and Taxonomy ID (Species Specific ID)\n",
    "    with zip.open(zip.namelist()[5], 'r') as file:   \n",
    "        train_taxonomy    = pd.read_csv(file, sep = '\\t')\n",
    "\n",
    "    # Train Terms EntryID, GO term #, and Aspect (3 Unique)\n",
    "    with zip.open(zip.namelist()[6], 'r') as file:\n",
    "        train_terms       = pd.read_csv(file, sep = '\\t')\n",
    "        "
   ]
  },
  {
   "cell_type": "markdown",
   "metadata": {
    "id": "eX4hx5id9XMh"
   },
   "source": [
    "**Bytes to String**"
   ]
  },
  {
   "cell_type": "code",
   "execution_count": 5,
   "metadata": {
    "id": "pMYJUUkx9XMh",
    "tags": []
   },
   "outputs": [],
   "source": [
    "test_fasta  = [line.decode() for line in test_fasta]\n",
    "train_fasta = [line.decode() for line in train_fasta]\n",
    "IA          = [line.decode() for line in IA]"
   ]
  },
  {
   "cell_type": "markdown",
   "metadata": {
    "id": "AsMzesPt6SD5"
   },
   "source": [
    "**Parse IA File**"
   ]
  },
  {
   "cell_type": "code",
   "execution_count": 6,
   "metadata": {
    "id": "6_g3g0wf6ZJE",
    "tags": []
   },
   "outputs": [],
   "source": [
    "ia_file          = re.compile('(GO.*)\\\\t(\\d+.\\d+)\\\\n')  # Majority of Entries\n",
    "GO_clean         = re.compile('(GO.*)(d+.\\d+)')         # Some Entries Just have Tabs and \\n \n",
    "                                                        # Actually executed so it's not in the text\n",
    "patterns         = []\n",
    "patterns2        = []\n",
    "IA_df            = {}\n",
    "for item in IA:\n",
    "  IA_file        = ia_file.findall(item)\n",
    "  GO_id          = IA_file[0][0]  \n",
    "  IA_df[GO_id]   = IA_file[0][1]  \n",
    "  patterns2.append(IA_file)\n",
    "\n",
    "IA_df = pd.DataFrame.from_dict(IA_df, orient = 'index', columns = ['Information Accreation'])\n",
    "IA_df = IA_df.astype(float)"
   ]
  },
  {
   "cell_type": "markdown",
   "metadata": {
    "id": "Z7qkhOyv9XMi"
   },
   "source": [
    "**Read Fasta Files into Dictionary Format**"
   ]
  },
  {
   "cell_type": "code",
   "execution_count": 7,
   "metadata": {
    "id": "Py0f-Zf79XMj",
    "tags": []
   },
   "outputs": [],
   "source": [
    "def read_fasta(fasta_file):\n",
    "    genes        = {}\n",
    "    id_pattern   = re.compile('>(.*)\\n')\n",
    "    gene_pattern = re.compile('^(\\w+)')\n",
    "    for line in fasta_file:\n",
    "        if len(id_pattern.findall(line))!= 0:\n",
    "            id_gene        = id_pattern.findall(line)[0]\n",
    "            genes[id_gene] = ''\n",
    "        else:\n",
    "            if len(gene_pattern.findall(line)) != 0:\n",
    "                genes[id_gene] += gene_pattern.findall(line)[0]\n",
    "            else:\n",
    "                break\n",
    "    \n",
    "    return genes\n",
    "\n",
    "train_fasta_dict  = read_fasta(train_fasta)\n",
    "test_fasta_dic    = read_fasta(test_fasta)\n",
    "\n",
    "# Remove \\t and \\r in the text\n",
    "test_fasta_dict     = {}\n",
    "for id in test_fasta_dic.keys():\n",
    "  original_id = id\n",
    "  id          = id.replace('\\t', ' ')\n",
    "  id          = id.replace('\\r', '')\n",
    "  test_fasta_dict[id] = test_fasta_dic[original_id] \n",
    "  \n"
   ]
  },
  {
   "cell_type": "code",
   "execution_count": 8,
   "metadata": {},
   "outputs": [],
   "source": [
    "# Removes the ID from the rest of the protein description\n",
    "def extract_protein_labels(protein_labels):\n",
    "    \n",
    "    first_word  = re.compile(r'^(\\w+)')\n",
    "    test_labels = [first_word.findall(key)[0] for key in protein_labels.keys()]\n",
    "    \n",
    "    return test_labels\n",
    "\n",
    "protein_test_labels  = extract_protein_labels(test_fasta_dict)\n",
    "protein_train_labels = extract_protein_labels(train_fasta_dict)"
   ]
  },
  {
   "cell_type": "markdown",
   "metadata": {
    "id": "EGvC4TJcEnNG"
   },
   "source": [
    "**Test Fasta Dict**\n",
    "1. Keys contain taxaonmy label and uniprot protein ID"
   ]
  },
  {
   "cell_type": "code",
   "execution_count": 26,
   "metadata": {
    "id": "oja5w_aE05Vy",
    "tags": []
   },
   "outputs": [
    {
     "data": {
      "text/html": [
       "<div>\n",
       "<style scoped>\n",
       "    .dataframe tbody tr th:only-of-type {\n",
       "        vertical-align: middle;\n",
       "    }\n",
       "\n",
       "    .dataframe tbody tr th {\n",
       "        vertical-align: top;\n",
       "    }\n",
       "\n",
       "    .dataframe thead th {\n",
       "        text-align: right;\n",
       "    }\n",
       "</style>\n",
       "<table border=\"1\" class=\"dataframe\">\n",
       "  <thead>\n",
       "    <tr style=\"text-align: right;\">\n",
       "      <th></th>\n",
       "      <th>EntryID</th>\n",
       "      <th>taxonomyID</th>\n",
       "    </tr>\n",
       "  </thead>\n",
       "  <tbody>\n",
       "    <tr>\n",
       "      <th>0</th>\n",
       "      <td>Q8IXT2</td>\n",
       "      <td>9606</td>\n",
       "    </tr>\n",
       "    <tr>\n",
       "      <th>1</th>\n",
       "      <td>Q04418</td>\n",
       "      <td>559292</td>\n",
       "    </tr>\n",
       "    <tr>\n",
       "      <th>2</th>\n",
       "      <td>A8DYA3</td>\n",
       "      <td>7227</td>\n",
       "    </tr>\n",
       "    <tr>\n",
       "      <th>3</th>\n",
       "      <td>Q9UUI3</td>\n",
       "      <td>284812</td>\n",
       "    </tr>\n",
       "    <tr>\n",
       "      <th>4</th>\n",
       "      <td>Q57ZS4</td>\n",
       "      <td>185431</td>\n",
       "    </tr>\n",
       "    <tr>\n",
       "      <th>...</th>\n",
       "      <td>...</td>\n",
       "      <td>...</td>\n",
       "    </tr>\n",
       "    <tr>\n",
       "      <th>142241</th>\n",
       "      <td>Q5TD07</td>\n",
       "      <td>9606</td>\n",
       "    </tr>\n",
       "    <tr>\n",
       "      <th>142242</th>\n",
       "      <td>A8BB17</td>\n",
       "      <td>7955</td>\n",
       "    </tr>\n",
       "    <tr>\n",
       "      <th>142243</th>\n",
       "      <td>A0A2R8QBB1</td>\n",
       "      <td>7955</td>\n",
       "    </tr>\n",
       "    <tr>\n",
       "      <th>142244</th>\n",
       "      <td>P0CT72</td>\n",
       "      <td>284812</td>\n",
       "    </tr>\n",
       "    <tr>\n",
       "      <th>142245</th>\n",
       "      <td>Q9NZ43</td>\n",
       "      <td>9606</td>\n",
       "    </tr>\n",
       "  </tbody>\n",
       "</table>\n",
       "<p>142246 rows × 2 columns</p>\n",
       "</div>"
      ],
      "text/plain": [
       "           EntryID  taxonomyID\n",
       "0           Q8IXT2        9606\n",
       "1           Q04418      559292\n",
       "2           A8DYA3        7227\n",
       "3           Q9UUI3      284812\n",
       "4           Q57ZS4      185431\n",
       "...            ...         ...\n",
       "142241      Q5TD07        9606\n",
       "142242      A8BB17        7955\n",
       "142243  A0A2R8QBB1        7955\n",
       "142244      P0CT72      284812\n",
       "142245      Q9NZ43        9606\n",
       "\n",
       "[142246 rows x 2 columns]"
      ]
     },
     "execution_count": 26,
     "metadata": {},
     "output_type": "execute_result"
    }
   ],
   "source": [
    "train_taxonomy"
   ]
  },
  {
   "cell_type": "code",
   "execution_count": 27,
   "metadata": {
    "id": "RzcnosMFsyLg",
    "tags": []
   },
   "outputs": [
    {
     "data": {
      "text/html": [
       "<div>\n",
       "<style scoped>\n",
       "    .dataframe tbody tr th:only-of-type {\n",
       "        vertical-align: middle;\n",
       "    }\n",
       "\n",
       "    .dataframe tbody tr th {\n",
       "        vertical-align: top;\n",
       "    }\n",
       "\n",
       "    .dataframe thead th {\n",
       "        text-align: right;\n",
       "    }\n",
       "</style>\n",
       "<table border=\"1\" class=\"dataframe\">\n",
       "  <thead>\n",
       "    <tr style=\"text-align: right;\">\n",
       "      <th></th>\n",
       "      <th>EntryID</th>\n",
       "      <th>term</th>\n",
       "      <th>aspect</th>\n",
       "    </tr>\n",
       "  </thead>\n",
       "  <tbody>\n",
       "    <tr>\n",
       "      <th>0</th>\n",
       "      <td>A0A009IHW8</td>\n",
       "      <td>GO:0008152</td>\n",
       "      <td>BPO</td>\n",
       "    </tr>\n",
       "    <tr>\n",
       "      <th>1</th>\n",
       "      <td>A0A009IHW8</td>\n",
       "      <td>GO:0034655</td>\n",
       "      <td>BPO</td>\n",
       "    </tr>\n",
       "    <tr>\n",
       "      <th>2</th>\n",
       "      <td>A0A009IHW8</td>\n",
       "      <td>GO:0072523</td>\n",
       "      <td>BPO</td>\n",
       "    </tr>\n",
       "    <tr>\n",
       "      <th>3</th>\n",
       "      <td>A0A009IHW8</td>\n",
       "      <td>GO:0044270</td>\n",
       "      <td>BPO</td>\n",
       "    </tr>\n",
       "    <tr>\n",
       "      <th>4</th>\n",
       "      <td>A0A009IHW8</td>\n",
       "      <td>GO:0006753</td>\n",
       "      <td>BPO</td>\n",
       "    </tr>\n",
       "    <tr>\n",
       "      <th>...</th>\n",
       "      <td>...</td>\n",
       "      <td>...</td>\n",
       "      <td>...</td>\n",
       "    </tr>\n",
       "    <tr>\n",
       "      <th>5363858</th>\n",
       "      <td>X5L565</td>\n",
       "      <td>GO:0050649</td>\n",
       "      <td>MFO</td>\n",
       "    </tr>\n",
       "    <tr>\n",
       "      <th>5363859</th>\n",
       "      <td>X5L565</td>\n",
       "      <td>GO:0016491</td>\n",
       "      <td>MFO</td>\n",
       "    </tr>\n",
       "    <tr>\n",
       "      <th>5363860</th>\n",
       "      <td>X5M5N0</td>\n",
       "      <td>GO:0005515</td>\n",
       "      <td>MFO</td>\n",
       "    </tr>\n",
       "    <tr>\n",
       "      <th>5363861</th>\n",
       "      <td>X5M5N0</td>\n",
       "      <td>GO:0005488</td>\n",
       "      <td>MFO</td>\n",
       "    </tr>\n",
       "    <tr>\n",
       "      <th>5363862</th>\n",
       "      <td>X5M5N0</td>\n",
       "      <td>GO:0003674</td>\n",
       "      <td>MFO</td>\n",
       "    </tr>\n",
       "  </tbody>\n",
       "</table>\n",
       "<p>5363863 rows × 3 columns</p>\n",
       "</div>"
      ],
      "text/plain": [
       "            EntryID        term aspect\n",
       "0        A0A009IHW8  GO:0008152    BPO\n",
       "1        A0A009IHW8  GO:0034655    BPO\n",
       "2        A0A009IHW8  GO:0072523    BPO\n",
       "3        A0A009IHW8  GO:0044270    BPO\n",
       "4        A0A009IHW8  GO:0006753    BPO\n",
       "...             ...         ...    ...\n",
       "5363858      X5L565  GO:0050649    MFO\n",
       "5363859      X5L565  GO:0016491    MFO\n",
       "5363860      X5M5N0  GO:0005515    MFO\n",
       "5363861      X5M5N0  GO:0005488    MFO\n",
       "5363862      X5M5N0  GO:0003674    MFO\n",
       "\n",
       "[5363863 rows x 3 columns]"
      ]
     },
     "execution_count": 27,
     "metadata": {},
     "output_type": "execute_result"
    }
   ],
   "source": [
    "train_terms"
   ]
  },
  {
   "cell_type": "markdown",
   "metadata": {
    "id": "7cILP-uSHWoh"
   },
   "source": [
    "**Section 1 Summary**\n",
    "1. ~ 140,000 Unique Proteins with their associated Fasta sequences\n",
    "2. ~ 31466   Unique Gene Ontology (GO) Codes \n",
    "3. ~ 3156    Taxonomy IDs (Different Organisms)\n",
    "4. IA -- Information Accretion, basically a measure of how much new relevant information is added by each Gene Ontology (GO) code."
   ]
  },
  {
   "cell_type": "markdown",
   "metadata": {
    "id": "mPaVu_md1I2r"
   },
   "source": [
    "# Section 2: Exploratory Data Analysis"
   ]
  },
  {
   "cell_type": "markdown",
   "metadata": {
    "id": "4kq9gAol4lau"
   },
   "source": [
    "**Gene Ontology (GO) Codes Are Not Unique**\n",
    "1. Tyrosine Kinase Inhibition could be a GO code, where multiple proteins could take on that behavior\n",
    "3. Unknown information about protein interactions can be a source for error"
   ]
  },
  {
   "cell_type": "code",
   "execution_count": 28,
   "metadata": {
    "id": "qXyAkKW01Uh7",
    "tags": []
   },
   "outputs": [],
   "source": [
    "gene_ont_counts = train_terms['term'].value_counts()"
   ]
  },
  {
   "cell_type": "code",
   "execution_count": 29,
   "metadata": {
    "colab": {
     "base_uri": "https://localhost:8080/"
    },
    "id": "WJ6YJHJzzvXI",
    "outputId": "bdd8162d-a76a-4bee-a156-b3c37cfac6d0",
    "scrolled": true,
    "tags": []
   },
   "outputs": [
    {
     "data": {
      "text/plain": [
       "term\n",
       "GO:0005575    92912\n",
       "GO:0008150    92210\n",
       "Name: count, dtype: int64"
      ]
     },
     "execution_count": 29,
     "metadata": {},
     "output_type": "execute_result"
    }
   ],
   "source": [
    "train_terms[train_terms.groupby('term')['term'].transform('size') > 92000]['term'].value_counts()"
   ]
  },
  {
   "cell_type": "markdown",
   "metadata": {
    "id": "1ih3nbAg9XMj"
   },
   "source": [
    "**Pattern at Beginning of Description**"
   ]
  },
  {
   "cell_type": "markdown",
   "metadata": {
    "id": "-CMNgcd2EsoO"
   },
   "source": [
    "1. BPO: Biological Process Ontology\n",
    "2. CCO: Cellular Componenet Ontology\n",
    "3. MFO: Molecular Function Ontology"
   ]
  },
  {
   "cell_type": "code",
   "execution_count": 30,
   "metadata": {
    "colab": {
     "base_uri": "https://localhost:8080/",
     "height": 482
    },
    "id": "SAueLJwQQm-4",
    "outputId": "2a025aec-c456-485e-c36c-31d0f50144e8",
    "tags": []
   },
   "outputs": [
    {
     "data": {
      "text/plain": [
       "<Axes: xlabel='aspect', ylabel='count'>"
      ]
     },
     "execution_count": 30,
     "metadata": {},
     "output_type": "execute_result"
    },
    {
     "data": {
      "image/png": "[encoded data removed]",
      "text/plain": [
       "<Figure size 640x480 with 1 Axes>"
      ]
     },
     "metadata": {},
     "output_type": "display_data"
    }
   ],
   "source": [
    "sns.countplot(x = train_terms['aspect'])"
   ]
  },
  {
   "cell_type": "markdown",
   "metadata": {
    "id": "AwjbuPwjEHJI"
   },
   "source": [
    "**Information Accretion Distributions**"
   ]
  },
  {
   "cell_type": "code",
   "execution_count": 31,
   "metadata": {
    "id": "WvrPhvvy4EmN",
    "tags": []
   },
   "outputs": [
    {
     "data": {
      "text/html": [
       "<div>\n",
       "<style scoped>\n",
       "    .dataframe tbody tr th:only-of-type {\n",
       "        vertical-align: middle;\n",
       "    }\n",
       "\n",
       "    .dataframe tbody tr th {\n",
       "        vertical-align: top;\n",
       "    }\n",
       "\n",
       "    .dataframe thead th {\n",
       "        text-align: right;\n",
       "    }\n",
       "</style>\n",
       "<table border=\"1\" class=\"dataframe\">\n",
       "  <thead>\n",
       "    <tr style=\"text-align: right;\">\n",
       "      <th></th>\n",
       "      <th>Information Accreation</th>\n",
       "    </tr>\n",
       "  </thead>\n",
       "  <tbody>\n",
       "    <tr>\n",
       "      <th>GO:0000001</th>\n",
       "      <td>0.000000</td>\n",
       "    </tr>\n",
       "    <tr>\n",
       "      <th>GO:0000002</th>\n",
       "      <td>3.103836</td>\n",
       "    </tr>\n",
       "    <tr>\n",
       "      <th>GO:0000003</th>\n",
       "      <td>3.439404</td>\n",
       "    </tr>\n",
       "    <tr>\n",
       "      <th>GO:0000011</th>\n",
       "      <td>0.056584</td>\n",
       "    </tr>\n",
       "    <tr>\n",
       "      <th>GO:0000012</th>\n",
       "      <td>6.400377</td>\n",
       "    </tr>\n",
       "    <tr>\n",
       "      <th>...</th>\n",
       "      <td>...</td>\n",
       "    </tr>\n",
       "    <tr>\n",
       "      <th>GO:2001083</th>\n",
       "      <td>7.159871</td>\n",
       "    </tr>\n",
       "    <tr>\n",
       "      <th>GO:2001084</th>\n",
       "      <td>7.592457</td>\n",
       "    </tr>\n",
       "    <tr>\n",
       "      <th>GO:2001085</th>\n",
       "      <td>7.159871</td>\n",
       "    </tr>\n",
       "    <tr>\n",
       "      <th>GO:2001147</th>\n",
       "      <td>5.554589</td>\n",
       "    </tr>\n",
       "    <tr>\n",
       "      <th>GO:2001227</th>\n",
       "      <td>0.000000</td>\n",
       "    </tr>\n",
       "  </tbody>\n",
       "</table>\n",
       "<p>43248 rows × 1 columns</p>\n",
       "</div>"
      ],
      "text/plain": [
       "            Information Accreation\n",
       "GO:0000001                0.000000\n",
       "GO:0000002                3.103836\n",
       "GO:0000003                3.439404\n",
       "GO:0000011                0.056584\n",
       "GO:0000012                6.400377\n",
       "...                            ...\n",
       "GO:2001083                7.159871\n",
       "GO:2001084                7.592457\n",
       "GO:2001085                7.159871\n",
       "GO:2001147                5.554589\n",
       "GO:2001227                0.000000\n",
       "\n",
       "[43248 rows x 1 columns]"
      ]
     },
     "execution_count": 31,
     "metadata": {},
     "output_type": "execute_result"
    }
   ],
   "source": [
    "IA_df"
   ]
  },
  {
   "cell_type": "code",
   "execution_count": 32,
   "metadata": {
    "colab": {
     "base_uri": "https://localhost:8080/",
     "height": 670
    },
    "id": "HN1qxncFDYzT",
    "outputId": "afd2e1d9-6681-42d3-af1c-df21fedb2a6a",
    "tags": []
   },
   "outputs": [
    {
     "data": {
      "text/plain": [
       "<Axes: >"
      ]
     },
     "execution_count": 32,
     "metadata": {},
     "output_type": "execute_result"
    },
    {
     "data": {
      "image/png": "[encoded data removed]",
      "text/plain": [
       "<Figure size 640x480 with 1 Axes>"
      ]
     },
     "metadata": {},
     "output_type": "display_data"
    }
   ],
   "source": [
    "sns.boxplot(IA_df)\n",
    "# print(IA_df.value_counts())"
   ]
  },
  {
   "cell_type": "markdown",
   "metadata": {},
   "source": [
    "**Sequence Lengths of Fasta "
   ]
  },
  {
   "cell_type": "code",
   "execution_count": 33,
   "metadata": {
    "collapsed": true,
    "tags": []
   },
   "outputs": [
    {
     "name": "stderr",
     "output_type": "stream",
     "text": [
      "/tmp/ipykernel_505/3183592557.py:7: UserWarning: \n",
      "\n",
      "`distplot` is a deprecated function and will be removed in seaborn v0.14.0.\n",
      "\n",
      "Please adapt your code to use either `displot` (a figure-level function with\n",
      "similar flexibility) or `histplot` (an axes-level function for histograms).\n",
      "\n",
      "For a guide to updating your code to use the new functions, please see\n",
      "https://gist.github.com/mwaskom/de44147ed2974457ad6372750bbe5751\n",
      "\n",
      "  sns.distplot(sequence_lengths, kde = False)\n"
     ]
    },
    {
     "data": {
      "text/html": [
       "<div>\n",
       "<style scoped>\n",
       "    .dataframe tbody tr th:only-of-type {\n",
       "        vertical-align: middle;\n",
       "    }\n",
       "\n",
       "    .dataframe tbody tr th {\n",
       "        vertical-align: top;\n",
       "    }\n",
       "\n",
       "    .dataframe thead th {\n",
       "        text-align: right;\n",
       "    }\n",
       "</style>\n",
       "<table border=\"1\" class=\"dataframe\">\n",
       "  <thead>\n",
       "    <tr style=\"text-align: right;\">\n",
       "      <th></th>\n",
       "      <th>SeqLen</th>\n",
       "    </tr>\n",
       "  </thead>\n",
       "  <tbody>\n",
       "    <tr>\n",
       "      <th>count</th>\n",
       "      <td>142246.000000</td>\n",
       "    </tr>\n",
       "    <tr>\n",
       "      <th>mean</th>\n",
       "      <td>553.636679</td>\n",
       "    </tr>\n",
       "    <tr>\n",
       "      <th>std</th>\n",
       "      <td>641.728770</td>\n",
       "    </tr>\n",
       "    <tr>\n",
       "      <th>min</th>\n",
       "      <td>3.000000</td>\n",
       "    </tr>\n",
       "    <tr>\n",
       "      <th>25%</th>\n",
       "      <td>248.000000</td>\n",
       "    </tr>\n",
       "    <tr>\n",
       "      <th>50%</th>\n",
       "      <td>411.000000</td>\n",
       "    </tr>\n",
       "    <tr>\n",
       "      <th>75%</th>\n",
       "      <td>654.000000</td>\n",
       "    </tr>\n",
       "    <tr>\n",
       "      <th>max</th>\n",
       "      <td>35375.000000</td>\n",
       "    </tr>\n",
       "  </tbody>\n",
       "</table>\n",
       "</div>"
      ],
      "text/plain": [
       "              SeqLen\n",
       "count  142246.000000\n",
       "mean      553.636679\n",
       "std       641.728770\n",
       "min         3.000000\n",
       "25%       248.000000\n",
       "50%       411.000000\n",
       "75%       654.000000\n",
       "max     35375.000000"
      ]
     },
     "execution_count": 33,
     "metadata": {},
     "output_type": "execute_result"
    },
    {
     "data": {
      "image/png": "[encoded data removed]",
      "text/plain": [
       "<Figure size 640x480 with 1 Axes>"
      ]
     },
     "metadata": {},
     "output_type": "display_data"
    }
   ],
   "source": [
    "sequence_lengths = []\n",
    "reduced_length   = 10001\n",
    "for protein in train_fasta_dict.keys():\n",
    "    length_seq   = len(train_fasta_dict[protein])\n",
    "    sequence_lengths.append(length_seq)\n",
    "    \n",
    "sns.distplot(sequence_lengths, kde = False)\n",
    "pd.DataFrame(sequence_lengths, columns = ['SeqLen']).describe()"
   ]
  },
  {
   "cell_type": "markdown",
   "metadata": {
    "id": "CVokgrnQJyYb"
   },
   "source": [
    "**Likely Direction 25 Apr 2023**\n",
    "1. Since each Gene Ontology has relationships to other gene ontologies, finding a meaningful way to encode the ontology and it's relationships\n",
    "2. Additionally... considering a point of where is too much information since these trees are all theoretically connected"
   ]
  },
  {
   "cell_type": "code",
   "execution_count": 34,
   "metadata": {},
   "outputs": [],
   "source": [
    "# Assuming df is your dataframe\n",
    "# Sum across rows for each column (label)\n",
    "# label_sums = train_labels.sum(axis=0)\n",
    "\n",
    "# # Plot the distribution\n",
    "# plt.figure(figsize=(10, 6))\n",
    "# sns.histplot(label_sums, bins=50)\n",
    "# plt.xlabel('Number of Occurrences')\n",
    "# plt.ylabel('Number of Labels')\n",
    "# plt.title('Distribution of Label Occurrences')\n",
    "# plt.show()"
   ]
  },
  {
   "cell_type": "markdown",
   "metadata": {
    "id": "w-DRnsSfJfw2"
   },
   "source": [
    "# Section 3: Inspecting Ontology Graphs"
   ]
  },
  {
   "cell_type": "markdown",
   "metadata": {
    "id": "uxgxqUUO9XMk"
   },
   "source": [
    "**Make OBO Graph**"
   ]
  },
  {
   "cell_type": "code",
   "execution_count": 35,
   "metadata": {
    "id": "DmQNrR_A9XMp"
   },
   "outputs": [],
   "source": [
    "# import networkx\n",
    "# knowledge_graph    = networkx.DiGraph()\n",
    "\n",
    "# counter   = 0\n",
    "# for term in gene_ontology.terms():\n",
    "#     if counter < 3:\n",
    "#       knowledge_graph.add_node(term.id)\n",
    "\n",
    "#       #iterate through subclasses\n",
    "#       for subclass in term.subclasses():\n",
    "#           knowledge_graph.add_edge(term.id, subclass)\n",
    "\n",
    "#       #iterate through superclasses\n",
    "#       for superclass in term.superclasses():\n",
    "#           knowledge_graph.add_edge(term.id, superclass)\n",
    "\n",
    "#     counter += 1\n"
   ]
  },
  {
   "cell_type": "code",
   "execution_count": 36,
   "metadata": {
    "id": "Fq-lqX9xIImi"
   },
   "outputs": [],
   "source": [
    "# networkx.draw(knowledge_graph, pos=graphviz_layout(knowledge_graph, prog=\"dot\"), with_labels=False, arrows=True)"
   ]
  },
  {
   "cell_type": "code",
   "execution_count": 37,
   "metadata": {
    "id": "YayjKaz_HyDS"
   },
   "outputs": [],
   "source": [
    "# graphviz_layout(knowledge_graph)"
   ]
  },
  {
   "cell_type": "markdown",
   "metadata": {
    "id": "fkaQPHqnFCqZ"
   },
   "source": [
    "# Machine Learning Section\n",
    "\n",
    "\n",
    "---\n",
    "1. Every protein has a network of relations with other proteins as seen by the OBO format. \n",
    "2. Go up and down the tree 3 branches and determine if has relationship (encode in a sparse matrix)\n",
    "3. Could Create 4 Dimensional Tensors to represent an ontology and it's superclass and subclass\n",
    "4. Superlcass, Subclass, and Ontology stacked in a another dimensions so that all objects are in one structure\n",
    "5. Think back to tensorflow how we could create a 4D tensor for data preprocessing (images have 3 dims, and then an extra dimension to put them together --> likely could use a similar machine learning technique too. \n",
    "6. Might have to stack a couple nueral networks together... FASTA data needs to be incorporated as well in a meaningful manner\n",
    "7. Predicting the probability of each GO term from sequence and features we extract; multiple GO terms can be associated with a protein.\n"
   ]
  },
  {
   "cell_type": "markdown",
   "metadata": {},
   "source": [
    "# Main WorkFlow"
   ]
  },
  {
   "cell_type": "markdown",
   "metadata": {
    "tags": []
   },
   "source": [
    "**Tokenizer Gene Ontology Terms**"
   ]
  },
  {
   "cell_type": "code",
   "execution_count": 12,
   "metadata": {
    "id": "HEQ-J1ZMT7b7",
    "tags": []
   },
   "outputs": [],
   "source": [
    "joined_terms  = train_terms['term'].unique()\n",
    "GO_encoded    = pd.factorize(joined_terms)[0]\n",
    "GO_labels     = pd.factorize(joined_terms)[1]\n",
    "GO_dictionary = {GO_labels[index]: GO_encoded[index] for index in range(len(GO_labels))}"
   ]
  },
  {
   "cell_type": "markdown",
   "metadata": {},
   "source": [
    "**One Hot Encoding Targets**\n",
    "1. Necessary for this problem since there's multiple labels that can be assigned to a protein"
   ]
  },
  {
   "cell_type": "code",
   "execution_count": 13,
   "metadata": {
    "tags": []
   },
   "outputs": [
    {
     "data": {
      "text/html": [
       "<style>#sk-container-id-1 {color: black;background-color: white;}#sk-container-id-1 pre{padding: 0;}#sk-container-id-1 div.sk-toggleable {background-color: white;}#sk-container-id-1 label.sk-toggleable__label {cursor: pointer;display: block;width: 100%;margin-bottom: 0;padding: 0.3em;box-sizing: border-box;text-align: center;}#sk-container-id-1 label.sk-toggleable__label-arrow:before {content: \"▸\";float: left;margin-right: 0.25em;color: #696969;}#sk-container-id-1 label.sk-toggleable__label-arrow:hover:before {color: black;}#sk-container-id-1 div.sk-estimator:hover label.sk-toggleable__label-arrow:before {color: black;}#sk-container-id-1 div.sk-toggleable__content {max-height: 0;max-width: 0;overflow: hidden;text-align: left;background-color: #f0f8ff;}#sk-container-id-1 div.sk-toggleable__content pre {margin: 0.2em;color: black;border-radius: 0.25em;background-color: #f0f8ff;}#sk-container-id-1 input.sk-toggleable__control:checked~div.sk-toggleable__content {max-height: 200px;max-width: 100%;overflow: auto;}#sk-container-id-1 input.sk-toggleable__control:checked~label.sk-toggleable__label-arrow:before {content: \"▾\";}#sk-container-id-1 div.sk-estimator input.sk-toggleable__control:checked~label.sk-toggleable__label {background-color: #d4ebff;}#sk-container-id-1 div.sk-label input.sk-toggleable__control:checked~label.sk-toggleable__label {background-color: #d4ebff;}#sk-container-id-1 input.sk-hidden--visually {border: 0;clip: rect(1px 1px 1px 1px);clip: rect(1px, 1px, 1px, 1px);height: 1px;margin: -1px;overflow: hidden;padding: 0;position: absolute;width: 1px;}#sk-container-id-1 div.sk-estimator {font-family: monospace;background-color: #f0f8ff;border: 1px dotted black;border-radius: 0.25em;box-sizing: border-box;margin-bottom: 0.5em;}#sk-container-id-1 div.sk-estimator:hover {background-color: #d4ebff;}#sk-container-id-1 div.sk-parallel-item::after {content: \"\";width: 100%;border-bottom: 1px solid gray;flex-grow: 1;}#sk-container-id-1 div.sk-label:hover label.sk-toggleable__label {background-color: #d4ebff;}#sk-container-id-1 div.sk-serial::before {content: \"\";position: absolute;border-left: 1px solid gray;box-sizing: border-box;top: 0;bottom: 0;left: 50%;z-index: 0;}#sk-container-id-1 div.sk-serial {display: flex;flex-direction: column;align-items: center;background-color: white;padding-right: 0.2em;padding-left: 0.2em;position: relative;}#sk-container-id-1 div.sk-item {position: relative;z-index: 1;}#sk-container-id-1 div.sk-parallel {display: flex;align-items: stretch;justify-content: center;background-color: white;position: relative;}#sk-container-id-1 div.sk-item::before, #sk-container-id-1 div.sk-parallel-item::before {content: \"\";position: absolute;border-left: 1px solid gray;box-sizing: border-box;top: 0;bottom: 0;left: 50%;z-index: -1;}#sk-container-id-1 div.sk-parallel-item {display: flex;flex-direction: column;z-index: 1;position: relative;background-color: white;}#sk-container-id-1 div.sk-parallel-item:first-child::after {align-self: flex-end;width: 50%;}#sk-container-id-1 div.sk-parallel-item:last-child::after {align-self: flex-start;width: 50%;}#sk-container-id-1 div.sk-parallel-item:only-child::after {width: 0;}#sk-container-id-1 div.sk-dashed-wrapped {border: 1px dashed gray;margin: 0 0.4em 0.5em 0.4em;box-sizing: border-box;padding-bottom: 0.4em;background-color: white;}#sk-container-id-1 div.sk-label label {font-family: monospace;font-weight: bold;display: inline-block;line-height: 1.2em;}#sk-container-id-1 div.sk-label-container {text-align: center;}#sk-container-id-1 div.sk-container {/* jupyter's `normalize.less` sets `[hidden] { display: none; }` but bootstrap.min.css set `[hidden] { display: none !important; }` so we also need the `!important` here to be able to override the default hidden behavior on the sphinx rendered scikit-learn.org. See: https://github.com/scikit-learn/scikit-learn/issues/21755 */display: inline-block !important;position: relative;}#sk-container-id-1 div.sk-text-repr-fallback {display: none;}</style><div id=\"sk-container-id-1\" class=\"sk-top-container\"><div class=\"sk-text-repr-fallback\"><pre>OneHotEncoder()</pre><b>In a Jupyter environment, please rerun this cell to show the HTML representation or trust the notebook. <br />On GitHub, the HTML representation is unable to render, please try loading this page with nbviewer.org.</b></div><div class=\"sk-container\" hidden><div class=\"sk-item\"><div class=\"sk-estimator sk-toggleable\"><input class=\"sk-toggleable__control sk-hidden--visually\" id=\"sk-estimator-id-1\" type=\"checkbox\" checked><label for=\"sk-estimator-id-1\" class=\"sk-toggleable__label sk-toggleable__label-arrow\">OneHotEncoder</label><div class=\"sk-toggleable__content\"><pre>OneHotEncoder()</pre></div></div></div></div></div>"
      ],
      "text/plain": [
       "OneHotEncoder()"
      ]
     },
     "execution_count": 13,
     "metadata": {},
     "output_type": "execute_result"
    }
   ],
   "source": [
    "GO_encoder    = OneHotEncoder()\n",
    "GO_dict_array = np.array(list(GO_dictionary.values())).reshape(-1,1)\n",
    "GO_encoder.fit(GO_dict_array)"
   ]
  },
  {
   "cell_type": "markdown",
   "metadata": {},
   "source": [
    "# Next Steps\n",
    "1. All GO's are Targets (Binary Classificaiton Output Layer with len(all gene ontologies)\n",
    "2. Sigmoid activation function telling whether gene ontology is associated with protein"
   ]
  },
  {
   "cell_type": "code",
   "execution_count": 14,
   "metadata": {},
   "outputs": [
    {
     "name": "stdout",
     "output_type": "stream",
     "text": [
      "The memory size of my_variable is 5242968 bytes.\n"
     ]
    }
   ],
   "source": [
    "import sys\n",
    "\n",
    "# Define your variable\n",
    "\n",
    "# Get the memory size of the variable\n",
    "size = sys.getsizeof(train_fasta_dict)\n",
    "\n",
    "print(f\"The memory size of my_variable is {size} bytes.\")"
   ]
  },
  {
   "cell_type": "code",
   "execution_count": 15,
   "metadata": {
    "tags": []
   },
   "outputs": [],
   "source": [
    "# Uniprot Protein ID for each Ontology_dict Term\n",
    "with open('protein_seq.pckl', 'rb') as file:\n",
    "    protein_seq = pickle.load(file)\n",
    "\n",
    "# Protein ID extended with gene ontologies\n",
    "with open('ontology_dict.pckl', 'rb') as f:\n",
    "    ontology_dict = pickle.load(f)\n",
    "\n",
    "# GO_dictionary = {}\n",
    "\n",
    "for protein in ontology_dict.keys():\n",
    "    encoded_proteins   =   []\n",
    "    for GO  in list(ontology_dict[protein][0]):\n",
    "        categorized_GO = GO_dictionary[GO]\n",
    "        encoded_proteins.append(categorized_GO)\n",
    "    \n",
    "    ontology_dict[protein] = encoded_proteins   \n",
    "    \n",
    "# Formatting Ontology Dict Compilation Takes 20 Minutes this is faster\n",
    "# ontology_dict = {protein_seq[index]: list(ontology_dict.values())[index] \\\n",
    "#                  for index in range(len(list(ontology_dict.values())))}"
   ]
  },
  {
   "cell_type": "code",
   "execution_count": 16,
   "metadata": {},
   "outputs": [],
   "source": [
    "# rm -r test_labels.pckl"
   ]
  },
  {
   "cell_type": "code",
   "execution_count": 17,
   "metadata": {
    "scrolled": true
   },
   "outputs": [
    {
     "name": "stdout",
     "output_type": "stream",
     "text": [
      "['test_embeds.npy', 'test_ids.npy', 'train_embeds.npy', 'train_ids.npy']\n"
     ]
    }
   ],
   "source": [
    "num_of_labels = 1500 \n",
    "\n",
    "with ZipFile('cafa_train_test_embeddings.zip', 'r') as zips:\n",
    "    print(zips.namelist())\n",
    "    with zips.open(zips.namelist()[0]) as file:\n",
    "        x_test = np.load(file)\n",
    "    \n",
    "    with zips.open(zips.namelist()[1]) as file:\n",
    "        y_test = np.load(file)\n",
    "        \n",
    "    with zips.open(zips.namelist()[2]) as file:\n",
    "        x_train = np.load(file)\n",
    "        \n",
    "    with zips.open(zips.namelist()[3]) as file:\n",
    "        y_train = np.load(file)\n",
    "      \n",
    "\n",
    "    \n",
    "# Take value counts in descending order and fetch first 1500 `GO term ID` as labels\n",
    "# labels = train_terms['term'].value_counts().index[:num_of_labels].tolist()"
   ]
  },
  {
   "cell_type": "markdown",
   "metadata": {},
   "source": [
    "**Load Test Embeddings**"
   ]
  },
  {
   "cell_type": "code",
   "execution_count": 18,
   "metadata": {},
   "outputs": [],
   "source": [
    "# y_test.to_hdf('test_labels2.h5', 'y_test')"
   ]
  },
  {
   "cell_type": "markdown",
   "metadata": {},
   "source": [
    "**Create Embedded Labels (Test or Train)**"
   ]
  },
  {
   "cell_type": "code",
   "execution_count": 19,
   "metadata": {},
   "outputs": [],
   "source": [
    "# Creates the Embeddings Using a pretrained Embedding\n",
    "# Nueral Network for Protein Sequences\n",
    "\n",
    "# Creates the Embeddings Using a pretrained Embedding\n",
    "# Nueral Network for Protein Sequences\n",
    "\n",
    "def create_embeddings(data, fasta_dict):\n",
    "    # data: the actual data that needs to be transformed\n",
    "    # fasta_dict: the names for the protein data set for the \n",
    "    \n",
    "    # Filter Most Common Labels\n",
    "    labels             = train_terms['term'].value_counts().index[:num_of_labels].tolist()\n",
    "    \n",
    "    bar                = progressbar.ProgressBar(maxval=num_of_labels, \\\n",
    "    widgets            = [progressbar.Bar('=', '[', ']'), ' ', progressbar.Percentage()])\n",
    "\n",
    "    bar.start()\n",
    "    # Create an empty dataframe of required size for storing the labels,\n",
    "    # i.e, train_size x num_of_labels (142246 x 1500)\n",
    "    train_size         = train_taxonomy.shape[0]    # len(X)\n",
    "    \n",
    "                                           # For some reaosn test_fast_dict is one less than\n",
    "                                           # the test set size\n",
    "            \n",
    "    protein_labels     = np.zeros((train_size ,num_of_labels))\n",
    "\n",
    "    # Convert from numpy to pandas series for better handling\n",
    "    series_protein_ids = pd.Series(train_taxonomy['EntryID'])\n",
    "\n",
    "\n",
    "    # Loop through each label\n",
    "    for i in range(num_of_labels):\n",
    "\n",
    "        # For each label, fetch the corresponding train_terms data\n",
    "        n_train_terms = train_terms[train_terms['term'] ==  labels[i]]\n",
    "        \n",
    "        # Fetch all the unique EntryId aka proteins related to the current label(GO term ID)\n",
    "        label_related_proteins = n_train_terms['EntryID'].unique()\n",
    "\n",
    "        # In the series_train_protein_ids pandas series, if a protein is related\n",
    "        # to the current label, then mark it as 1, else 0.\n",
    "        # Replace the ith column of train_Y with with that pandas series.\n",
    "        \n",
    "#         print(label_related_proteins.shape, series_protein_ids.shape)\n",
    "        protein_labels[:,i] =  series_protein_ids.isin(label_related_proteins).astype(float)\n",
    "\n",
    "        # Progress bar percentage increase\n",
    "        bar.update(i+1)\n",
    "\n",
    "    # Notify the end of progress bar \n",
    "    bar.finish()\n",
    "\n",
    "    # Convert train_Y numpy into pandas dataframe\n",
    "    labels_df = pd.DataFrame(data = protein_labels, columns = labels)\n",
    "\n",
    "    \n",
    "    return labels_df\n",
    "\n",
    "\n",
    "# test_labels   = create_embeddings(y_test, protein_test_labels)\n",
    "# train_labels  = create_embeddings(y_train, protein_train_labels)"
   ]
  },
  {
   "cell_type": "code",
   "execution_count": 20,
   "metadata": {},
   "outputs": [],
   "source": [
    "# train_labels.to_hdf('train_labels.h5', key = 'y_train', mode = 'w')\n",
    "# test_labels.to_hdf('test_labels.h5',   key = 'y_test',  mode = 'w')\n",
    "\n",
    "train_labels = pd.read_hdf('train_labels.h5')\n",
    "test_labels  = pd.read_hdf('test_labels.h5')"
   ]
  },
  {
   "cell_type": "code",
   "execution_count": null,
   "metadata": {},
   "outputs": [],
   "source": [
    "# @remote(instance_type=\"ml.g4dn.xlarge\") # Decorator to Use Differnet Instance\n",
    "def nueral_network(dropout, lr, nueronPct, nueronShrinkage):\n",
    "    \n",
    "    history_training[training_count] = []\n",
    "    kfolds = 5\n",
    "    \n",
    "    skf    = KFold(n_splits = kfolds, shuffle = True, random_state = SEED)\n",
    "    \n",
    "    hyperparameters                    = {}\n",
    "    hyperparameters['dropout']         = dropout\n",
    "    hyperparameters['lr']              = lr\n",
    "    hyperparameters['nueronPct']       = nueronPct\n",
    "    hyperparameters['nueronShrinkage'] = nueronShrinkage\n",
    "    \n",
    "    \n",
    "    \n",
    "    # Define A Nueral Network Loop\n",
    "    nueron_max_size       = 5000\n",
    "    nueron_start_size     = int(nueronPct * nueron_max_size)\n",
    "    max_layers            = 20\n",
    "    min_layer_size        = 16\n",
    "    layer_count           = 0\n",
    "    max_layers            = 10\n",
    "    BATCH_SIZE            = 128\n",
    "    \n",
    "    truncated_size        = 2000\n",
    "    \n",
    "    \n",
    "    model       = tf.keras.models.Sequential()\n",
    "    input_layer = tf.keras.layers.Dense(nueron_start_size, input_shape=(x_train.shape[1],),\n",
    "                                       activation = 'relu')\n",
    "    model.add(input_layer)\n",
    "    \n",
    "    while layer_count < max_layers and nueron_start_size > min_layer_size:\n",
    "        \n",
    "        nueron_start_size = int(nueron_start_size * nueronPct)\n",
    "        layer_dense       = tf.keras.layers.Dense(nueron_start_size, activation = 'relu')\n",
    "        model.add(layer_dense)\n",
    "        \n",
    "        layer_count      += 1\n",
    "        \n",
    "        \n",
    "    final_layer        = tf.keras.layers.Dense(y_train.shape[1], activation ='sigmoid')\n",
    "    model.add(final_layer)\n",
    "    \n",
    "    AdamOpt            = Adam(learning_rate = hyperparameters['lr'])\n",
    "    model.compile(metrics = 'binary_crossentropy', optimizer = AdamOpt, \n",
    "                                          loss = 'binary_crossentropy')\n",
    "    \n",
    "    history            = model.fit(x_train[:truncated_size], y_train[:truncated_size],\n",
    "                            epochs = 4, batch_size = BATCH_SIZE)\n",
    "    \n",
    "    history_training[training_count].append(history)\n",
    "    \n",
    "    predictions        = model.predict(x_test)\n",
    "    y_test_trunc       = np.array(y_test)\n",
    "    \n",
    "    scores_matrix      = np.zeros(shape = (predictions.shape[0], predictions.shape[1]))\n",
    "    scores_per_protein = np.zeros(shape = (predictions.shape[0]))\n",
    "    \n",
    "    \n",
    "    # Analyze Accuracy Element By Elemnt\n",
    "    # Assign Accuracy per protein\n",
    "#     print(predictions.shape[0]-1, y_test_trunc.shape[0])\n",
    "    bar                = progressbar.ProgressBar(maxval=predictions.shape[0], \\\n",
    "    widgets            = [progressbar.Bar('=', '[', ']'), ' ', progressbar.Percentage()])\n",
    "    bar.start()\n",
    "\n",
    "    # Print available memory in GB\n",
    "    print(f\"Available Memory: {mem.available / (1024 ** 3)} GB\")\n",
    "    \n",
    "    for pred in range(predictions.shape[0]-1):\n",
    "        for item in range(predictions.shape[1]):\n",
    "            equality = (y_test_trunc[pred][item] == predictions[pred][item])\n",
    "            scores_matrix[pred][item] = equality\n",
    "            \n",
    "        total_entries = scores_matrix.shape[1]\n",
    "        total_correct = np.count_nonzero(scores_matrix[pred])\n",
    "        accuracy      = total_correct / total_entries\n",
    "        \n",
    "        scores_per_protein[pred] = accuracy\n",
    "        bar.update(pred+1)\n",
    "\n",
    "    # Notify the end of progress bar \n",
    "    bar.finish()\n",
    "    \n",
    "    # Assign Total Accuracy\n",
    "    total_accuracy  = np.average(scores_per_protein)\n",
    "        \n",
    "    \n",
    "    return total_accuracy"
   ]
  },
  {
   "cell_type": "markdown",
   "metadata": {},
   "source": [
    "**Call Hyperparameter Optimization... GPU would likely help**"
   ]
  },
  {
   "cell_type": "code",
   "execution_count": 48,
   "metadata": {},
   "outputs": [],
   "source": [
    "# history_training = {}\n",
    "# training_count   = 0\n",
    "\n",
    "# pbounds          = {\n",
    "#                  'dropout': (0.0, 0.5),\n",
    "#                  'lr': (0.001, 0.1),\n",
    "#                  'nueronPct': (0.1, 1),\n",
    "#                  'nueronShrinkage': (0.1, 1)\n",
    "#                  }\n",
    "\n",
    "# SEED             = 1234\n",
    "\n",
    "# optimizer = BayesianOptimization(\n",
    "#     f = nueral_network,\n",
    "#     pbounds = pbounds,\n",
    "#     verbose = 2,\n",
    "#     random_state = SEED\n",
    "# )\n",
    "\n",
    "# optimizer.maximize(init_points = 1, n_iter = 3)"
   ]
  },
  {
   "cell_type": "markdown",
   "metadata": {
    "id": "3_yktlhR6gD3"
   },
   "source": [
    "# Section 4: Ngrams Sequence Model Training Approach\n",
    "\n",
    "---\n",
    "\n"
   ]
  },
  {
   "cell_type": "markdown",
   "metadata": {
    "id": "xYoyUN9HtvCE"
   },
   "source": [
    "**Transform Tokenizing Dict for 3 Letter Amino Words**"
   ]
  },
  {
   "cell_type": "code",
   "execution_count": 9,
   "metadata": {},
   "outputs": [
    {
     "name": "stdout",
     "output_type": "stream",
     "text": [
      "Total Memory: 15.324687957763672 GB\n",
      "Available Memory: 10.309249877929688 GB\n"
     ]
    }
   ],
   "source": [
    "import psutil\n",
    "\n",
    "# Get memory usage information in bytes\n",
    "mem = psutil.virtual_memory()\n",
    "\n",
    "# Print total memory in GB\n",
    "print(f\"Total Memory: {mem.total / (1024 ** 3)} GB\")\n",
    "\n",
    "# Print available memory in GB\n",
    "print(f\"Available Memory: {mem.available / (1024 ** 3)} GB\")"
   ]
  },
  {
   "cell_type": "markdown",
   "metadata": {},
   "source": [
    "**ProtTrans Protein Language Model Embedding**"
   ]
  },
  {
   "cell_type": "code",
   "execution_count": 50,
   "metadata": {},
   "outputs": [],
   "source": [
    "# !pip install transformers"
   ]
  },
  {
   "cell_type": "code",
   "execution_count": 51,
   "metadata": {},
   "outputs": [],
   "source": [
    "# !pip install torch==2.0.0+cpu torchvision==0.15.0+cpu -f https://download.pytorch.org/whl/cpu/torch_stable.html\n"
   ]
  },
  {
   "cell_type": "code",
   "execution_count": 52,
   "metadata": {},
   "outputs": [],
   "source": [
    "# !pip install sentencepiece"
   ]
  },
  {
   "cell_type": "markdown",
   "metadata": {},
   "source": [
    "**Embedding X variable (Training Sequences) Into More Meantingful Pretrained NN**"
   ]
  },
  {
   "cell_type": "code",
   "execution_count": 53,
   "metadata": {},
   "outputs": [],
   "source": [
    "# from transformers import T5Tokenizer, T5EncoderModel\n",
    "# import torch\n",
    "\n",
    "# device    = torch.device('cuda:0' if torch.cuda.is_available() else 'cpu')\n",
    "\n",
    "# # Load the tokenizer\n",
    "# tokenizer = T5Tokenizer.from_pretrained('Rostlab/prot_t5_xl_half_uniref50-enc', do_lower_case=False)\n",
    "\n",
    "# # Load the model\n",
    "# model     = T5EncoderModel.from_pretrained(\"Rostlab/prot_t5_xl_half_uniref50-enc\")\n",
    "\n",
    "# # only GPUs support half-precision currently; if you want to run on CPU use full-precision (not recommended, much slower)\n",
    "# # model.full() if device=='cpu' else model.half()\n",
    "\n",
    "# if device.type=='cpu':\n",
    "#     model = model.float()\n",
    "# else:\n",
    "#     model = model.half()\n",
    "\n",
    "# # prepare your protein sequences as a list\n",
    "# sequence_examples = list(train_fasta_dict.values())\n",
    "\n",
    "# # replace all rare/ambiguous amino acids by X and introduce white-space between all amino acids\n",
    "# max_length        = 1500\n",
    "# sequence_examples = [\" \".join(list(re.sub(r\"[UZOB]\", \"X\", sequence))) for sequence in sequence_examples]\n",
    "\n",
    "# sequence_examples = [sequence[:max_length] for sequence in sequence_examples]\n",
    "\n",
    "# # set batch size\n",
    "# batch_size = 16\n",
    "# batches    = [sequence_examples[i:i + batch_size] for i in range(0, len(sequence_examples), batch_size)]\n",
    "\n",
    "# embeddings = []\n",
    "\n",
    "# for batch in batches:\n",
    "#     # tokenize sequences and pad up to the longest sequence in the batch\n",
    "#     ids = tokenizer.batch_encode_plus(batch, add_special_tokens=True, padding='max_length', max_length = 1500)\n",
    "\n",
    "#     input_ids      = torch.tensor(ids['input_ids']).to(device)\n",
    "#     attention_mask = torch.tensor(ids['attention_mask']).to(device)\n",
    "\n",
    "#     # generate embeddings\n",
    "#     with torch.no_grad():\n",
    "#         embedding_repr = model(input_ids=input_ids,attention_mask=attention_mask)\n",
    "        \n",
    "#     # per-protein embeddings by taking the mean along sequence dimension\n",
    "#     per_protein_embeddings = embedding_repr.last_hidden_state.mean(dim=1).cpu().numpy()\n",
    "    \n",
    "#     embeddings.append(per_protein_embeddings)\n",
    "\n",
    "# # concatenate all embeddings\n",
    "# embeddings = np.concatenate(embeddings)\n",
    "\n",
    "# # tokenize sequences and pad up to the longest sequence in the batch\n",
    "# ids = tokenizer.batch_encode_plus(sequence_examples, add_special_tokens=True, padding=\"longest\")\n",
    "\n",
    "# input_ids      = torch.tensor(ids['input_ids']).to(device)\n",
    "# attention_mask = torch.tensor(ids['attention_mask']).to(device)\n",
    "\n",
    "# # generate embeddings\n",
    "# with torch.no_grad():\n",
    "#     embedding_rpr = model(input_ids=input_ids,attention_mask=attention_mask)\n",
    "\n",
    "# # extract residue embeddings for the first ([0,:]) sequence in the batch and remove padded & special tokens ([0,:7]) \n",
    "# emb_0 = embedding_repr.last_hidden_state[0,:7] # shape (7 x 1024)\n",
    "# # same for the second ([1,:]) sequence but taking into account different sequence lengths ([1,:8])\n",
    "# emb_1 = embedding_repr.last_hidden_state[1,:8] # shape (8 x 1024)\n",
    "\n",
    "# # if you want to derive a single representation (per-protein embedding) for the whole protein\n",
    "# emb_0_per_protein = emb_0.mean(dim=0) # shape (1024)"
   ]
  },
  {
   "cell_type": "markdown",
   "metadata": {},
   "source": [
    "**Embedding using Facebooks ESM Model**"
   ]
  },
  {
   "cell_type": "code",
   "execution_count": 22,
   "metadata": {
    "collapsed": true
   },
   "outputs": [
    {
     "name": "stdout",
     "output_type": "stream",
     "text": [
      "Looking in indexes: https://pypi.org/simple, https://pip.repos.neuron.amazonaws.com\n",
      "Requirement already satisfied: torch in /home/ec2-user/anaconda3/envs/python3/lib/python3.10/site-packages (2.0.0)\n",
      "Collecting fairseq\n",
      "  Downloading fairseq-0.12.2.tar.gz (9.6 MB)\n",
      "\u001b[2K     \u001b[90m━━━━━━━━━━━━━━━━━━━━━━━━━━━━━━━━━━━━━━━━\u001b[0m \u001b[32m9.6/9.6 MB\u001b[0m \u001b[31m94.4 MB/s\u001b[0m eta \u001b[36m0:00:00\u001b[0mta \u001b[36m0:00:01\u001b[0m\n",
      "\u001b[?25h  Installing build dependencies ... \u001b[?25ldone\n",
      "\u001b[?25h  Getting requirements to build wheel ... \u001b[?25ldone\n",
      "\u001b[?25h  Installing backend dependencies ... \u001b[?25ldone\n",
      "\u001b[?25h  Preparing metadata (pyproject.toml) ... \u001b[?25ldone\n",
      "\u001b[?25hRequirement already satisfied: filelock in /home/ec2-user/anaconda3/envs/python3/lib/python3.10/site-packages (from torch) (3.12.0)\n",
      "Requirement already satisfied: typing-extensions in /home/ec2-user/anaconda3/envs/python3/lib/python3.10/site-packages (from torch) (4.5.0)\n",
      "Requirement already satisfied: sympy in /home/ec2-user/anaconda3/envs/python3/lib/python3.10/site-packages (from torch) (1.11.1)\n",
      "Requirement already satisfied: networkx in /home/ec2-user/anaconda3/envs/python3/lib/python3.10/site-packages (from torch) (3.1)\n",
      "Requirement already satisfied: jinja2 in /home/ec2-user/anaconda3/envs/python3/lib/python3.10/site-packages (from torch) (3.1.2)\n",
      "Requirement already satisfied: nvidia-cuda-nvrtc-cu11==11.7.99 in /home/ec2-user/anaconda3/envs/python3/lib/python3.10/site-packages (from torch) (11.7.99)\n",
      "Requirement already satisfied: nvidia-cuda-runtime-cu11==11.7.99 in /home/ec2-user/anaconda3/envs/python3/lib/python3.10/site-packages (from torch) (11.7.99)\n",
      "Requirement already satisfied: nvidia-cuda-cupti-cu11==11.7.101 in /home/ec2-user/anaconda3/envs/python3/lib/python3.10/site-packages (from torch) (11.7.101)\n",
      "Requirement already satisfied: nvidia-cudnn-cu11==8.5.0.96 in /home/ec2-user/anaconda3/envs/python3/lib/python3.10/site-packages (from torch) (8.5.0.96)\n",
      "Requirement already satisfied: nvidia-cublas-cu11==11.10.3.66 in /home/ec2-user/anaconda3/envs/python3/lib/python3.10/site-packages (from torch) (11.10.3.66)\n",
      "Requirement already satisfied: nvidia-cufft-cu11==10.9.0.58 in /home/ec2-user/anaconda3/envs/python3/lib/python3.10/site-packages (from torch) (10.9.0.58)\n",
      "Requirement already satisfied: nvidia-curand-cu11==10.2.10.91 in /home/ec2-user/anaconda3/envs/python3/lib/python3.10/site-packages (from torch) (10.2.10.91)\n",
      "Requirement already satisfied: nvidia-cusolver-cu11==11.4.0.1 in /home/ec2-user/anaconda3/envs/python3/lib/python3.10/site-packages (from torch) (11.4.0.1)\n",
      "Requirement already satisfied: nvidia-cusparse-cu11==11.7.4.91 in /home/ec2-user/anaconda3/envs/python3/lib/python3.10/site-packages (from torch) (11.7.4.91)\n",
      "Requirement already satisfied: nvidia-nccl-cu11==2.14.3 in /home/ec2-user/anaconda3/envs/python3/lib/python3.10/site-packages (from torch) (2.14.3)\n",
      "Requirement already satisfied: nvidia-nvtx-cu11==11.7.91 in /home/ec2-user/anaconda3/envs/python3/lib/python3.10/site-packages (from torch) (11.7.91)\n",
      "Requirement already satisfied: triton==2.0.0 in /home/ec2-user/anaconda3/envs/python3/lib/python3.10/site-packages (from torch) (2.0.0)\n",
      "Requirement already satisfied: setuptools in /home/ec2-user/anaconda3/envs/python3/lib/python3.10/site-packages (from nvidia-cublas-cu11==11.10.3.66->torch) (67.7.2)\n",
      "Requirement already satisfied: wheel in /home/ec2-user/anaconda3/envs/python3/lib/python3.10/site-packages (from nvidia-cublas-cu11==11.10.3.66->torch) (0.40.0)\n",
      "Requirement already satisfied: cmake in /home/ec2-user/anaconda3/envs/python3/lib/python3.10/site-packages (from triton==2.0.0->torch) (3.27.2)\n",
      "Requirement already satisfied: lit in /home/ec2-user/anaconda3/envs/python3/lib/python3.10/site-packages (from triton==2.0.0->torch) (16.0.6)\n",
      "Requirement already satisfied: cffi in /home/ec2-user/anaconda3/envs/python3/lib/python3.10/site-packages (from fairseq) (1.15.1)\n",
      "Requirement already satisfied: cython in /home/ec2-user/anaconda3/envs/python3/lib/python3.10/site-packages (from fairseq) (0.29.34)\n",
      "Collecting hydra-core<1.1,>=1.0.7 (from fairseq)\n",
      "  Downloading hydra_core-1.0.7-py3-none-any.whl (123 kB)\n",
      "\u001b[2K     \u001b[90m━━━━━━━━━━━━━━━━━━━━━━━━━━━━━━━━━━━━━━━\u001b[0m \u001b[32m123.8/123.8 kB\u001b[0m \u001b[31m2.5 MB/s\u001b[0m eta \u001b[36m0:00:00\u001b[0m00:01\u001b[0m\n",
      "\u001b[?25hCollecting omegaconf<2.1 (from fairseq)\n",
      "  Downloading omegaconf-2.0.6-py3-none-any.whl (36 kB)\n",
      "Requirement already satisfied: regex in /home/ec2-user/anaconda3/envs/python3/lib/python3.10/site-packages (from fairseq) (2023.5.5)\n",
      "Collecting sacrebleu>=1.4.12 (from fairseq)\n",
      "  Downloading sacrebleu-2.3.1-py3-none-any.whl (118 kB)\n",
      "\u001b[2K     \u001b[90m━━━━━━━━━━━━━━━━━━━━━━━━━━━━━━━━━━━━━━\u001b[0m \u001b[32m118.9/118.9 kB\u001b[0m \u001b[31m32.3 MB/s\u001b[0m eta \u001b[36m0:00:00\u001b[0m\n",
      "\u001b[?25hRequirement already satisfied: tqdm in /home/ec2-user/anaconda3/envs/python3/lib/python3.10/site-packages (from fairseq) (4.65.0)\n",
      "Requirement already satisfied: bitarray in /home/ec2-user/anaconda3/envs/python3/lib/python3.10/site-packages (from fairseq) (2.7.3)\n",
      "Collecting torchaudio>=0.8.0 (from fairseq)\n",
      "  Downloading torchaudio-2.0.2-cp310-cp310-manylinux1_x86_64.whl (4.4 MB)\n",
      "\u001b[2K     \u001b[90m━━━━━━━━━━━━━━━━━━━━━━━━━━━━━━━━━━━━━━━━\u001b[0m \u001b[32m4.4/4.4 MB\u001b[0m \u001b[31m41.3 MB/s\u001b[0m eta \u001b[36m0:00:00\u001b[0m:00:01\u001b[0m\n",
      "\u001b[?25hRequirement already satisfied: numpy in /home/ec2-user/anaconda3/envs/python3/lib/python3.10/site-packages (from fairseq) (1.22.3)\n",
      "Collecting antlr4-python3-runtime==4.8 (from hydra-core<1.1,>=1.0.7->fairseq)\n",
      "  Downloading antlr4-python3-runtime-4.8.tar.gz (112 kB)\n",
      "\u001b[2K     \u001b[90m━━━━━━━━━━━━━━━━━━━━━━━━━━━━━━━━━━━━━━━\u001b[0m \u001b[32m112.4/112.4 kB\u001b[0m \u001b[31m1.7 MB/s\u001b[0m eta \u001b[36m0:00:00\u001b[0ma \u001b[36m0:00:01\u001b[0m\n",
      "\u001b[?25h  Preparing metadata (setup.py) ... \u001b[?25ldone\n",
      "\u001b[?25hRequirement already satisfied: PyYAML>=5.1.* in /home/ec2-user/anaconda3/envs/python3/lib/python3.10/site-packages (from omegaconf<2.1->fairseq) (5.4.1)\n",
      "Collecting portalocker (from sacrebleu>=1.4.12->fairseq)\n",
      "  Downloading portalocker-2.7.0-py2.py3-none-any.whl (15 kB)\n",
      "Collecting tabulate>=0.8.9 (from sacrebleu>=1.4.12->fairseq)\n",
      "  Downloading tabulate-0.9.0-py3-none-any.whl (35 kB)\n",
      "Requirement already satisfied: colorama in /home/ec2-user/anaconda3/envs/python3/lib/python3.10/site-packages (from sacrebleu>=1.4.12->fairseq) (0.4.3)\n",
      "Collecting lxml (from sacrebleu>=1.4.12->fairseq)\n",
      "  Downloading lxml-4.9.3-cp310-cp310-manylinux_2_17_x86_64.manylinux2014_x86_64.manylinux_2_24_x86_64.whl (7.0 MB)\n",
      "\u001b[2K     \u001b[90m━━━━━━━━━━━━━━━━━━━━━━━━━━━━━━━━━━━━━━━━\u001b[0m \u001b[32m7.0/7.0 MB\u001b[0m \u001b[31m132.6 MB/s\u001b[0m eta \u001b[36m0:00:00\u001b[0m00:01\u001b[0m\n",
      "\u001b[?25hCollecting torch\n",
      "  Downloading torch-2.0.1-cp310-cp310-manylinux1_x86_64.whl (619.9 MB)\n",
      "\u001b[2K     \u001b[90m━━━━━━━━━━━━━━━━━━━━━━━━━━━━━━━━━━━━━━━\u001b[0m \u001b[32m619.9/619.9 MB\u001b[0m \u001b[31m1.4 MB/s\u001b[0m eta \u001b[36m0:00:00\u001b[0m00:01\u001b[0m00:01\u001b[0m\n",
      "\u001b[?25hRequirement already satisfied: pycparser in /home/ec2-user/anaconda3/envs/python3/lib/python3.10/site-packages (from cffi->fairseq) (2.21)\n",
      "Requirement already satisfied: MarkupSafe>=2.0 in /home/ec2-user/anaconda3/envs/python3/lib/python3.10/site-packages (from jinja2->torch) (2.1.2)\n",
      "Requirement already satisfied: mpmath>=0.19 in /home/ec2-user/anaconda3/envs/python3/lib/python3.10/site-packages (from sympy->torch) (1.3.0)\n",
      "Building wheels for collected packages: fairseq, antlr4-python3-runtime\n",
      "  Building wheel for fairseq (pyproject.toml) ... \u001b[?25ldone\n",
      "\u001b[?25h  Created wheel for fairseq: filename=fairseq-0.12.2-cp310-cp310-linux_x86_64.whl size=10390748 sha256=f625da1ad7846c14385550c4d0b12ea5443bc2d5fd735a9dfc9c0e8d5e2d2216\n",
      "  Stored in directory: /home/ec2-user/.cache/pip/wheels/e4/35/55/9c66f65ec7c83fd6fbc2b9502a0ac81b2448a1196159dacc32\n",
      "  Building wheel for antlr4-python3-runtime (setup.py) ... \u001b[?25ldone\n",
      "\u001b[?25h  Created wheel for antlr4-python3-runtime: filename=antlr4_python3_runtime-4.8-py3-none-any.whl size=141210 sha256=c8ba8c4aa17abe1e655b51ecca3c5b6e1b2c380b6207ece8aafa80dddbd892db\n",
      "  Stored in directory: /home/ec2-user/.cache/pip/wheels/a7/20/bd/e1477d664f22d99989fd28ee1a43d6633dddb5cb9e801350d5\n",
      "Successfully built fairseq antlr4-python3-runtime\n",
      "Installing collected packages: antlr4-python3-runtime, tabulate, portalocker, omegaconf, lxml, sacrebleu, hydra-core, torch, torchaudio, fairseq\n",
      "  Attempting uninstall: torch\n",
      "    Found existing installation: torch 2.0.0\n",
      "    Uninstalling torch-2.0.0:\n",
      "      Successfully uninstalled torch-2.0.0\n",
      "Successfully installed antlr4-python3-runtime-4.8 fairseq-0.12.2 hydra-core-1.0.7 lxml-4.9.3 omegaconf-2.0.6 portalocker-2.7.0 sacrebleu-2.3.1 tabulate-0.9.0 torch-2.0.1 torchaudio-2.0.2\n"
     ]
    }
   ],
   "source": [
    "!pip install torch fairseq"
   ]
  },
  {
   "cell_type": "code",
   "execution_count": 23,
   "metadata": {
    "collapsed": true
   },
   "outputs": [
    {
     "name": "stdout",
     "output_type": "stream",
     "text": [
      "Looking in indexes: https://pypi.org/simple, https://pip.repos.neuron.amazonaws.com\n",
      "Looking in links: https://download.pytorch.org/whl/cu110/torch_stable.html\n",
      "Collecting torch==2.0.0\n",
      "  Using cached torch-2.0.0-cp310-cp310-manylinux1_x86_64.whl (619.9 MB)\n",
      "Requirement already satisfied: filelock in /home/ec2-user/anaconda3/envs/python3/lib/python3.10/site-packages (from torch==2.0.0) (3.12.0)\n",
      "Requirement already satisfied: typing-extensions in /home/ec2-user/anaconda3/envs/python3/lib/python3.10/site-packages (from torch==2.0.0) (4.5.0)\n",
      "Requirement already satisfied: sympy in /home/ec2-user/anaconda3/envs/python3/lib/python3.10/site-packages (from torch==2.0.0) (1.11.1)\n",
      "Requirement already satisfied: networkx in /home/ec2-user/anaconda3/envs/python3/lib/python3.10/site-packages (from torch==2.0.0) (3.1)\n",
      "Requirement already satisfied: jinja2 in /home/ec2-user/anaconda3/envs/python3/lib/python3.10/site-packages (from torch==2.0.0) (3.1.2)\n",
      "Requirement already satisfied: nvidia-cuda-nvrtc-cu11==11.7.99 in /home/ec2-user/anaconda3/envs/python3/lib/python3.10/site-packages (from torch==2.0.0) (11.7.99)\n",
      "Requirement already satisfied: nvidia-cuda-runtime-cu11==11.7.99 in /home/ec2-user/anaconda3/envs/python3/lib/python3.10/site-packages (from torch==2.0.0) (11.7.99)\n",
      "Requirement already satisfied: nvidia-cuda-cupti-cu11==11.7.101 in /home/ec2-user/anaconda3/envs/python3/lib/python3.10/site-packages (from torch==2.0.0) (11.7.101)\n",
      "Requirement already satisfied: nvidia-cudnn-cu11==8.5.0.96 in /home/ec2-user/anaconda3/envs/python3/lib/python3.10/site-packages (from torch==2.0.0) (8.5.0.96)\n",
      "Requirement already satisfied: nvidia-cublas-cu11==11.10.3.66 in /home/ec2-user/anaconda3/envs/python3/lib/python3.10/site-packages (from torch==2.0.0) (11.10.3.66)\n",
      "Requirement already satisfied: nvidia-cufft-cu11==10.9.0.58 in /home/ec2-user/anaconda3/envs/python3/lib/python3.10/site-packages (from torch==2.0.0) (10.9.0.58)\n",
      "Requirement already satisfied: nvidia-curand-cu11==10.2.10.91 in /home/ec2-user/anaconda3/envs/python3/lib/python3.10/site-packages (from torch==2.0.0) (10.2.10.91)\n",
      "Requirement already satisfied: nvidia-cusolver-cu11==11.4.0.1 in /home/ec2-user/anaconda3/envs/python3/lib/python3.10/site-packages (from torch==2.0.0) (11.4.0.1)\n",
      "Requirement already satisfied: nvidia-cusparse-cu11==11.7.4.91 in /home/ec2-user/anaconda3/envs/python3/lib/python3.10/site-packages (from torch==2.0.0) (11.7.4.91)\n",
      "Requirement already satisfied: nvidia-nccl-cu11==2.14.3 in /home/ec2-user/anaconda3/envs/python3/lib/python3.10/site-packages (from torch==2.0.0) (2.14.3)\n",
      "Requirement already satisfied: nvidia-nvtx-cu11==11.7.91 in /home/ec2-user/anaconda3/envs/python3/lib/python3.10/site-packages (from torch==2.0.0) (11.7.91)\n",
      "Requirement already satisfied: triton==2.0.0 in /home/ec2-user/anaconda3/envs/python3/lib/python3.10/site-packages (from torch==2.0.0) (2.0.0)\n",
      "Requirement already satisfied: setuptools in /home/ec2-user/anaconda3/envs/python3/lib/python3.10/site-packages (from nvidia-cublas-cu11==11.10.3.66->torch==2.0.0) (67.7.2)\n",
      "Requirement already satisfied: wheel in /home/ec2-user/anaconda3/envs/python3/lib/python3.10/site-packages (from nvidia-cublas-cu11==11.10.3.66->torch==2.0.0) (0.40.0)\n",
      "Requirement already satisfied: cmake in /home/ec2-user/anaconda3/envs/python3/lib/python3.10/site-packages (from triton==2.0.0->torch==2.0.0) (3.27.2)\n",
      "Requirement already satisfied: lit in /home/ec2-user/anaconda3/envs/python3/lib/python3.10/site-packages (from triton==2.0.0->torch==2.0.0) (16.0.6)\n",
      "Requirement already satisfied: MarkupSafe>=2.0 in /home/ec2-user/anaconda3/envs/python3/lib/python3.10/site-packages (from jinja2->torch==2.0.0) (2.1.2)\n",
      "Requirement already satisfied: mpmath>=0.19 in /home/ec2-user/anaconda3/envs/python3/lib/python3.10/site-packages (from sympy->torch==2.0.0) (1.3.0)\n",
      "Installing collected packages: torch\n",
      "  Attempting uninstall: torch\n",
      "    Found existing installation: torch 2.0.1\n",
      "    Uninstalling torch-2.0.1:\n",
      "      Successfully uninstalled torch-2.0.1\n",
      "\u001b[31mERROR: pip's dependency resolver does not currently take into account all the packages that are installed. This behaviour is the source of the following dependency conflicts.\n",
      "torchaudio 2.0.2 requires torch==2.0.1, but you have torch 2.0.0 which is incompatible.\u001b[0m\u001b[31m\n",
      "\u001b[0mSuccessfully installed torch-2.0.0\n"
     ]
    }
   ],
   "source": [
    "!pip install torch==2.0.0 -f https://download.pytorch.org/whl/cu110/torch_stable.html"
   ]
  },
  {
   "cell_type": "code",
   "execution_count": 24,
   "metadata": {
    "collapsed": true
   },
   "outputs": [
    {
     "name": "stdout",
     "output_type": "stream",
     "text": [
      "--2023-08-20 16:24:29--  https://dl.fbaipublicfiles.com/fair-esm/models/esm1b_t33_650M_UR50S.pt\n",
      "Resolving dl.fbaipublicfiles.com (dl.fbaipublicfiles.com)... 18.165.83.79, 18.165.83.35, 18.165.83.44, ...\n",
      "Connecting to dl.fbaipublicfiles.com (dl.fbaipublicfiles.com)|18.165.83.79|:443... connected.\n",
      "HTTP request sent, awaiting response... 416 Requested Range Not Satisfiable\n",
      "\n",
      "    The file is already fully retrieved; nothing to do.\n",
      "\n"
     ]
    }
   ],
   "source": [
    "!wget -c https://dl.fbaipublicfiles.com/fair-esm/models/esm1b_t33_650M_UR50S.pt"
   ]
  },
  {
   "cell_type": "code",
   "execution_count": 25,
   "metadata": {},
   "outputs": [
    {
     "name": "stdout",
     "output_type": "stream",
     "text": [
      "Looking in indexes: https://pypi.org/simple, https://pip.repos.neuron.amazonaws.com\n",
      "Collecting fair-esm\n",
      "  Downloading fair_esm-2.0.0-py3-none-any.whl (93 kB)\n",
      "\u001b[2K     \u001b[90m━━━━━━━━━━━━━━━━━━━━━━━━━━━━━━━━━━━━━━━━\u001b[0m \u001b[32m93.1/93.1 kB\u001b[0m \u001b[31m1.9 MB/s\u001b[0m eta \u001b[36m0:00:00\u001b[0m:00:01\u001b[0m\n",
      "\u001b[?25hInstalling collected packages: fair-esm\n",
      "Successfully installed fair-esm-2.0.0\n"
     ]
    }
   ],
   "source": [
    "!pip install fair-esm"
   ]
  },
  {
   "cell_type": "code",
   "execution_count": 14,
   "metadata": {},
   "outputs": [],
   "source": [
    "data        = {}\n",
    "prot_labels = list(train_fasta_dict.values())\n",
    "for index in range(len(protein_train_labels)):\n",
    "    data[protein_train_labels[index]] = prot_labels[index]\n",
    "    \n",
    "data        = list(data.items())"
   ]
  },
  {
   "cell_type": "code",
   "execution_count": 16,
   "metadata": {},
   "outputs": [
    {
     "ename": "KeyboardInterrupt",
     "evalue": "",
     "output_type": "error",
     "traceback": [
      "\u001b[0;31m---------------------------------------------------------------------------\u001b[0m",
      "\u001b[0;31mKeyboardInterrupt\u001b[0m                         Traceback (most recent call last)",
      "    \u001b[0;31m[... skipping hidden 1 frame]\u001b[0m\n",
      "Cell \u001b[0;32mIn[16], line 9\u001b[0m\n\u001b[1;32m      8\u001b[0m \u001b[38;5;66;03m# Convert sequences to model input\u001b[39;00m\n\u001b[0;32m----> 9\u001b[0m batch_labels, batch_strs, batch_tokens \u001b[38;5;241m=\u001b[39m \u001b[43mbatch_converter\u001b[49m\u001b[43m(\u001b[49m\u001b[43mdata\u001b[49m\u001b[43m)\u001b[49m\n\u001b[1;32m     11\u001b[0m \u001b[38;5;66;03m# Get embeddings\u001b[39;00m\n",
      "File \u001b[0;32m~/anaconda3/envs/python3/lib/python3.10/site-packages/esm/data.py:266\u001b[0m, in \u001b[0;36mBatchConverter.__call__\u001b[0;34m(self, raw_batch)\u001b[0m\n\u001b[1;32m    265\u001b[0m batch_labels, seq_str_list \u001b[38;5;241m=\u001b[39m \u001b[38;5;28mzip\u001b[39m(\u001b[38;5;241m*\u001b[39mraw_batch)\n\u001b[0;32m--> 266\u001b[0m seq_encoded_list \u001b[38;5;241m=\u001b[39m [\u001b[38;5;28mself\u001b[39m\u001b[38;5;241m.\u001b[39malphabet\u001b[38;5;241m.\u001b[39mencode(seq_str) \u001b[38;5;28;01mfor\u001b[39;00m seq_str \u001b[38;5;129;01min\u001b[39;00m seq_str_list]\n\u001b[1;32m    267\u001b[0m \u001b[38;5;28;01mif\u001b[39;00m \u001b[38;5;28mself\u001b[39m\u001b[38;5;241m.\u001b[39mtruncation_seq_length:\n",
      "File \u001b[0;32m~/anaconda3/envs/python3/lib/python3.10/site-packages/esm/data.py:266\u001b[0m, in \u001b[0;36m<listcomp>\u001b[0;34m(.0)\u001b[0m\n\u001b[1;32m    265\u001b[0m batch_labels, seq_str_list \u001b[38;5;241m=\u001b[39m \u001b[38;5;28mzip\u001b[39m(\u001b[38;5;241m*\u001b[39mraw_batch)\n\u001b[0;32m--> 266\u001b[0m seq_encoded_list \u001b[38;5;241m=\u001b[39m [\u001b[38;5;28;43mself\u001b[39;49m\u001b[38;5;241;43m.\u001b[39;49m\u001b[43malphabet\u001b[49m\u001b[38;5;241;43m.\u001b[39;49m\u001b[43mencode\u001b[49m\u001b[43m(\u001b[49m\u001b[43mseq_str\u001b[49m\u001b[43m)\u001b[49m \u001b[38;5;28;01mfor\u001b[39;00m seq_str \u001b[38;5;129;01min\u001b[39;00m seq_str_list]\n\u001b[1;32m    267\u001b[0m \u001b[38;5;28;01mif\u001b[39;00m \u001b[38;5;28mself\u001b[39m\u001b[38;5;241m.\u001b[39mtruncation_seq_length:\n",
      "File \u001b[0;32m~/anaconda3/envs/python3/lib/python3.10/site-packages/esm/data.py:250\u001b[0m, in \u001b[0;36mAlphabet.encode\u001b[0;34m(self, text)\u001b[0m\n\u001b[1;32m    249\u001b[0m \u001b[38;5;28;01mdef\u001b[39;00m \u001b[38;5;21mencode\u001b[39m(\u001b[38;5;28mself\u001b[39m, text):\n\u001b[0;32m--> 250\u001b[0m     \u001b[38;5;28;01mreturn\u001b[39;00m [\u001b[38;5;28mself\u001b[39m\u001b[38;5;241m.\u001b[39mtok_to_idx[tok] \u001b[38;5;28;01mfor\u001b[39;00m tok \u001b[38;5;129;01min\u001b[39;00m \u001b[38;5;28;43mself\u001b[39;49m\u001b[38;5;241;43m.\u001b[39;49m\u001b[43mtokenize\u001b[49m\u001b[43m(\u001b[49m\u001b[43mtext\u001b[49m\u001b[43m)\u001b[49m]\n",
      "File \u001b[0;32m~/anaconda3/envs/python3/lib/python3.10/site-packages/esm/data.py:246\u001b[0m, in \u001b[0;36mAlphabet.tokenize\u001b[0;34m(self, text, **kwargs)\u001b[0m\n\u001b[1;32m    245\u001b[0m no_split_token \u001b[38;5;241m=\u001b[39m \u001b[38;5;28mself\u001b[39m\u001b[38;5;241m.\u001b[39munique_no_split_tokens\n\u001b[0;32m--> 246\u001b[0m tokenized_text \u001b[38;5;241m=\u001b[39m \u001b[43msplit_on_tokens\u001b[49m\u001b[43m(\u001b[49m\u001b[43mno_split_token\u001b[49m\u001b[43m,\u001b[49m\u001b[43m \u001b[49m\u001b[43mtext\u001b[49m\u001b[43m)\u001b[49m\n\u001b[1;32m    247\u001b[0m \u001b[38;5;28;01mreturn\u001b[39;00m tokenized_text\n",
      "File \u001b[0;32m~/anaconda3/envs/python3/lib/python3.10/site-packages/esm/data.py:234\u001b[0m, in \u001b[0;36mAlphabet.tokenize.<locals>.split_on_tokens\u001b[0;34m(tok_list, text)\u001b[0m\n\u001b[1;32m    232\u001b[0m     text_list \u001b[38;5;241m=\u001b[39m tokenized_text\n\u001b[0;32m--> 234\u001b[0m \u001b[38;5;28;01mreturn\u001b[39;00m \u001b[38;5;28;43mlist\u001b[39;49m\u001b[43m(\u001b[49m\n\u001b[1;32m    235\u001b[0m \u001b[43m    \u001b[49m\u001b[43mitertools\u001b[49m\u001b[38;5;241;43m.\u001b[39;49m\u001b[43mchain\u001b[49m\u001b[38;5;241;43m.\u001b[39;49m\u001b[43mfrom_iterable\u001b[49m\u001b[43m(\u001b[49m\n\u001b[1;32m    236\u001b[0m \u001b[43m        \u001b[49m\u001b[43m(\u001b[49m\n\u001b[1;32m    237\u001b[0m \u001b[43m            \u001b[49m\u001b[38;5;28;43mself\u001b[39;49m\u001b[38;5;241;43m.\u001b[39;49m\u001b[43m_tokenize\u001b[49m\u001b[43m(\u001b[49m\u001b[43mtoken\u001b[49m\u001b[43m)\u001b[49m\n\u001b[1;32m    238\u001b[0m \u001b[43m            \u001b[49m\u001b[38;5;28;43;01mif\u001b[39;49;00m\u001b[43m \u001b[49m\u001b[43mtoken\u001b[49m\u001b[43m \u001b[49m\u001b[38;5;129;43;01mnot\u001b[39;49;00m\u001b[43m \u001b[49m\u001b[38;5;129;43;01min\u001b[39;49;00m\u001b[43m \u001b[49m\u001b[38;5;28;43mself\u001b[39;49m\u001b[38;5;241;43m.\u001b[39;49m\u001b[43munique_no_split_tokens\u001b[49m\n\u001b[1;32m    239\u001b[0m \u001b[43m            \u001b[49m\u001b[38;5;28;43;01melse\u001b[39;49;00m\u001b[43m \u001b[49m\u001b[43m[\u001b[49m\u001b[43mtoken\u001b[49m\u001b[43m]\u001b[49m\n\u001b[1;32m    240\u001b[0m \u001b[43m            \u001b[49m\u001b[38;5;28;43;01mfor\u001b[39;49;00m\u001b[43m \u001b[49m\u001b[43mtoken\u001b[49m\u001b[43m \u001b[49m\u001b[38;5;129;43;01min\u001b[39;49;00m\u001b[43m \u001b[49m\u001b[43mtokenized_text\u001b[49m\n\u001b[1;32m    241\u001b[0m \u001b[43m        \u001b[49m\u001b[43m)\u001b[49m\n\u001b[1;32m    242\u001b[0m \u001b[43m    \u001b[49m\u001b[43m)\u001b[49m\n\u001b[1;32m    243\u001b[0m \u001b[43m\u001b[49m\u001b[43m)\u001b[49m\n",
      "File \u001b[0;32m~/anaconda3/envs/python3/lib/python3.10/site-packages/esm/data.py:236\u001b[0m, in \u001b[0;36m<genexpr>\u001b[0;34m(.0)\u001b[0m\n\u001b[1;32m    232\u001b[0m     text_list \u001b[38;5;241m=\u001b[39m tokenized_text\n\u001b[1;32m    234\u001b[0m \u001b[38;5;28;01mreturn\u001b[39;00m \u001b[38;5;28mlist\u001b[39m(\n\u001b[1;32m    235\u001b[0m     itertools\u001b[38;5;241m.\u001b[39mchain\u001b[38;5;241m.\u001b[39mfrom_iterable(\n\u001b[0;32m--> 236\u001b[0m         (\n\u001b[1;32m    237\u001b[0m             \u001b[38;5;28mself\u001b[39m\u001b[38;5;241m.\u001b[39m_tokenize(token)\n\u001b[1;32m    238\u001b[0m             \u001b[38;5;28;01mif\u001b[39;00m token \u001b[38;5;129;01mnot\u001b[39;00m \u001b[38;5;129;01min\u001b[39;00m \u001b[38;5;28mself\u001b[39m\u001b[38;5;241m.\u001b[39munique_no_split_tokens\n\u001b[1;32m    239\u001b[0m             \u001b[38;5;28;01melse\u001b[39;00m [token]\n\u001b[1;32m    240\u001b[0m             \u001b[38;5;28;01mfor\u001b[39;00m token \u001b[38;5;129;01min\u001b[39;00m tokenized_text\n\u001b[1;32m    241\u001b[0m         )\n\u001b[1;32m    242\u001b[0m     )\n\u001b[1;32m    243\u001b[0m )\n",
      "\u001b[0;31mKeyboardInterrupt\u001b[0m: ",
      "\nDuring handling of the above exception, another exception occurred:\n",
      "\u001b[0;31mKeyboardInterrupt\u001b[0m                         Traceback (most recent call last)",
      "\u001b[0;31mKeyboardInterrupt\u001b[0m: "
     ]
    }
   ],
   "source": [
    "import torch\n",
    "import esm\n",
    "\n",
    "# Load ESM-1b model\n",
    "model, alphabet = esm.pretrained.esm1b_t33_650M_UR50S()\n",
    "batch_converter = alphabet.get_batch_converter()\n",
    "\n",
    "# Convert sequences to model input\n",
    "batch_labels, batch_strs, batch_tokens = batch_converter(data)\n",
    "\n",
    "# Get embeddings\n",
    "all_results = []\n",
    "bar                = progressbar.ProgressBar(maxval=len(data), \\\n",
    "widgets            = [progressbar.Bar('=', '[', ']'), ' ', progressbar.Percentage()])\n",
    "bar.start()\n",
    "counter            = 0 \n",
    "with torch.no_grad():\n",
    "    \n",
    "    \n",
    "    results = model(batch_tokens, repr_layers=[33], return_contacts=False)\n",
    "    all_results.append(results)\n",
    "    \n",
    "    coun\n",
    "    bar.update(counter+1)\n",
    "\n",
    "    # Notify the end of progress bar \n",
    "bar.finish()\n",
    "    \n",
    "    \n",
    "# Extract the representation from layer 33 for the first protein\n",
    "token_representations = results[\"representations\"][33]\n"
   ]
  },
  {
   "cell_type": "code",
   "execution_count": null,
   "metadata": {},
   "outputs": [],
   "source": [
    "import tensorflow as tf\n",
    "\n",
    "# input_dim     = [x_train.shape[1]]   # 8000 Biological Work Combinations 20^3 (20 Aminos) + OOV + IDK\n",
    "embedding_dim = 16\n",
    "\n",
    "input_dim     = (x_train.shape[1],)\n",
    "\n",
    "model = tf.keras.Sequential([\n",
    "    tf.keras.layers.BatchNormalization(input_shape=input_dim),    \n",
    "    tf.keras.layers.Dense(units=64, activation='relu'),\n",
    "#     tf.keras.layers.Dropout(0.7),\n",
    "    tf.keras.layers.Dense(units = 32, activation = 'relu'),\n",
    "#     tf.keras.layers.Dense(units=64, activation='relu'),\n",
    "#     tf.keras.layers.Dropout(0.7),\n",
    "    tf.keras.layers.Dense(units=num_of_labels, activation='sigmoid')\n",
    "])\n",
    "\n",
    "\n",
    "# model = tf.keras.Sequential([\n",
    "#     # Start with 1D Convolutional layers\n",
    "#     tf.keras.layers.Lambda(lambda x: tf.expand_dims(x, axis=-1), input_shape=input_dim),\n",
    "#     tf.keras.layers.Conv1D(64, kernel_size=5, activation='relu'),\n",
    "#     tf.keras.layers.MaxPooling1D(pool_size=2),\n",
    "    \n",
    "#     tf.keras.layers.Conv1D(64, kernel_size=5, activation='relu'),\n",
    "#     tf.keras.layers.MaxPooling1D(pool_size=2),\n",
    "\n",
    "#     # Flattening the 1D convolutional output to feed it to dense layers\n",
    "#     tf.keras.layers.Flatten(),\n",
    "    \n",
    "#     # Follow with Dense layers as per your original design\n",
    "#     tf.keras.layers.Dense(units=128, activation='relu'),\n",
    "#     tf.keras.layers.Dropout(0.25),\n",
    "#     tf.keras.layers.Dense(units=64, activation='relu'),\n",
    "#     tf.keras.layers.Dropout(0.25),\n",
    "#     tf.keras.layers.Dense(units=num_of_labels, activation='sigmoid')\n",
    "# ])\n",
    "\n",
    "\n",
    "optimizer               = tf.keras.optimizers.Adam(learning_rate = 0.00005)\n",
    "model.compile(optimizer = optimizer, loss = 'binary_crossentropy', metrics = ['accuracy'])\n",
    "model.build()\n",
    "model.summary()"
   ]
  },
  {
   "cell_type": "code",
   "execution_count": null,
   "metadata": {},
   "outputs": [],
   "source": [
    "from tensorflow.keras.layers import Conv1D, BatchNormalization, Activation, Add, Dropout, Flatten, Dense\n",
    "from tensorflow.keras.models       import Model\n",
    "from tensorflow.keras.regularizers import l2\n",
    "from tensorflow.keras.callbacks    import EarlyStopping\n",
    "\n",
    "def residual_block(data, filters, d_rate):\n",
    "\n",
    "    shortcut = data\n",
    "\n",
    "    bn1 = tf.keras.layers.BatchNormalization()(data)\n",
    "    act1 = Activation('relu')(bn1)\n",
    "    conv1 = Conv1D(filters, 1, dilation_rate=d_rate, padding='same', kernel_regularizer=l2(0.001))(act1)\n",
    "\n",
    "    #bottleneck convolution\n",
    "    bn2 = BatchNormalization()(conv1)\n",
    "    act2 = Activation('relu')(bn2)\n",
    "    conv2 = Conv1D(filters, 3, padding='same', kernel_regularizer=l2(0.001))(act2)\n",
    "\n",
    "    #skip connection\n",
    "    x = Add()([conv2, shortcut])\n",
    "\n",
    "    return x"
   ]
  },
  {
   "cell_type": "code",
   "execution_count": null,
   "metadata": {},
   "outputs": [],
   "source": [
    "x_input = tf.keras.layers.Input(shape=(x_train.shape[1],1))\n",
    "\n",
    "#initial conv\n",
    "conv = tf.keras.layers.Conv1D(64, 1, padding='same')(x_input) \n",
    "\n",
    "# per-residue representation\n",
    "res1 = residual_block(conv, 64, 2)\n",
    "res2 = residual_block(res1, 64, 3)\n",
    "\n",
    "x    = tf.keras.layers.MaxPooling1D(3)(res2)\n",
    "x    = Dropout(0.5)(x)\n",
    "\n",
    "# softmax classifier\n",
    "x    = Flatten()(x)\n",
    "x_output = Dense(1500, activation='sigmoid', kernel_regularizer=l2(0.0001))(x)\n",
    "\n",
    "model_CNN = Model(inputs=x_input, outputs=x_output)\n",
    "model_CNN.compile(optimizer='adam', loss='binary_crossentropy', metrics=['binary_accuracy'])\n",
    "\n",
    "model_CNN.summary()"
   ]
  },
  {
   "cell_type": "code",
   "execution_count": null,
   "metadata": {},
   "outputs": [],
   "source": [
    "es = EarlyStopping(monitor='val_loss', patience=3, verbose=1)\n",
    "\n",
    "history = model_CNN.fit(\n",
    "    x_train, np.array(train_labels),\n",
    "    epochs=10, batch_size=64,\n",
    "    validation_split = 0.2,\n",
    "    callbacks=[es]\n",
    "    )"
   ]
  },
  {
   "cell_type": "code",
   "execution_count": null,
   "metadata": {},
   "outputs": [],
   "source": [
    "# @remote(instance_type=\"ml.g4dn.xlarge\") # Decorator to Use Differnet Instance\n",
    "def train_nueral_net():\n",
    "    epochs             = 20\n",
    "    batch_size         = 32\n",
    "\n",
    "    history            = model.fit(x_train, np.array(train_labels), epochs = epochs, \\\n",
    "                         batch_size = batch_size, validation_split = 0.2, verbose = 1)\n",
    "    \n",
    "    return history, model\n",
    "\n",
    "# history, model = train_nueral_net()"
   ]
  },
  {
   "cell_type": "code",
   "execution_count": null,
   "metadata": {},
   "outputs": [],
   "source": [
    "x_train.shape"
   ]
  },
  {
   "cell_type": "code",
   "execution_count": null,
   "metadata": {},
   "outputs": [],
   "source": [
    "train_labels"
   ]
  },
  {
   "cell_type": "code",
   "execution_count": null,
   "metadata": {},
   "outputs": [],
   "source": [
    "pd_pred"
   ]
  },
  {
   "cell_type": "code",
   "execution_count": null,
   "metadata": {},
   "outputs": [],
   "source": [
    "pd_pred = pd.DataFrame(predictions)\n",
    "pd_pred[2].describe()"
   ]
  },
  {
   "cell_type": "code",
   "execution_count": null,
   "metadata": {},
   "outputs": [],
   "source": [
    "predictions        =  model.predict(x_test)\n",
    "y_test             =  np.array(test_labels)\n",
    "\n",
    "# scores_matrix      = np.zeros(shape = (predictions.shape[0], predictions.shape[1]))\n",
    "# scores_per_protein = np.zeros(shape = (predictions.shape[0]))\n",
    "\n",
    "# bar                = progressbar.ProgressBar(maxval=predictions.shape[0], \\\n",
    "# widgets            = [progressbar.Bar('=', '[', ']'), ' ', progressbar.Percentage()])\n",
    "# bar.start()\n",
    "\n",
    "# for pred in range(predictions.shape[0]-1):\n",
    "#     for item in range(predictions.shape[1]):\n",
    "        \n",
    "#         equality = (y_test[pred][item] == predictions[pred][item])\n",
    "#         scores_matrix[pred][item] = equality\n",
    "\n",
    "#     total_entries = scores_matrix.shape[1]\n",
    "#     total_correct = np.count_nonzero(scores_matrix[pred])\n",
    "#     accuracy      = total_correct / total_entries\n",
    "\n",
    "#     scores_per_protein[pred] = accuracy\n",
    "#     bar.update(pred+1)\n",
    "\n",
    "# # Notify the end of progress bar \n",
    "# bar.finish()\n"
   ]
  },
  {
   "cell_type": "code",
   "execution_count": null,
   "metadata": {},
   "outputs": [],
   "source": [
    "# @remote(instance_type=\"ml.r5.2xlarge\") # Decorator to Use Differnet Instance\n",
    "def create_submission_df():\n",
    "    \n",
    "    GO_labels           = train_terms['term'].value_counts().index[:num_of_labels].tolist()\n",
    "\n",
    "    predictions_df      = pd.DataFrame(predictions[:-1], index=protein_test_labels, columns=GO_labels)\n",
    "    final_submission_df = predictions_df.reset_index().melt(id_vars='index', var_name='GO_labels', value_name='predictions')\n",
    "    \n",
    "#     final_submission_df   = pd.DataFrame()\n",
    "#     predictions_df = pd.DataFrame(predictions[:-1], index = protein_test_labels, columns = GO_labels)\n",
    "    \n",
    "#     for index in predictions_df.index:\n",
    "#         final_submission_df = pd.concat([final_submission_df, predictions_df.loc[index]])\n",
    "    \n",
    "    return final_submission_df\n",
    "\n",
    "submission = create_submission_df()"
   ]
  },
  {
   "cell_type": "code",
   "execution_count": null,
   "metadata": {},
   "outputs": [],
   "source": [
    "# unique_proteins = submission['index'].unique()"
   ]
  },
  {
   "cell_type": "code",
   "execution_count": null,
   "metadata": {},
   "outputs": [],
   "source": [
    "# sort_submission = pd.DataFrame()\n",
    "# sort_submission['']\n",
    "\n",
    "def sort_submission(submission):\n",
    "\n",
    "    submission   = submission.sort_values(by = 'index')\n",
    "        \n",
    "    return submission\n",
    "\n",
    "\n",
    "sorted_submission = sort_submission(submission)\n"
   ]
  },
  {
   "cell_type": "code",
   "execution_count": null,
   "metadata": {
    "scrolled": true
   },
   "outputs": [],
   "source": [
    "sorted_submission.to_hdf('submission_draft.h5', key = 'data')"
   ]
  },
  {
   "cell_type": "code",
   "execution_count": null,
   "metadata": {},
   "outputs": [],
   "source": [
    "sorted_submission = pd.read_hdf('submission_draft.h5', key = 'data')"
   ]
  },
  {
   "cell_type": "code",
   "execution_count": null,
   "metadata": {},
   "outputs": [],
   "source": [
    "sorted_submission.to_csv('submission.tsv', sep = '\\t')"
   ]
  },
  {
   "cell_type": "code",
   "execution_count": null,
   "metadata": {},
   "outputs": [],
   "source": [
    "def upload_s3_file(file_name):\n",
    "    \n",
    "    file_name = file_name\n",
    "    \n",
    "    return\n",
    "\n",
    "s3        = boto3.resource('s3')\n",
    "# file_name = 't5embeds.zip'\n",
    "# y_train   = 'labels_df.pckl'\n",
    "s3.meta.client.upload_file('submission.tsv', bucket_name, 'submission.tsv')\n",
    "# s3.meta.client.upload_file('labels_df.h5',   bucket_name, 'labels_df.h5')\n",
    "\n",
    "# s3.meta.client.upload_file('train_labels.h5', bucket_name, 'train_labels.h5')\n",
    "# s3.meta.client.upload_file('test_labels.h5', bucket_name, 'test_labels.h5')"
   ]
  },
  {
   "cell_type": "code",
   "execution_count": null,
   "metadata": {},
   "outputs": [],
   "source": [
    "pd.Series(scores_per_protein).plot(kind = 'box')"
   ]
  },
  {
   "cell_type": "markdown",
   "metadata": {
    "id": "tXT3GDC_W6IL"
   },
   "source": [
    "# Protein-Bert Model Creation\n",
    "\n",
    "---\n",
    "1. Need to tokenize amino acids (0-19).\n",
    "\n"
   ]
  },
  {
   "cell_type": "code",
   "execution_count": null,
   "metadata": {
    "id": "a5-1ek1hyXmo",
    "jupyter": {
     "outputs_hidden": true
    },
    "tags": []
   },
   "outputs": [],
   "source": [
    "!pip install protein-bert"
   ]
  },
  {
   "cell_type": "code",
   "execution_count": null,
   "metadata": {
    "id": "SzwRzoJ0XEio",
    "tags": []
   },
   "outputs": [],
   "source": [
    "from tensorflow import keras\n",
    "from sklearn.model_selection import train_test_split\n",
    "from proteinbert import OutputType, OutputSpec, FinetuningModelGenerator, load_pretrained_model, finetune, evaluate_by_len\n",
    "from proteinbert.conv_and_global_attention_model import get_model_with_hidden_layers_as_outputs"
   ]
  },
  {
   "cell_type": "markdown",
   "metadata": {
    "id": "ajiby-fKc-jl"
   },
   "source": [
    "**Pre Trained Model Weights**"
   ]
  },
  {
   "cell_type": "code",
   "execution_count": null,
   "metadata": {
    "colab": {
     "base_uri": "https://localhost:8080/"
    },
    "id": "Rc7wndodc4Mo",
    "jupyter": {
     "outputs_hidden": true
    },
    "outputId": "05b13017-3cb9-4b15-bc43-7d5db06072ad",
    "tags": []
   },
   "outputs": [],
   "source": [
    "!wget ftp://ftp.cs.huji.ac.il/users/nadavb/protein_bert/epoch_92400_sample_23500000.pkl"
   ]
  },
  {
   "cell_type": "markdown",
   "metadata": {
    "id": "7SdOBXuuFnU9"
   },
   "source": [
    "**Tokenize Each Amino Acid**"
   ]
  },
  {
   "cell_type": "code",
   "execution_count": null,
   "metadata": {
    "id": "DqflIxsADdsg",
    "tags": []
   },
   "outputs": [],
   "source": [
    "Amino_tokenizer  = Tokenizer(char_level = True)\n",
    "joined_sequences = list(train_fasta_dict.values())[0:10001]\n",
    "Amino_tokenizer.fit_on_texts(joined_sequences)"
   ]
  },
  {
   "cell_type": "markdown",
   "metadata": {
    "id": "8JmG7mGsdCjr"
   },
   "source": [
    "**Creating the Model**\n",
    "1. Protein Bert Takes in Amino Acids Seq as Input because the tokenizing has to match up with the original tokenization it was trained on\n",
    "2. The Output settings at the beginning must adjusted to the task"
   ]
  },
  {
   "cell_type": "code",
   "execution_count": null,
   "metadata": {
    "id": "2ayvgj6WX9VB"
   },
   "outputs": [],
   "source": [
    "BENCHMARK_NAME = 'signalP_binary'\n",
    "\n",
    "# A local (non-global) binary output\n",
    "OUTPUT_TYPE    = OutputType(False, 'categorical')  # Categorical Gene ONtologies\n",
    "UNIQUE_LABELS  = range(10001)                      # Tokenizer Terms 10001\n",
    "OUTPUT_SPEC    = OutputSpec(OUTPUT_TYPE, UNIQUE_LABELS)\n",
    "\n",
    "\n",
    "# train_set_file_path = os.path.join(BENCHMARKS_DIR, '%s.train.csv' % BENCHMARK_NAME)\n",
    "# train_set = pd.read_csv(train_set_file_path).dropna().drop_duplicates()\n",
    "x_train, x_val, y_train, y_val = train_test_split(joined_sequences, go_encoded, test_size = 0.15, random_state = 0)\n",
    "\n",
    "# test_set_file_path = os.path.join(BENCHMARKS_DIR, '%s.test.csv' % BENCHMARK_NAME)\n",
    "# test_set = pd.read_csv(test_set_file_path).dropna().drop_duplicates()\n",
    "\n",
    "# print(f'{len(train_set)} training set records, {len(valid_set)} validation set records, {len(test_set)} test set records.')\n",
    "\n",
    "\n",
    "# Loading the pre-trained model and fine-tuning it on the loaded dataset\n",
    "\n",
    "pretrained_model_generator, input_encoder = load_pretrained_model()\n",
    "\n",
    "# get_model_with_hidden_layers_as_outputs gives the model output access to the hidden layers (on top of the output)\n",
    "model_generator = FinetuningModelGenerator(pretrained_model_generator, OUTPUT_SPEC, pretraining_model_manipulation_function = \\\n",
    "        get_model_with_hidden_layers_as_outputs, dropout_rate = 0.5)\n",
    "\n",
    "training_callbacks = [\n",
    "    keras.callbacks.ReduceLROnPlateau(patience = 1, factor = 0.25, min_lr = 1e-05, verbose = 1),\n",
    "    keras.callbacks.EarlyStopping(patience = 2, restore_best_weights = True),\n",
    "]\n",
    "\n",
    "finetune(model_generator, input_encoder, OUTPUT_SPEC, x_train, y_train, x_val, y_val, \\\n",
    "        seq_len = 512, batch_size = 16, max_epochs_per_stage = 40, lr = 1e-04, begin_with_frozen_pretrained_layers = True, \\\n",
    "        lr_with_frozen_pretrained_layers = 1e-02, n_final_epochs = 1, final_seq_len = 1024, final_lr = 1e-05, callbacks = training_callbacks)\n",
    "\n",
    "\n"
   ]
  },
  {
   "cell_type": "code",
   "execution_count": null,
   "metadata": {
    "id": "tqox9E6dYio6"
   },
   "outputs": [],
   "source": [
    "# Evaluating the performance on the test-set\n",
    "\n",
    "results, confusion_matrix = evaluate_by_len(model_generator, input_encoder, OUTPUT_SPEC, test_fasta_dict, test_se, \\\n",
    "        start_seq_len = 512, start_batch_size = 32)\n",
    "\n",
    "print('Test-set performance:')\n",
    "display(results)\n",
    "\n",
    "print('Confusion matrix:')\n",
    "display(confusion_matrix)"
   ]
  }
 ],
 "metadata": {
  "accelerator": "GPU",
  "availableInstances": [
   {
    "_defaultOrder": 0,
    "_isFastLaunch": true,
    "category": "General purpose",
    "gpuNum": 0,
    "hideHardwareSpecs": false,
    "memoryGiB": 4,
    "name": "ml.t3.medium",
    "vcpuNum": 2
   },
   {
    "_defaultOrder": 1,
    "_isFastLaunch": false,
    "category": "General purpose",
    "gpuNum": 0,
    "hideHardwareSpecs": false,
    "memoryGiB": 8,
    "name": "ml.t3.large",
    "vcpuNum": 2
   },
   {
    "_defaultOrder": 2,
    "_isFastLaunch": false,
    "category": "General purpose",
    "gpuNum": 0,
    "hideHardwareSpecs": false,
    "memoryGiB": 16,
    "name": "ml.t3.xlarge",
    "vcpuNum": 4
   },
   {
    "_defaultOrder": 3,
    "_isFastLaunch": false,
    "category": "General purpose",
    "gpuNum": 0,
    "hideHardwareSpecs": false,
    "memoryGiB": 32,
    "name": "ml.t3.2xlarge",
    "vcpuNum": 8
   },
   {
    "_defaultOrder": 4,
    "_isFastLaunch": true,
    "category": "General purpose",
    "gpuNum": 0,
    "hideHardwareSpecs": false,
    "memoryGiB": 8,
    "name": "ml.m5.large",
    "vcpuNum": 2
   },
   {
    "_defaultOrder": 5,
    "_isFastLaunch": false,
    "category": "General purpose",
    "gpuNum": 0,
    "hideHardwareSpecs": false,
    "memoryGiB": 16,
    "name": "ml.m5.xlarge",
    "vcpuNum": 4
   },
   {
    "_defaultOrder": 6,
    "_isFastLaunch": false,
    "category": "General purpose",
    "gpuNum": 0,
    "hideHardwareSpecs": false,
    "memoryGiB": 32,
    "name": "ml.m5.2xlarge",
    "vcpuNum": 8
   },
   {
    "_defaultOrder": 7,
    "_isFastLaunch": false,
    "category": "General purpose",
    "gpuNum": 0,
    "hideHardwareSpecs": false,
    "memoryGiB": 64,
    "name": "ml.m5.4xlarge",
    "vcpuNum": 16
   },
   {
    "_defaultOrder": 8,
    "_isFastLaunch": false,
    "category": "General purpose",
    "gpuNum": 0,
    "hideHardwareSpecs": false,
    "memoryGiB": 128,
    "name": "ml.m5.8xlarge",
    "vcpuNum": 32
   },
   {
    "_defaultOrder": 9,
    "_isFastLaunch": false,
    "category": "General purpose",
    "gpuNum": 0,
    "hideHardwareSpecs": false,
    "memoryGiB": 192,
    "name": "ml.m5.12xlarge",
    "vcpuNum": 48
   },
   {
    "_defaultOrder": 10,
    "_isFastLaunch": false,
    "category": "General purpose",
    "gpuNum": 0,
    "hideHardwareSpecs": false,
    "memoryGiB": 256,
    "name": "ml.m5.16xlarge",
    "vcpuNum": 64
   },
   {
    "_defaultOrder": 11,
    "_isFastLaunch": false,
    "category": "General purpose",
    "gpuNum": 0,
    "hideHardwareSpecs": false,
    "memoryGiB": 384,
    "name": "ml.m5.24xlarge",
    "vcpuNum": 96
   },
   {
    "_defaultOrder": 12,
    "_isFastLaunch": false,
    "category": "General purpose",
    "gpuNum": 0,
    "hideHardwareSpecs": false,
    "memoryGiB": 8,
    "name": "ml.m5d.large",
    "vcpuNum": 2
   },
   {
    "_defaultOrder": 13,
    "_isFastLaunch": false,
    "category": "General purpose",
    "gpuNum": 0,
    "hideHardwareSpecs": false,
    "memoryGiB": 16,
    "name": "ml.m5d.xlarge",
    "vcpuNum": 4
   },
   {
    "_defaultOrder": 14,
    "_isFastLaunch": false,
    "category": "General purpose",
    "gpuNum": 0,
    "hideHardwareSpecs": false,
    "memoryGiB": 32,
    "name": "ml.m5d.2xlarge",
    "vcpuNum": 8
   },
   {
    "_defaultOrder": 15,
    "_isFastLaunch": false,
    "category": "General purpose",
    "gpuNum": 0,
    "hideHardwareSpecs": false,
    "memoryGiB": 64,
    "name": "ml.m5d.4xlarge",
    "vcpuNum": 16
   },
   {
    "_defaultOrder": 16,
    "_isFastLaunch": false,
    "category": "General purpose",
    "gpuNum": 0,
    "hideHardwareSpecs": false,
    "memoryGiB": 128,
    "name": "ml.m5d.8xlarge",
    "vcpuNum": 32
   },
   {
    "_defaultOrder": 17,
    "_isFastLaunch": false,
    "category": "General purpose",
    "gpuNum": 0,
    "hideHardwareSpecs": false,
    "memoryGiB": 192,
    "name": "ml.m5d.12xlarge",
    "vcpuNum": 48
   },
   {
    "_defaultOrder": 18,
    "_isFastLaunch": false,
    "category": "General purpose",
    "gpuNum": 0,
    "hideHardwareSpecs": false,
    "memoryGiB": 256,
    "name": "ml.m5d.16xlarge",
    "vcpuNum": 64
   },
   {
    "_defaultOrder": 19,
    "_isFastLaunch": false,
    "category": "General purpose",
    "gpuNum": 0,
    "hideHardwareSpecs": false,
    "memoryGiB": 384,
    "name": "ml.m5d.24xlarge",
    "vcpuNum": 96
   },
   {
    "_defaultOrder": 20,
    "_isFastLaunch": false,
    "category": "General purpose",
    "gpuNum": 0,
    "hideHardwareSpecs": true,
    "memoryGiB": 0,
    "name": "ml.geospatial.interactive",
    "supportedImageNames": [
     "sagemaker-geospatial-v1-0"
    ],
    "vcpuNum": 0
   },
   {
    "_defaultOrder": 21,
    "_isFastLaunch": true,
    "category": "Compute optimized",
    "gpuNum": 0,
    "hideHardwareSpecs": false,
    "memoryGiB": 4,
    "name": "ml.c5.large",
    "vcpuNum": 2
   },
   {
    "_defaultOrder": 22,
    "_isFastLaunch": false,
    "category": "Compute optimized",
    "gpuNum": 0,
    "hideHardwareSpecs": false,
    "memoryGiB": 8,
    "name": "ml.c5.xlarge",
    "vcpuNum": 4
   },
   {
    "_defaultOrder": 23,
    "_isFastLaunch": false,
    "category": "Compute optimized",
    "gpuNum": 0,
    "hideHardwareSpecs": false,
    "memoryGiB": 16,
    "name": "ml.c5.2xlarge",
    "vcpuNum": 8
   },
   {
    "_defaultOrder": 24,
    "_isFastLaunch": false,
    "category": "Compute optimized",
    "gpuNum": 0,
    "hideHardwareSpecs": false,
    "memoryGiB": 32,
    "name": "ml.c5.4xlarge",
    "vcpuNum": 16
   },
   {
    "_defaultOrder": 25,
    "_isFastLaunch": false,
    "category": "Compute optimized",
    "gpuNum": 0,
    "hideHardwareSpecs": false,
    "memoryGiB": 72,
    "name": "ml.c5.9xlarge",
    "vcpuNum": 36
   },
   {
    "_defaultOrder": 26,
    "_isFastLaunch": false,
    "category": "Compute optimized",
    "gpuNum": 0,
    "hideHardwareSpecs": false,
    "memoryGiB": 96,
    "name": "ml.c5.12xlarge",
    "vcpuNum": 48
   },
   {
    "_defaultOrder": 27,
    "_isFastLaunch": false,
    "category": "Compute optimized",
    "gpuNum": 0,
    "hideHardwareSpecs": false,
    "memoryGiB": 144,
    "name": "ml.c5.18xlarge",
    "vcpuNum": 72
   },
   {
    "_defaultOrder": 28,
    "_isFastLaunch": false,
    "category": "Compute optimized",
    "gpuNum": 0,
    "hideHardwareSpecs": false,
    "memoryGiB": 192,
    "name": "ml.c5.24xlarge",
    "vcpuNum": 96
   },
   {
    "_defaultOrder": 29,
    "_isFastLaunch": true,
    "category": "Accelerated computing",
    "gpuNum": 1,
    "hideHardwareSpecs": false,
    "memoryGiB": 16,
    "name": "ml.g4dn.xlarge",
    "vcpuNum": 4
   },
   {
    "_defaultOrder": 30,
    "_isFastLaunch": false,
    "category": "Accelerated computing",
    "gpuNum": 1,
    "hideHardwareSpecs": false,
    "memoryGiB": 32,
    "name": "ml.g4dn.2xlarge",
    "vcpuNum": 8
   },
   {
    "_defaultOrder": 31,
    "_isFastLaunch": false,
    "category": "Accelerated computing",
    "gpuNum": 1,
    "hideHardwareSpecs": false,
    "memoryGiB": 64,
    "name": "ml.g4dn.4xlarge",
    "vcpuNum": 16
   },
   {
    "_defaultOrder": 32,
    "_isFastLaunch": false,
    "category": "Accelerated computing",
    "gpuNum": 1,
    "hideHardwareSpecs": false,
    "memoryGiB": 128,
    "name": "ml.g4dn.8xlarge",
    "vcpuNum": 32
   },
   {
    "_defaultOrder": 33,
    "_isFastLaunch": false,
    "category": "Accelerated computing",
    "gpuNum": 4,
    "hideHardwareSpecs": false,
    "memoryGiB": 192,
    "name": "ml.g4dn.12xlarge",
    "vcpuNum": 48
   },
   {
    "_defaultOrder": 34,
    "_isFastLaunch": false,
    "category": "Accelerated computing",
    "gpuNum": 1,
    "hideHardwareSpecs": false,
    "memoryGiB": 256,
    "name": "ml.g4dn.16xlarge",
    "vcpuNum": 64
   },
   {
    "_defaultOrder": 35,
    "_isFastLaunch": false,
    "category": "Accelerated computing",
    "gpuNum": 1,
    "hideHardwareSpecs": false,
    "memoryGiB": 61,
    "name": "ml.p3.2xlarge",
    "vcpuNum": 8
   },
   {
    "_defaultOrder": 36,
    "_isFastLaunch": false,
    "category": "Accelerated computing",
    "gpuNum": 4,
    "hideHardwareSpecs": false,
    "memoryGiB": 244,
    "name": "ml.p3.8xlarge",
    "vcpuNum": 32
   },
   {
    "_defaultOrder": 37,
    "_isFastLaunch": false,
    "category": "Accelerated computing",
    "gpuNum": 8,
    "hideHardwareSpecs": false,
    "memoryGiB": 488,
    "name": "ml.p3.16xlarge",
    "vcpuNum": 64
   },
   {
    "_defaultOrder": 38,
    "_isFastLaunch": false,
    "category": "Accelerated computing",
    "gpuNum": 8,
    "hideHardwareSpecs": false,
    "memoryGiB": 768,
    "name": "ml.p3dn.24xlarge",
    "vcpuNum": 96
   },
   {
    "_defaultOrder": 39,
    "_isFastLaunch": false,
    "category": "Memory Optimized",
    "gpuNum": 0,
    "hideHardwareSpecs": false,
    "memoryGiB": 16,
    "name": "ml.r5.large",
    "vcpuNum": 2
   },
   {
    "_defaultOrder": 40,
    "_isFastLaunch": false,
    "category": "Memory Optimized",
    "gpuNum": 0,
    "hideHardwareSpecs": false,
    "memoryGiB": 32,
    "name": "ml.r5.xlarge",
    "vcpuNum": 4
   },
   {
    "_defaultOrder": 41,
    "_isFastLaunch": false,
    "category": "Memory Optimized",
    "gpuNum": 0,
    "hideHardwareSpecs": false,
    "memoryGiB": 64,
    "name": "ml.r5.2xlarge",
    "vcpuNum": 8
   },
   {
    "_defaultOrder": 42,
    "_isFastLaunch": false,
    "category": "Memory Optimized",
    "gpuNum": 0,
    "hideHardwareSpecs": false,
    "memoryGiB": 128,
    "name": "ml.r5.4xlarge",
    "vcpuNum": 16
   },
   {
    "_defaultOrder": 43,
    "_isFastLaunch": false,
    "category": "Memory Optimized",
    "gpuNum": 0,
    "hideHardwareSpecs": false,
    "memoryGiB": 256,
    "name": "ml.r5.8xlarge",
    "vcpuNum": 32
   },
   {
    "_defaultOrder": 44,
    "_isFastLaunch": false,
    "category": "Memory Optimized",
    "gpuNum": 0,
    "hideHardwareSpecs": false,
    "memoryGiB": 384,
    "name": "ml.r5.12xlarge",
    "vcpuNum": 48
   },
   {
    "_defaultOrder": 45,
    "_isFastLaunch": false,
    "category": "Memory Optimized",
    "gpuNum": 0,
    "hideHardwareSpecs": false,
    "memoryGiB": 512,
    "name": "ml.r5.16xlarge",
    "vcpuNum": 64
   },
   {
    "_defaultOrder": 46,
    "_isFastLaunch": false,
    "category": "Memory Optimized",
    "gpuNum": 0,
    "hideHardwareSpecs": false,
    "memoryGiB": 768,
    "name": "ml.r5.24xlarge",
    "vcpuNum": 96
   },
   {
    "_defaultOrder": 47,
    "_isFastLaunch": false,
    "category": "Accelerated computing",
    "gpuNum": 1,
    "hideHardwareSpecs": false,
    "memoryGiB": 16,
    "name": "ml.g5.xlarge",
    "vcpuNum": 4
   },
   {
    "_defaultOrder": 48,
    "_isFastLaunch": false,
    "category": "Accelerated computing",
    "gpuNum": 1,
    "hideHardwareSpecs": false,
    "memoryGiB": 32,
    "name": "ml.g5.2xlarge",
    "vcpuNum": 8
   },
   {
    "_defaultOrder": 49,
    "_isFastLaunch": false,
    "category": "Accelerated computing",
    "gpuNum": 1,
    "hideHardwareSpecs": false,
    "memoryGiB": 64,
    "name": "ml.g5.4xlarge",
    "vcpuNum": 16
   },
   {
    "_defaultOrder": 50,
    "_isFastLaunch": false,
    "category": "Accelerated computing",
    "gpuNum": 1,
    "hideHardwareSpecs": false,
    "memoryGiB": 128,
    "name": "ml.g5.8xlarge",
    "vcpuNum": 32
   },
   {
    "_defaultOrder": 51,
    "_isFastLaunch": false,
    "category": "Accelerated computing",
    "gpuNum": 1,
    "hideHardwareSpecs": false,
    "memoryGiB": 256,
    "name": "ml.g5.16xlarge",
    "vcpuNum": 64
   },
   {
    "_defaultOrder": 52,
    "_isFastLaunch": false,
    "category": "Accelerated computing",
    "gpuNum": 4,
    "hideHardwareSpecs": false,
    "memoryGiB": 192,
    "name": "ml.g5.12xlarge",
    "vcpuNum": 48
   },
   {
    "_defaultOrder": 53,
    "_isFastLaunch": false,
    "category": "Accelerated computing",
    "gpuNum": 4,
    "hideHardwareSpecs": false,
    "memoryGiB": 384,
    "name": "ml.g5.24xlarge",
    "vcpuNum": 96
   },
   {
    "_defaultOrder": 54,
    "_isFastLaunch": false,
    "category": "Accelerated computing",
    "gpuNum": 8,
    "hideHardwareSpecs": false,
    "memoryGiB": 768,
    "name": "ml.g5.48xlarge",
    "vcpuNum": 192
   }
  ],
  "colab": {
   "provenance": []
  },
  "environment": {
   "kernel": "python3",
   "name": "tf2-gpu.2-8.m108",
   "type": "gcloud",
   "uri": "gcr.io/deeplearning-platform-release/tf2-gpu.2-8:m108"
  },
  "gpuClass": "standard",
  "instance_type": "ml.m5.2xlarge",
  "kernelspec": {
   "display_name": "conda_python3",
   "language": "python",
   "name": "conda_python3"
  },
  "language_info": {
   "codemirror_mode": {
    "name": "ipython",
    "version": 3
   },
   "file_extension": ".py",
   "mimetype": "text/x-python",
   "name": "python",
   "nbconvert_exporter": "python",
   "pygments_lexer": "ipython3",
   "version": "3.10.13"
  }
 },
 "nbformat": 4,
 "nbformat_minor": 4
}
